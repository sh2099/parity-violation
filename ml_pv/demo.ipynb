{
 "cells": [
  {
   "cell_type": "markdown",
   "id": "fdf4ff69",
   "metadata": {},
   "source": [
    "### Unsupervised Searches For Parity Violation\n",
    "\n",
    "This Notebook, acts as to demonstrate the the code base used for our paper to detect parity violation\n",
    "The Notebook is split into the following sections:\n",
    "- Data loading\n",
    "- Creating Images\n",
    "- Training the model"
   ]
  },
  {
   "cell_type": "markdown",
   "id": "053859d2",
   "metadata": {},
   "source": [
    "#### Data Loading\n",
    "We begin by loading the boss data, and then we generate some random data that we know to be parity violating.\n",
    "\n",
    "##### Boss Data:"
   ]
  },
  {
   "cell_type": "code",
   "execution_count": 1,
   "id": "8a8dfb05",
   "metadata": {},
   "outputs": [
    {
     "name": "stderr",
     "output_type": "stream",
     "text": [
      "Sample size 618806 exceeds total entries 618806. Using all entries.\n"
     ]
    }
   ],
   "source": [
    "from ml_pv.datagen.load_boss import prepare_boss_data\n",
    "\n",
    "# Load the BOSS data for the CMASS North sample\n",
    "boss_coords, boss_z, boss_w = prepare_boss_data(\n",
    "        fits_file='data/galaxy_DR12v5_CMASS_North.fits',\n",
    "        sample_size=700000,\n",
    "        random_seed=42,\n",
    "        z_min=0.43, # Add min and max redshfit cutoffs\n",
    "        z_max=0.7,\n",
    "    )"
   ]
  },
  {
   "cell_type": "code",
   "execution_count": 2,
   "id": "fc511057",
   "metadata": {},
   "outputs": [
    {
     "name": "stdout",
     "output_type": "stream",
     "text": [
      "Coordinates shape: (568776,)\n"
     ]
    }
   ],
   "source": [
    "print(f\"Coordinates shape: {boss_coords.shape}\") # Check the number of coords after filtering"
   ]
  },
  {
   "cell_type": "markdown",
   "id": "a77ee3aa",
   "metadata": {},
   "source": [
    "##### Helix Data\n",
    "\n",
    "- Helices are handed objects in 3d\n",
    "- By creating a datset where 'galaxies' contribute to larger 'helix structures' we are creating a dataset which can be made parity violating, by controlling the freqeuncy of each handedness\n",
    "- It is important to note that the example shown here is purely a helix field (i.e. all galaxies exist as part of a helix)\n",
    "    - This is not particularly realistic but is used to show that the model can successfully detect 3d parity violations\n",
    "    - More realistic test cases are used in the paper"
   ]
  },
  {
   "cell_type": "code",
   "execution_count": 3,
   "id": "0436dd32",
   "metadata": {},
   "outputs": [
    {
     "name": "stdout",
     "output_type": "stream",
     "text": [
      "Generated 200 even helices from the BOSS data.\n",
      "Generated 200 odd helices from the BOSS data.\n"
     ]
    }
   ],
   "source": [
    "from ml_pv.datagen.boss_loader.helix_field import generate_helices, plot_helices_3d\n",
    "\n",
    "# Create a non-parity violating set of helices\n",
    "helices_even = generate_helices(parity_split=0.5)\n",
    "print(f\"Generated {len(helices_even)} even helices from the BOSS data.\")\n",
    "# Create a parity-violating set of helices\n",
    "helices_odd = generate_helices(parity_split=0.7)\n",
    "print(f\"Generated {len(helices_odd)} odd helices from the BOSS data.\")"
   ]
  },
  {
   "cell_type": "markdown",
   "id": "a54f4aba",
   "metadata": {},
   "source": [
    "We now plot one of the helix fields to show the creation of chiral objects.\\\n",
    "Note that the plot using line smoothing to better show the helices, in reality each helix contain ~20 galaxies"
   ]
  },
  {
   "cell_type": "code",
   "execution_count": 4,
   "id": "0cb47149",
   "metadata": {},
   "outputs": [
    {
     "data": {
      "application/vnd.plotly.v1+json": {
       "config": {
        "plotlyServerURL": "https://plot.ly"
       },
       "data": [
        {
         "line": {
          "width": 2
         },
         "mode": "lines",
         "opacity": 0.5,
         "type": "scatter3d",
         "x": {
          "bdata": "DSbUZDlw9T9v8vFaRRD1P/N7hZN3rvQ/VifD0FNu9D8cP2qDpV/0P9QFEzM/dfQ/ag9GoLKM9D8h984IfIL0P3Ry7vvPRvQ/1j4M8tvm8z9byJ8qDoXzP75z3WfqRPM/hIuEGjw28z88Ui3K1UvzP9FbYDdJY/M/iEPpnxJZ8z/cvgiTZh3zPz6LJolyvfI/whS6waRb8j8lwPf+gBvyP+zXnrHSDPI/o55HYWwi8j85qHrO3znyP/CPAzepL/I/QwsjKv3z8T8=",
          "dtype": "f8"
         },
         "y": {
          "bdata": "hsKAvadSIkA+dZFED04iQMTfENq+SyJANrJUEotPIkBHdtX2s1kiQFTmG4O/ZiJAkp7zAINxIkDk7gbcKXYiQJhN3Qp0dCJAUADukdtvIkDWam0ni20iQEg9sV9XcSJAWQEyRIB7IkBmcXjQi4giQKQpUE5PkyJA9nljKfaXIkCq2DlYQJYiQGKLSt+nkSJA6PXJdFePIkBayA2tI5MiQGuMjpFMnSJAePzUHViqIkC2tKybG7UiQAkFwHbCuSJAvGOWpQy4IkA=",
          "dtype": "f8"
         },
         "z": {
          "bdata": "1byaPOPeFkD9TV7kWtcWQG60CDs54RZAQV6dCkX1FkDvsgjdTgYXQERpxkjqCBdAUUqdBR/6FkD754lJJuEWQMran4ovyxZA82tjMqfDFkBk0g2Jhc0WQDd8oliR4RZA5dANK5vyFkA6h8uWNvUWQEZoolNr5hZA8QWPl3LNFkDA+KTYe7cWQOiJaIDzrxZAWfAS19G5FkAsmqem3c0WQNruEnnn3hZAMKXQ5ILhFkA8hqeht9IWQOcjlOW+uRZAthaqJsijFkA=",
          "dtype": "f8"
         }
        },
        {
         "line": {
          "width": 2
         },
         "mode": "lines",
         "opacity": 0.5,
         "type": "scatter3d",
         "x": {
          "bdata": "olkUii24+j/Yk6h3WVz6P2j2aIrqG/o/Hzo0NMcD+j+9TVUrOwn6P7yDuqM8EPo/YJHz9tj7+T/dvSGzKb/5P3Ma+iHjZPk/qVSODw8J+T85t04ioMj4P/D6Gcx8sPg/jg47w/C1+D+MRKA78rz4PzFS2Y6OqPg/rn4HS99r+D9E29+5mBH4P3oVdKfEtfc/Cng0ulV19z/Bu/9jMl33P1/PIFumYvc/XQWG06dp9z8CE78mRFX3P38/7eKUGPc/FZzFUU6+9j8=",
          "dtype": "f8"
         },
         "y": {
          "bdata": "ioezJBCfFUBljQJlwKUVQD5wszi7nRVA0INj1+GHFUAWc9ZGL20VQLr6fZ51WRVAYaXDYnFUFUBPHwpcQV0VQIm9jYTqahVAZcPcxJpxFUA+po2YlWkVQM+5PTe8UxVAFamwpgk5FUC6MFj+TyUVQGDbncJLIBVAT1XkuxspFUCJ82fkxDYVQGT5tiR1PRVAPdxn+G81FUDO7xeXlh8VQBTfigbkBBVAuWYyXirxFEBgEXgiJuwUQE6Lvhv29BRAiClCRJ8CFUA=",
          "dtype": "f8"
         },
         "z": {
          "bdata": "O3EbLbKx2j8bMwFfSnLbP5/W13prr9w/DGC69k2T3T99uvaGcXzdP3aOigs4XNw/y4AtpnW/2j82jcTg8XvZP57IAQctM9k/fornOMXz2T8CLr5U5jDbP2+3oNDIFNw/4BHdYOz92z/Z5XDlst3aPy7YE4DwQNk/muSqumz91z8CIOjgp7TXP+HhzRJAddg/ZYWkLmGy2T/TDoeqQ5baP0Npwzpnf9o/PD1Xvy1f2T+SL/pZa8LXP/07kZTnftY/ZHfOuiI21j8=",
          "dtype": "f8"
         }
        },
        {
         "line": {
          "width": 2
         },
         "mode": "lines",
         "opacity": 0.5,
         "type": "scatter3d",
         "x": {
          "bdata": "bKrCVh1K6D/QN3aBhDPoPx8srDPHq+c/8RTFEMTd5j8ZwEzvgx3mP0zsNev/tuU/k7GcX6DB5T9ZgiCphhLmP8iQNfGpVeY/LR7pGxE/5j98Eh/OU7flP077N6tQ6eQ/daa/iRAp5D+o0qiFjMLjP/CXD/oszeM/tmiTQxMe5D8ld6iLNmHkP4kEXLadSuQ/2fiRaODC4z+q4apF3fTiP9KMMiSdNOI/BbkbIBnO4T9NfoKUudjhPxJPBt6fKeI/gl0bJsNs4j8=",
          "dtype": "f8"
         },
         "y": {
          "bdata": "dYE/b6YfIUBVMeDjKRwhQGlLBqK9FSFAk316LywSIUBcvND4kxUhQI9kkKb9HyFAjqLKClctIUB3yLaf1TchQMLhwPhaOyFAo5Fhbd43IUC2q4crcjEhQOHd+7jgLSFAqRxSgkgxIUDcxBEwsjshQNwCTJQLSSFAxSg4KYpTIUAPQkKCD1chQPDx4vaSUyFABAwJtSZNIUAuPn1ClUkhQPd80wv9TCFAKiWTuWZXIUApY80dwGQhQBKJubI+byFAXaLDC8RyIUA=",
          "dtype": "f8"
         },
         "z": {
          "bdata": "WtjQ8DEtyz8/DygvU2POP2bXUzWCNdA/wQvzC0FP0D9kb5/FTGrPP5X3P/uZDc4/HRe4M1ffzT98bXH6R4XPP1fqV+B1SdE/yYWDf4bk0j+QVUMdX+jTP+uJ4vMdAtQ/3DW/SgNo0z/1eY/lqbnSP7iJy4GIotI/5zQo5YB10z+BaEfIUvzUP/MDc2djl9Y/utMyBTyb1z8VCNLb+rTXPwa0rjLgGtc/H/h+zYZs1j/iB7tpZVXWPxGzF81dKNc/q+Y2sC+v2D8=",
          "dtype": "f8"
         }
        },
        {
         "line": {
          "width": 2
         },
         "mode": "lines",
         "opacity": 0.5,
         "type": "scatter3d",
         "x": {
          "bdata": "bgDPYsL2E0AN6wJgmAoUQIhu7IddEBRAV1nRZfYIFEBlbez1/vwTQAx03pS/9xNA2OEaCZEAFEBP6FvHjhYUQIjFZtMcMRRAKLCa0PJEFECiM4T4t0oUQHIeadZQQxRAfzKEZlk3FEAmOXYFGjIUQPKmsnnrOhRAaa3zN+lQFECiiv5Dd2sUQEJ1MkFNfxRAvPgbaRKFFECM4wBHq30UQJn3G9ezcRRAQP4NdnRsFEAMbErqRXUUQINyi6hDixRAvE+WtNGlFEA=",
          "dtype": "f8"
         },
         "y": {
          "bdata": "8/hMhx88JEAkOAPdZjskQF8eivXcNSRAd4Lp6KsrJEANBN6Qtx8kQLQP4SPsFSRAUXQT9PEQJEARW23pnhAkQFQkMioPEiRAhWPof1YRJEDASW+YzAskQNitzoubASRAbi/DM6f1I0AVO8bG2+sjQLKf+Jbh5iNAcoZSjI7mI0C1TxfN/ucjQOaOzSJG5yNAIXVUO7zhI0A52bMui9cjQM9aqNaWyyNAdmaracvBI0ATy9050bwjQNOxNy9+vCNAFnv8b+69I0A=",
          "dtype": "f8"
         },
         "z": {
          "bdata": "rQxtiqs4HEBS1C4dwCYcQPwjIoISDxxAS9PxM2D/G0BVUkS9uQAcQK+OO2EzEhxAA0MBM28pHECzl+q3rzgcQKgcUWXkNhxATOQS+PgkHED2MwZdSw0cQEbj1Q6Z/RtAT2IomPL+G0Cqnh88bBAcQP5S5Q2oJxxArafOkug2HECiLDVAHTUcQEb09tIxIxxA8UPqN4QLHEBA87np0fsbQElyDHMr/RtApK4DF6UOHED4Ysno4CUcQKe3sm0hNRxAnDwZG1YzHEA=",
          "dtype": "f8"
         }
        },
        {
         "line": {
          "width": 2
         },
         "mode": "lines",
         "opacity": 0.5,
         "type": "scatter3d",
         "x": {
          "bdata": "T/0UEw4UDUAH8z3jGSANQODB7N/SRw1A3Om7ych8DUAPamMxyqgNQKKaNpPkug1AFPKDyFGxDUBj8LAQgpoNQHqWBdumjA1AMowuq7KYDUALW92na8ANQAeDrJFh9Q1AOgNU+WIhDkDNMydbfTMOQD+LdJDqKQ5Ajomh2BoTDkClL/aiPwUOQF0lH3NLEQ5ANvTNbwQ5DkAyHJ1Z+m0OQGacRMH7mQ5A+MwXIxasDkBqJGVYg6IOQLkikqCziw5A0cjmath9DkA=",
          "dtype": "f8"
         },
         "y": {
          "bdata": "fdKWCktoAkBooMYFvTQCQOnzJH7LFQJAKY5mnaoWAkAKRG+G6y8CQBMaSgHXSwJAh2r2/iVTAkA7dL9VpDoCQE9iweLACQJAOjDx3TLWAUC7g09WQbcBQPsdkXUguAFA3NOZXmHRAUDmqXTZTO0BQFn6INeb9AFADQTqLRrcAUAh8uu6NqsBQAzAG7aodwFAjRN6LrdYAUDNrbtNllkBQK5jxDbXcgFAuDmfscKOAUArikuvEZYBQOCTFAaQfQFA84EWk6xMAUA=",
          "dtype": "f8"
         },
         "z": {
          "bdata": "cqSwcqipHkAWVC1wq6UeQAhfetGRnB5AopymvKmYHkAnk2KENqEeQJdgdH0vth5AudK1EkXQHkAzEhgeKeUeQMKY6kyY7R5AZkhnSpvpHkBYU7SrgeAeQPOQ4JaZ3B5AeIecXiblHkDoVK5XH/oeQArH7+w0FB9AgwZS+BgpH0ATjSQniDEfQLY8oSSLLR9AqUfuhXEkH0BDhRpxiSAfQMh71jgWKR9AOEnoMQ8+H0BauynHJFgfQNT6i9IIbR9AY4FeAXh1H0A=",
          "dtype": "f8"
         }
        },
        {
         "line": {
          "width": 2
         },
         "mode": "lines",
         "opacity": 0.5,
         "type": "scatter3d",
         "x": {
          "bdata": "J7gMSBLbtb/k9UJYKJ2vv0yiIwFzIqO/UlTZyI8Klr/OSoQqjeySv/wyZhwGnpm/0OZspniJoL9QsXwIyMyfv0CuBilLapG/GBqZGrUeez/D7eT0F72fPwJvKRe3+6c/yPNTZriKqT+w/2Lt+zGmP14yKVWGd6I/hsBX95oaoz8OwhJn2UuqPzqedM9qMrM/CEgEe8VvuT8YxF8JW369P3sG9bDbRb4/cIx8dH2ZvD/IpV+oQry6P9rsdvnMDbs/n21UMWymvj8=",
          "dtype": "f8"
         },
         "y": {
          "bdata": "TPGG2JM12j+2UrNfP4rZP3jSj5LB+9k/2/wgRWZQ2z9oOTvda8ncP6yEWmLBkt0/mLHJO0A/3T/jM4SVnAjcPwSktQmYrdo/bgXikEMC2j8whb7DxXPaP5KvT3ZqyNs/IOxpDnBB3T9kN4mTxQreP1Bk+GxEt90/nOayxqCA3D+8VuQ6nCXbPya4EMJHeto/6Dft9Mnr2j9KYn6nbkDcP9iemD90ud0/HOq3xMmC3j8JFyeeSC/eP1SZ4fek+Nw/dQkTbKCd2z8=",
          "dtype": "f8"
         },
         "z": {
          "bdata": "VUdc0c6N9D98f6x8hH30Pzlqn/wqY/Q/jOSly/hj9D+7dK1oPJX0P+LAsCvh7/Q/c1oRGpVU9T9uZF65IZ71P45Yqoo4t/U/tZD6Ne6m9T9ye+21lIz1P8X184RijfU/9IX7Iaa+9T8b0v7kShn2P6xrX9P+ffY/p3WscovH9j/HafhDouD2P+6hSO9X0PY/q4w7b/619j/+BkI+zLb2Py2XSdsP6PY/VONMnrRC9z/lfK2MaKf3P+CG+iv18Pc/AHtG/QsK+D8=",
          "dtype": "f8"
         }
        },
        {
         "line": {
          "width": 2
         },
         "mode": "lines",
         "opacity": 0.5,
         "type": "scatter3d",
         "x": {
          "bdata": "XzIRc/kI4T8EKdJU+k/gP9tj8zK6+d4/fCywNTDV3T+IcEICS5zdP8izr3f1Lt4/g9JPJ9z13j9uOoJdEjvfP+8m38mjlN4/OhRhjaUi3T8MJrAWa3zbP63ubBnhV9o/uTL/5fse2j/5dWxbprHaP7SUDAuNeNs/n/w+QcO92z8g6ZutVBfbP2vWHXFWpdk/Pehs+hv/1z/esCn9kdrWP+r0u8msodY/KjgpP1c01z/lVsnuPfvXP9C++yR0QNg/UatYkQWa1z8=",
          "dtype": "f8"
         },
         "y": {
          "bdata": "fNk5NjDzF0DIfLXzRvsXQMVNChRF+hdA/p1zmcrrF0ChdpWrW9MXQAMJEktRuhdAtG21h1+qF0AqU0Rf5qcXQDawGqphrxdAg1OWZ3i3F0B/JOuHdrYXQLh0VA38pxdAW012H42PF0C93/K+gnYXQG9ElvuQZhdA5Ckl0xdkF0Dwhvsdk2sXQD0qd9upcxdAOvvL+6dyF0BzSzWBLWQXQBUkV5O+SxdAd7bTMrQyF0ApG3dvwiIXQJ4ABkdJIBdAql3ckcQnF0A=",
          "dtype": "f8"
         },
         "z": {
          "bdata": "ExtmxLws+D9p42+A6Ff4P//ZLtZbRvg/8zCzYMkR+D+b4WfFZ+j3P8erqXjf8fc/tEc2kg84+D9Cg/12RaH4PxxllIFK//g/ci2ePXYq+T8IJF2T6Rj5P/x64R1X5Pg/pCuWgvW6+D/Q9dc1bcT4P7yRZE+dCvk/Ss0rNNNz+T8kr8I+2NH5P3t3zPoD/fk/EG6LUHfr+T8FxQ/b5Lb5P611xD+Djfk/2T8G8/qW+T/F25IMK935P1MXWvFgRvo/Lfnw+2Wk+j8=",
          "dtype": "f8"
         }
        },
        {
         "line": {
          "width": 2
         },
         "mode": "lines",
         "opacity": 0.5,
         "type": "scatter3d",
         "x": {
          "bdata": "EMdGLFCMEkBq8O5Ie4QSQLD1oCxQdBJAsaCy9ktoEkAUbJgkfWoSQKzG8neffBJAWEVDBBiXEkBIHjSqaa0SQNfWUOyFtRJAMAD5CLGtEkB2BavshZ0SQHiwvLaBkRJA2nui5LKTEkBy1vw31aUSQB5VTcRNwBJADi4+ap/WEkCd5lqsu94SQPcPA8nm1hJAPBW1rLvGEkA+wMZ2t7oSQKCLrKTovBJAOOYG+ArPEkDkZFeEg+kSQNQ9SCrV/xJAZPZkbPEHE0A=",
          "dtype": "f8"
         },
         "y": {
          "bdata": "YxL5RxxBGkCh6w08CU4aQGIoniMLSxpAE4R/kOc3GkAqp5Bq2R0aQBqDPccoChpAhvtuMGMGGkAEVU8UwxIaQBvn/4oNJhpAWcAUf/oyGkAb/aRm/C8aQMtYhtPYHBpA4nuXrcoCGkDTV0QKGu8ZQD/QdXNU6xlAvSlWV7T3GUDUuwbO/goaQBKVG8LrFxpA1NGrqe0UGkCELY0WygEaQJtQnvC75xlAiyxLTQvUGUD4pHy2RdAZQHb+XJql3BlAjJANEfDvGUA=",
          "dtype": "f8"
         },
         "z": {
          "bdata": "45PEfpH8IEBhGcYmhfEgQNqG3hf15iBAbJhpHcjfIECK+k8W6dwgQMYugF+93CBAB3uZXxXcIEAuI0BLCtggQMl6i0OxzyBARgCN66TEIEDAbaXcFLogQFF/MOLnsiBAcOEW2wiwIECsFUck3a8gQOxhYCQ1ryBAFAoHECqrIECvYVII0aIgQCznU7DElyBApVRsoTSNIEA3ZvemB4YgQFbI3Z8ogyBAkvwN6fyCIEDSSCfpVIIgQPrwzdRJfiBAlUgZzfB1IEA=",
          "dtype": "f8"
         }
        },
        {
         "line": {
          "width": 2
         },
         "mode": "lines",
         "opacity": 0.5,
         "type": "scatter3d",
         "x": {
          "bdata": "34hE7PdXGUCZuv6tXmYZQKNRr+BHZBlAH0kDF85RGUA/bEtBpTgZQJwMvJ5rJhlAqEc2i68kGUBDIg10VjMZQDrR72isSBlA9AKqKhNXGUD/mVpd/FQZQHqRrpOCQhlAmrT2vVkpGUD3VGcbIBcZQAOQ4QdkFRlAn2q48AokGUCWGZvlYDkZQE9LVafHRxlAWuIF2rBFGUDV2VkQNzMZQPX8oToOGhlAUp0SmNQHGUBf2IyEGAYZQPqyY22/FBlA8WFGYhUqGUA=",
          "dtype": "f8"
         },
         "y": {
          "bdata": "PM2HMoXcwj+iLooU+OrEP65fWKjTu8Y/Mo9GMzkryD/EPf5eYU7JP85pLNgtZ8o/MMaOn5G9yz8aJNFva3XNP/UCSp+Cec8/LjKmwPrD0D+0So2KaKzRP3ViBFAbZNI/vzngZa/10j/DT3eiFYLTP/R9KIZHLdQ/6axJbjQJ1T9XHAYGQAvWPwtNB3d5Etc/kGXuQOf61z9SfWUGmrLYP5xUQRwuRNk/oGrYWJTQ2T/RmIk8xnvaP8bHqiSzV9s/NDdnvL5Z3D8=",
          "dtype": "f8"
         },
         "z": {
          "bdata": "pZcjGtmBIkBPikvoH3oiQOB5GR/ubiJADyvfyyBnIkB3/2RAmGciQNPwRNNccCJASOV+/Zl8IkAfGMGxcoUiQL4nQ54GhiJAaBprbE1+IkD5CTmjG3MiQCi7/k9OayJAkI+ExMVrIkDsgGRXinQiQGF1noHHgCJAOKjgNaCJIkDXt2IiNIoiQIGqivB6giJAEppYJ0l3IkBBSx7Ue28iQKgfpEjzbyJABRGE27d4IkB6Bb4F9YQiQFE4ALrNjSJA8EeCpmGOIkA=",
          "dtype": "f8"
         }
        },
        {
         "line": {
          "width": 2
         },
         "mode": "lines",
         "opacity": 0.5,
         "type": "scatter3d",
         "x": {
          "bdata": "OuZfxexxEkCmW1q7nV0SQILOW1agUxJACrUbJOxTEkA7p2o0clgSQIjS852pWBJAZQB2Yo9OEkCWujn0KzoSQB5pbkOOIRJAit5oOT8NEkBmUWrUQQMSQO83KqKNAxJAICp5shMIEkBtVQIcSwgSQEqDhOAw/hFAez1Ics3pEUAC7HzBL9ERQG5hd7fgvBFAS9R4UuOyEUDTujggL7MRQASthzC1txFAUdgQmuy3EUAuBpNe0q0RQF/AVvBumRFA526LP9GAEUA=",
          "dtype": "f8"
         },
         "y": {
          "bdata": "fajX6ocPHECpKsB8UgkcQBNYsf2tDxxAQ9qqr4MjHEBtc17B1z0cQONmsJXgUxxAHa/5elhdHECQojovVlkcQAh/wYPVThxANQGqFaBIHECeLpuW+04cQM6wlEjRYhxA+ElIWiV9HEBvPZouLpMcQKiF4xOmnBxAG3kkyKOYHECTVascI44cQMDXk67thxxAKQWFL0mOHEBZh37hHqIcQIQgMvNyvBxA+hOEx3vSHEAzXM2s89scQKZPDmHx1xxAHiyVtXDNHEA=",
          "dtype": "f8"
         },
         "z": {
          "bdata": "f/ALnowIJEBcMqBRZgAkQCL5piJl9CNAFtuAJmjrI0A5haMaiuojQNuJH+wj8iNAlQkpoJj9I0Afbl8hCQYkQHwKTbJaBiRAWkzhZTT+I0AfE+g2M/IjQBT1wTo26SNAN5/kLljoI0DZo2AA8u8jQJMjarRm+yNAHYigNdcDJEB6JI7GKAQkQFhmInoC/CNAHS0pSwHwI0ASDwNPBOcjQDW5JUMm5iNA172hFMDtI0CQPavINPkjQBui4UmlASRAeD7P2vYBJEA=",
          "dtype": "f8"
         }
        },
        {
         "line": {
          "width": 2
         },
         "mode": "lines",
         "opacity": 0.5,
         "type": "scatter3d",
         "x": {
          "bdata": "6lfKYI53CEBcdlCHHnwIQK7BqMcWZQhA5AUlOINGCEBA/yyQ2zgIQNeCAvWtSghAjdkFQBh4CEBfN+VaDq0IQAzgOI4Y0QhAfv6+tKjVCEDQSRf1oL4IQAeOk2UNoAhAY4ebvWWSCED6CnEiOKQIQLBhdG2i0QhAgr9TiJgGCUAuaKe7oioJQKCGLeIyLwlA89GFIisYCUApFgKTl/kIQIUPCuvv6whAHJPfT8L9CEDS6eKaLCsJQKRHwrUiYAlAUfAV6SyECUA=",
          "dtype": "f8"
         },
         "y": {
          "bdata": "PZwi0NgGHEAQ+8uicSAcQGo/Y5ZnMhxA67aNwL0zHEBRC2IyNCUcQChy0nXXEBxAePNUmB0EHEChQUSEAwgcQOSyiSjJGxxAtxEz+2E1HEARVsruV0ccQJLN9BiuSBxA+CHJiiQ6HEDPiDnOxyUcQB8KvPANGRxASFir3PMcHECMyfCAuTAcQF4omlNSShxAuGwxR0hcHEA55Ftxnl0cQJ84MOMUTxxAdp+gJrg6HEDGICNJ/i0cQO9uEjXkMRxAM+BX2alFHEA=",
          "dtype": "f8"
         },
         "z": {
          "bdata": "l/e+KBq7/T/FkAlWGp39Pzo3WjNsXP0/gX0z0a4E/T8xnf1KA6/8P7lOv1lUc/w/+/J6uFNa/D9r961WYlj8P3Ei8BhfVPw/oLs6Rl82/D8UYosjsfX7P1uoZMHznfs/DMguO0hI+z+UefBJmQz7P9YdrKiY8/o/RSLfRqfx+j9MTSEJpO36P3rmazakz/o/74y8E/aO+j8205WxODf6P+byXyuN4fk/bqQhOt6l+T+wSN2Y3Yz5PyBNEDfsivk/JnhS+eiG+T8=",
          "dtype": "f8"
         }
        },
        {
         "line": {
          "width": 2
         },
         "mode": "lines",
         "opacity": 0.5,
         "type": "scatter3d",
         "x": {
          "bdata": "PkKfhT0O+T9BDNcUk+v4PxxjrkOF5/g/cLe996zq+D9oXe0Batn4P4GhjugRpPg/wliQLx1Q+D+KElrx8vT3P616A10zrvc/sEQ77IiL9z+LmxIbe4f3P9/vIc+iivc/15VR2V959z/w2fK/B0T3PzGR9AYT8PY/+Uq+yOiU9j8ds2c0KU72Px99n8N+K/Y/+tN28nAn9j9OKIammCr2P0bOtbBVGfY/XxJXl/3j9T+hyVjeCJD1P2iDIqDeNPU/jOvLCx/u9D8=",
          "dtype": "f8"
         },
         "y": {
          "bdata": "5g+p3opmIkBcBBqJ+HIiQDvp19YRfyJAhl19RN2EIkCu6omxEoIiQCNr1oxxeSJAL/vVxCRxIkDR++3cJW8iQJXjnvW8dSJAC9gPoCqCIkDqvM3tQ44iQDQxc1sPlCJAXL5/yESRIkDRPsyjo4giQN7Oy9tWgCJAf8/j81d+IkBDt5QM74QiQLqrBbdckSJAmZDDBHadIkDjBGlyQaMiQAuSdd92oCJAgBLCutWXIkCNosHyiI8iQC6j2QqKjSJA8oqKIyGUIkA=",
          "dtype": "f8"
         },
         "z": {
          "bdata": "HyRNcmK6FkA+JVNlhLUWQDBhrGTswBZA95o52ArZFkCZSqC93fIWQDdNsWhjAhdAAhVvB6MBF0D43vgxLPQWQBMzqeoA5RZAMjSv3SLgFkAkcAjdiusWQOuplVCpAxdAjVn8NXwdF0ArXA3hAS0XQPYjy39BLBdA7O1UqsoeF0AHQgVjnw8XQCZDC1bBChdAGH9kVSkWF0DfuPHIRy4XQIFoWK4aSBdAH2tpWaBXF0DqMif431YXQOD8sCJpSRdA+1Bh2z06F0A=",
          "dtype": "f8"
         }
        },
        {
         "line": {
          "width": 2
         },
         "mode": "lines",
         "opacity": 0.5,
         "type": "scatter3d",
         "x": {
          "bdata": "JO5JAiLEFECBa7Tr57wUQMNuqG2dsxRAnq3lkIOyFECwpL8wD78UQLWWn7i21hRA1QL2p27wFEBbMwP29QEVQKqrc8fXBRVABinesJ3+FEBILNIyU/UUQCNrD1Y59BRANmLp9cQAFUA6VMl9bBgVQFrAH20kMhVA4fAsu6tDFUAvaZ2MjUcVQIzmB3ZTQBVAzen79wg3FUCoKDkb7zUVQLsfE7t6QhVAwBHzQiJaFUDffUky2nMVQGauVoBhhRVAtCbHUUOJFUA=",
          "dtype": "f8"
         },
         "y": {
          "bdata": "t4sO4jRCH0CGnaWP4kofQLxA0ai1QR9AEKstKzYrH0Dhk8/0uRMfQEgHQ+4qCB9ASekhfHYOH0ArBNCgFCIfQJGgOH6vNh9AYbLPK10/H0CWVftEMDYfQOu/V8ewHx9Au6j5kDQIH0AiHG2KpfweQCT+SxjxAh9ABhn6PI8WH0BstWIaKisfQDzH+cfXMx9AcWol4aoqH0DG1IFjKxQfQJa9Iy2v/B5A/TCXJiDxHkD+Ena0a/ceQOAtJNkJCx9AR8qMtqQfH0A=",
          "dtype": "f8"
         },
         "z": {
          "bdata": "gOUB1J3jHEDJ3qZHWMscQCyGD535sxxADJEIJYKlHECCNuIQu6IcQMzOH6uUpxxA/LiZY4erHECwP4PpkqYcQM4rjAvulRxAFyUxf6h9HEB6zJnUSWYcQFrXklzSVxxA0HxsSAtVHEAaFari5FkcQEr/I5vXXRxA/YUNIeNYHEAbchZDPkgcQGRru7b4LxxAyBIkDJoYHECoHR2UIgocQB3D9n9bBxxAZ1s0GjUMHECYRa7SJxAcQEvMl1gzCxxAabigeo76G0A=",
          "dtype": "f8"
         }
        },
        {
         "line": {
          "width": 2
         },
         "mode": "lines",
         "opacity": 0.5,
         "type": "scatter3d",
         "x": {
          "bdata": "Urvka1vz+j8u7zaTSsf6P1CG7BvNovo/qXua8KV9+j8FMsJk+0/6P7TSK3LwFvo/GxAyHlLW+T9N7z9+XZb5P3oN1D7sXvk/VkEmZtsy+T942NvuXQ75P9HNicM26fg/LYSxN4y7+D/cJBtFgYL4P0RiIfHiQfg/dUEvUe4B+D+jX8MRfcr3P36TFTlsnvc/oSrLwe559z/5H3mWx1T3P1bWoAodJ/c/BHcKGBLu9j9stBDEc632P52THiR/bfY/y7Gy5A029j8=",
          "dtype": "f8"
         },
         "y": {
          "bdata": "sGvD/zPHH0ChSgfw1N4fQOu1lf2j7B9AV3dfJtvoH0Dp7DO6AtYfQAXVD5V1vx9AyjChUrqyH0BrNvf0lrcfQOiHQiyDyx9A2WaGHCTjH0Ai0hQq8/AfQI+T3lIq7R9AIQmz5lHaH0A98Y7BxMMfQAJNIH8Jtx9Ao1J2Iea7H0AfpMFY0s8fQBGDBUlz5x9AWu6TVkL1H0DHr11/efEfQFglMhOh3h9AdQ0O7hPIH0A5aZ+rWLsfQNtu9U01wB9AV8BAhSHUH0A=",
          "dtype": "f8"
         },
         "z": {
          "bdata": "iwxmPKON/D8FZp1q9qX8P2mEXCMh+vw/+4O8c2ld/T88S6OnOpr9P0sl11iIkf0/cDqDf/5M/T9nbo4OV/n8P67aEromzPw/KTRK6Hnk/D+NUgmhpDj9Px5SafHsm/0/YBlQJb7Y/T9u84PWC9D9P5QIMP2Bi/0/izw7jNo3/T/SqL83qgr9P0wC92X9Iv0/sCC2Hih3/T9CIBZvcNr9P4Tn/KJBF/4/ksEwVI8O/j+31tx6Bcr9P64K6Aledv0/9nZstS1J/T8=",
          "dtype": "f8"
         }
        },
        {
         "line": {
          "width": 2
         },
         "mode": "lines",
         "opacity": 0.5,
         "type": "scatter3d",
         "x": {
          "bdata": "gX/rcMz8HUDY1G0pi/0dQPAm9MfIDR5A8uA7OdQiHkCtYhQALC8eQE1FBI9nKh5ALSvwNyQWHkAkqRoOE/0dQGFftI617B1AuLQ2R3TtHUDQBr3lsf0dQNLABFe9Eh5AjULdHRUfHkAuJc2sUBoeQA4LuVUNBh5ABInjK/zsHUBBP32sntwdQJmU/2Rd3R1AseaFA5vtHUCyoM10pgIeQG0ipjv+Dh5ADgWWyjkKHkDu6oFz9vUdQORorEnl3B1AIR9GyofMHUA=",
          "dtype": "f8"
         },
         "y": {
          "bdata": "Y1pJ+EW9IUCpPjtz5L0hQCdd4DaWwSFA9iYysoDJIUC7AVZCUNQhQDD25ib/3iFAbbDEwprmIUBZv/Wm/ekhQE+9VHZ76iFAlaFG8RnrIUATwOu0y+4hQOKJPTC29iFAp2RhwIUBIkAcWfKkNAwiQFkT0EDQEyJARSIBJTMXIkA7IGD0sBciQIEEUm9PGCJA/yL3MgEcIkDO7Eiu6yMiQJPHbD67LiJACLz9Imo5IkBFdtu+BUEiQDGFDKNoRCJAJ4NrcuZEIkA=",
          "dtype": "f8"
         },
         "z": {
          "bdata": "19bPTRNtI0BARUCutV8jQDHj7B27VSNAnMdxhlNTI0CrLpj+PlgjQBrYgzrzXyNAAVIzZ0RkI0BthQqbAmEjQDY2QL9tViNAn6SwHxBJI0CQQl2PFT8jQPsm4vetPCNACo4IcJlBI0B5N/SrTUkjQGCxo9ieTSNAzeR6DF1KI0CVlbAwyD8jQP4DIZFqMiNA76HNAHAoI0BahlJpCCYjQGnteOHzKiNA2JZkHagyI0C/EBRK+TYjQCxE6323MyNA9PQgoiIpI0A=",
          "dtype": "f8"
         }
        },
        {
         "line": {
          "width": 2
         },
         "mode": "lines",
         "opacity": 0.5,
         "type": "scatter3d",
         "x": {
          "bdata": "oqgxAg9jEECAXHGkal8QQL3QeWDRbBBAzr1Kic2FEEBMLNRWIJ4QQK1m9TXuqRBAr+BN+7CkEEDd4d1T3pMQQJ9htQe1gxBAfRX1qRCAEEC6if1ld40QQMt2zo5zphBASeVXXMa+EECqH3k7lMoQQKyZ0QBXxRBA2pphWYS0EECcGjkNW6QQQHrOeK+2oBBAt0KBax2uEEDIL1KUGccQQEae22Fs3xBAp9j8QDrrEECpUlUG/eUQQNdT5V4q1RBAmdO8EgHFEEA=",
          "dtype": "f8"
         },
         "y": {
          "bdata": "tQnWQW4YHkD8aqmCkwEeQHJI9CUw8B1AydFEYQ3oHUCRBq/siOcdQLoAxAiK6B1As35hwhPkHUDMUPnjXNYdQHN3d7UHwR1Au9hK9iyqHUAwtpWZyZgdQIc/5tSmkB1AUHRQYCKQHUB4bmV8I5EdQHLsAjatjB1Ai76aV/Z+HUAx5RgpoWkdQHlG7GnGUh1A7yM3DWNBHUBFrYdIQDkdQA7i8dO7OB1ANtwG8Lw5HUAwWqSpRjUdQEksPMuPJx1A8FK6nDoSHUA=",
          "dtype": "f8"
         },
         "z": {
          "bdata": "Z9mPAFm72j9I1r/3DOTZP0R8Fojs7tg/5U10bQCd2D864aEJt0/ZP/6DlnvRz9o/qX1kVMBt3D+tSyvYemjdP/1XIqWSXt0/3lRSnEaH3D/a+qgsJpLbP3rMBhI6QNs/0F80rvDy2z+VAikgC3PdPz789vj5EN8/IeVePtoF4D9Ja9ok5gDgP3TT5ECAKt8/cHk70V813j8QS5m2c+PdP2bexlIqlt4/lcBdYiIL4D9qvcTOGdrgP2wkqBB3V+E/lKoj94JS4T8=",
          "dtype": "f8"
         }
        },
        {
         "line": {
          "width": 2
         },
         "mode": "lines",
         "opacity": 0.5,
         "type": "scatter3d",
         "x": {
          "bdata": "dLo27qMuDEC0GII2U1oMQAgO9H+IggxA/wx+DBudDEArD8Px3qcMQFaD6r7qqQxAbWDrinCvDEDgM9QTmcIMQCAEAkSQ5QxAX2JNjD8RDUC0V7/VdDkNQKtWSWIHVA1A11iOR8teDUACzbUU12ANQBiqtuBcZg1AjH2faYV5DUDLTc2ZfJwNQAusGOIryA1AX6GKK2HwDUBWoBS48woOQIKiWZ23FQ5ArRaBasMXDkDE84E2SR0OQDfHar9xMA5Ad5eY72hTDkA=",
          "dtype": "f8"
         },
         "y": {
          "bdata": "AY4/gMLgIUBg7S8XddwhQLjruOi40yFA9+a1sfLMIUAYwm0jYc0hQBsMoFsK1iFAJrc5WSLjIUBJZV9fRO4hQIozyrwx8iFA6ZK6U+TtIUBBkUMlKOUhQICMQO5h3iFAoWf4X9DeIUCksSqYeechQK9cxJWR9CFA0grqm7P/IUAU2VT5oAMiQHM4RZBT/yFAyjbOYZf2IUAKMssq0e8hQCoNg5w/8CFALVe11Oj4IUA4Ak/SAAYiQFuwdNgiESJAnX7fNRAVIkA=",
          "dtype": "f8"
         },
         "z": {
          "bdata": "EVDzX0iF3j8Q/NtvIlPfP10XIEH5J98/phQWNdj53T9Ui/XkfVbcPxDUVu9TENs/f61cOC3D2j/xpLBe/njbP/8iG8kIpNw//s4D2eJx3T9L6kequUbdP5XnPZ6YGNw/Ql4dTj512j/+pn5YFC/ZP22AhKHt4dg/3nfYx76X2T/t9UIyycLaP+2hK0KjkNs/Ob1vE3pl2z+DumUHWTfaPzAxRbf+k9g/7HmmwdRN1z9aU6wKrgDXP8xKADF/ttc/28hqm4nh2D8=",
          "dtype": "f8"
         }
        },
        {
         "line": {
          "width": 2
         },
         "mode": "lines",
         "opacity": 0.5,
         "type": "scatter3d",
         "x": {
          "bdata": "utjynX5REkDDjAX6jGYSQA41E6LAcRJAtez2GHVyEkACHm8ALG4SQJFT21pTbRJA3pRMaVV2EkDPxueo1okSQBp/7ndVohJAIzMB1GO3EkBu2w58l8ISQBWT8vJLwxJAYsRq2gK/EkDx+dY0Kr4SQD47SEMsxxJAL23jgq3aEkB6JepRLPMSQIPZ/K06CBNAzoEKVm4TE0B1Oe7MIhQTQMJqZrTZDxNAUaDSDgEPE0Ce4UMdAxgTQI8T31yEKxNA2svlKwNEE0A=",
          "dtype": "f8"
         },
         "y": {
          "bdata": "Z7KcrVE4DEAXsiuFL1QMQOieGwbEZAxApyTj1tVYDEAbbO8W3y8MQNfBDMtb+gtAcSrJ1SHQC0Ae+q2QasILQBUITty70QtAxQfds5ntC0CW9Mw0Lv4LQFZ6lAVA8gtAysGgRUnJC0CGF775xZMLQCCAegSMaQtAzE9fv9RbC0DDXf8KJmsLQHNdjuIDhwtARUp+Y5iXC0AE0EU0qosLQHgXUnSzYgtANG1vKDAtC0DO1Ssz9gILQHqlEO4+9QpAcrOwOZAEC0A=",
          "dtype": "f8"
         },
         "z": {
          "bdata": "CPtUn/w8D0DwIzk0MSsPQAznU056/Q5A0tpUUU3JDkDiLH2S6KcOQEmxlMyJpw5AfJt1gRbDDkAEVXBNGeUOQEOwQ9tT9A5AKtkncIjiDkBGnEKK0bQOQAyQQ42kgA5AHOJrzj9fDkCDZoMI4V4OQLZQZL1teg5APwpfiXCcDkB9ZTIXq6sOQGSOFqzfmQ5AgFExxihsDkBGRTLJ+zcOQFaXWgqXFg5AvRtyRDgWDkDwBVP5xDEOQHm/TcXHUw5AtxohUwJjDkA=",
          "dtype": "f8"
         }
        },
        {
         "line": {
          "width": 2
         },
         "mode": "lines",
         "opacity": 0.5,
         "type": "scatter3d",
         "x": {
          "bdata": "mko3AL/YI0BFn+0x9N0jQCTig26D6SNAo+hCuCH1I0Dqp1JAe/ojQBCoSEPo9iNAAbpeO/vsI0BUCEwm/+IjQN6d6NJH3yNAifKeBH3kI0BpNTVBDPAjQOc79Iqq+yNALvsDEwQBJEBU+/kVcf0jQEUNEA6E8yNAmFv9+IfpI0Ai8Zml0OUjQM1FUNcF6yNArYjmE5X2I0Arj6VdMwIkQHJOteWMByRAmE6r6PkDJECKYMHgDPojQNyurssQ8CNAZkRLeFnsI0A=",
          "dtype": "f8"
         },
         "y": {
          "bdata": "AGuzIonaE0AlBZ/hGdwTQAXbwWVi4RNAZIhoJxHuE0DWbhUAfwEUQLOFlxQRFxRA1WDiY+soFEB4ZKl1XzMUQAkvanAUNxRALslVL6U4FEAOn3iz7T0UQG1MH3WcShRA3zLMTQpeFEC8SU5inHMUQN4kmbF2hRRAgShgw+qPFEAS8yC+n5MUQDeNDH0wlRRAF2MvAXmaFEB2ENbCJ6cUQOj2gpuVuhRAxQ0FsCfQFEDn6E//AeIUQIrsFhF27BRAG7fXCyvwFEA=",
          "dtype": "f8"
         },
         "z": {
          "bdata": "Zh3lMa3YFEDsssC4SfEUQLS0XDm1/RRA8pgTe7n5FEBwc7UhvOoUQHxO+lSV3BRARL1+jp/aFECXSegGEekUQKrfZhqEAhVAMHVCoSAbFUD4dt4hjCcVQDZblWOQIxVAtDU3CpMUFUC/EHw9bAYVQIh/AHd2BBVA2wtq7+cSFUDuoegCWywVQHQ3xIn3RBVAPDlgCmNRFUB6HRdMZ00VQPj3uPJpPhVAA9P9JUMwFUDMQYJfTS4VQB/O69e+PBVAMmRq6zFWFUA=",
          "dtype": "f8"
         }
        },
        {
         "line": {
          "width": 2
         },
         "mode": "lines",
         "opacity": 0.5,
         "type": "scatter3d",
         "x": {
          "bdata": "Xuj5X3HNEEDi14FQKsQQQHqgAnwCtxBALP1XxJqxEEBG3TPHCbsQQOvf5OO00RBAfAmdxUDsEEDynoCKDP8QQACx3ZQBAxFAhKBlhbr5EEAcaeawkuwQQM/FO/kq5xBA6aUX/JnwEECNqMgYRQcRQB7SgPrQIRFAlGdkv5w0EUCiecHJkTgRQCdpSbpKLxFAvjHK5SIiEUBxjh8uuxwRQItu+zAqJhFAL3GsTdU8EUDAmmQvYVcRQDYwSPQsahFARUKl/iFuEUA=",
          "dtype": "f8"
         },
         "y": {
          "bdata": "fY5gfh0+wT/2VTyVVqjDP6BDEP53D8Q/bbHjQABvwj92sfITm+W/P3pPJinqjrw/HqFpmmg+vT8++darjP7AP23oNgSgOcQ/5q8SG9mjxj+RneaD+grHP14LusaCasU/q7LPD1Duwj+tgWma90LBP38qC9O2msE/LlOtMQ/6wz9dQg2KIjXHP9cJ6aBbn8k/gve8CX0Gyj9OZZBMBWbIP5wMppXS6cU/nts/IHo+xD9uhOFYOZbEPx6tg7eR9cY/TZzjD6Uwyj8=",
          "dtype": "f8"
         },
         "z": {
          "bdata": "l1E+ETmvFECfx0RYLp8UQCQYbwIXiBRA7Wa+M1RxFEDQ/kiMFWIUQHaXkYcjXRRAn1W2Hz5fFECEFbYwBGEUQE+MehpGWxRAVwKBYTtLFEDcUqsLJDQUQKWh+jxhHRRAhzmFlSIOFEAt0s2QMAkUQFaQ8ihLCxRAO1DyORENFEAGx7YjUwcUQA49vWpI9xNAk43nFDHgE0Bc3DZGbskTQD90wZ4vuhNA5QwKmj21E0AOyy4yWLcTQPOKLkMeuRNAvgHzLGCzE0A=",
          "dtype": "f8"
         }
        },
        {
         "line": {
          "width": 2
         },
         "mode": "lines",
         "opacity": 0.5,
         "type": "scatter3d",
         "x": {
          "bdata": "mLFEMRa47T8HyHdd8ovtP5ff6RN7a+0/UJhNr1sx7T/oli8MR8fsPxuB894HM+w/LGp4JxyT6z8WsguL2AzrPyC0IC2Ktuo/j8pTWWaK6j8f4sUP72nqP9iaKavPL+o/cJkLCLvF6T+jg8/aezHpP7VsVCOQkeg/nrTnhkwL6D+otvwo/rTnPxfNL1XaiOc/qOShC2No5z9gnQWnQy7nP/ib5wMvxOY/K4ar1u8v5j89bzAfBJDlPye3w4LACeU/MLnYJHKz5D8=",
          "dtype": "f8"
         },
         "y": {
          "bdata": "yYo69Wp/FEDjdBpJGngUQFFaQV+zghRA4kGH57OZFEA2BLNvVbAUQCVK7isJuhRAwpTiJdOxFEA63betNZ0UQPFKpzX3iBRACzWHiaaBFEB4Gq6fP4wUQAoC9CdAoxRAXsQfsOG5FEBNCltslcMUQOpUT2ZfuxRAYp0k7sGmFEAYCxR2g5IUQDP188kyixRAoNoa4MuVFEAywmBozKwUQIWEjPBtwxRAdcrHrCHNFEARFbym68QUQIpdkS5OsBRAQMuAtg+cFEA=",
          "dtype": "f8"
         },
         "z": {
          "bdata": "7Z/QbmVyGUDB5XAcPlkZQE04xR//QBlAp4oJImM1GUAZuTPIvToZQLEuIdtySxlAkZdamD9bGUCjAKRWaV4ZQJyNB3GcUBlAcNOnHnU3GUD8JfwhNh8ZQFZ4QCSaExlAyKZqyvQYGUBgHFjdqSkZQECFkZp2ORlAUu7aWKA8GUBLez5z0y4ZQB/B3iCsFRlAqxMzJG39GEAFZncm0fEYQHeUocwr9xhADwqP3+AHGUDvcsicrRcZQAHcEVvXGhlA+mh1dQoNGUA=",
          "dtype": "f8"
         }
        },
        {
         "line": {
          "width": 2
         },
         "mode": "lines",
         "opacity": 0.5,
         "type": "scatter3d",
         "x": {
          "bdata": "NSc0G+Y5HkCcbhsB0jMeQPGf1b6DKh5ArWPKQVAoHkBI7yYOYzMeQKTHgPwgSh5AErYHExlkHkAZElRk9nYeQEGmOGyNfB5Ap+0fUnl2HkD9HtoPK20eQLjizpL3ah5AU24rXwp2HkCwRoVNyIweQB01DGTAph5AJZFYtZ25HkBMJT29NL8eQLNsJKMguR5ACJ7eYNKvHkDEYdPjnq0eQF/tL7CxuB5Au8WJnm/PHkAptBC1Z+keQDAQXQZF/B5AWKRBDtwBH0A=",
          "dtype": "f8"
         },
         "y": {
          "bdata": "COTgVGC8BECK4mmVdr8EQMfUuqc6oQRAAXb4UehtBECpeH6qFT4EQPBoLRpMKARAfGUUuNQzBEALsw6+c1QEQCufwBWTcQRArZ1JVql0BEDrj5pobVYEQCQx2BIbIwRAzTNea0jzA0AUJA3bft0DQJ8g9HgH6QNALm7ufqYJBEBPWqDWxSYEQNFYKRfcKQRADkt6KaALBEBI7LfTTdgDQPDuPSx7qANAN9/sm7GSA0DD29M5Op4DQFIpzj/ZvgNAcxWAl/jbA0A=",
          "dtype": "f8"
         },
         "z": {
          "bdata": "MtcHEk8xHEACV0qZVUscQCxi6mtfXxxAAejvA61mHED8CaWn9GEcQPIxc6P3WBxAjc7jU/dVHEB/8O4+s18cQEl2Sh51dRxAGfaMpXuPHEBEAS14haMcQBiHMhDTqhxAE6nnsxqmHEAK0bWvHZ0cQKRtJmAdmhxAlo8xS9mjHEBgFY0qm7kcQDCVz7Gh0xxAW6BvhKvnHEAvJnUc+e4cQCtIKsBA6hxAIXD4u0PhHEC8DGlsQ94cQK0udFf/5xxAd7TPNsH9HEA=",
          "dtype": "f8"
         }
        },
        {
         "line": {
          "width": 2
         },
         "mode": "lines",
         "opacity": 0.5,
         "type": "scatter3d",
         "x": {
          "bdata": "fg5P0xIRIED2KLk5xQ0gQK/v3SU5DiBABR6FJ90UIEDEfh7ffyAgQGc38d8CLSBAykMJW8Q1IECP6J7AVTggQOpaQnDoNSBAYnWs1poyIEAaPNHCDjMgQHFqeMSyOSBAMMsRfFVFIEDTg+R82FEgQDaQ/PeZWiBA+jSSXStdIEBWpzUNvlogQM7Bn3NwVyBAhojEX+RXIEDctmthiF4gQJwXBRkraiBAP9DXGa52IECh3O+Ub38gQGaBhfoAgiBAwvMoqpN/IEA=",
          "dtype": "f8"
         },
         "y": {
          "bdata": "PPzEbIJhHUAOwTfYdGcdQDnWgNMPXR1AoVL2MLlKHUCqbsMGfj0dQEwHIIVtPx1Alk+mc7RRHUCjMAAA7WsdQA9yAhQKgR1A4jZ1f/yGHUANTL56l3wdQHXIM9hAah1AfeQArgVdHUAgfV0s9V4dQGnF4xo8cR1AdqY9p3SLHUDi5z+7kaAdQLWssiaEph1A4MH7IR+cHUBIPnF/yIkdQFBaPlWNfB1A8/Ka03x+HUA9OyHCw5AdQEoce078qh1Atl19YhnAHUA=",
          "dtype": "f8"
         },
         "z": {
          "bdata": "hE5UStMVEUAoPia6Ey8RQOkhf/66RxFA7j/xGwNWEUD/BCxxOVYRQKeR5TzpTBFAMSoYNDJEEUB5iDFS2kURQLM/gjiUVRFAWC9UqNRuEUAZE63se4cRQB0xHwrElRFAL/ZZX/qVEUDWghMrqowRQGEbRiLzgxFAqXlfQJuFEUDjMLAmVZURQIcggpaVrhFASQTb2jzHEUBNIk34hNURQF/nh0271RFABnRBGWvMEUCRDHQQtMMRQNhqjS5cxRFAEiLeFBbVEUA=",
          "dtype": "f8"
         }
        },
        {
         "line": {
          "width": 2
         },
         "mode": "lines",
         "opacity": 0.5,
         "type": "scatter3d",
         "x": {
          "bdata": "esYUEXjqGUDbYzCvQ/8ZQHXqj+LYCRpA0E2xt94JGkCDgb/TKwUaQEtUmOlaBBpA2z0tasANGkCrSgBJtSEaQCKH5uBiOhpAhCQCfy5PGkAeq2Gyw1kaQHkOg4fJWRpAK0KRoxZVGkD0FGq5RVQaQIT+/jmrXRpAUwvSGKBxGkDLR7iwTYoaQCzl004ZnxpAx2szgq6pGkAhz1RXtKkaQNQCY3MBpRpAndU7iTCkGkAtv9AJlq0aQPzLo+iKwRpAdAiKgDjaGkA=",
          "dtype": "f8"
         },
         "y": {
          "bdata": "OUr718TKAEByleUncdAAQA77eC278wBAC9zAyTAoAUC/R3f9UFcBQLb0zZ+6bQFASYd7jIZmAUB7nnTiJk4BQPYq/6AcOwFALnbp8MhAAUDK23z2EmQBQMi8xJKImAFAfCh7xqjHAUBz1dFoEt4BQAZof1Xe1gFAN394q36+AUCyCwNqdKsBQOtW7bkgsQFAh7yAv2rUAUCEnchb4AgCQDgJf48AOAJAL7bVMWpOAkDCSIMeNkcCQPRffHTWLgJAb+wGM8wbAkA=",
          "dtype": "f8"
         },
         "z": {
          "bdata": "Q7k9EMISEUAHmphQYCMRQDlar8yANBFApjPcR9s5EUBnuHMVDS4RQEhcoLTAFRFAuiARGPL8EEDyy2t86e8QQNfLW44J9BBAm6y2zqcEEUDNbM1KyBURQDtG+sUiGxFA+8qRk1QPEUDcbr4yCPcQQE8zL5Y53hBAh96J+jDREEBr3nkMUdUQQC+/1Ezv5RBAYn/ryA/3EEDPWBhEavwQQI/drxGc8BBAcIHcsE/YEEDjRU0Ugb8QQBvxp3h4shBA//CXipi2EEA=",
          "dtype": "f8"
         }
        },
        {
         "line": {
          "width": 2
         },
         "mode": "lines",
         "opacity": 0.5,
         "type": "scatter3d",
         "x": {
          "bdata": "3Yge51e8HkDGppr1e78eQEkKzSa+0R5A7wlyL9vnHkAVljKwTfQeQNaQpdU57x5A/kVi2AfbHkADX6wD+8IeQIfr2raYtB5AcAlXxby3HkDybIn2/skeQJhsLv8b4B5Avvjuf47sHkCA82GleuceQKioHqhI0x5ArMFo0zu7HkAwTpeG2aweQBlsE5X9rx5AnM9Fxj/CHkBCz+rOXNgeQGhbq0/P5B5AKVYedbvfHkBRC9t3icseQFYkJaN8sx5A2rBTVhqlHkA=",
          "dtype": "f8"
         },
         "y": {
          "bdata": "7WLMHPmz+z8BauQRo0n7P4Ku5l6O/vo/l22GTbnv+j9I7zoz1xb7P2szzh4BTvs/Ijp3sull+z9FxoKkkkH7P82PeZ9I5/o/4ZaRlPJ8+j9i25Ph3TH6P3eaM9AII/o/JxzotSZK+j9LYHuhUIH6PwJnJDU5mfo/JfMvJ+J0+j+svCYimBr6P8HDPhdCsPk/QghBZC1l+T9Xx+BSWFb5PwdJlTh2ffk/K40oJKC0+T/ik9G3iMz5PwUg3akxqPk/jOnTpOdN+T8=",
          "dtype": "f8"
         },
         "z": {
          "bdata": "J9vcHcGbFkAOD6p2CpwWQEAlDQF6lhZARTjG4dmHFkApSUoRQ3IWQEO28s7iWxZAEkEFW1xLFkAOz8GQ5UMWQCxfs3dlQxZAE5OA0K5DFkBFqeNaHj4WQEq8nDt+LxZALs0ga+cZFkBIOskohwMWQBfF27QA8xVAE1OY6onrFUAx44nRCesVQBgXVypT6xVASi26tMLlFUBPQHOVItcVQDNR98SLwRVATb6fgiurFUAcSbIOpZoVQBjXbkQukxVANmdgK66SFUA=",
          "dtype": "f8"
         }
        },
        {
         "line": {
          "width": 2
         },
         "mode": "lines",
         "opacity": 0.5,
         "type": "scatter3d",
         "x": {
          "bdata": "Zc+PCxmZIUC0WXxZzKMhQDWgpT/7sCFA5JFEBUG7IUDFZNJt7b4hQLWZ+9ctvCFAcxLoqfK2IUAD4F6coLQhQGLM5uvnuCFAsVbTOZvDIUAynfwfytAhQOGOm+UP2yFAwmEpTrzeIUCyllK4/NshQHAPP4rB1iFAAN21fG/UIUBfyT3MttghQK5TKhpq4yFAL5pTAJnwIUDei/LF3vohQL9egC6L/iFAr5OpmMv7IUBtDJZqkPYhQP3ZDF0+9CFAXMaUrIX4IUA=",
          "dtype": "f8"
         },
         "y": {
          "bdata": "6DP8rGqXGkD7brvT76IaQOzDHji4pRpALMzoat+ZGkBgchbfEoIaQG63AGMAaBpAn+JGqapWGkCBWiYh9lMaQG80olc1XRpAg29hfrpoGkBzxMTigmsaQLPMjhWqXxpA6HK8id1HGkD2t6YNyy0aQCfj7FN1HBpACVvMy8AZGkD2NEgCACMaQApwBymFLhpA+8RqjU0xGkA6zTTAdCUaQG9zYjSoDRpAfbhMuJXzGUCu45L+P+IZQJBbcnaL3xlAfTXurMroGUA=",
          "dtype": "f8"
         },
         "z": {
          "bdata": "a4l50pLRC0Bz+uTKILsLQKvenriJwgtAyDBZw1/bC0Csy0zQ/+4LQOdtzjPU6QtA8ZwBos3GC0AWXjTzWZILQHXWLUIcYwtAfUeZOqpMC0C1K1MoE1QLQNJ9DTPpbAtAthgBQImAC0DxuoKjXXsLQPvptRFXWAtAIKvoYuMjC0B/I+KxpfQKQIeUTaoz3gpAv3gHmJzlCkDcysGicv4KQMBlta8SEgtA+wc3E+cMC0AFN2qB4OkKQCr4nNJstQpAiXCWIS+GCkA=",
          "dtype": "f8"
         }
        },
        {
         "line": {
          "width": 2
         },
         "mode": "lines",
         "opacity": 0.5,
         "type": "scatter3d",
         "x": {
          "bdata": "+ON58XaREkBNaYZ8T6ASQKppL+PooBJAf7kY8H2XEkADXVGXJ44SQC7VSbvyjhJAUdKlA/2dEkD8f8GlC7cSQPnZja0F0BJATV+aON7eEkCqX0Ofd98SQICvLKwM1hJAA1NlU7bMEkAvy113gc0SQFLIub+L3BJA/HXVYZr1EkD5z6FplA4TQE5VrvRsHRNAq1VXWwYeE0CApUBomxQTQANJeQ9FCxNAL8FxMxAME0BSvs17GhsTQP1r6R0pNBNA+cW1JSNNE0A=",
          "dtype": "f8"
         },
         "y": {
          "bdata": "Rk8zOWeRCEBYFRIcMWUIQOA6Jwk6NwhALXzEkmAhCECWu0LgYi8IQADrNLf9VwhA9Lrwg1mCCEAjbyS0l5QIQDcldyD6gghASutVA8RWCEDSEGvwzCgIQB9SCHrzEghAiJGGx/UgCEDywHiekEkIQOaQNGvscwhAFUVomyqGCEAp+7oHjXQIQDzBmepWSAhAxOau118aCEARKExhhgQIQHlnyq6IEghA45a8hSM7CEDYZnhSf2UIQAcbrIK9dwhAG9H+7h9mCEA=",
          "dtype": "f8"
         },
         "z": {
          "bdata": "i+firryMFkD5ph89fo8WQE6ZfUQ1nRZACA47ssKzFkBALhgr2ssWQLKejYBI3RZAPNzhXMHjFkBil9bSY+EWQAmnqz183RZAeGboyz3gFkDNWEbT9O0WQIfNA0GCBBdAv+3guZkcF0AwXlYPCC4XQLubquuANBdA4VafYSMyF0CIZnTMOy4XQPclsVr9MBdATBgPYrQ+F0AGjczPQVUXQD6tqUhZbRdArx0fnsd+F0A6W3N6QIUXQGAWaPDighdAByY9W/t+F0A=",
          "dtype": "f8"
         }
        },
        {
         "line": {
          "width": 2
         },
         "mode": "lines",
         "opacity": 0.5,
         "type": "scatter3d",
         "x": {
          "bdata": "kuvAbRNtGkBogfddqlUaQEsdzTNaRRpAniqgIcBFGkDxzjFNr1YaQH6zyhVLbhpA/pHE+M1+GkAO/8DDmn4aQB3V/lDebRpA82o1QXVWGkDVBgsXJUYaQCgU3gSLRhpAfLhvMHpXGkAJnQj5FW8aQIl7AtyYfxpAmOj+pmV/GkCnvjw0qW4aQH1UcyRAVxpAYPBI+u9GGkCz/RvoVUcaQAairRNFWBpAk4ZG3OBvGkATZUC/Y4AaQCPSPIowgBpAMqh6F3RvGkA=",
          "dtype": "f8"
         },
         "y": {
          "bdata": "cBwCZsfmEEDOVu1vkuEQQNq2CWRh6xBA/4leZUv7EEDISab50wQRQGAkVn07/xBAStnUFp/qEEAaGxuj588QQEdwbpyRuxBApapZply2EECxCnaaK8AQQNbdypsV0BBAn50SMJ7ZEEA3eMKzBdQQQCEtQU1pvxBA8W6H2bGkEEAexNrSW5AQQHz+xdwmixBAiF7i0PWUEECuMTfS36QQQHbxfmZorhBAD8wu6s+oEED4gK2DM5QQQMnC8w98eRBA9hdHCSZlEEA=",
          "dtype": "f8"
         },
         "z": {
          "bdata": "T3/CY19sDUCUDpL5lFQNQPcQDTbvLg1AqeZKa+MDDUA1qy5+EN8MQPeoVT9wyAxAmzPRWau/DEDv6ol7TLwMQGqznL+0sgxAr0JsVeqaDEARReeRRHUMQMMaJcc4SgxAT98I2mUlDEAR3S+bxQ4MQLVnq7UABgxACR9k16ECDECE53YbCvkLQMl2RrE/4QtAK3nB7Zm7C0DeTv8ijpALQGkT4zW7awtAKxEK9xpVC0DPm4URVkwLQCRTPjP3SAtAnhtRd18/C0A=",
          "dtype": "f8"
         }
        },
        {
         "line": {
          "width": 2
         },
         "mode": "lines",
         "opacity": 0.5,
         "type": "scatter3d",
         "x": {
          "bdata": "NgkXQh/2GUADx80xJP8ZQNw3pl1QCxpA47+2RNwaGkCL28lvBiwaQDLC1bsaPBpAzfW/ywdJGkA6EnIglVIaQAabITGEWhpA0ljYIIljGkCrybBMtW8aQLJRwTNBfxpAW23UXmuQGkACVOCqf6AaQJ2HyrpsrRpACqR8D/q2GkDVLCwg6b4aQKLq4g/uxxpAe1u7OxrUGkCB48sipuMaQCr/3k3Q9BpA0eXqmeQEG0BsGdWp0REbQNk1h/5eGxtApb42D04jG0A=",
          "dtype": "f8"
         },
         "y": {
          "bdata": "K0/zx+AmDkCdWW8CmfQNQM8qa7Sv0w1A4ooNTfLUDUCGF6TUKfUNQJhj8gH9Hg5A6ujAt3E3DkBc3+iGui0OQDypHGcOBQ5ArbOYocbSDUDfhJRT3bENQPLkNuwfsw1AlnHNc1fTDUCpvRuhKv0NQPtC6lafFQ5AbDkSJugLDkBMA0YGPOMNQL4NwkD0sA1A8N698gqQDUACP2CLTZENQKbL9hKFsQ1AuRdFQFjbDUALnRP2zPMNQH2TO8UV6g1AXV1vpWnBDUA=",
          "dtype": "f8"
         },
         "z": {
          "bdata": "gGQOhaJuD0D8qVQNA2sPQMoxxwyBSA9A9ak3W+8cD0Co9XmobwMPQN58+MuNDA9Aw8FKeI40D0BJFp/VnmUPQEiXITSdhA9AxNxnvP2AD0CRZNq7e14PQL3cSgrqMg9AcCiNV2oZD0Cmrwt7iCIPQIv0XSeJSg9AEUmyhJl7D0AQyjTjl5oPQIwPe2v4lg9AWZftanZ0D0CFD1655EgPQDhboAZlLw9AbuIeKoM4D0BSJ3HWg2APQNl7xTOUkQ9A2PxHkpKwD0A=",
          "dtype": "f8"
         }
        },
        {
         "line": {
          "width": 2
         },
         "mode": "lines",
         "opacity": 0.5,
         "type": "scatter3d",
         "x": {
          "bdata": "IunNfn8xAkD+vMqG1CACQJV2wtkv9AFABGdJsf++AUAh1a+ss5kBQCTDk1tskwFAast8vx6pAUDanNaeXMcBQJvwUFq21QFAdsRNYgvFAUAOfkW1ZpgBQHxuzIw2YwFAmdwyiOo9AUCcyhY3ozcBQOLS/5pVTQFAUqRZepNrAUAT+NM17XkBQO7L0D1CaQFAhoXIkJ08AUD0dU9obQcBQBLktWMh4gBAFNKZEtrbAEBa2oJ2jPEAQMqr3FXKDwFAi/9WESQeAUA=",
          "dtype": "f8"
         },
         "y": {
          "bdata": "SX4nER+3FkAiuu5x+8MWQDxyPxbRyBZAELCYl3LJFkCht1jyKMwWQAzLFgAF1hZANmJLyufnFkCnc3e3/v0WQFq7PMsAEhdAM/cDLN0eF0BNr1TQsiMXQCHtrVFUJBdAsfRtrAonF0AdCCy65jAXQEefYITJQhdAt7CMceBYF0Br+FGF4mwXQEQ0Gea+eRdAXuxpipR+F0AxKsMLNn8XQMIxg2bsgRdALkVBdMiLF0BX3HU+q50XQMjtoSvCsxdAfDVnP8THF0A=",
          "dtype": "f8"
         },
         "z": {
          "bdata": "WRkv/43JCUB3KVCbp50JQM+df2C5gQlA7lA/srqHCUCmiavnwa0JQPnEgCEj3wlAEpxHMowACkBkNH62BQAKQB1HCFd53wlAO1cp85KzCUCTy1i4pJcJQLN+GAqmnQlAa7eEP63DCUC+8ll5DvUJQNfJIIp3FgpAKGJXDvEVCkDidOGuZPUJQP+EAkt+yQlAWPkxEJCtCUB3rPFhkbMJQC/lXZeY2QlAgiAz0fkKCkCb9/nhYiwKQO2PMGbcKwpApqK6BlALCkA=",
          "dtype": "f8"
         }
        },
        {
         "line": {
          "width": 2
         },
         "mode": "lines",
         "opacity": 0.5,
         "type": "scatter3d",
         "x": {
          "bdata": "uw4IvBadDUAb4/JLOqQNQEg6SvpXyw1AtPDTHs/+DUC36lYgwyMOQMgNdKzXJw5ADK4kGvILDkAS76IRs+MNQH/sJyz3yQ1A38ASvBrRDUAMGGpqOPgNQHfO846vKw5Ae8h2kKNQDkCM65McuFQOQNCLRIrSOA5A1szCgZMQDkBDykec1/YNQKOeMiz7/Q1A0PWJ2hglDkA7rBP/j1gOQD+mlgCEfQ5AUMmzjJiBDkCUaWT6smUOQJqq4vFzPQ5AB6hnDLgjDkA=",
          "dtype": "f8"
         },
         "y": {
          "bdata": "nw4xcyLRGUD9FwqY2sYZQKWsE78FwBlAAn2QpUzFGUBCSHU+QNgZQATcjtNu8hlAfOR3ZioJGkA/se05yhMaQB+D+1q9EBpAfYzUf3UGGkAlId6moP8ZQIHxWo3nBBpAwbw/JtsXGkCEUFm7CTIaQPtYQk7FSBpAvyW4IWVTGkCf98VCWFAaQPwAn2cQRhpApJWojjs/GkABZiV1gkQaQEExCg52VxpAA8Ujo6RxGkB7zQw2YIgaQD6aggkAkxpAHmyQKvOPGkA=",
          "dtype": "f8"
         },
         "z": {
          "bdata": "cP8Rc+Kc8j8ddsPTDDvyP+DFgNM69/E/fPdFoJXi8T/MEvX6o/LxP6RGodpsB/I/ZaFBGzL+8T9NGtqOysXxP4GpiHSvaPE/LSA61dkG8T/wb/fUB8PwP42hvKFirvA/3bxr/HC+8D+08BfcOdPwP3ZLuBz/yfA/XsRQkJeR8D+SU/91fDTwP3yUYa1Npe8/AjTcrKkd7z86l2ZGX/TuP9rNxPt7FO8/ijUduw0+7z8N6108mCvvP93cjiPJuu4/Rfvr7pIA7j8=",
          "dtype": "f8"
         }
        },
        {
         "line": {
          "width": 2
         },
         "mode": "lines",
         "opacity": 0.5,
         "type": "scatter3d",
         "x": {
          "bdata": "4JlZlNYhAUDR6BY21/QAQKQ6rAaoyQBAuz9yPSm5AEBXCRq+mMwAQPmlwTAo+ABAuj+RdOchAUA3JjBS9jABQC9I7eUWHAFAIJeqhxfvAEDz6D9Y6MMAQAruBY9pswBApretD9nGAEBIVFWCaPIAQAnuJMYnHAFAhtTDozYrAUB+9oA3VxYBQG9FPtlX6QBAQpfTqSi+AEBYnJngqa0AQPVlQWEZwQBAlwLp06jsAEBYnLgXaBYBQNWCV/V2JQFAzaQUiZcQAUA=",
          "dtype": "f8"
         },
         "y": {
          "bdata": "NCRuqndQHkDN/Z95z0keQMpg9ZwKVR5A9DuGalFsHkDZAOzZvYIeQEqHe83pix5AV4TnbDKDHkA4CRhib24eQF2kc7WGWh5A9n2lhN5THkD04PqnGV8eQB28i3Vgdh5AAoHx5MyMHkB0B4HY+JUeQIAE7XdBjR5AYYkdbX54HkCHJHnAlWQeQB/+qo/tXR5AHWEAsyhpHkBGPJGAb4AeQCsB9+/blh5AnYeG4wegHkCqhPKCUJceQIoJI3iNgh5AsKR+y6RuHkA=",
          "dtype": "f8"
         },
         "z": {
          "bdata": "8iV66OyPFUCbJmodCYMVQLC/avfidxVAmegs7IxtFUDRa8CJn2IVQHwicAUMVhVAu0AP3LpHFUAlz+yXmTgVQEED+aoPKhVA6QPp3ysdFUD+nOm5BRIVQOjFq66vBxVAIEk/TML8FEDL/+7HLvAUQAoejp7d4RRAdKxrWrzSFECQ4HdtMsQUQDjhZ6JOtxRATXpofCisFEA2oypx0qEUQG4mvg7llhRAGd1tilGKFEBY+wxhAHwUQMOJ6hzfbBRA3r32L1VeFEA=",
          "dtype": "f8"
         }
        },
        {
         "line": {
          "width": 2
         },
         "mode": "lines",
         "opacity": 0.5,
         "type": "scatter3d",
         "x": {
          "bdata": "gQqyXMeDFUAk6Ot37XgVQIQS8R8zdBVAfRYLiHNxFUB+IJAKYWsVQGrBc3OgXhVAmRWMT8BLFUAukI9r5TYVQLsEKG1dJRVAXeJhiIMaFUC9DGcwyRUVQLYQgZgJExVAuBoGG/cMFUCku+mDNgAVQNMPAmBW7RRAaIoFfHvYFED1/p1988YUQJfc15gZvBRA9wbdQF+3FEDwCveon7QUQPIUfCuNrhRA3rVflMyhFEAMCnhw7I4UQKKEe4wRehRALvkTjoloFEA=",
          "dtype": "f8"
         },
         "y": {
          "bdata": "jkfWnasOIED6GPCkPhogQDwG1SulJiBAMq8VfXYtIEBsvmsZjysgQCR7OmXnIiBABRw+MWwZIEAzAeYyhhUgQB6AeOlYGiBAiVGS8OslIEDMPnd3UjIgQMLnt8gjOSBA+/YNZTw3IECzs9ywlC4gQJRU4HwZJSBAwjmIfjMhIECtuBo1BiYgQBiKNDyZMSBAW3cZw/89IEBRIFoU0UQgQIovsLDpQiBAQux+/EE6IEAkjYLIxjAgQFFyKsrgLCBAPPG8gLMxIEA=",
          "dtype": "f8"
         },
         "z": {
          "bdata": "eA/cszme9T+Yvju9dn71P+sJ8KIQovU/RkSExo799T/xeJb2umT2P1hwFHqHpPY/jcs9Ifeg9j+6N4eKgmX2P5apUudfHvY/tliy8Jz+9T8JpGbWNiL2P2Te+vm0ffY/DxMNKuHk9j92CoutrST3P6tltFQdIfc/2NH9vajl9j+0Q8kahp72P9TyKCTDfvY/Jz7dCV2i9j+CeHEt2/32Py2tg10HZfc/lKQB4dOk9z/J/yqIQ6H3P/ZrdPHOZfc/0t0/Tqwe9z8=",
          "dtype": "f8"
         }
        },
        {
         "line": {
          "width": 2
         },
         "mode": "lines",
         "opacity": 0.5,
         "type": "scatter3d",
         "x": {
          "bdata": "4jYyf0O3IEBQk6Bc7cIgQGjniIZCzCBAAzuRyvXQIEBOazSlcNEgQDF+5naV0CBAaZke/A7SIEAetTZnKtggQCT0szt+4iBAkVAiGSjuIECppApDffcgQET4Eocw/CBAjyi2Yav8IEByO2gz0PsgQKtWoLhJ/SBAYHK4I2UDIUBmsTX4uA0hQNMNpNViGSFA62GM/7ciIUCGtZRDaychQNHlNx7mJyFAtPjp7wonIUDsEyJ1hCghQKIvOuCfLiFAp263tPM4IUA=",
          "dtype": "f8"
         },
         "y": {
          "bdata": "ggB5RathEkDh7V05imASQKu/VGyZcBJAnSgDEJSJEkDWZVG6+50SQCdi/fH/ohJADHqX6tOWEkDI+nlyvIESQD+nvPM3cRJAnZSh5xZwEkBnZpgaJoASQFrPRr4gmRJAkwyVaIitEkDjCEGgjLISQMkg25hgphJAhaG9IEmREkD7TQCixIASQFo75ZWjfxJAJA3cyLKPEkAXdopsragSQFCz2BYVvRJAoK+EThnCEkCFxx5H7bUSQEJIAc/VoBJAuPRDUFGQEkA=",
          "dtype": "f8"
         },
         "z": {
          "bdata": "UMgry66a6T8QIYbnXQPqP3YipYloV+o/T9BrysBG6j8pXOBiVbzpP7nxMPto6ug/pN68DSEt6D8cH6GBi9TnP5GB15259ec/Udoxumhe6D+321Bcc7LoP5CJF53Loeg/ahWMNWAX6D/6qtzNc0XnP+aXaOAriOY/XdhMVJYv5j/SOoNwxFDmP5KT3YxzueY/+JT8Ln4N5z/RQsNv1vzmP6vONwhrcuY/O2SIoH6g5T8nURSzNuPkP56R+CahiuQ/E/QuQ8+r5D8=",
          "dtype": "f8"
         }
        },
        {
         "line": {
          "width": 2
         },
         "mode": "lines",
         "opacity": 0.5,
         "type": "scatter3d",
         "x": {
          "bdata": "krgNto/YIUArehbjI9QhQODMildX1SFAkuA73LrYIUA18B8ml9khQELAmQ2w1CFANf+nrSnKIUArfXk9c70hQDD/FwhEsyFAysAgNdiuIUB+E5WpC7AhQDAnRi5vsyFA0zYqeEu0IUDhBqRfZK8hQNRFsv/dpCFAycODjyeYIUDORSJa+I0hQGgHK4eMiSFAHVqf+7+KIUDObVCAI44hQHF9NMr/jiFAf02usRiKIUByjLxRkn8hQGgKjuHbciFAbYwsrKxoIUA=",
          "dtype": "f8"
         },
         "y": {
          "bdata": "4BdV+mPW/j9Kmp09vHP+PwSKK87CJv4/EgO8SVgZ/j9FHpMFIlD+P5l3hFzRp/4/n2MwZtLp/j9OxtmEROz+P9qGPGOCqv4/RAmFptpH/j/++BI34fr9Pwxyo7J27f0/P416bkAk/j+T5mvF73v+P5jSF8/wvf4/SDXB7WLA/j/U9SPMoH7+Pz54bA/5G/4/92f6n//O/T8G4YoblcH9Pzn8Ydde+P0/jVVTLg5Q/j+SQf83D5L+P0KkqFaBlP4/zmQLNb9S/j8=",
          "dtype": "f8"
         },
         "z": {
          "bdata": "iCLtJk3w8D8vV/lfRQbxP/Y+3OEWUPE/cLs5bc+28T9bf0qBjhLyP+hpiFzhQfI/VqHv7lo98j8QRNx37RvyP1mfFXh5BfI/ANQhsXEb8j/HuwQzQ2XyP0E4Yr77y/I/LPxy0ron8z+55rCtDVfzPyceGECHUvM/4cAEyRkx8z8qHD7JpRrzP9JQSgKeMPM/mDgthG968z8StYoPKOHzP/54myPnPPQ/imPZ/jls9D/4mkCRs2f0P7M9LRpGRvQ/+5hmGtIv9D8=",
          "dtype": "f8"
         }
        },
        {
         "line": {
          "width": 2
         },
         "mode": "lines",
         "opacity": 0.5,
         "type": "scatter3d",
         "x": {
          "bdata": "L9ZEAlhKwL9+aKYh2+68v1WLpfzdtLe/pMmaXbNLsr/Qqxi+8Wesv8bnOOpCUai/VlaUmuRip7/wjQM/4dKmv5wpeqL9n6O/xENnuaeomL+YeB4rmQVuv6k3x1b345E/TYOAqHAhoT9aR2B8HzilP8rYBMx9JqY/MKGVJ4G2pj+CBR/EZOmpP6DG8kSHmrA/y6PzaYTUtT96Zf4Irz27PzbZjIdpVb8/n12+eGCwwD/6gacM+OvAPxS0i+P4D8E/KQ2uyrHcwT8=",
          "dtype": "f8"
         },
         "y": {
          "bdata": "qOxVpJBKE0AZBASuEjoTQI5S3GJuKRNAJ4fGosEkE0C7+qa4JzETQPMdC4+7SRNAJwpFunViE0A4EG1aOG8TQE3XniToahNAvu5MLmpaE0AzPSXjxUkTQMxxDyMZRRNAYOXvOH9RE0CZCFQPE2oTQM30jTrNghNA3fq12o+PE0DzweekP4sTQGPZla7BehNA2SduYx1qE0BxXFijcGUTQAbQOLnWcRNAPvOcj2qKE0By39a6JKMTQIPl/lrnrxNAmKwwJZerE0A=",
          "dtype": "f8"
         },
         "z": {
          "bdata": "a9qtLwGUH0CzA+iFOqMfQAtcVzCaoR9AR5mIeo6SH0B+h5IVYoEfQCaYHMSeeh9Av3lxHrWEH0BydgTZNpwfQCzCvkLZtR9AdOv4mBLFH0DLQ2hDcsMfQAeBmY1mtB9APm+jKDqjH0Dmfy3XdpwfQH9hgjGNph9AM14V7A6+H0Dsqc9VsdcfQDTTCazq5h9Aiyt5VkrlH0DIaKqgPtYfQP5WtDsSxR9Ap2c+6k6+H0A/SZNEZcgfQPNFJv/m3x9ArZHgaIn5H0A=",
          "dtype": "f8"
         }
        },
        {
         "line": {
          "width": 2
         },
         "mode": "lines",
         "opacity": 0.5,
         "type": "scatter3d",
         "x": {
          "bdata": "fmLbS1SV8j+5W2invaTyP1lKlHv7ofI/uJ52R5Oo8j+mP5YvkM7yPy2+vVCZF/M/UEdG+c1y8z+yahiqqMTzP4dBrT4e9/M/wjo6mocG9D9iKWZuxQP0P8F9SDpdCvQ/rh5oIlow9D82nY9DY3n0P1gmGOyX1PQ/u0nqnHIm9T+QIH8x6Fj1P8sZDI1RaPU/agg4YY9l9T/KXBotJ2z1P7f9ORUkkvU/P3xhNi3b9T9hBereYTb2P8QovI88iPY/mf9QJLK69j8=",
          "dtype": "f8"
         },
         "y": {
          "bdata": "GXPZgHNiBUCHzCY7gTMFQFvdNNvi/gRAocPO6jLcBEB2GunvitgEQNmc1PnW7gRA12f/Hc8KBUBjXZ7S2BQFQGDivJHa/wRAzjsKTOjQBECiTBjsSZwEQOgysvuZeQRAvYnMAPJ1BEAgDLgKPowEQB7X4i42qARAqsyB4z+yBECnUaCiQZ0EQBWr7VxPbgRA6bv7/LA5BEAuopUMARcEQAT5rxFZEwRAZ3ubG6UpBEBlRsY/nUUEQPE7ZfSmTwRA7sCDs6g6BEA=",
          "dtype": "f8"
         },
         "z": {
          "bdata": "5mz9AyOp+T+Bn1NOA3j5PwnFof2bi/k/x5sIo+nc+T+4tFwqw0D6P1DCrUAigfo//NwG8sh8+j9xRketujr6P7NtmoYg5vk/T6Dw0AC1+T/WxT6Amcj5P5WcpSXnGfo/hrX5rMB9+j8ew0rDH776P8rdo3TGufo/P0fkL7h3+j+BbjcJHiP6PxyhjVP+8fk/pMbbApcF+j9jnUKo5Fb6P1O2li++uvo/7MPnRR37+j+X3kD3w/b6PwxIgbK1tPo/T2/Uixtg+j8=",
          "dtype": "f8"
         }
        },
        {
         "line": {
          "width": 2
         },
         "mode": "lines",
         "opacity": 0.5,
         "type": "scatter3d",
         "x": {
          "bdata": "FSWgYK1B8T+pZ+g1iU3xP36YELpINvE/YmDlOzEf8T9AFyYHcCvxPxtLYzZ/afE/tZDAtqrK8T8/P3E5rSvyP9D+tXJZafI/ZEH+RzV18j85cibM9F3yPx06+03dRvI/+/A7GRxT8j/WJHlIK5HyP29q1shW8vI/+hiHS1lT8z+L2MuEBZHzPx4bFFrhnPM/80s83qCF8z/YExFgiW7zP7XKUSvIevM/kP6OWte48z8qROzaAhr0P7TynF0Fe/Q/RbLhlrG49D8=",
          "dtype": "f8"
         },
         "y": {
          "bdata": "J34wsRtyI0A2N9X0gn4jQM2b+QI4iyNAjE8ljvOSI0Ao4l1KWJMjQFoZQ4BVjiNABaWo6wSJI0CH4QbarYgjQC0/WJetjyNAPPj82hScI0DTXCHpyagjQJIQTXSFsCNALqOFMOqwI0Bh2mpm56sjQAtm0NGWpiNAjaIuwD+mI0AzAIB9P60jQEK5JMGmuSNA2R1Jz1vGI0CY0XRaF84jQDRkrRZ8ziNAZ5uSTHnJI0ARJ/i3KMQjQJRjVqbRwyNAOcGnY9HKI0A=",
          "dtype": "f8"
         },
         "z": {
          "bdata": "+5yMEyUFC0AGqPL/6PEKQBkejB8S/gpAoq9TjzgoC0AXni4oY10LQDt6AMAkhAtAV+ueJIGLC0D+QA854HQLQLk5bCQ7UwtAxETSEP8/C0DXumswKEwLQGBMM6BOdgtA1DoOOXmrC0D5FuDQOtILQBWIfjWX2QtAvN3uSfbCC0B21ks1UaELQIHhsSEVjgtAlVdLQT6aC0Ae6RKxZMQLQJLX7UmP+QtAt7O/4VAgDEDTJF5GrScMQHl6zloMEQxANHMrRmfvC0A=",
          "dtype": "f8"
         }
        },
        {
         "line": {
          "width": 2
         },
         "mode": "lines",
         "opacity": 0.5,
         "type": "scatter3d",
         "x": {
          "bdata": "oyCvltDnFEBWFapvN+YUQFSA15Tg9RRAznTtPgAPFUCtxHCSPyQVQGkCQACNKhVA2cncIZgfFUDNB5G+LAsVQFzq17Gh+hRADt/Sigj5FEANSgCwsQgVQIc+FlrRIRVAZo6ZrRA3FUAizGgbXj0VQJGTBT1pMhVAhdG52f0dFUAVtADNcg0VQMeo+6XZCxVAxRMpy4IbFUBACD91ojQVQB5YwsjhSRVA2pWRNi9QFUBKXS5YOkUVQD6b4vTOMBVAzX0p6EMgFUA=",
          "dtype": "f8"
         },
         "y": {
          "bdata": "qS/og6/WI0CNwLBb39EjQHhoZT9aziNA5ksxs4vKI0Dq6vo/CsUjQHGOMjFrvSNA8Rp+FoG0I0Dua7Jr4KsjQFYB6afypCNAOZKxfyKgI0AkOmZjnZwjQJMdMtfOmCNAlrz7Y02TI0AdYDNVrosjQJ7sfjrEgiNAmj2zjyN6I0AC0+nLNXMjQOZjsqNlbiNA0Qtnh+BqI0A/7zL7EWcjQEKO/IeQYSNAyjE0efFZI0BKvn9eB1EjQEcPtLNmSCNArqTq73hBI0A=",
          "dtype": "f8"
         },
         "z": {
          "bdata": "DnAczJlIE0Df8IoOrC8TQGIKoCUiGxNAFL6l6uMVE0DZZGh24yETQJ0e8ln5NhNArz/VaKtHE0CTxsfJEUkTQGRa/WM6ORNANdtrpkwgE0C59IC9wgsTQGuohoKEBhNAL09JDoQSE0DzCNPxmScTQAUqtgBMOBNA6bCoYbI5E0C6RN772ikTQIvFTD7tEBNAD99hVWP8EkDBkmcaJfcSQIU5KqYkAxNASvOziToYE0BcFJeY7CgTQD+biflSKhNAES+/k3saE0A=",
          "dtype": "f8"
         }
        },
        {
         "line": {
          "width": 2
         },
         "mode": "lines",
         "opacity": 0.5,
         "type": "scatter3d",
         "x": {
          "bdata": "SXMQUdmB7j/UEz4AGHHuPznYMdPz3e4/BnHdLu6l7z/WChYNlDjwPw33A7/tcvA/V9EO33hu8D9twb26dDzwP5crm87QCPA/3PsxJnAA8D8P3qsP3jbwP3WqgT3bmvA/yPwoM3gA8T//6Bbl0TrxP0nDIQVdNvE/X7PQ4FgE8T+JHa70tNDwP87tRExUyPA/AdC+NcL+8D9nnJRjv2LxP7ruO1lcyPE/8topC7YC8j88tTQrQf7xP1Kl4wY9zPE/ew/BGpmY8T8=",
          "dtype": "f8"
         },
         "y": {
          "bdata": "JS5QgjrCIEDJf25sR7UgQJA4TP/JqSBAVW9osT2lIEACKq31DKkgQMJ+Huq8sSBAXWzQNfe4IED720NiQLkgQLHHjvwtsSBAVBmt5jqkIEAc0op5vZggQOEIpysxlCBAjsPrbwCYIEBNGF1ksKAgQOgFD7DqpyBAhnWC3DOoIEA8Yc12IaAgQN+y62AukyBAp2vJ87CHIEBsouWlJIMgQBldKurzhiBA2bGb3qOPIEB0n00q3pYgQBEPwVYnlyBAx/oL8RSPIEA=",
          "dtype": "f8"
         },
         "z": {
          "bdata": "WFa+p8Nr9D8bFfrkiIX0P23ZGogifvQ/5r+SDBly9D+YU+JTrID0Px8/1myFufQ/FyXlH4oT9T/n6JzxMXL1P3//fAA9tvU/Qr64PQLQ9T+Ugtngm8j1Pw1pUWWSvPU/v/ygrCXL9T9G6JTF/gP2Pz7Oo3gDXvY/DpJbSqu89j+mqDtZtgD3P2pnd5Z7Gvc/uyuYORUT9z80EhC+Cwf3P+alXwWfFfc/bZFTHnhO9z9ld2LRfKj3PzU7GqMkB/g/zVH6sS9L+D8=",
          "dtype": "f8"
         }
        },
        {
         "line": {
          "width": 2
         },
         "mode": "lines",
         "opacity": 0.5,
         "type": "scatter3d",
         "x": {
          "bdata": "6AhaYqFDFkDuP1zWvUsWQLOBphUzRRZAXUMwFrM3FkCuZtM7Ay8WQL8xUyQXNBZAEvKKQdJHFkCAMoOdgmIWQEcRYtRieBZATkhkSH+AFkATiq6H9HkWQLxLOIh0bBZADW/brcRjFkAfOluW2GgWQHH6krOTfBZA4DqLD0SXFkCnGWpGJK0WQK1QbLpAtRZAcpK2+bWuFkAbVED6NaEWQGx34x+GmBZAfkJjCJqdFkDRApslVbEWQD9Dk4EFzBZABiJyuOXhFkA=",
          "dtype": "f8"
         },
         "y": {
          "bdata": "l5a6AMsuI0DtriTS2jQjQPPA3vb6NSNAR5eNoYMvI0BLGjB7PyMjQASz1vVeFiNADFItHW4OI0DFLI++FA4jQM9a/TCIEyNAJXNnApgZI0AqhSEnuBojQH9b0NFAFCNAg95yq/wHI0A7dxkmHPsiQEQWcE0r8yJA/fDR7tHyIkAHH0BhRfgiQFw3qjJV/iJAYklkV3X/IkC3HxMC/vgiQLuitdu57CJAcztcVtnfIkB72rJ96NciQDW1FB+P1yJAPuOCkQLdIkA=",
          "dtype": "f8"
         },
         "z": {
          "bdata": "gGR0Ux1g5T+TPxuYsRPmPyXF4fOU4uY/8Isyut975z+gDXGTD67nP7wTK/IHhOc/WW/FObE+5z+9idUW8y7nPzzp9+BPhuc/UMSeJeQ56D/iSWWBxwjpP60QtkcSouk/XZL0IELU6T95mK5/OqrpPxb0SMfjZOk/eg5ZpCVV6T/6bXtugqzpPw1JIrMWYOo/n87oDvou6z9qlTnVRMjrPxoXeK50+us/Nh0yDW3Q6z/TeMxUFovrPzeT3DFYe+s/tvL++7TS6z8=",
          "dtype": "f8"
         }
        },
        {
         "line": {
          "width": 2
         },
         "mode": "lines",
         "opacity": 0.5,
         "type": "scatter3d",
         "x": {
          "bdata": "fcTfi01uBUBZYZki74kFQGeaBprrjgVACg3EK++FBUDv9q9d1X8FQFvFXQjJiwVAlvdX0mGuBUA78AGC894FQJ5xfZGiDAZAew43KEQoBkCIR6SfQC0GQCy6YTFEJAZAEaRNYyoeBkB9cvsNHioGQLik9de2TAZAXZ2fh0h9BkDAHhuX96oGQJ271C2ZxgZAqvRBpZXLBkBNZ/82mcIGQDNR62h/vAZAnh+ZE3PIBkDZUZPdC+sGQH5KPY2dGwdA4su4nExJB0A=",
          "dtype": "f8"
         },
         "y": {
          "bdata": "OANHTqIQ8T89cTXwnjbxP2K88XZLKfE/Sc9cxXrg8D8RiGXQ2HbwPzaxkeVKGvA/dvrfKxri7z99gZ9+TAPwP95fsSpdNvA/482fzFlc8D8HGVxTBk/wP+8rx6E1BvA/bsmfWSc57z+3G/iDC4DuP8GztOSPLe4/RbwTtg5S7j8IeTcOMLjuPxFVFFIpBO8/WuuMX4Lp7j8pEWP84FfuP7qCdBKdhO0/AtXMPIHL7D8MbYmdBXnsP5B16G6Enew/UzIMx6UD7T8=",
          "dtype": "f8"
         },
         "z": {
          "bdata": "p/QP3wcIHkD2kYTZ5hweQEVcEctYNx5AdXvgR3RKHkBad95DnE0eQDSbh8KLQR5ADpIYSugvHkAHNGdGmyUeQEv5hsNBKx5Ampb7vSBAHkDpYIivkloeQBqAVyyubR5A/ntVKNZwHkDZn/6mxWQeQLOWjy4iUx5AqzjeKtVIHkDw/f2ne04eQD+bcqJaYx5AjmX/k8x9HkC/hM4Q6JAeQKOAzAwQlB5AfaR1i/+HHkBXmwYTXHYeQFA9VQ8PbB5AlQJ1jLVxHkA=",
          "dtype": "f8"
         }
        },
        {
         "line": {
          "width": 2
         },
         "mode": "lines",
         "opacity": 0.5,
         "type": "scatter3d",
         "x": {
          "bdata": "aJUIiSgWGkB7kMLgOwsaQDs0OxhAEhpA8LXBkcMmGkC4TZCkbDwaQDqZa6s1RhpADzyI0g0+GkDvAJe3ZigaQLuvXQOaERpAzqoXW60GGkCOTpCSsQ0aQEPQFgw1IhpAC2jlHt43GkCNs8Alp0EaQGJW3Ux/ORpAQhvsMdgjGkAOyrJ9Cw0aQCHFbNUeAhpA4WjlDCMJGkCW6muGph0aQF6COplPMxpA4M0VoBg9GkC1cDLH8DQaQJU1QaxJHxpAYeQH+HwIGkA=",
          "dtype": "f8"
         },
         "y": {
          "bdata": "uVxcfk51FECka8tDPGYUQMK/hYc3VhRAHr94gzZHFEBg1qtNlzoUQGD74cRSMBRALNvMvQAnFEC6D3/+qhwUQGEs8XDzDxRATDtgNuEAFEBqjxp63PATQMaODXbb4RNACaZAQDzVE0AIy3a398oTQNSqYbClwRNAYt8T8U+3E0AJ/IVjmKoTQPQK9SiGmxNAEl+vbIGLE0BuXqJogHwTQLF11TLhbxNAsJoLqpxlE0B8evaiSlwTQAqvqOP0URNAsssaVj1FE0A=",
          "dtype": "f8"
         },
         "z": {
          "bdata": "C8+1B8xDFkB6qxFwCVcWQJ/MYVBOaxZASbksVLdzFkB568eEU2oWQKwnDj+fUxZAKh9ggeM7FkAiSzegAzAWQJUxPpLwNRZABQ6a+i1JFkAqL+racl0WQNQbtd7bZRZAA05QD3hcFkA3ipbJw0UWQLSB6AsILhZAra2/KigiFkAglMYcFSgWQI9wIoVSOxZAtJFyZZdPFkBefj1pAFgWQI6w2JmcThZAweweVOg3FkA/5HCWLCAWQDcQSLVMFBZAqvZOpzkaFkA=",
          "dtype": "f8"
         }
        },
        {
         "line": {
          "width": 2
         },
         "mode": "lines",
         "opacity": 0.5,
         "type": "scatter3d",
         "x": {
          "bdata": "1Pcpr1CwIECOO0PXPaUgQI1V6HoHmiBAYQm02g2SIEBj+w7By44gQMFpPJ74jiBA2gHe/0iPIEAeAFmlXIwgQDPARMS4hCBA7gNe7KV5IEDtHQOQb24gQMDRzu91ZiBAw8Mp1jNjIEAgMlezYGMgQDnK+BSxYyBAfchzusRgIECTiF/ZIFkgQE7MeAEOTiBATOYdpddCIEAgmukE3jogQCKMROubNyBAgPpxyMg3IECZkhMqGTggQN2Qjs8sNSBA81B67ogtIEA=",
          "dtype": "f8"
         },
         "y": {
          "bdata": "Pu/0sE9NEED2Um7lEVkQQJu2br3hZBBA+9dDb+VlEEB9qbNkllcQQKFMNOpnPhBA2O8tzCslEEBU1VLUuxYQQK4K3ZieFxBAZm5WzWAjEEAL0lalMC8QQGrzK1c0MBBA7MSbTOUhEEAQaBzStggQQI8WLGj13g9Ah+F1eBXCD0A7TIoB28MPQKsTfWpf2w9A9Np9Gv/yD0C0HSh+BvUPQLjAB2lo2A9AAAcJdAumD0BuTfw3k3MPQGYYRkizVg9AGoNa0XhYD0A=",
          "dtype": "f8"
         },
         "z": {
          "bdata": "xgqaIJtI6j/fj6bTmv3pP8sKpHqMQuo/boA+Xlvu6j+0pfkfsZvrPwuiT2pS5Os/jqi0wAGd6z9atHza0+7qP4QQJBYfP+o/nJUwyR706T+IEC5wEDnqPyyGyFPf5Oo/cauDFTWS6z/Ip9lf1trrP0yuPraFk+s/GLoG0Ffl6j9CFq4LozXqP1qbur6i6uk/Rha4ZZQv6j/pi1JJY9vqPy+xDQu5iOs/hq1jVVrR6z8KtMirCYrrP9W/kMXb2+o//xs4AScs6j8=",
          "dtype": "f8"
         }
        },
        {
         "line": {
          "width": 2
         },
         "mode": "lines",
         "opacity": 0.5,
         "type": "scatter3d",
         "x": {
          "bdata": "zt0wQVV6GkDPaVj5TWcaQCP1JZ08ZBpAwhTjnFBwGkA57+wa2oEaQD/tqpf2ixpA8evCKB2GGkBYVutdHnEaQOgFxxSqVhpA6ZHuzKJDGkA9HbxwkUAaQNw8eXClTBpAUxeD7i5eGkBZFUFrS2gaQAsUWfxxYhpAcn6BMXNNGkACLl3o/jIaQAO6hKD3HxpAV0VSROYcGkD2ZA9E+igaQG0/GcKDOhpAcz3XPqBEGkAlPO/Pxj4aQIymFwXIKRpAHFbzu1MPGkA=",
          "dtype": "f8"
         },
         "y": {
          "bdata": "xdwaEK+cG0BtOtNYvZkbQCNEkFMYmRtAyyHwRj+hG0CmJPhMirMbQAFHJMFgyxtATr1Lg+rgG0CqX9BMqO0bQNLcrANC8BtAejplTFDtG0AvRCJHq+wbQNchgjrS9BtAsiSKQB0HHEANR7a08x4cQFu93XZ9NBxAtl9iQDtBHEDe3D731EMcQIY69z/jQBxAPES0Oj5AHEDkIRQuZUgcQL8kHDSwWhxAGkdIqIZyHEBnvW9qEIgcQMJf9DPOlBxA6tzQ6meXHEA=",
          "dtype": "f8"
         },
         "z": {
          "bdata": "tgypvpP28z9SVa3JLqzzPwq0IW/WQfM/zs2OawLo8j/SMwyUfcXyP0kOcH2s4PI/pdJjzM4b8z/0217EbEbzPwSZSZC7OfM/oOFNm1bv8j9XQMJA/oTyPxxaLz0qK/I/IMCsZaUI8j+XmhBP1CPyP/NeBJ72XvI/Qmj/lZSJ8j9RJeph43zyP+1t7mx+MvI/pcxiEibI8T9p5s8OUm7xP21MTTfNS/E/5CaxIPxm8T9A66RvHqLxP4/0n2e8zPE/n7GKMwvA8T8=",
          "dtype": "f8"
         }
        },
        {
         "line": {
          "width": 2
         },
         "mode": "lines",
         "opacity": 0.5,
         "type": "scatter3d",
         "x": {
          "bdata": "oPooA2JpEEBy6vyr9V0QQEZpzEwRYxBADS1slqh3EEDRNQ9enZEQQDo0MOasoxBAo6NVdjSlEEAYzqpdQJcQQJCz/MbugxBAY6PQb4J4EEA2IqAQnn0QQP7lP1o1khBAwe7iISqsEEAr7QOqOb4QQJRcKTrBvxBACId+Ic2xEECBbNCKe54QQFRcpDMPkxBAJ9tz1CqYEEDunhMewqwQQLKntuW2xhBAHKbXbcbYEECEFf39TdoQQPk/UuVZzBBAciWkTgi5EEA=",
          "dtype": "f8"
         },
         "y": {
          "bdata": "CPn0Vrz51D+OLgj7gkbUP7Qjk3er7tM/LG039ae10z/GzySV20zTP6iRYlGngdI/6pMoNRFb0T/bQdUXpxXQP1KtcbALAM4/XhiY+JiZzD+qAq7x6enLP5qV9uzid8s/zVrRLEqmyj+R3kyl4Q/JPxbj2Gy1wsY/+D4yMuE3xD+UaPmyngzCP5/TH/srpsA/2Htr6Pnsvz+3ofze6wi/Px4ssl66Zb0/pTOpT+k4uj+zPMHekJ61P3T0c2noiLA/WI8E1sZkqD8=",
          "dtype": "f8"
         },
         "z": {
          "bdata": "X24t5rD1EEBd9+agJwsRQFDleYHaJBFAcTWs/ZU1EUDKEVAnZzURQK7QILVDJhFAnSoYHeQSEUBfInDpewgRQOiNVgj+DhFA5xYQw3QkEUDaBKOjJz4RQPpU1R/jThFAUzF5SbROEUA38EnXkD8RQCZKQT8xLBFA6EGZC8khEUBxrX8qSygRQHA2OeXBPRFAYyTMxXRXEUCDdP5BMGgRQN1QomsBaBFAwA9z+d1YEUCwaWphfkURQHJhwi0WOxFA+8yoTJhBEUA=",
          "dtype": "f8"
         }
        },
        {
         "line": {
          "width": 2
         },
         "mode": "lines",
         "opacity": 0.5,
         "type": "scatter3d",
         "x": {
          "bdata": "8da5Z9aq9T9S4Yc53YT1P994daJNLPU/J+4Fy8/C9D+28tXN9nP0PymUZzW6W/Q/cKjZBRR29D/83qgWXKH0P0GGOE3/sfQ/oZAGHwaM9D8vKPSHdjP0P3adhLD4yfM/BaJUsx978z95Q+Ya42LzP79XWOs8ffM/TI4n/ISo8z+QNbcyKLnzP/E/hQQvk/M/ftdybZ868z/GTAOWIdHyP1VR05hIgvI/yPJkAAxq8j8PB9fQZYTyP5s9puGtr/I/4OQ1GFHA8j8=",
          "dtype": "f8"
         },
         "y": {
          "bdata": "Xpsj2s4rHkBbQA17oT8eQGUMCNE+Th5Acb+EjVtNHkBCwWoiwTseQPsJWK0DIh5Apis0g3sNHkBPZo7ycwgeQDNSf4kjFB5AL/doKvYnHkA5w2OAkzYeQEZ24DywNR5AF3jG0RUkHkDQwLNcWAoeQHvijzLQ9R1AIx3qocjwHUAHCds4ePwdQASuxNlKEB5ADnq/L+geHkAbLTzsBB4eQOwuIoFqDB5ApHcPDK3yHUBPmevhJN4dQPjTRVEd2R1A3L826MzkHUA=",
          "dtype": "f8"
         },
         "z": {
          "bdata": "mxg9CVbbGEDKcv1nDcwYQJYqgZl2yBhA+gNtJ/nMGEDXEW8PPtEYQAITCmwSzRhAjrbh9TS9GECEOFEjPqUYQACGqvaEjRhALuBqVTx+GED7l+6GpXoYQF9x2hQofxhAPH/c/GyDGEBmgHdZQX8YQPMjT+NjbxhA6aW+EG1XGEBk8xfksz8YQJNN2EJrMBhAYAVcdNQsGEDD3kcCVzEYQKHsSeqbNRhAy+3kRnAxGEBYkbzQkiEYQE0TLP6bCRhAyWCF0eLxF0A=",
          "dtype": "f8"
         }
        },
        {
         "line": {
          "width": 2
         },
         "mode": "lines",
         "opacity": 0.5,
         "type": "scatter3d",
         "x": {
          "bdata": "GrhVcLhSF0BFy2U062oXQL0eFOMpghdAtn+QB0KMF0CNLNM/tYQXQL2OkB1bcRdAoLCvEPVeF0ABxQCOtVkXQIaNi/caZhdAsaCbu01+F0Ao9ElqjJUXQCJVxo6knxdA+QEJxxeYF0AoZMakvYQXQAyG5ZdXchdAbZo2FRhtF0DxYsF+fXkXQBx20UKwkRdAlMl/8e6oF0COKvwVB7MXQGTXPk56qxdAlDn8KyCYF0B3WxsfuoUXQNhvbJx6gBdAXTj3BeCMF0A=",
          "dtype": "f8"
         },
         "y": {
          "bdata": "ySWi+dxc/D9NDKcgQzL8P53FtIFNIfw/DyO+EoQY/D9ROIE2pQH8P7F3VVKvzvs/ReQgNBWC+z+4rPDlTi37P1q9BgWe5vo/3qMLLAS8+j8uXRmNDqv6P6C6Ih5Fovo/4s/lQWaL+j9BD7pdcFj6P9Z7hT/WC/o/SURV8Q+3+T/rVGsQX3D5P287cDfFRfk/v/R9mM80+T8wUocpBiz5P3JnSk0nFfk/0qYeaTHi+D9nE+pKl5X4P9rbufzQQPg/fOzPGyD69z8=",
          "dtype": "f8"
         },
         "z": {
          "bdata": "Al55PX6HGUBzZSppsosZQANZMeYcfxlAy7IofmpmGUCCIvdwYE0ZQJig5VX3PxlAkTJ+6VdDGUBQXiZi1VIZQCJ093+qYhlAlHuoq95mGUAjb68oSVoZQOvIpsCWQRlAojh1s4woGUC4tmOYIxsZQLFI/CuEHhlAcXSkpAEuGUBCinXC1j0ZQLSRJu4KQhlAQ4Uta3U1GUAM3yQDwxwZQMJO8/W4AxlA2czh2k/2GEDRXnpusPkYQJGKIuctCRlAY6DzBAMZGUA=",
          "dtype": "f8"
         }
        },
        {
         "line": {
          "width": 2
         },
         "mode": "lines",
         "opacity": 0.5,
         "type": "scatter3d",
         "x": {
          "bdata": "u/4uvEvF9T+xn6YWNgT2P8sEd2sSUPY/F3G7HxWZ9j/812kAHtH2P/9KYpT+8/Y/3vkBLu0J9z+LoS1otSL3P59O73V3TPc/lO9m0GGL9z+uVDclPtf3P/rAe9lAIPg/4CcquklY+D/jmiJOKnv4P8JJwucYkfg/b/HtIeGp+D+Cnq8vo9P4P3g/J4qNEvk/kqT33mle+T/eEDyTbKf5P8N36nN13/k/xuriB1YC+j+lmYKhRBj6P1JBrtsMMfo/Zu5v6c5a+j8=",
          "dtype": "f8"
         },
         "y": {
          "bdata": "7tL+BUsP9z+4qRgZrrn2P7VVLoP6k/Y/RubDWAa29j9FX65LoA33P955xdo3afc/RL/gEuaU9z8WIHzf1Hj3P3uYwo41J/c/RW/coZjR9j9CG/IL5av2P9Krh+HwzfY/0SRy1Iol9z9qP4ljIoH3P9CEpJvQrPc/o+U/aL+Q9z8HXoYXID/3P9E0oCqD6fY/zuC1lM/D9j9ecUtq2+X2P17qNV11Pfc/9gRN7AyZ9z9dSmgku8T3Py+rA/GpqPc/kyNKoApX9z8=",
          "dtype": "f8"
         },
         "z": {
          "bdata": "yMH6sJSrH0CEP+fz664fQEha8vZLvx9ADMJn8+7QH0CmUezwUdcfQJj7JQeJzB9AgwhBXbe0H0BsyPG5opsfQIFgkxXOjR9APd5/WCWRH0AA+YpbhaEfQMVgAFgosx9AX/CEVYu5H0BRmr5rwq4fQDyn2cHwlh9AJWeKHtx9H0A6/yt6B3AfQPZ8GL1ecx9AuZcjwL6DH0B+/5i8YZUfQBiPHbrEmx9ACjlX0PuQH0D1RXImKnkfQN4FI4MVYB9A8p3E3kBSH0A=",
          "dtype": "f8"
         }
        },
        {
         "line": {
          "width": 2
         },
         "mode": "lines",
         "opacity": 0.5,
         "type": "scatter3d",
         "x": {
          "bdata": "FURjbIlyFEA/MmWfLHMUQDyd/PV1cRRAf60kzbh0FEBdfsOBXoEUQCkC6N9QlhRAIgl3Gp2tFEDVanXU778UQO8L/bDfyBRAGfr+44LJFEAWZZY6zMcUQFl1vhEPyxRANkZdxrTXFEADyoEkp+wUQPzQEF/zAxVArzIPGUYWFUDI05b1NR8VQPPBmCjZHxVA8CwwfyIeFUAzPVhWZSEVQBAO9woLLhVA3ZEbaf1CFUDWmKqjSVoVQIn6qF2cbBVAopswOox1FUA=",
          "dtype": "f8"
         },
         "y": {
          "bdata": "htJ8Gu3IF0An73+Y/a8XQKgNHX6JlhdAFYpnOYKHF0A8snTavYcXQAIk0NUhkxdA6JORaQqfF0DjpaUnhqAXQCMM9/++khdAxCj6fc95F0BFR5djW2AXQLLD4R5UURdA2evuv49RF0CfXUq781wXQIXNC0/caBdAgN8fDVhqF0DARXHlkFwXQGFidGOhQxdA4oARSS0qF0BP/VsEJhsXQHYlaaVhGxdAPJfEoMUmF0AiB4Y0rjIXQBwZmvIpNBdAXX/rymImF0A=",
          "dtype": "f8"
         },
         "z": {
          "bdata": "M3WxIcUBIUANHjgK6fwgQMnpPqb3ACFAokNefOwLIUDR43FxuBchQBcVhGbOHSFAfCMWqPkaIUDDo4+vPhEhQLTdFJisBiFAjoabgNABIUBJUqIc3wUhQCOswfLTECFAUkzV558cIUCYfefctSIhQP2LeR7hHyFARAzzJSYWIUA1RngOlAshQA7v/va3BiFAyroFk8YKIUCjFCVpuxUhQNK0OF6HISFAGeZKU50nIUB99NyUyCQhQMR0VpwNGyFAtq7bhHsQIUA=",
          "dtype": "f8"
         }
        },
        {
         "line": {
          "width": 2
         },
         "mode": "lines",
         "opacity": 0.5,
         "type": "scatter3d",
         "x": {
          "bdata": "gAlkwS6FGUCRjmirsH0ZQFEFGVVJahlA93iEx7VXGUByD038NlIZQP4ns0RkXhlA205tzXp2GUDTeGyNvY0ZQPZ/DovrlxlABgUTdW2QGUDHe8MeBn0ZQGzvLpFyahlA54X3xfNkGUB0nl0OIXEZQFHFF5c3iRlASe8WV3qgGUBs9rhUqKoZQHx7vT4qoxlAPfJt6MKPGUDiZdlaL30ZQF38oY+wdxlA6hQI2N2DGUDHO8Jg9JsZQL9lwSA3sxlA4WxjHmW9GUA=",
          "dtype": "f8"
         },
         "y": {
          "bdata": "px3JHJXcF0DhQ6OKBvYXQP947FobBxhAxBdcacYKGEDqsXQE1gMYQIvPSidP+xdAR96x5yT7F0Bbg/JpZAgYQA8til8/IBhASVNkzbA5GEBniK2dxUoYQC0nHaxwThhAUsE1R4BHGEDz3gtq+T4YQK/tcirPPhhAxJKzrA5MGEB4PEui6WMYQLFiJRBbfRhAz5du4G+OGECVNt7uGpIYQLvQ9okqixhAW+7MrKOCGEAX/TNteYIYQCyidO+4jxhA4EsM5ZOnGEA=",
          "dtype": "f8"
         },
         "z": {
          "bdata": "01QEa9ssIEAbdp/rqy4gQJbX3ZAxKyBAog9WSbshIEAjuRxlGRUgQOx9s6L3CSBAgQKnuyAEIECGsGDBRQQgQBXty2OWByBAXQ5n5GYJIEDYb6WJ7AUgQMhPO4Ts+B9AyqLIu6jfH0BcLPY2ZckfQIY13Wi3vR9Aj5FQdAG+H0CuCie5osQfQD1NXbpDyB9AMxDaBE/BH0BMgMp1Yq4fQE7TV60elR9A4FyFKNt+H0AKZmxaLXMfQBLC32V3cx9AMTu2qhh6H0A=",
          "dtype": "f8"
         }
        },
        {
         "line": {
          "width": 2
         },
         "mode": "lines",
         "opacity": 0.5,
         "type": "scatter3d",
         "x": {
          "bdata": "+4HqiWwb9D8LnQqp4snzPw08SUCGZfM/u/fHKUok8z+bCTerjSfzPzajYu2PaPM/37hvt2S88z/csTwvGe3zP6dUGQ9O2fM/t285LsSH8z+5DnjFZyPzP2fK9q4r4vI/R9xlMG/l8j/idZFycSbzP4uLnjxGevM/iIRrtPqq8z9TJ0iUL5fzP2NCaLOlRfM/ZeGmSknh8j8TnSU0DaDyP/OulLVQo/I/jkjA91Lk8j83Xs3BJzjzPzRXmjncaPM///l2GRFV8z8=",
          "dtype": "f8"
         },
         "y": {
          "bdata": "/AJVH+nssD/QjZysLxC1PxU88F5rVbY/OMBdMkBvtT/I3w/vqlW0P5ovgonGHrU/9Vvo/uzFuD9zsjRTepi+P8Q2Ht84T8I/LfzBJdxgxD9Q0+v+eQPFP2OVomhkkMQ/KqX7xpkDxD8SzTSUJ2jEP0Dj5866O8Y/fg4OeQElyT8J7JEu/SfMP3KxNXWgOc4/lohfTj7czj+oSha4KGnOP29abxZe3M0/WIKo4+tAzj9CzC2PPwrQP+LhQOTiftE/p9ACv2AA0z8=",
          "dtype": "f8"
         },
         "z": {
          "bdata": "jvAfWTBzE0B3bzGo+W0TQOeCNTPOdRNA0YxBW7qKE0ARUgUtH6UTQHGI6TcpuhNASirbBijCE0Cp1cQ4D70TQLPF9sB9shNAnUQIEEetE0ANWAybG7UTQPdhGMMHyhNANifclGzkE0CWXcCfdvkTQG//sW51ARRAz6qboFz8E0DYms0oy/ETQMIZ33eU7BNAMi3jAmn0E0AcN+8qVQkUQFz8svy5IxRAvDKXB8Q4FECV1IjWwkAUQPR/cgiqOxRA/m+kkBgxFEA=",
          "dtype": "f8"
         }
        },
        {
         "line": {
          "width": 2
         },
         "mode": "lines",
         "opacity": 0.5,
         "type": "scatter3d",
         "x": {
          "bdata": "mieh78klC0A2L6gLhAgLQLpf3sOm6ApA617at3reCkASEO6Ek/UKQHVzlLoHJgtA760LVBNZC0C8Gb2xbXYLQJLTVjaDcgtALttdUj1VC0CyC5QKYDULQOMKkP4zKwtACryjy0xCC0BsH0oBwXILQOZZwZrMpQtAs8Vy+CbDC0CKfwx9PL8LQCWHE5n2oQtAqbdJURmCC0DatkVF7XcLQAJoWRIGjwtAZMv/R3q/C0DeBXfhhfILQKtxKD/gDwxAgSvCw/ULDEA=",
          "dtype": "f8"
         },
         "y": {
          "bdata": "ROez0xqKI0Cdg9k8k4YjQBd6wKjsiyNA8D0I65+XI0BHXpNybaMjQEoGs0oGqSNALlQRIL6lI0Cy1A4fHJwjQLj4yNhfkiNAEpXuQdiOI0CLi9WtMZQjQGRPHfDknyNAu2+od7KrI0C/F8hPS7EjQKNlJiUDriNAJ+YjJGGkI0AtCt7dpJojQIamA0cdlyNAAJ3qsnacI0DZYDL1KagjQDCBvXz3syNANCndVJC5I0AXdzsqSLYjQJv3OCmmrCNAohvz4umiI0A=",
          "dtype": "f8"
         },
         "z": {
          "bdata": "Fkk0eLaZAUDKAOcEKm8BQGrdus7VSQFAyVrtuOYxAUBi8WDqsCcBQNV+FYJ+IwFAWueo3BMaAUAir90WRAMBQK5d0Qm73gBAYhWEli60AEAC8ldg2o4AQGFvikrrdgBA+gX+e7VsAEBsk7ITg2gAQPL7RW4YXwBAusN6qEhIAEBGcm6bvyMAQPNTQlBm8v8/Mw3q472n/z/xB0+433f/PyQ1Nht0Y/8/CVCfSg9b/z8VIcb/OUj/P6OwL3SaGv8/vA0XWojR/j8=",
          "dtype": "f8"
         }
        },
        {
         "line": {
          "width": 2
         },
         "mode": "lines",
         "opacity": 0.5,
         "type": "scatter3d",
         "x": {
          "bdata": "2fWF2/ccJEDzpuEISSEkQDc1o1s1HSRAbqQ1KvsRJEDabK0VCQUkQN+/LW3P/CNAuzVIn/r8I0CkypFVTAQkQFcG9u5VDSRAcbdRHKcRJEC1RRNvkw0kQOy0pT1ZAiRAWH0dKWf1I0Bd0J2ALe0jQDlGuLJY7SNAIdsBaar0I0DVFmYCtP0jQO/HwS8FAiRAM1aDgvH9I0BqxRVRt/IjQNaNjTzF5SNA2+ANlIvdI0C3VijGtt0jQJ/rcXwI5SNAUyfWFRLuI0A=",
          "dtype": "f8"
         },
         "y": {
          "bdata": "pTqER9AkGUDJsx24GDQZQGZLZAkeSBlAfJ6WfoZTGUBvAKPuA04ZQFDM/j0xORlAt3mtrKEfGUCma3D3rg4ZQLhOWUenDhlA3Mfyt+8dGUB6XzkJ9TEZQI+ya35dPRlAghR47to3GUBj4NM9CCMZQMqNgqx4CRlAun9F94X4GEDLYi5HfvgYQPDbx7fGBxlAjXMOCcwbGUCixkB+NCcZQJYoTe6xIRlAdvSoPd8MGUDeoVesT/MYQM2TGvdc4hhA33YDR1XiGEA=",
          "dtype": "f8"
         },
         "z": {
          "bdata": "bWgE32pC9T+qHINQRJP1PxQvkOJt0vU/Xgr5vrf29T/2B+wZsAb2P5mJSyDMFPY/Dq0cBpg09j+kB5KhQ2/2P+w/fb5AvvY/KvT7LxoP9z+UBgnCQ073P97hcZ6Ncvc/dt9k+YWC9z8ZYcT/oZD3P46EleVtsPc/JN8KgRnr9z9sF/adFjr4P6nLdA/wivg/FN6BoRnK+D9euep9Y+74P/a23dhb/vg/mDg933cM+T8NXA7FQyz5P6S2g2DvZvk/7O5ufey1+T8=",
          "dtype": "f8"
         }
        },
        {
         "line": {
          "width": 2
         },
         "mode": "lines",
         "opacity": 0.5,
         "type": "scatter3d",
         "x": {
          "bdata": "wU72EfZgIkBOK02UvFYiQKpuV+waVCJAgDMHTBlZIkD1vlBsSGEiQOUZ5JRaZiJACA7E59RjIkCwgP4yr1kiQLosn71YTCJARwn2Px9CIkCjTACYfT8iQHkRsPd7RCJA7pz5F6tMIkDe94xAvVEiQAHsbJM3TyJAql6n3hFFIkCzCkhpuzciQEDnnuuBLSJAnCqpQ+AqIkBy71ij3i8iQOd6osMNOCJA2NU17B89IkD6yRU/mjoiQKM8UIp0MCJArOjwFB4jIkA=",
          "dtype": "f8"
         },
         "y": {
          "bdata": "Eq3I/0nGGECO1QO3p9MYQCH4oGDm5BhAOirUkUrtGEDyd7mKSOUYQCIXEM7vzhhAOrwEH7a0GEDMUWPoVqMYQL/LD+pdohhAOvRKobuvGEDNFuhK+sAYQOdIG3xeyRhAn5YAdVzBGEDPNVe4A6sYQOfaSwnKkBhAeHCq0mp/GEBr6lbUcX4YQOcSkovPixhAejUvNQ6dGECTZ2JmcqUYQEu1R19wnRhAe1SeoheHGECT+ZLz3WwYQCWP8bx+WxhAGAmevoVaGEA=",
          "dtype": "f8"
         },
         "z": {
          "bdata": "joJ7Q9CCDUBqHJAmtZgNQPznBMJIwA1AtwX56QnvDUDLwkgJQxYOQJQoUfWnKw5Ap1z5KF4vDkCQPiLQ5isOQCKB73/3Lw5A/hoEY9xFDkCP5nj+b20OQEsEbSYxnA5AXsG8RWrDDkAnJ8Uxz9gOQDtbbWWF3A5AJD2WDA7ZDkC1f2O8Ht0OQJEZeJ8D8w5AI+XsOpcaD0DeAuFiWEkPQPK/MIKRcA9AuyU5bvaFD0DOWeGhrIkPQLg7Ckk1hg9ASX7X+EWKD0A=",
          "dtype": "f8"
         }
        },
        {
         "line": {
          "width": 2
         },
         "mode": "lines",
         "opacity": 0.5,
         "type": "scatter3d",
         "x": {
          "bdata": "MvmK0FB8+j8+ofAsw5D6P/6Bx3ri4fo/VpwlBO9C+z9DaOyv1H37P1jSH7HYcvs/twPiwC8r+z9/+xyVmdP6P7JB70Yqovo/velUo5y2+j99yivxuwf7P9XkiXrIaPs/w7BQJq6j+z/XGoQnspj7PzdMRjcJUfs//0OBC3P5+j8xilO9A8j6PzwyuRl23Po//RKQZ5Ut+z9VLe7woY77P0L5tJyHyfs/V2PonYu++z+2lKqt4nb7P36M5YFMH/s/sNK3M93t+j8=",
          "dtype": "f8"
         },
         "y": {
          "bdata": "Vopn3xEDEkAI+qMhXQoSQNJWSFL8CxJAT0FljqIBEkAQlstbBuwRQAoHs7120hFA7YoyMZO+EUAdgTmZqLYRQAkN928AuhFAvHwzskvBEUCF2dfi6sIRQAPE9B6RuBFAwxhb7PSiEUC+iUJOZYkRQKENwsGBdRFA0APJKZdtEUC8j4YA73ARQG//wkI6eBFAOVxnc9l5EUC2RoSvf28RQHeb6nzjWRFAcQzS3lNAEUBUkFFScCwRQIOGWLqFJBFAcBIWkd0nEUA=",
          "dtype": "f8"
         },
         "z": {
          "bdata": "l6OdqIKMBkBQxspCAL8GQJm62I3M4QZAnsm3Se/qBkDt6y6SeN8GQBe1tKCJ0AZAsaxZ/kvRBkCPiS3rt+sGQCNTaUu9GgdA3HWW5TpNB0AlaqQwB3AHQCp5g+wpeQdAeZv6NLNtB0CjZIBDxF4HQD1cJaGGXwdAGzn5jfJ5B0CvAjXu96gHQGglYoh12wdAsRlw00H+B0C2KE+PZAcIQAVLxtft+wdALxRM5v7sB0DJC/FDwe0HQKfoxDAtCAhAO7IAkTI3CEA=",
          "dtype": "f8"
         }
        },
        {
         "line": {
          "width": 2
         },
         "mode": "lines",
         "opacity": 0.5,
         "type": "scatter3d",
         "x": {
          "bdata": "QRlM0P7A6j+2Ys5hDmfrP1lnzBccK+w/5qLn7ZKh7D85hc1GUYzsP9fcSzcO/+s/R3lOA81T6z/N3jOvIvbqP42dTtgwJOs/AufQaUDK6z+l684fTo7sPzIn6vXEBO0/hQnQToPv7D8jYU4/QGLsP5P9UAv/tus/GWM2t1RZ6z/ZIVHgYofrP05r03FyLew/8W/RJ4Dx7D9+q+z99mftP9GN0la1Uu0/b+VQR3LF7D/fgVMTMRrsP2XnOL+GvOs/JaZT6JTq6z8=",
          "dtype": "f8"
         },
         "y": {
          "bdata": "ltRHI7TUGkCC1r0HL+UaQLegBU4p6hpA4eykkHrmGkARsIkcDeIaQG4ZU/Y65RpAgbpKbunzGkCg2erpQAsbQLmBRRxXIxtApYO7ANIzG0DbTQNHzDgbQAWaookdNRtANV2HFbAwG0CSxlDv3TMbQKVnSGeMQhtAxIbo4uNZG0DdLkMV+nEbQMkwufl0ghtA//oAQG+HG0ApR6CCwIMbQFkKhQ5TfxtAtXNO6ICCG0DJFEZgL5EbQOgz5tuGqBtAAdxADp3AG0A=",
          "dtype": "f8"
         },
         "z": {
          "bdata": "6Hv0ldaLD0B8gNUTToQPQHtQf1tqlw9AOIqbPmjDD0AzBRJU8fcPQJ+B7/vWDxBA75rx6GIWEEBhfzoIfhAQQDRDVo5TBhBAfcVGTY8CEEB9rRtxHQwQQFvKqWIcIhBA2Qdl7WA8EEDfhks/P1AQQC+gTSzLVhBAoISWS+ZQEEBzSLLRu0YQQL3KopD3QhBAvbJ3tIVMEECbzwWmhGIQQBgNwTDJfBBAHoyngqeQEEBupalvM5cQQOCJ8o5OkRBAsk0OFSSHEEA=",
          "dtype": "f8"
         }
        },
        {
         "line": {
          "width": 2
         },
         "mode": "lines",
         "opacity": 0.5,
         "type": "scatter3d",
         "x": {
          "bdata": "lGx7C13yE0Amjz4OCOATQFy18aVgyhNAxWdkk9G+E0D57Bi528QTQE7C1OCw2RNAAJSgc9jxE0B/2ayw5/8TQDNMd7Vd/BNAxm46uAjqE0D8lO1PYdQTQGVHYD3SyBNAmcwUY9zOE0DuodCKseMTQKBznB3Z+xNAH7moWugJFEDTK3NfXgYUQGZONmIJ9BNAnHTp+WHeE0AFJ1zn0tITQDisEA3d2BNAjoHMNLLtE0BAU5jH2QUUQL+YpATpExRAcwtvCV8QFEA=",
          "dtype": "f8"
         },
         "y": {
          "bdata": "YpknhXP3IkDCA0VEQgAjQB0LCODPBiNACaaDlNwKI0AZr4UMoA0jQAzKj88SESNABEj0tcYWI0BqMqCD+x4jQKyuxY15KCNADBnjTEgxI0BnIKbo1TcjQFS7IZ3iOyNAZMQjFaY+I0BX3y3YGEIjQE9dkr7MRyNAtUc+jAFQI0D3w2OWf1kjQFcugVVOYiNAsjVE8dtoI0Ce0L+l6GwjQK/ZwR2sbyNAovTL4B5zI0CZcjDH0ngjQABd3JQHgSNAQtkBn4WKI0A=",
          "dtype": "f8"
         },
         "z": {
          "bdata": "EqzM34VkGkBMfEBwI1waQKf4igjbZBpAAIogaZp7GkD7VQBOF5UaQDMMx4JspBpASRa3r6eiGkBjC1wU25IaQNrFtvRQgBpAFJYqhe53GkBvEnUdpoAaQMijCn5llxpAwm/qYuKwGkD6JbGXN8AaQBEwocRyvhpAKiVGKaauGkCi36AJHJwaQNuvFJq5kxpANyxfMnGcGkCPvfSSMLMaQIqJ1HetzBpAwj+brALcGkDZSYvZPdoaQPI+MD5xyhpAafmKHue3GkA=",
          "dtype": "f8"
         }
        },
        {
         "line": {
          "width": 2
         },
         "mode": "lines",
         "opacity": 0.5,
         "type": "scatter3d",
         "x": {
          "bdata": "Rzm8IGAaC0C7V+lWXQELQNrXiz0LBwtAetFgwOcsC0C/ODq6lmELQG206kYNiwtAb84lI9OVC0Dxbi5jaoALQM6hMiwvXAtAQsBfYixDC0BhQAJJ2kgLQAE618u2bgtARqGwxWWjC0D0HGFS3MwLQPc2nC6i1wtAeNekbjnCC0BWCqk3/p0LQMko1m37hAtA6ah4VKmKC0CJok3XhbALQM0JJ9E05QtAfIXXXasODEB+nxI6cRkMQABAG3oIBAxA3XIfQ83fC0A=",
          "dtype": "f8"
         },
         "y": {
          "bdata": "K2ITf2sAIkCIgPZyyPQhQF5Qy8Cs5yFAxFHbFJXeIUDqzIrno9whQFCJ1mnL4CFAPpQwkmvmIUCbbU+0B+ghQDnNzld94iFAluuxS9rWIUBsu4aZvskhQNO8lu2mwCFA+DdGwLW+IUBe9JFC3cIhQEz/62p9yCFAqdgKjRnKIUBHOIowj8QhQKRWbSTsuCFAeiZCctCrIUDhJ1LGuKIhQAajAZnHoCFAbF9NG++kIUBaaqdDj6ohQLdDxmUrrCFAVaNFCaGmIUA=",
          "dtype": "f8"
         },
         "z": {
          "bdata": "lsLfHpi9FEAFo0EESLkUQN4SsGHlvRRA15XPKibDFEDLzHyYYMAUQL4ht02esRRASOfkiu6ZFECwmWFcm4EUQB+YUIlOcRRAjniybv5sFEBn6CDMm3EUQGFrQJXcdhRAVaLtAhd0FEBH9ye4VGUUQNG8VfWkTRRAOm/SxlE1FECobcHzBCUUQBhOI9m0IBRA8L2RNlIlFEDqQLH/kioUQN53Xm3NJxRA0MyYIgsZFEBaksZfWwEUQMNEQzEI6RNAMUMyXrvYE0A=",
          "dtype": "f8"
         }
        },
        {
         "line": {
          "width": 2
         },
         "mode": "lines",
         "opacity": 0.5,
         "type": "scatter3d",
         "x": {
          "bdata": "P5xWfwMDGkDXPUI1BvYZQK0LTaXv+RlAiqzoNuIJGkD1MANv8xkaQJvAK94mHhpABCQ1k3MRGkBmtK0mt/gZQDphpxPc3xlA0gKTyd7SGUCo0J05yNYZQIVxOcu65hlA8PVTA8z2GUCXhXxy//oZQADphSdM7hlAYXn+uo/VGUA2JvintLwZQM7H4123rxlApJXuzaCzGUCBNopfk8MZQOy6pJek0xlAkkrNBtjXGUD7rda7JMsZQF0+T09oshlAMetIPI2ZGUA=",
          "dtype": "f8"
         },
         "y": {
          "bdata": "EL0u81BGBUADf0NAnh0FQLC4exg+9gRAR7RXBw3pBEBThEwEkf8EQEVYDVJlLgVAfLSqFOdbBUDJTqTAOW8FQKAUhV7XXgVAk9aZqyQ2BUBAENKDxA4FQNcLrnKTAQVA49uibxcYBUDVr2O960YFQAwMAYBtdAVAWab6K8CHBUAxbNvJXXcFQCMu8BarTgVA0Gco70onBUBnYwTeGRoFQHQz+dqdMAVAZQe6KHJfBUCcY1fr84wFQOn9UJdGoAVAwcMxNeSPBUA=",
          "dtype": "f8"
         },
         "z": {
          "bdata": "3mk1Qf0t4D+AgDRv3qLfP0ENV5d2h94/J6tgtwRA3T8y+aC4lhzcP0eS/qIhWNs/YEsDUvj12j9U8yAJ2b/aPyPrB9+1Zdo/6JfRy5ms2T+oJPTzMZHYP4/C/RPASdc/mRA+FVIm1j+uqZv/3GHVP8hioK6z/9Q/uwq+ZZTJ1D+LAqU7cW/UP0+vbihVttM/EDyRUO2a0j/22Zpwe1PRPwAo23ENMNA/LIJxuDDXzj9e9HoW3hLOP0ZEtoSfps0/5DOEMFnyzD8=",
          "dtype": "f8"
         }
        },
        {
         "line": {
          "width": 2
         },
         "mode": "lines",
         "opacity": 0.5,
         "type": "scatter3d",
         "x": {
          "bdata": "WSN3Q4lQAEAANWgL8yQAQEpPhoZe5P8/VY7wFT+l/z+WVJZ+y6r/PxTZjnAN6/8/ys1ZQdUcAEAqApK67zAAQO9yLEe0IgBALAk7Hjzu/z927vCNtIj/P4EtWx2VSf8/wvMAhiFP/z8/ePl3Y4//P8A6HooA3v8/wFFHvhoDAEAKhcOVvun/P1eopSWSkv8/oo1blQot/z+tzMUk6+3+P+6Sa4138/4/axdkf7kz/z/r2YiRVoL/P6xC+YOLqv8/NSQunRSO/z8=",
          "dtype": "f8"
         },
         "y": {
          "bdata": "731Cbs53H0BVce1humofQLXnxzk+bx9A9e+XQNyCH0A+BCP/PZofQKbZy3XYpx9AFSxFCNujH0Cl7Mhrw5AfQCuhkRfoeR9AkZQ8C9RsH0DxChfjV3EfQDAT5+n1hB9AeidyqFecH0Di/Bof8qkfQFFPlLH0pR9A4A8YFd2SH0BmxODAAXwfQM23i7Ttbh9ALS5mjHFzH0BsNjaTD4cfQLVKwVFxnh9AHiBqyAusH0CNcuNaDqgfQBwzZ772lB9Aoucvaht+H0A=",
          "dtype": "f8"
         },
         "z": {
          "bdata": "pFyA2kfcH0BxNrHSr+QfQPZ6V/vl6x9Arb1ZSP/0H0Ca5H/U+gAgQEOpp9Q/CSBAkLiUvB0SIEDEyFMSChogQJD0QN4HICBAdmFZ2jskIEC5g6zu1icgQBSlLZVjLCBA16qAxd4yIECBb6jFIzsgQM1+la0BRCBAAY9UA+5LIEDNukHP61EgQLQnWssfViBA9kmt37pZIEBSay6GR14gQBVxgbbCZCBAvjWptgdtIEALRZae5XUgQD9VVfTRfSBAC4FCwM+DIEA=",
          "dtype": "f8"
         }
        },
        {
         "line": {
          "width": 2
         },
         "mode": "lines",
         "opacity": 0.5,
         "type": "scatter3d",
         "x": {
          "bdata": "qk7gmyaTIEDytjaoyZggQLBfzVTcmiBAXQVcqoibIEBCg72ayp0gQC+pxH6woyBApo6LwiatIEAud1pdA7ggQH2HVl1KwSBAxe+sae3GIECDmEMWAMkgQDA+0musySBAFbwzXO7LIEAC4jpA1NEgQHnHAYRK2yBAAbDQHifmIEBQwMwebu8gQJgoIysR9SBAVtG51yP3IEADd0gt0PcgQOj0qR0S+iBA1hqxAfj/IEBMAHhFbgkhQNToRuBKFCFAI/lC4JEdIUA=",
          "dtype": "f8"
         },
         "y": {
          "bdata": "s23TEbOZGkCHQxwlErAaQBwJAwoPvRpAeZNqT5W4GkA6/sZYy6QaQE1/IPXPjBpAoBDcvzZ+GkAq3RYqFIEaQFDJXNBBkxpAJZ+l46CpGkC5ZIzInbYaQBbv8w0kshpA11lQF1qeGkDq2qmzXoYaQD1sZX7FdxpAxzig6KJ6GkDtJOaO0IwaQML6LqIvoxpAVsAVhyywGkC0Sn3MsqsaQHW12dXolxpAhzYzcu1/GkDax+48VHEaQGSUKacxdBpAi4BvTV+GGkA=",
          "dtype": "f8"
         },
         "z": {
          "bdata": "7G9ENulxHUByK+xjWXsdQBy94U9jkh1ACrZbTb+sHUBrxSy6M74dQL3Twkq+vx1A6wsLHa+zHUDW3M7dTaQdQEyXOy/UnR1A01LjXESnHUB95NhITr4dQGrdUkaq2B1AzOwjsx7qHUAd+7lDqesdQEszAhaa3x1ANgTG1jjQHUCsvjIov8kdQDN62lUv0x1A3QvQQTnqHUDKBEo/lQQeQCwUG6wJFh5AfiKxPJQXHkCsWvkOhQseQJYrvc8j/B1ADeYpIar1HUA=",
          "dtype": "f8"
         }
        },
        {
         "line": {
          "width": 2
         },
         "mode": "lines",
         "opacity": 0.5,
         "type": "scatter3d",
         "x": {
          "bdata": "tyaAOzNHIUC9Ngxe008hQFeBr+shUCFAUdLdnRFJIUBFkal55j8hQH5m7CggOyFAIgEYbas+IUBnlbiMlUkhQLC7u4KaViFAtstHpTpfIUBPFusyiV8hQElnGeV4WCFAPiblwE1PIUB2+ydwh0ohQBuWU7QSTiFAXyr00/xYIUCoUPfJAWYhQK5gg+yhbiFASKsmevBuIUBC/FQs4GchQDe7IAi1XiFAb5Bjt+5ZIUATK4/7eV0hQFi/LxtkaCFAoeUyEWl1IUA=",
          "dtype": "f8"
         },
         "y": {
          "bdata": "QKb7Pa2dFUBn0WV+E7IVQOthYDXTzBVA+5BT8ZThFUAyeWvWg+cVQP+w9/953hVAboPzshbPFUBRt/ZgscUVQA0y1eUeyxVANF0/JoXfFUC37TndRPoVQMccLZkGDxZA/wRFfvUUFkDLPNGn6wsWQDsPzVqI/BVAHkPQCCPzFUDZva6NkPgVQADpGM72DBZAhHkThbYnFkCUqAZBeDwWQMuQHiZnQhZAmMiqT105FkAIm6YC+ikWQOrOqbCUIBZApkmINQImFkA=",
          "dtype": "f8"
         },
         "z": {
          "bdata": "MBK2gywjIEBc1uhSByQgQGWwhm2WIyBAOM6rz/EeIEA/c/GZpxUgQFHT7MX+CSBADTv6TEP/H0DjRwx/8PIfQFFG3eDo7x9Aqc5Cf57xH0C7gn60vPAfQGG+yHhz5x9AbwhUDd/UH0CTyEpljb0fQP1caybTqB9A02l9WICcH0BBaE66eJkfQJnws1gumx9Aq6TvjUyaH0BR4DlSA5EfQF8qxeZufh9Ag+q7Ph1nH0Dtftz/YlIfQMSL7jEQRh9AMYq/kwhDH0A=",
          "dtype": "f8"
         }
        },
        {
         "line": {
          "width": 2
         },
         "mode": "lines",
         "opacity": 0.5,
         "type": "scatter3d",
         "x": {
          "bdata": "ewZ5wydv+z/FVFYZ5qD7P56dQMQ+jfs/EUzHwKdH+z93aEmN1wD7P0QYLB486vo/gM0BWgYZ+z8kHTtEwHn7P9T+eF6z2/s/Hk1WtHEN/D/4lUBfyvn7P2tEx1sztPs/0WBJKGNt+z+dECy5x1b7P9rFAfWRhfs/fRU730vm+z8u93j5Pkj8P3hFVk/9efw/Uo5A+lVm/D/FPMf2viD8PytZScPu2fs/9wgsVFPD+z8zvgGQHfL7P9cNO3rXUvw/h+94lMq0/D8=",
          "dtype": "f8"
         },
         "y": {
          "bdata": "JM4cUP9H1z8oyDsgs1jWPz2/ppZIHtU/fFc7OPXg0z9b977ZourSPzGx8XijW9I/9m3YccIX0j+QiZU/ytbRP4udYw3RTtE/jpeC3YRf0D9HHdunNErOP8ZNBOuNz8s/g40LLuniyT8vAXFs6sTIP7l6Pl4oPcg/7rG4+Te7xz/k2VSVRavGP+rNkjWtzMQ/FLxoIthXwj8m2SPLYrq/P6JYMlEZ4bs/+T/9zRuluT8NM5ixl5W4P3ihjOi2kbc/YvHEH9JxtT8=",
          "dtype": "f8"
         },
         "z": {
          "bdata": "1iNibLkN+z+FovFiTFf7P1V3HGtPnfs/FvMf8nuv+z+zJbQT6Xv7P3t7f16JGfs/IXuvl7m6+j/X0wZSwI/6P7F1zXGGqvo/YPRcaBn0+j8wyYdwHDr7P/FEi/dITPs/jncfGbYY+z9VzepjVrb6P/zMGp2GV/o/siVyV40s+j+Mxzh3U0f6PztGyG3mkPo/CxvzdenW+j/Mlvb8Fen6P2jJih6Dtfo/MB9WaSNT+j/XHoaiU/T5P4133Vxayfk/ZxmkfCDk+T8=",
          "dtype": "f8"
         }
        },
        {
         "line": {
          "width": 2
         },
         "mode": "lines",
         "opacity": 0.5,
         "type": "scatter3d",
         "x": {
          "bdata": "o3zyIUb5IkCmGRkUff8iQN4FOht5BiNAOu0J7mQII0BSgMSPYgIjQOD85EU59iJAOCoL50rpIkBsXIK8bOEiQOTiDsN84SJA5381tbPnIkAfbFa8r+4iQHtTJo+b8CJAk+bgMJnqIkAhYwHnb94iQHmQJ4iB0SJArcKeXaPJIkAlSStks8kiQCjmUVbqzyJAYNJyXebWIkC9uUIw0tgiQNRM/dHP0iJAYskdiKbGIkC69kMpuLkiQO4ou/7ZsSJAZ69HBeqxIkA=",
          "dtype": "f8"
         },
         "y": {
          "bdata": "jsCJz4Pf0z/M6H2J0e7UP/N1+iFU8dQ/lgHM4CoG1D8qyVWOrtfSP3ODlwSoN9I/09hQnGyk0j+3L7UN3f7TP6tKYZCgnNU/6XJVSu6r1j8QANLicK7WP7OLo6FHw9U/R1MtT8uU1D+QDW/FxPTTP/BiKF2JYdQ/1LmMzvm71T/I1DhRvVnXPwb9LAsLadg/LYqpo41r2D/QFXtiZIDXP2TdBBDoUdY/rZdGhuGx1T8M7f8dph7WP/FDZI8Wedc/5V4QEtoW2T8=",
          "dtype": "f8"
         },
         "z": {
          "bdata": "dAjZ2Uw12j8L82/udT7bP2COZsrXq9w/vPbyKoYM3j9Zwt15BffeP05TPiMVR98/hDM/Bewy3z+0RqpidivfP6L2ttEvmt8/nPAmc6xR4D9HPiJhXQjhP3VyaJG0uOE/Q9jdOPQt4j++II4N/FXiP9mQjn7nS+I/cRpErSxI4j9ocspkiX/iP7TnFe8dBOM/XjUR3c664z+MaVcNJmvkP1rPzLRl4OQ/1Rd9iW0I5T/wh336WP7kP4gRMyme+uQ/f2m54Pox5T8=",
          "dtype": "f8"
         }
        },
        {
         "line": {
          "width": 2
         },
         "mode": "lines",
         "opacity": 0.5,
         "type": "scatter3d",
         "x": {
          "bdata": "71zqrNVe9z8ivWeipf32P5ehir0WwvY/RdzoBym69j8n640YntX2P+7gqQR97/Y/dFIgy7rj9j/AbVtiV6T2P9m0TzORQfY/DRXNKGHg9T+C+e9D0qT1PzA0To7knPU/EUPznlm49T/ZOA+LONL1P16qhVF2xvU/q8XA6BKH9T/EDLW5TCT1P/dsMq8cw/Q/bFFVyo2H9D8bjLMUoH/0P/yaWCUVm/Q/w5B0EfS09D9JAuvXMan0P5UdJm/OafQ/r2QaQAgH9D8=",
          "dtype": "f8"
         },
         "y": {
          "bdata": "HcuJntfpIEDnxfeITeQgQJyU/fMH3SBA7QsH8QfaIEAeOzz4zd4gQHkExcRM6iBA6Pm1EIf3IEC8RqPKewAhQLDbZHqqASFAetbSZCD8IEAvpdjP2vQgQIAc4sza8SBAsUsX1KD2IEALFaCgHwIhQHsKkexZDyFAT1d+pk4YIUBC7D9WfRkhQA3nrUDzEyFAwrWzq60MIUASLb2orQkhQERc8q9zDiFAniV7fPIZIUAOG2zILCchQOJnWYIhMCFA1fwaMlAxIUA=",
          "dtype": "f8"
         },
         "z": {
          "bdata": "svwmn69C0D9Rk1PhayTQP1G+BVUZLs4/MZikwabtyj92dDAHD+zHPw35flcPacY/NRPImUbExj8q69ABMkXIP7rA7JBCh8k/+O1FFbtKyT+mhaSn/C/HP4dfQxSK78M/zDvPWfLtwD/FgDtU5dW+PxS1zdhTjL8/f7JvVBVHwT8PiIvjJYnCP0215GeeTMI//ExD+t8xwD+6TcTN2uK5P0IG3Fir37M/bw95+avZsD+8Qwt+GpCxP6fzHE7xkbQ/yJ5UbBIWtz8=",
          "dtype": "f8"
         }
        },
        {
         "line": {
          "width": 2
         },
         "mode": "lines",
         "opacity": 0.5,
         "type": "scatter3d",
         "x": {
          "bdata": "u/rio/De7T+k+GYZCtDtP1RpnOJAoe0/1RUdMI837T8Ijs0jcZrsP+L9Gl+C7+s/9vq2RnZk6z84vAeqUhTrP8ixKGeb9+o/sq+s3LTo6j9hIOKl67nqP+LMYvM5UOo/FUUT5xuz6T/vtGAiLQjpPwOy/Akhfeg/RXNNbf0s6D/VaG4qRhDoP75m8p9fAeg/btcnaZbS5z/vg6i25GjnPyL8WKrGy+Y//Gum5dcg5j8QaULNy5XlP1IqkzCoReU/4h+07fAo5T8=",
          "dtype": "f8"
         },
         "y": {
          "bdata": "gj3OfJ18FkC50H9TII0WQPpWudyTphZAJYX63KK7FkBGp4fVisEWQBkLJpBpthZA4Xs8mFeiFkDAREspqpIWQKgZDsIjkhZA36y/mKaiFkAhM/khGrwWQEthOiIp0RZAbIPHGhHXFkBA52XV78sWQAdYfN3dtxZA5yCLbjCoFkDP9U0HqqcWQAWJ/90suBZARw85Z6DRFkBxPXpnr+YWQJNfB2CX7BZAZsOlGnbhFkAuNLwiZM0WQA39yrO2vRZA9dGNTDC9FkA=",
          "dtype": "f8"
         },
         "z": {
          "bdata": "xonzG1+V7D+wbNc+Sj3tP7bHeOxnbO0/WK2qcfMc7T9SXePZTJPsP3Fwb03rNew/dAs+NldR7D/aG3xHVevsP+lhs3WFv+0/00SXmHBn7j/ZnzhGjpbuP3yFassZR+4/dTWjM3O97T+USC+nEWDtP5fj/Y99e+0//fM7oXsV7j8MOnPPq+nuP/ccV/KWke8//Hf4n7TA7z+fXSolQHHvP5kNY42Z5+4/tyDvADiK7j+6u73po6XuPyDM+/qhP+8/GImZFOkJ8D8=",
          "dtype": "f8"
         }
        },
        {
         "line": {
          "width": 2
         },
         "mode": "lines",
         "opacity": 0.5,
         "type": "scatter3d",
         "x": {
          "bdata": "Gq9ZZ32nHECOHn5nGpIcQMHcrUAlhhxAcmYFjpKLHEASgK3mJ6AcQEZBOgHKuBxAu7O7Qv7HHECxWhUQ0MUcQLlxHtJ5tBxALeFC0hafHEBgn3KrIZMcQBEpyviOmBxAsUJyUSStHEDlA/9rxsUcQFp2gK361BxAUR3aeszSHEBYNOM8dsEcQM2jBz0TrBxA/2E3Fh6gHECw645ji6UcQFAFN7wguhxAhMbD1sLSHED5OEUY9+EcQPDfnuXI3xxA9/anp3LOHEA=",
          "dtype": "f8"
         },
         "y": {
          "bdata": "+MwuVENaI0AcppR8MVUjQB+vweA4VSNA5xXkz15XI0Axc7nIalcjQNisgmtfUiNAoLaE0jpII0CkYpGu9zsjQCUY64DOMSNASvFQqbwsI0BM+n0NxCwjQBRhoPzpLiNAXr519fUuI0AF+D6Y6ikjQM4BQf/FHyNA0a1N24ITI0BSY6etWQkjQHc8DdZHBCNAekU6Ok8EI0BCrFwpdQYjQIsJMiKBBiNAMkP7xHUBI0D7TP0rUfciQP74CQgO6yJAgK5j2uTgIkA=",
          "dtype": "f8"
         },
         "z": {
          "bdata": "RcVykwA7HkDDxOO1gkceQBlEi0R2Xx5Ag2GmdlJ5HkD1BJJGcIoeQAnbouVHjR5ARTF9GK6EHkBs6eOnK3oeQIwbeplneB5AChvru+mEHkBgmpJK3ZweQMq3rXy5th5APFuZTNfHHkBQMarrrsoeQIyHhB4Vwh5Asz/rrZK3HkDTcYGfzrUeQFFx8sFQwh5Ap/CZUETaHkASDrWCIPQeQIOxoFI+BR9AmIex8RUIH0DU3YskfP8eQPqV8rP59B5AGsiIpTXzHkA=",
          "dtype": "f8"
         }
        },
        {
         "line": {
          "width": 2
         },
         "mode": "lines",
         "opacity": 0.5,
         "type": "scatter3d",
         "x": {
          "bdata": "by4h2/BwIUDutLdsUG0hQEoRLqEdYyFAVfWacJdYIUBnAw+tLVQhQK+FOL27WCFAGjKCKtxjIUDXVtX8T28hQIxRIWKndCFAC9i38wZxIUBnNC4o1GYhQHEYm/dNXCFAhCYPNORXIUDMqDhEclwhQDdVgrGSZyFA9HnVgwZzIUCpdCHpXXghQCj7t3q9dCFAhFcur4pqIUCOO5t+BGAhQKBJD7uaWyFA6cs4yyhgIUBUeII4SWshQBGd1Qq9diFAxpchcBR8IUA=",
          "dtype": "f8"
         },
         "y": {
          "bdata": "kaBtLlIzHEDf8l/X0UMcQOyGKhNrSBxAuZz9UP47HEDEPlDaZCMcQBhH1bGZChxArg2C9rT9G0CEUiY51gEcQBwLSzAkEhxAal092aMiHEB38QcVPSccQEQH21LQGhxAT6kt3DYCHECjsbKza+kbQDl4X/iG3BtAD70DO6jgG0CndSgy9vAbQPXHGtt1ARxAAlzlFg8GHEDPcbhUovkbQNoTC94I4RtALxyQtT3IG0DE4jz6WLsbQJon4Tx6vxtAMuAFNMjPG0A=",
          "dtype": "f8"
         },
         "z": {
          "bdata": "xChz1dQRBkAkuzvSPeoFQCNcA2POyAVAWNYzUveyBUDvcLCVXqcFQFn3YAOqngVAJG8S3c2PBUC5DVtYWXUFQOuLV3+mUAVASx4gfA8pBUBJv+cMoAcFQH45GPzI8QRAFtSUPzDmBEB/WkWte90EQEvS9oafzgRA33A/Aiu0BEAS7zspeI8EQHGBBCbhZwRAcCLMtnFGBEClnPylmjAEQDw3eekBJQRApr0pV00cBEBxNdswcQ0EQAbUI6z88gNAOFIg00nOA0A=",
          "dtype": "f8"
         }
        },
        {
         "line": {
          "width": 2
         },
         "mode": "lines",
         "opacity": 0.5,
         "type": "scatter3d",
         "x": {
          "bdata": "KC+xSzWCHUBIMAtHCokdQNEhitTWmh1Azh5+iRKzHUD9issZcMkdQAbCUlC61h1Apgi19AzZHUDTQ6Jx8NQdQMwPNhOy0h1A7RCQDofZHUB2Ag+cU+sdQHL/AlGPAx5AoWtQ4ewZHkCqotcXNyceQErpObyJKR5AdyQnOW0lHkBx8LraLiMeQJHxFNYDKh5AGuOTY9A7HkAW4IcYDFQeQEZM1ahpah5AT4Nc37N3HkDvyb6DBnoeQBsFrADqdR5AFdE/oqtzHkA=",
          "dtype": "f8"
         },
         "y": {
          "bdata": "9WOkgc288T+wjbW5V37xP1jglX0KM/E/DtbKXekO8T/g2Q6WBS/xP+RvFhR3iPE/+dxOBsDu8T8BpzLc3C3yP+1iB1q8KPI/p4wYkkbq8T9Q3/hV+Z7xPwbVLTbYevE/19hxbvSa8T/bbnnsZfTxP/Dbsd6uWvI/+KWVtMuZ8j/kYWoyq5TyP56Le2o1VvI/R95bLugK8j/905AOx+bxP8/X1EbjBvI/023cxFRg8j/o2hS3ncbyP/Ck+Iy6BfM/3GDNCpoA8z8=",
          "dtype": "f8"
         },
         "z": {
          "bdata": "O7ORWr3iHEAdog6gGM4cQOmCMalaxxxAFRMQCkXOHEB+9406mdocQIIJf+js4BxAminK0lnZHEBSmlllHsQcQM62SSh5qRxAr6XGbdSUHEB7hul2Fo4cQKgWyNcAlRxAEftFCFWhHEAUDTe2qKccQC0tgqAVoBxA5Z0RM9qKHEBgugH2NHAcQEKpfjuQWxxADoqhRNJUHEA6GoClvFscQKP+/dUQaBxApxDvg2RuHEC/MDpu0WYcQHehyQCWURxA8725w/A2HEA=",
          "dtype": "f8"
         }
        },
        {
         "line": {
          "width": 2
         },
         "mode": "lines",
         "opacity": 0.5,
         "type": "scatter3d",
         "x": {
          "bdata": "T9UvI4czE0Djbloo4DYTQElCHVj/LBNASD/wnnwfE0D5u9GjEBoTQL71dwq3IxNAsfWFRpc6E0AKzINrGVUTQLIic9KEZxNARryd191qE0Csj2AH/WATQKyMM056UxNAXAkVUw5OE0AhQ7u5tFcTQBRDyfWUbhNAbRnHGheJE0AVcLaBgpsTQKkJ4YbbnhNAD92jtvqUE0AP2nb9d4cTQL9WWAIMghNAhJD+aLKLE0B3kAylkqITQNBmCsoUvRNAeb35MIDPE0A=",
          "dtype": "f8"
         },
         "y": {
          "bdata": "LFV1NC3RGkB3XH5ZqcYaQBg1RW5XyBpAx3wf2i3ZGkC942z3QfMaQPgQEFY/CxtA22z1xAoXG0CwWcfcrRMbQD4nJkMTBxtAiC4vaI/8GkAqB/Z8Pf4aQNlO0OgTDxtAz7UdBigpG0AJ48BkJUEbQOw+ptPwTBtAwSt465NJG0BQ+dZR+TwbQJoA4HZ1MhtAO9mmiyM0G0DrIIH3+UQbQOGHzhQOXxtAG7Vxcwt3G0D+EFfi1oIbQNP9KPp5fxtAYcuHYN9yG0A=",
          "dtype": "f8"
         },
         "z": {
          "bdata": "JC39Eqm2G0AfSIP5DM8bQGWwCw3g5xtAZYjLv7T3G0Au3qM3YvobQLu9wRR08xtA/E/dxBbsG0CCcsHVt+0bQEEXjSGA/BtAOzITCOQUHECCmpsbty0cQIJyW86LPRxAS8gzRjlAHEDXp1EjSzkcQBg6bdPtMRxAn1xR5I4zHEBeAR0wV0IcQFgcoxa7WhxAnoQrKo5zHECfXOvcYoMcQGiyw1QQhhxA9JHhMSJ/HEA1JP3hxHccQLxG4fJleRxAeuusPi6IHEA=",
          "dtype": "f8"
         }
        },
        {
         "line": {
          "width": 2
         },
         "mode": "lines",
         "opacity": 0.5,
         "type": "scatter3d",
         "x": {
          "bdata": "jrsXVV7zCUDdhMtxrCYKQK7GAgBqRQpAdN3VXCxFCkBn15bhri0KQAz6BmpLFApAL6TzgHgPCkBeeUTJoCkKQF9rp+kIWwpArzRbBleOCkB/dpKUFK0KQEWNZfHWrApAOIcmdlmVCkDdqZb+9XsKQAFUgxUjdwpALynUXUuRCkAwGzd+s8IKQIDk6poB9gpAUSYiKb8UC0AXPfWFgRQLQAo3tgoE/QpArlkmk6DjCkDSAxOqzd4KQADZY/L1+ApAAsvGEl4qC0A=",
          "dtype": "f8"
         },
         "y": {
          "bdata": "QHd20GhyH0D5j3dhrnEfQOa+7noRdh9A4ltK53ODH0Aa3HkvcpgfQHxm8tQzrx9Aq9r08dfAH0DK4BK8fMkfQK4DXaqFyh9AaBxeO8vJH0BUS9VULs4fQFHoMMGQ2x9AiWhgCY/wH0B1eWxXqAMgQI2z7WV6DCBAnLb8yswQIEAOyCFCUREgQGtUogr0ECBA4etdlyUTIEBguovN1hkgQHx6o/FVJCBArb9fxLYvIEDE+eDSiDggQNT87zfbPCBARg4Vr189IEA=",
          "dtype": "f8"
         },
         "z": {
          "bdata": "ghNIb1GpD0D3ys8qj7gPQJXQXEOC4w9AbQ/zPfAIEEDWTz56rxQQQMC4moKMDhBALfXouB31D0AxMKBMt8kPQKs4SqAwtQ9AIPDRW27ED0C+9V50Ye8PQAIidNbfDhBAamK/Ep8aEEBVyxsbfBQQQCuN9XR+ABBAW1WifZbVD0DUXUzRD8EPQEkV1IxN0A9A5xphpUD7D0CWNPVuzxQQQP90QKuOIBBA6t2cs2saEEDAn3YNbgYQQIR6pK514Q9A/oJOAu/MD0A=",
          "dtype": "f8"
         }
        },
        {
         "line": {
          "width": 2
         },
         "mode": "lines",
         "opacity": 0.5,
         "type": "scatter3d",
         "x": {
          "bdata": "UBNTjfGBIEBs0Kavg3wgQPq1i57icCBAhhyRXWtlIEAhRPFxYmAgQCP9jfpHZCBAso2ZtmBuIEBEnYSiT3ggQMfrFDnQeyBA46hoW2J2IEBxjk1KwWogQP30UglKXyBAmByzHUFaIECa1U+mJl4gQClmW2I/aCBAu3VGTi5yIEA9xNbkrnUgQFmBKgdBcCBA6GYP9p9kIEB0zRS1KFkgQA/1dMkfVCBAEa4RUgVYIECfPh0OHmIgQDFOCPoMbCBAtJyYkI1vIEA=",
          "dtype": "f8"
         },
         "y": {
          "bdata": "bvQTQn4mA0A8N1PQnj4DQLHWizItUwNAHt9HNgFnA0BeTjnVX30DQJLcSesQmANAHw5hLVS2A0C11vTNUdUDQHc4U9PE8QNARXuSYeUJBEC6GsvDcx4EQCYjh8dHMgRAZ5J4ZqZIBECbIIl8V2MEQChSoL6agQRAvho0X5igBEB/fJJkC70EQE6/0fIr1QRAw14KVbrpBEAvZ8ZYjv0EQHDWt/fsEwVApGTIDZ4uBUAxlt9P4UwFQMZec/DeawVAiMDR9VGIBUA=",
          "dtype": "f8"
         },
         "z": {
          "bdata": "TeS6fRZpHkDuEZF9YH4eQNPjy2G/hh5ALYbPKSF9HkDJx3Fx/WYeQL37ypEhUR5Abou/zTBIHkCqSuslPVEeQKNqeP7OZh5ARZhO/hh8HkApaonid4QeQIQMjarZeh5AIE4v8rVkHkATgogS2k4eQMURfU7pRR5AANGopvVOHkD68DV/h2QeQJseDH/ReR5AgPBGYzCCHkDakkorkngeQHbU7HJuYh5AaghGk5JMHkAbmDrPoUMeQFdXZieuTB5AUHfz/z9iHkA=",
          "dtype": "f8"
         }
        },
        {
         "line": {
          "width": 2
         },
         "mode": "lines",
         "opacity": 0.5,
         "type": "scatter3d",
         "x": {
          "bdata": "XfQXGHwqEkBSyh2L3SwSQO1NDJwmIBJAnzRMUkQOEkDSRjvpKgQSQLIyojU/ChJA7XAg5GsfEkAQTE3twzkSQLP7yhVTTBJAqNHQiLROEkBCVb+Z/UESQPQ7/08bMBJAJ07u5gEmEkAHOlUzFiwSQEJ40+FCQRJAZVMA65pbEkAIA34TKm4SQP3Yg4aLcBJAl1xyl9RjEkBJQ7JN8lESQHxVoeTYRxJAXEEIMe1NEkCXf4bfGWMSQLpas+hxfRJAXQoxEQGQEkA=",
          "dtype": "f8"
         },
         "y": {
          "bdata": "5pTaIV946T9hI2EjtkvqPz1yiOPsAus/AZve4zdU6z/vU1HXfzHrP5BJ1r2i0Oo/z3665eWL6j8n2m/NFK3qP1SlCMJGQus/zzOPw50V7D+rgraD1MzsP2+rDIQfHu0/XWR/d2f77D/+WQReiprsPz2P6IXNVew/lOqdbfx27D/CtTZiLgztPz1EvWOF3+0/GZPkI7yW7j/duzokB+juP8t0rRdPxe4/bGoy/nFk7j+rnxYmtR/uPwL7yw3kQO4/MMZkAhbW7j8=",
          "dtype": "f8"
         },
         "z": {
          "bdata": "KR9TU7+YDUA6L1Dp/J8NQMDZS/XwlA1ApdIQgaxyDUD2JqfL2kENQEkcOEitEw1AKHfKTsn3DECng5PVHfMMQLs0i53//AxAzESIMz0EDUBS74M/MfkMQDfoSMvs1gxAiDzfFRumDEDbMXCS7XcMQLqMApkJXAxAOZnLH15XDEBNSsPnP2EMQF5awH19aAxA5AS8iXFdDEDJ/YAVLTsMQBpSF2BbCgxAbUeo3C3cC0BMojrjScALQMuuA2qeuwtA31/7MYDFC0A=",
          "dtype": "f8"
         }
        },
        {
         "line": {
          "width": 2
         },
         "mode": "lines",
         "opacity": 0.5,
         "type": "scatter3d",
         "x": {
          "bdata": "1q1E1jjOI0AGLub5k9gjQFUx6rAb4yNAMGNblmnnI0Abnm3ovOIjQC9tyl6X1yNAI7nEQUXMI0CM1lH2LMcjQOXqPT4PyyNAFWvfYWrVI0BkbuMY8t8jQD+gVP4/5CNAKttmUJPfI0A9qsPGbdQjQDL2vakbySNAmxNLXgPEI0DzJzem5ccjQCSo2MlA0iNAc6vcgMjcI0BO3U1mFuEjQDkYYLhp3CNATOe8LkTRI0BBM7cR8sUjQKlQRMbZwCNAAmUwDrzEI0A=",
          "dtype": "f8"
         },
         "y": {
          "bdata": "6p4xb1Wi6T9GVhm3JTHpPwKlsG+UROk/yvWIRQu66T9AvJPuhjXqP0cPmYh9V+o/7crusdX06T+IhAO+JTDpP3TI5fZwZeg/0H/NPkH05z+MzmT3rwfoP1QfPc0mfeg/y+VHdqL46D/ROE0QmRrpP3j0ojnxt+g/E663RUHz5z//8Zl+jCjnP1upgcZct+Y/F/gYf8vK5j/eSPFUQkDnP1UP/P29u+c/XGIBmLTd5z8CHlfBDHvnP57Xa81ctuY/iRtOBqjr5T8=",
          "dtype": "f8"
         },
         "z": {
          "bdata": "kvxgH3bc9z8RzMd+4AH4P3YvfL9DQ/g/D3RHpOqV+D8YDLj4AuX4P0fwuu3PHfk/j0BwAaQ6+T+krw5xNEb5P0nLB3FTVfk/x5pu0L16+T8s/iIRIbz5P8ZC7vXHDvo/ztpeSuBd+j/9vmE/rZb6P0YPF1OBs/o/Wn61whG/+j//ma7CMM76P35pFSKb8/o/48zJYv40+z98EZVHpYf7P4SpBZy91vs/tI0IkYoP/D/83b2kXiz8PxBNXBTvN/w/tWhVFA5H/D8=",
          "dtype": "f8"
         }
        },
        {
         "line": {
          "width": 2
         },
         "mode": "lines",
         "opacity": 0.5,
         "type": "scatter3d",
         "x": {
          "bdata": "8Nt7uHoUFkCgBb7XVBoWQA7CHYigHhZAjbdnTOslFkCbZWdPATMWQJf6hd5JRRZA1PyG3CBZFkAAxp3G+GkWQJ7W/nEFdRZATQBBkd96FkC7vKBBK38WQDqy6gV2hhZASGDqCIyTFkBE9QiY1KUWQIH3CZaruRZArcAggIPKFkBL0YErkNUWQPr6w0pq2xZAaLcj+7XfFkDnrG2/AOcWQPVabcIW9BZA8e+LUV8GF0Au8oxPNhoXQFq7ozkOKxdA+MsE5Ro2F0A=",
          "dtype": "f8"
         },
         "y": {
          "bdata": "+M/VqMu7GkAgrZDio6oaQGHD4syLkBpAvpjOcGR6GkABBJnxv3IaQNmqxVSwexpAmBhbB5GNGkA7x1YAgZsaQPnfcxzumhpAIL0uVsaJGkBi04BArm8aQL+obOSGWRpAARQ3ZeJRGkDaumPI0loaQJgo+XqzbBpAO9f0c6N6GkD57xGQEHoaQCHNzMnoaBpAYuMetNBOGkC/uApYqTgaQAIk1dgEMRpA2soBPPU5GkCZOJfu1UsaQDznkufFWRpA+v+vAzNZGkA=",
          "dtype": "f8"
         },
         "z": {
          "bdata": "/xo/9dDGF0BmYl9AhNoXQGhOGiet3hdAk7Zo+IjRF0Ap/4iCd7sXQGJEDkMTqhdA/+T4ZzmoF0B0CVCirLcXQH1N1SMN0BdA5JT1bsDjF0DmgLBV6ecXQBLp/ibF2hdApzEfsbPEF0DgdqRxT7MXQH4Xj5Z1sRdA8jvm0OjAF0D8f2tSSdkXQGPHi5387BdAZbNGhCXxF0CQG5VVAeQXQCZktd/vzRdAX6k6oIu8F0D8SSXFsboXQHFufP8kyhdAe7IBgYXiF0A=",
          "dtype": "f8"
         }
        },
        {
         "line": {
          "width": 2
         },
         "mode": "lines",
         "opacity": 0.5,
         "type": "scatter3d",
         "x": {
          "bdata": "oIm6OwvHEECWMPDmpKwQQMM2mxyflRBALd21biaMEEAaRblGd5IQQAlb85WOoRBAvxG4WkWtEEA6KA0Db6sQQDF9eSXPmRBAJiSv0Gh/EEBUKloGY2gQQL7QdFjqXhBAqzh4MDtlEECaTrJ/UnQQQFAFd0QJgBBAyhvM7DJ+EEDCcDgPk2wQQLcXbrosUhBA5R0Z8CY7EEBOxDNCrjEQQDssNxr/NxBAKkJxaRZHEEDh+DUuzVIQQFsPi9b2UBBAUmT3+FY/EEA=",
          "dtype": "f8"
         },
         "y": {
          "bdata": "Wni6WqV6IUB9ts6cZnwhQHLTyo+0eSFAv0HSOt92IUCsidRPS3ghQGVxyVbffyFATHrWrOaLIUDaMdhKEZghQMkP3376nyFA7E3zwLuhIUDhau+zCZ8hQC7Z9l40nCFAGyH5c6CdIUDUCO56NKUhQLsR+9A7sSFAScn8bma9IUA4pwOjT8UhQFvlF+UQxyFAUAIU2F7EIUCdcBuDicEhQIq4HZj1wiFAQ6ASn4nKIUAqqR/1kNYhQLhgIZO74iFAqD4ox6TqIUA=",
          "dtype": "f8"
         },
         "z": {
          "bdata": "cthCuXCCIUAi0wrAzIMhQH93QheGfSFA95r+QVRxIUDuLsxUZmQhQJvL95JZXCFAnL6zgO9bIUCBMuuacGEhQOc1Ec2tZyFAlzDZ0wlpIUD01BArw2IhQGz4zFWRViFAY4yaaKNJIUAQKcamlkEhQBAcgpQsQSFA9o+5rq1GIUBbk9/g6kwhQAyOp+dGTiFAaDLfPgBIIUDgVZtpzjshQNjpaHzgLiFAhYaUutMmIUCFeVCoaSYhQGrth8LqKyFA0PCt9CcyIUA=",
          "dtype": "f8"
         }
        },
        {
         "line": {
          "width": 2
         },
         "mode": "lines",
         "opacity": 0.5,
         "type": "scatter3d",
         "x": {
          "bdata": "AXwt3R4yGECAlKS27TcYQG811LB2NRhAOKyVkyQyGEAW0AN+4jUYQPzUpXB4RBhAc1GPQlRbGEAQ+OYrC3MYQJjxkQ2ygxhAFwoJ54CJGEAGqzjhCYcYQM8h+sO3gxhArUVornWHGECTSgqhC5YYQArH83LnrBhAp21LXJ7EGEAvZ/Y9RdUYQK5/bRcU2xhAnSCdEZ3YGEBml170StUYQES7zN4I2RhAKsBu0Z7nGEChPFijev4YQD7jr4wxFhlAxtxabtgmGUA=",
          "dtype": "f8"
         },
         "y": {
          "bdata": "7CdX+1fuI0DmvAAUK/IjQOmqnA4B7iNAPRHsiMfiI0DBmPbvjtUjQJ6cShKTzCNAc0esUpTLI0D2eVoTpdEjQEqLTee02SNARCD3/4fdI0BHDpP6XdkjQJt04nQkziNAH/zs2+vAI0D8/0D+77cjQNGqoj7xtiNAVN1Q/wG9I0Co7kPTEcUjQKKD7evkyCNApXGJ5rrEI0D519hggbkjQH1f48dIrCNAWmM36kyjI0AvDpkqTqIjQLNAR+teqCNABlI6v26wI0A=",
          "dtype": "f8"
         },
         "z": {
          "bdata": "OZWPyAmXIkBLJW5Ii4oiQLTH1gXifSJApO0uW8h2IkA4TeO2tnciQJpEKSNxfiJApCnlUVaFIkAni7Hoq4YiQAezIXn5fyJAGEMA+XpzIkCB5Wi20WYiQHELwQu4XyJABWt1Z6ZgIkBnYrvTYGciQHFHdwJGbiJA9KhDmZtvIkDU0LMp6WgiQOVgkqlqXCJATgP7ZsFPIkA/KVO8p0giQNKIBxiWSSJANIBNhFBQIkA+ZQmzNVciQMHG1UmLWCJAoe5F2thRIkA=",
          "dtype": "f8"
         }
        },
        {
         "line": {
          "width": 2
         },
         "mode": "lines",
         "opacity": 0.5,
         "type": "scatter3d",
         "x": {
          "bdata": "vxLqD6pu9D+KzcUiFnL0P3NC0//kM/Q/NlO4xpTb8z+KO3zL8J/zP901wpH4pvM/E3bWjZ3v8z9vGhOgYVL0PzjncHR5mPQ/BKJMh+Wb9D/tFlpktF30P7AnPytkBfQ/BBADMMDJ8z9XCkn2x9DzP41KXfJsGfQ/6O6ZBDF89D+yu/fYSML0P3520+u0xfQ/Z+vgyIOH9D8q/MWPMy/0P37kiZSP8/M/0d7PWpf68z8HH+RWPEP0P2LDIGkApvQ/LJB+PRjs9D8=",
          "dtype": "f8"
         },
         "y": {
          "bdata": "6sRxizQgEkBDKxxygjoSQLZUOg5IUBJAxsDwN3hZEkBjUdjbZFUSQMhbofMkSxJAE6P2VW1FEkDCp7MqS0wSQOOHP4VsYBJAPe7pa7p6EkCwFwgIgJASQL+DvjGwmRJAXBSm1ZyVEkDBHm/tXIsSQAxmxE+lhRJAu2qBJIOMEkDdSg1/pKASQDaxt2XyuhJAqdrVAbjQEkC5Rowr6NkSQFXXc8/U1RJAuuE855TLEkAGKZJJ3cUSQLQtTx67zBJA1g3beNzgEkA=",
          "dtype": "f8"
         },
         "z": {
          "bdata": "IufAfh/yGEDRXmsdOe0YQHYBZCos7hhA0ADgfzT6GEAtwlDtDxAZQJa9YfO6KBlACI4ki4w7GUDGAWTaSEMZQIGzrhEyQRlALytZsEs8GUDVzVG9Pj0ZQC/NzRJHSRlAjI4+gCJfGUD1iU+GzXcZQGdaEh6fihlAJc5RbVuSGUDgf5ykRJAZQI73RkNeixlANJo/UFGMGUCOmbulWZgZQOpaLBM1rhlAVFY9GeDGGUDGJgCxsdkZQISaPwBu4RlAP0yKN1ffGUA=",
          "dtype": "f8"
         }
        },
        {
         "line": {
          "width": 2
         },
         "mode": "lines",
         "opacity": 0.5,
         "type": "scatter3d",
         "x": {
          "bdata": "ldVHstYjFkBQ/ZzGpy0WQF1tHQ+4JRZA82KPuMoPFkBGdGkA1fcVQPNtMfn86hVATh/OveXvFUAhS3khzAIWQDdbvOa6FxZA8oIR+4shFkD/8pFDnBkWQJboA+2uAxZA6PndNLnrFUCV86Ut4d4VQPGkQvLJ4xVAw9DtVbD2FUDZ4DAbnwsWQJUIhi9wFRZAongGeIANFkA4bnghk/cVQIp/Ummd3xVAN3kaYsXSFUCTKrcmrtcVQGVWYoqU6hVAe2alT4P/FUA=",
          "dtype": "f8"
         },
         "y": {
          "bdata": "7X2vK0fMIEAPviQqdMUgQIptJsdHvSBAFjLB4/a5IEAKqVT03b4gQHrmqfWIyiBAkLRyWI3XIECWbaI7tt8gQDN02Sqn3yBAVrROKdTYIEDRY1DGp9AgQF0o6+JWzSBAUZ9+8z3SIEDB3NP06N0gQNeqnFft6iBA3WPMOhbzIEB6agMqB/MgQJ2qeCg07CBAGFp6xQfkIECkHhXituAgQJiVqPKd5SBAB9P980jxIEAeocZWTf4gQCRa9jl2BiFAwWAtKWcGIUA=",
          "dtype": "f8"
         },
         "z": {
          "bdata": "b7yKpDXlF0Dn2F/bCvoXQKSivmqzDRhA5i5RhY0bGEA/S7UcXiIYQM32um8JJRhAFfU2auEoGEDYMH/ZhzIYQITc9cs3QxhA/PjKAg1YGEC5wimStWsYQPxOvKyPeRhAVWsgRGCAGEDjFiaXC4MYQCsVopHjhhhA7lDqAIqQGECa/GDzOaEYQBIZNioPthhAz+KUubfJGEARbyfUkdcYQGqLi2ti3hhA+DaRvg3hGEBANQ255eQYQANxVSiM7hhArxzMGjz/GEA=",
          "dtype": "f8"
         }
        },
        {
         "line": {
          "width": 2
         },
         "mode": "lines",
         "opacity": 0.5,
         "type": "scatter3d",
         "x": {
          "bdata": "oZRIweLVIUBHXnmGg9chQLsjBWef4CFAT6PMBNftIUB22nvpYvkhQD2JqCx2/iFANTx6VA78IUAONRC/ivUhQFR2vuKy8CFA+j/vp1PyIUBuBXuIb/shQAKFQianCCJAKbzxCjMUIkDwah5ORhkiQOgd8HXeFiJAwRaG4FoQIkAHWDQEgwsiQKwhZckjDSJAIefwqT8WIkC1ZrhHdyMiQNudZywDLyJAokyUbxY0IkCb/2WXrjEiQHP4+wErKyJAuTmqJVMmIkA=",
          "dtype": "f8"
         },
         "y": {
          "bdata": "d2Wru+x/HEAc7WGpXoscQBpb3o7mmBxAS6IpK+qcHEB9OPhhYpEcQMKEkSpjeRxAr+pk+01fHEBpd2kVvU4cQCK16pS3TRxAxzyhgilZHEDGqh1osWYcQPbxaAS1ahxAKIg3Oy1fHEBu1NADLkccQFo6pNQYLRxAFceo7occHEDOBCpughscQHOM4Fv0JhxAcfpcQXw0HEChQajdfzgcQNTXdhT4LBxAGSQQ3fgUHEAGiuOt4/obQMAW6MdS6htAeVRpR03pG0A=",
          "dtype": "f8"
         },
         "z": {
          "bdata": "rwEPAOlNAkBIws/08h0CQKAcHbuLAQJAeXoAM+T+AUD/S1/pFw0CQFSwY5tiGQJA6Xrbex4SAkD+Qb2qGvEBQGaVI5s7vwFA/1Xkj0WPAUBXsDFW3nIBQDAOFc42cAFAtt9zhGp+AUALRHg2tYoBQKEO8BZxgwFAttXRRW1iAUAdKTg2jjABQLfp+CqYAAFAD0RG8TDkAEDooSlpieEAQG5ziB+97wBAwteM0Qf8AEBYogSyw/QAQG1p5uC/0wBA1bxM0eChAEA=",
          "dtype": "f8"
         }
        },
        {
         "line": {
          "width": 2
         },
         "mode": "lines",
         "opacity": 0.5,
         "type": "scatter3d",
         "x": {
          "bdata": "J7WxQtA2DEAiMfz2zmQMQDd3XFvShAxA5a+BknWQDEC4V+NPQ40MQNFodsl2iQxA0a/zkqWTDEA2BKyJNLIMQHfpJ/qY3wxAcWVyrpcNDUCGq9ISmy0NQDXk90k+OQ1ACIxZBww2DUAhneyAPzINQCDkaUpuPA1AhTgiQf1aDUDGHZ6xYYgNQMGZ6GVgtg1A1d9IymPWDUCEGG4BB+INQFfAz77U3g1AcNFiOAjbDUBvGOABN+UNQNRsmPjFAw5AFVIUaSoxDkA=",
          "dtype": "f8"
         },
         "y": {
          "bdata": "XnLfvwbEIkCYOSVjhcQiQKetYVS+vCJA0HLfW9avIkD9CBlY86MiQBFcOkqiniJAUAJl7pahIkB1V058rKkiQJbbexW9sCJA0KLBuDuxIkDfFv6pdKkiQAjce7GMnCJANXK1ramQIkBKxdafWIsiQIlrAURNjiJArsDq0WKWIkDPRBhrc50iQAkMXg7ynSJAGICa/yqWIkBBRRgHQ4kiQG7bUQNgfSJAgi5z9Q54IkDB1J2ZA3siQOYphycZgyJAB660wCmKIkA=",
          "dtype": "f8"
         },
         "z": {
          "bdata": "X/ef4wrcDUDbs6GLYPcNQAHzg4HwFA5Avhjw4xEdDkBbgMnHqQQOQF1P/4+s0w1AtZtUCnWgDUB1ASAYrIINQFUlfqRshQ1A0uF/TMKgDUD3IGJCUr4NQLRGzqRzxg1AUq6niAuuDUBTfd1QDn0NQKvJMsvWSQ1AbC/+2A0sDUBLU1xlzi4NQMgPXg0kSg1A7U5AA7RnDUCqdKxl1W8NQEjchUltVw1ASau7EXAmDUCh9xCMOPMMQGJd3Jlv1QxAQoE6JjDYDEA=",
          "dtype": "f8"
         }
        },
        {
         "line": {
          "width": 2
         },
         "mode": "lines",
         "opacity": 0.5,
         "type": "scatter3d",
         "x": {
          "bdata": "I2/39QUdC0C8Hd4Og+wKQMaXeMBexwpA6m+Xpmy3CkDmOB3EFboKQOgoquHcwQpAe02DZkW+CkDzE9i2e6UKQJTpxc8WegpALpis6JNJCkA4EkeabyQKQFzqZYB9FApAV7PrnSYXCkBao3i77R4KQOzHUUBWGwpAZY6mkIwCCkAFZJSpJ9cJQJ8Se8KkpglAqYwVdICBCUDNZDRajnEJQMktunc3dAlAyx1Hlf57CUBeQiAaZ3gJQNYIdWqdXwlAd95igzg0CUA=",
          "dtype": "f8"
         },
         "y": {
          "bdata": "tZoUQNW+IkDp7lxmmLkiQIQSNO6PuCJAJMQ0GZu+IkDgqW7tc8oiQJn5PSlu1yJA7Hl+AzTgIkA6bJU65uEiQGwqc8jK3SJAoH677o3YIkA7opJ2hdciQNtTk6GQ3SJAlznNdWnpIkBQiZyxY/YiQKMJ3Ysp/yJA8fvzwtsAI0AjutFQwPwiQFcOGneD9yJA8jHx/nr2IkCS4/EphvwiQE7JK/5eCCNABxn7OVkVI0BamTsUHx4jQKiLUkvRHyNA2Ukw2bUbI0A=",
          "dtype": "f8"
         },
         "z": {
          "bdata": "Ft8mTIYwIEA7+Th4Xi4gQL7C6KPIJCBA82OqiYYZIECwplvEVBMgQEWjN4/4FSBAfPB1WgogIEABZqJryCsgQP853yd2MiBAJFTxU04wIECnHaF/uCYgQNy+YmV2GyBAmQEUoEQVIEAu/u9q6BcgQGVLLjb6ISBA6sBaR7gtIEDolJcDZjQgQA2vqS8+MiBAkHhZW6goIEDFGRtBZh0gQIJczHs0FyBAF1moRtgZIEBOpuYR6iMgQNMbEyOoLyBA0e9P31U2IEA=",
          "dtype": "f8"
         }
        },
        {
         "line": {
          "width": 2
         },
         "mode": "lines",
         "opacity": 0.5,
         "type": "scatter3d",
         "x": {
          "bdata": "XL+qsCygIkDN0nGQb5QiQHpUbzcQjyJArrItykaRIkCaai3g2ZciQHgvNAcCnSJAGoYEZ8ybIkA1ABTbAJMiQJgg4svYhSJACTSpqxt6IkC2taZSvHQiQOoTZeXydiJA1stk+4V9IkC0kGsiroIiQFbnO4J4gSJAcWFL9qx4IkDUgRnnhGsiQEWV4MbHXyJA8hbebWhaIkAmdZwAn1wiQBItnBYyYyJA8PGiPVpoIkCSSHOdJGciQK3CghFZXiJAEONQAjFRIkA=",
          "dtype": "f8"
         },
         "y": {
          "bdata": "h5Iw749oIkBzck7I9G4iQHBESvdEeiJAxxrzI72DIkCHwDN1roUiQAIfAszSfiJAbYvyzAtzIkB+8zXQHGkiQCWM4a60ZiJAEWz/hxltIkAOPvu2aXgiQGQUpOPhgSJAJLrkNNODIkCgGLOL93wiQAqFo4wwcSJAG+3mj0FnIkDChZJu2WQiQK5lsEc+ayJAqzesdo52IkACDlWjBoAiQMKzlfT3gSJAPhJkSxx7IkCoflRMVW8iQLnml09mZSJAYH9DLv5iIkA=",
          "dtype": "f8"
         },
         "z": {
          "bdata": "G/YgaZaP9T9URA/sJZX1P50VU9LvuvU/s0g6iIQE9j//DMEGfWD2P1Y+ZYWssvY/neyzoKHk9j8XOV/sy/L2P1z0am+S7vY/lUJZ8iH09j/eE53Y6xn3P/RGhI6AY/c/QAsLDXm/9z+XPK+LqBH4P97q/aadQ/g/WDep8sdR+D+d8rR1jk34P9ZAo/gdU/g/HxLn3ud4+D81Rc6UfML4P4AJVRN1Hvk/2Dr5kaRw+T8f6UetmaL5P5k18/jDsPk/3fD+e4qs+T8=",
          "dtype": "f8"
         }
        },
        {
         "line": {
          "width": 2
         },
         "mode": "lines",
         "opacity": 0.5,
         "type": "scatter3d",
         "x": {
          "bdata": "zFvz7MagIUBwXg3FUJ0hQIE/5HSYlSFAuJiQPNaKIUBzox4MCoAhQASpmao5eCFAJ9BXcat0IUAkf0AgJ3QhQJ18R8escyFAQX9hnzZwIUBSYDhPfmghQIm55Ba8XSFARMRy5u9SIUDVye2EH0shQPjwq0uRRyFA9Z+U+gxHIUBunZuhkkYhQBKgtXkcQyFAI4GMKWQ7IUBa2jjxoTAhQBXlxsDVJSFApupBXwUeIUDJEQAmdxohQMbA6NTyGSFAP77ve3gZIUA=",
          "dtype": "f8"
         },
         "y": {
          "bdata": "Hd2zib4iEED3YBarvDIQQOUEsBDxRxBACF7IEc5UEEBiU/bnqFAQQI/Fk2nNPBBAqBf6prsjEECNtOFIARMQQDy1sxVJExBAFjkWN0cjEEAE3a+cezgQQCc2yJ1YRRBAgSv2czNBEECunZP1Vy0QQMjv+TJGFBBArIzh1IsDEEBbjbOh0wMQQDURFsPRExBAJLWvKAYpEEBGDsgp4zUQQKAD9v+9MRBAzXWTgeIdEEDnx/m+0AQQQJfJwsEs6A9A9MpmW7zoD0A=",
          "dtype": "f8"
         },
         "z": {
          "bdata": "EHpR2syv2D900xqR8fTZP6MRhPuMSto/iyl5IUq02T/uPegn/7/YP8xgTVOXMtg/3J4Sy7iU2D82A0yHuOLZPxRrC2PAjts/d8TUGeXT3D+nAj6EgCndP48aM6o9k9w/8i6isPKe2z/QUQfcihHbP+GPzFOsc9s/OfQFEKzB3D8YXMXrs23eP3y1jqLYst8/1vl7BjoE4D+UC+0yMXLfP/YfXDnmfd4/1ELBZH7w3T/kgIbcn1LePz3lv5ifoN8/jqY/ulOm4D8=",
          "dtype": "f8"
         }
        },
        {
         "line": {
          "width": 2
         },
         "mode": "lines",
         "opacity": 0.5,
         "type": "scatter3d",
         "x": {
          "bdata": "ICdxnd/TEkAK0Wm4TtkSQHLAsgFV7BJAEKutSX8GE0DKLjGQKx0TQEUyXYfDJxNARPA4UMQkE0AMs2IaoRoTQLjcA+b7ExNAoob8AGsZE0AKdkVKcSwTQKhgQJKbRhNAYuTD2EddE0De5+/P32cTQNyly5jgZBNApGj1Yr1aE0BQkpYuGFQTQDs8j0mHWRNAoivYko1sE0BAFtPat4YTQPqZViFknRNAdp2CGPynE0B0W17h/KQTQDweiKvZmhNA6EcpdzSUE0A=",
          "dtype": "f8"
         },
         "y": {
          "bdata": "ctoyqW66C0Dih6RW3cULQCjh87p6vgtAaxze0eizC0A/LPIup7cLQBrnVurS0gtAHvbd7s8ADEAlI8pA/DEMQJx7jEzYVAxACyn++UZgDEBRgk1e5FgMQJS9N3VSTgxAaM1L0hBSDEBDiLCNPG0MQEeXN5I5mwxATsQj5GXMDEDFHObvQe8MQDTKV52w+gxAeiOnAU7zDEC9XpEYvOgMQJFupXV67AxAbCkKMaYHDUBwOJE1ozUNQHdlfYfPZg1A7r0/k6uJDUA=",
          "dtype": "f8"
         },
         "z": {
          "bdata": "fXnYHykUIEDYauao8yAgQDX9WKMvKiBAHq6TKDMrIEBoikYVJSQgQOjCn0XmGSBAZlqUBDYTIEBX08A4vhQgQOggdQVYHiBAQxKDjiIrIECgpPWIXjQgQIlVMA5iNSBA0zHj+lMuIEBSajwrFSQgQNABMepkHSBAwnpdHu0eIEBSyBHrhiggQK65H3RRNSBACkySbo0+IED0/MzzkD8gQD7Zf+CCOCBAvRHZEEQuIEA7qc3PkycgQCwi+gMcKSBAvW+u0LUyIEA=",
          "dtype": "f8"
         }
        },
        {
         "line": {
          "width": 2
         },
         "mode": "lines",
         "opacity": 0.5,
         "type": "scatter3d",
         "x": {
          "bdata": "PTwn1/uj8D/8CemccwLxPxX4d+VYZvE/8uwk23Oq8T/unRf6K7zxP/YUdrVspvE/omsH7j+L8T+Lu3p53Y/xP1VPqNvdxvE/Ex1qoVUl8j8tC/npOonyPwoApt9VzfI/BrGY/g3f8j8NKPe5TsnyP7l+iPIhrvI/os77fb+y8j9sYingv+nyPyow66U3SPM/RB567hys8z8hEyfkN/DzPx3EGQPwAfQ/JTt4vjDs8z/RkQn3A9HzP7rhfIKh1fM/hHWq5KEM9D8=",
          "dtype": "f8"
         },
         "y": {
          "bdata": "wxw4i3DgE0DsfphKB9UTQHCkWw942xNAc8ViGR/wE0C5O6xoBQcUQDm04ADjEhRAXWmyk+YMFEADI0Dhs/gTQGSHi+lB4hNAjenrqNjWE0ARD69tSd0TQBQwtnfw8RNAW6b/xtYIFEDaHjRftBQUQP/TBfK3DhRApI2TP4X6E0AG8t5HE+QTQC9UPweq2BNAs3kCzBrfE0C2mgnWwfMTQPwQUyWoChRAfImHvYUWFECgPllQiRAUQEX45p1W/BNAp1wypuTlE0A=",
          "dtype": "f8"
         },
         "z": {
          "bdata": "HIXpUYL5G0BSrLpKJ/QbQHnbQ3v67BtAtp8a13btG0DRr0x+mvobQGFbBQj6ERxA//4FWisrHECIDbmAszwcQDPQEFyUQRxAaffhVDk8HECQJmuFDDUcQM3qQeGINRxA6PpziKxCHEB4piwSDFocQBZKLWQ9cxxAnljgisWEHEBKGzhmpokcQH9CCV9LhBxAp3GSjx59HEDkNWnrmn0cQP9Fm5K+ihxAj/FTHB6iHEAtlVRuT7scQLWjB5XXzBxAYWZfcLjRHEA=",
          "dtype": "f8"
         }
        },
        {
         "line": {
          "width": 2
         },
         "mode": "lines",
         "opacity": 0.5,
         "type": "scatter3d",
         "x": {
          "bdata": "/7xznMsZAEAmujBGnjUAQIiJjn7ySgBAfXZHYAlcAECtiOHMn20AQGqIce8nhABA7LVggy6hAEDbxfRtcsIAQI+wp8024wBAtq1kdwn/AEAYfcKvXRQBQA1qe5F0JQFAPXwV/go3AUD6e6Ugk00BQHyplLSZagFAa7kon92LAUAfpNv+oawBQEahmKh0yAFAqHD24MjdAUCdXa/C3+4BQM1vSS92AAJAim/ZUf4WAkAMncjlBDQCQPusXNBIVQJAr5cPMA12AkA=",
          "dtype": "f8"
         },
         "y": {
          "bdata": "D0XSdxFaF0Dzn/ajU0QXQOZhw8MsLhdA5coOunMkF0A+Kg2JtywXQLsJDr79QRdAKYJm/6xXF0CLU0Bq7mAXQJQuZ/wyWBdAd4mLKHVCF0BqS1hITiwXQGq0oz6VIhdAwhOiDdkqF0A/86JCH0AXQK5r+4POVRdADz3V7g9fF0AYGPyAVFYXQPxyIK2WQBdA7zTtzG8qF0DunTjDtiAXQEf9NpL6KBdAxNw3x0A+F0AyVZAI8FMXQJQmanMxXRdAnAGRBXZUF0A=",
          "dtype": "f8"
         },
         "z": {
          "bdata": "Rj6xo/zAG0AD5UGU4rkbQFM3qIB6xBtAyFvuY+nbG0A4WpTDzvMbQPkTz7yE/xtAKCI0uoj5G0AxXrnAteYbQD/A3kps0xtA/WZvO1LMG0BMudUn6tYbQMLdGwtZ7htAMtzBaj4GHEDzlfxj9BEcQCKkYWH4CxxAK+DmZyX5G0A5Qgzy2+UbQPfonOLB3htARjsDz1npG0C7X0myyAAcQCxe7xGuGBxA7BcqC2QkHEAbJo8IaB4cQCRiFA+VCxxAMsQ5mUv4G0A=",
          "dtype": "f8"
         }
        },
        {
         "line": {
          "width": 2
         },
         "mode": "lines",
         "opacity": 0.5,
         "type": "scatter3d",
         "x": {
          "bdata": "URr+btz6I0BkFDdHSPIjQATEctDQ7SNAR9VGicHsI0BWVCAGZ+wjQLm0jvej6SNAkF/6N8TiI0DEqM1IfNgjQCyEm5V/zSNAP37UbevEI0DfLRD3c8AjQCI/5K9kvyNAMb69LAq/I0CUHiweR7wjQGvJl15ntSNAnxJrbx+rI0AH7ji8IqAjQBrocZSOlyNAupetHReTI0D9qIHWB5IjQAwoW1OtkSNAb4jJROqOI0BGMzWFCogjQHp8CJbCfSNA4lfW4sVyI0A=",
          "dtype": "f8"
         },
         "y": {
          "bdata": "c3YywPCECEC8plty+I8IQJ4TwKc7uQhAobQqtJHuCEA/QvBYvxYJQJnk3IE+IAlAWkqOJ4ILCUD6ezn2suoIQP/AiSwM1whASPGy3hPiCEAqXhcUVwsJQC3/gSCtQAlAy4xHxdpoCUAlLzTuWXIJQOaU5ZOdXQlAhsaQYs48CUCLC+GYJykJQNQ7CksvNAlAtqhugHJdCUC5SdmMyJIJQFfXnjH2uglAsXmLWnXECUBy3zwAua8JQBIR6M7pjglAF1Y4BUN7CUA=",
          "dtype": "f8"
         },
         "z": {
          "bdata": "0PgoHnFp2T/YwKuYtizYP8M0mfkvRNc/qJLKGwdU1z+7LrCF6G7YP+jxagsTC9o/Mgm7qglT2z+DNseIoqLbP6UlHx8x59o/ru2hmXaq2T+YYY/678HYP3y/wBzH0dg/kFumhqjs2T++HmEM04jbPwg2savJ0Nw/WWO9iWIg3T97UhUg8WTcP4IamJo2KNs/bo6F+68/2j9S7LYdh0/aP2WInIdoats/k0tXDZMG3T/cYqesiU7ePy6Qs4oint4/UH8LIbHi3T8=",
          "dtype": "f8"
         }
        },
        {
         "line": {
          "width": 2
         },
         "mode": "lines",
         "opacity": 0.5,
         "type": "scatter3d",
         "x": {
          "bdata": "b/8D6KtYIEB+5jEuDU0gQJY0FTk4SCBACCQae/5LIED4HJPJJlUgQNNA0btQXSBApv1Z6bBeIEAfGcHfdVcgQBkrtMnYSiBAKBLiDzo/IEBAYMUaZTogQLJPylwrPiBAokhDq1NHIEB9bIGdfU8gQFApCsvdUCBAyURxwaJJIEDDVmSrBT0gQNI9kvFmMSBA6ot1/JEsIEBce3o+WDAgQEx084yAOSBAJ5gxf6pBIED6VLqsCkMgQHNwIaPPOyBAbYIUjTIvIEA=",
          "dtype": "f8"
         },
         "y": {
          "bdata": "NvoqqVdeIEBjJM+FRGAgQNxZrMG0YiBAgL4/DbxnIEBOCXav6W8gQGdDp5f0eSBANHKfIHyDIEDXceGZbIogQE6LgLw2jiBAe7UkmSOQIED06gHVk5IgQJdPlSCblyBAZprLwsifIEB/1Pyq06kgQEwD9TNbsyBA7gI3rUu6IEBmHNbPFb4gQJNGeqwCwCBADHxX6HLCIECv4OozescgQH4rIdanzyBAl2VSvrLZIEBklEpHOuMgQAaUjMAq6iBAfq0r4/TtIEA=",
          "dtype": "f8"
         },
         "z": {
          "bdata": "CVTHywJ+I0BhYAP5pncjQDeD4PdoayNAL77g6pdfI0CaJ7AhQ1ojQPMZdFytXSNAzfWWxflmI0CGuZY62W8jQMxOx2s8ciNAJVsDmeBrI0D7feCXol8jQPO44IrRUyNAXiKwwXxOI0C2FHT85lEjQJHwlmUzWyNASrSW2hJkI0CQSccLdmYjQOlVAzkaYCNAv3jgN9xTI0C3s+AqC0gjQCEdsGG2QiNAeg90nCBGI0BV65YFbU8jQA6vlnpMWCNAVETHq69aI0A=",
          "dtype": "f8"
         }
        },
        {
         "line": {
          "width": 2
         },
         "mode": "lines",
         "opacity": 0.5,
         "type": "scatter3d",
         "x": {
          "bdata": "7GDFELhhFUBvML+ZQ3UVQGx2AVw5fBVAe2apw2RxFUBgbMod/VkVQAtO6GSXQhVAPLm9csc3FUBbei3bwT4VQKMlJFFPUhVAJvUd2tplFUAjO2Cc0GwVQDIrCAT8YRVAFzEpXpRKFUDCEkelLjMVQPN9HLNeKBVAEj+MG1kvFUBa6oKR5kIVQN25fBpyVhVA2v++3GddFUDp72ZEk1IVQM71h54rOxVAedel5cUjFUCqQnvz9RgVQMkD61vwHxVAEq/h0X0zFUA=",
          "dtype": "f8"
         },
         "y": {
          "bdata": "CF9JUWkTE0B1gNZdMQ8TQF/ud3k5/hJA0BCkeoLsEkCLHO4pfeYSQLxAqafA8RJAbxhQFsQJE0CcO2yfhiITQIB1anqXLxNA7Jb3hl8rE0DXBJmiZxoTQEgnxaOwCBNAAzMPU6sCE0A0V8rQ7g0TQOcucT/yJRNAFFKNyLQ+E0D3i4ujxUsTQGStGLCNRxNATxu6y5U2E0DAPebM3iQTQHpJMHzZHhNArG3r+RwqE0BfRZJoIEITQItorvHiWhNAb6KszPNnE0A=",
          "dtype": "f8"
         },
         "z": {
          "bdata": "8laqZxYuIUBK1FT2LyUhQEEjRNNvGyFAEAJN4PwSIUAMxvfROg0hQBz3edH5CSFAjFa3gpIHIUAlJtsD3gMhQJAQXaB4/SBA540HL5L0IEDf3PYL0uogQK27/xhf4iBAqn+qCp3cIEC6sCwKXNkgQCkQarv01iBAwt+NPEDTIEAtyg/Z2swgQIRHumf0wyBAfJapRDS6IEBKdbJRwbEgQEc5XUP/qyBAV2rfQr6oIEDHyRz0VqYgQGCZQHWioiBAyoPCET2cIEA=",
          "dtype": "f8"
         }
        },
        {
         "line": {
          "width": 2
         },
         "mode": "lines",
         "opacity": 0.5,
         "type": "scatter3d",
         "x": {
          "bdata": "HGtql+m1IEBr8e0UQsEgQDOn/YlcxiBAyu59xnXEIEAURx4M5b4gQJ2G7w4nuyBArpY0Gqe9IEDwFAleKMcgQH+CvZhT1CBAzwhBFqzfIECXvlCLxuQgQC4G0cff4iBAd15xDU/dIEABnkIQkdkgQBGuhxsR3CBAUyxcX5LlIEDjmRCavfIgQDIglBcW/iBA+tWjjDADIUCRHSTJSQEhQNt1xA65+yBAZLWVEfv3IEB1xdoce/ogQLdDr2D8AyFARrFjmycRIUA=",
          "dtype": "f8"
         },
         "y": {
          "bdata": "XArX5grJ+T/+YkBOx/H5P+RmjorZF/o/L2aLDiMT+j/E+XBBldT5P0OqW3cDb/k/f69h2BsM+T9Vubjx/NP4P+EuJ1y11fg/hIeQw3H++D9qi97/gyT5P7WK24PNH/k/Sh7Btj/h+D/JzqvsrXv4PwTUsU3GGPg/290IZ6fg9z9nU3fRX+L3Pwqs4DgcC/g/768udS4x+D86ryv5dyz4P9BCESzq7fc/TvP7YViI9z+K+AHDcCX3P2ACWdxR7fY/7XfHRgrv9j8=",
          "dtype": "f8"
         },
         "z": {
          "bdata": "Edcg9MjqIUAZkx+D1eUhQNktjFtp2iFAe9K/1yzNIUD03idW2MMhQEMYk2rawSFA2XKQNVXGIUCNw8ZcoMwhQGqsyIEDzyFAcmjHEBDKIUAyAzTpo74hQNWnZ2VnsSFATbTP4xKoIUCc7Tr4FKYhQDJIOMOPqiFA5phu6tqwIUDEgXAPPrMhQMs9b55KriFAi9jbdt6iIUAufQ/zoZUhQKaJd3FNjCFA9cLihU+KIUCLHeBQyo4hQD9uFngVlSFAHVcYnXiXIUA=",
          "dtype": "f8"
         }
        },
        {
         "line": {
          "width": 2
         },
         "mode": "lines",
         "opacity": 0.5,
         "type": "scatter3d",
         "x": {
          "bdata": "eal3KAE49j++g2aBmPn1P5iDPnxclPU/MGjrsxM99T/yiM/HWCD1P6fY9Ht5SPU/xwIxjm2X9T8oSJhjbtj1P2BRyFzh3vU/pSu3tXig9T9+K4+wPDv1PxcQPOjz4/Q/2TAg/DjH9D+OgEWwWe/0P66qgcJNPvU/D/Dol05/9T9G+RiRwYX1P4vTB+pYR/U/ZdPf5Bzi9D/9t4wc1Ir0P8DYcDAZbvQ/dCiW5DmW9D+UUtL2LeX0P/aXOcwuJvU/LaFpxaEs9T8=",
          "dtype": "f8"
         },
         "y": {
          "bdata": "BbHraJtO9D8La1/KZ470P1pfQ5jAsPQ/6I975uG89D8kRMhxC8f0P19+pA+k5PQ/UX4QQbAf9T8EQijy83D1PwmCK2YvxPU/Djyfx/sD9j9dMIOVVCb2P+tgu+N1MvY/KBUIb5889j9jT+QMOFr2P1VPUD5ElfY/BxNo74fm9j8MU2tjwzn3PxIN38SPefc/YQHDkuib9z/vMfvgCaj3PyvmR2wzsvc/ZiAkCszP9z9YIJA72Ar4Pwvkp+wbXPg/ECSrYFev+D8=",
          "dtype": "f8"
         },
         "z": {
          "bdata": "rHTynNwyHUDW8Gytp0EdQHHzWj80Qx1APEDV1/4zHUBRjjf+VBodQN/DNg2kAh1A/HLCmjH4HEDo18Ehgf4cQIs72RpFDx1AtbdTKxAeHUBPukG9nB8dQBsHvFVnEB1AMFUefL32HEC9ih2LDN8cQNs5qRia1BxAx56on+naHEBqAsCYrescQJR+Oql4+hxALoEoOwX8HED6zaLTz+wcQA4cBfol0xxAnFEECXW7HEC5AJCWArEcQKZljx1StxxASMmmFhbIHEA=",
          "dtype": "f8"
         }
        },
        {
         "line": {
          "width": 2
         },
         "mode": "lines",
         "opacity": 0.5,
         "type": "scatter3d",
         "x": {
          "bdata": "vW5WA3JuDEB2WS753XkMQHCuC3u1ZQxAFEIkNQY3DEAvTx7GZwIMQII5+LPr3wtAlLnMFQTdC0D8+mU/o/QLQOzCHZIxEgxApa31h50dDECfAtMJdQkMQEOW68PF2gtAXqPlVCemC0Cxjb9Cq4MLQMMNlKTDgAtAK08tzmKYC0AbF+Ug8bULQNQBvRZdwQtAzlaamDStC0By6rJShX4LQI33rOPmSQtA4OGG0WonC0DyYVszgyQLQFqj9FwiPAtASmusr7BZC0A=",
          "dtype": "f8"
         },
         "y": {
          "bdata": "phflZXt8IUCJiu2YFHkhQASiCZIVciFAdpfGh3NtIUB4xBBMwW8hQLdLenKBeSFAXi7Q0tmGIUAPM4U21ZEhQC8ArcvglSFAEnO1/nmSIUCNitH3eoshQP5/ju3YhiFAAa3YsSaJIUBANELY5pIhQOcWmDg/oCFAmBtNnDqrIUC46HQxRq8hQJtbfWTfqyFAFnOZXeCkIUCHaFZTPqAhQImVoBeMoiFAyRwKPkysIUBw/1+epLkhQCEEFQKgxCFAQdE8l6vIIUA=",
          "dtype": "f8"
         },
         "z": {
          "bdata": "W0Am0y61G0Bcu6XR7ZsbQICqcN1zhxtAg360tS5+G0Dl/sCY+38bQK9zLaA7hhtAVnROmrSHG0AekPbH+H0bQIf/1eoqaRtAiHpV6elPG0CsaSD1bzsbQK89ZM0qMhtAEb5wsPczG0DbMt23NzobQIIz/rGwOxtASk+m3/QxG0CzvoUCJx0bQLQ5BQHmAxtA2CjQDGzvGkDb/BPlJuYaQD19IMjz5xpAB/KMzzPuGkCu8q3JrO8aQHYOVvfw5RpA3301GiPRGkA=",
          "dtype": "f8"
         }
        },
        {
         "line": {
          "width": 2
         },
         "mode": "lines",
         "opacity": 0.5,
         "type": "scatter3d",
         "x": {
          "bdata": "ikHSOu9XH0BYne48WU4fQJPslsMaNx9AC4sRDWYdH0CnOB6H3g0fQBKRxokxDx9AEfbiBy0eH0DSCy3Dni8fQHAS5U3jNh9APm4BUE0tH0B4vanWDhYfQPBbJCBa/B5AjAkxmtLsHkD3YdmcJe4eQPbG9Roh/R5At9w/1pIOH0BV4/dg1xUfQCM/FGNBDB9AXY686QL1HkDVLDczTtseQHHaQ63Gyx5A3DLsrxnNHkDblwguFdweQJytUumG7R5AOrQKdMv0HkA=",
          "dtype": "f8"
         },
         "y": {
          "bdata": "OOX+BwYFBkDR2fAFLAkGQAt7lxa0CwZAhz1mk4QYBkDtHT7MfTUGQGeGzNIIXwZAQUKmxjGKBkDY3FdOEqsGQIZZABrKuwZAH07yF/C/BkBZ75goeMIGQNWxZ6VIzwZAO5I/3kHsBkC1+s3kzBUHQI+2p9j1QAdAJlFZYNZhB0DUzQEsjnIHQG3C8ym0dgdAp2OaOjx5B0AjJmm3DIYHQIkGQfAFowdAA2/P9pDMB0DdKqnqufcHQHTFWnKaGAhAIkIDPlIpCEA=",
          "dtype": "f8"
         },
         "z": {
          "bdata": "L6f3E5DwIkAqghS1G+QiQHKjL4p/3SJAgnywJ2zfIkDwSxBRkuciQIjRc0/97yJA1BDZGZDyIkBWmNgbmuwiQHwp+ZFq4CJAdwQWM/bTIkC/JTEIWs0iQND+saVGzyJAPc4Rz2zXIkDWU3XN198iQCGT2pdq4iJApBramXTcIkDKq/oPRdAiQMSGF7HQwyJADKgyhjS9IkAdgbMjIb8iQIpQE01HxyJAI9Z2S7LPIkBuFdwVRdIiQPGc2xdPzCJAFy78jR/AIkA=",
          "dtype": "f8"
         }
        },
        {
         "line": {
          "width": 2
         },
         "mode": "lines",
         "opacity": 0.5,
         "type": "scatter3d",
         "x": {
          "bdata": "o+YYn9aMH0CKtCMg+pYfQB0D6R2Crh9AilujwRPIH0DEB3yhItcfQBrpU4pK1R9Axklx9g3GH0CWoJm8x7QfQJqjo0YErh9AgXGuxye4H0AUwHPFr88fQIAYLmlB6R9Au8QGSVD4H0ARpt4xePYfQLwG/J075x9AjV0kZPXVH0CRYC7uMc8fQHguOW9V2R9ACn3+bN3wH0C8alyINwUgQNnASPi+DCBAhLG07NILIEDaYcOiNAQgQIQarwsj9x9Ahx25lV/wH0A=",
          "dtype": "f8"
         },
         "y": {
          "bdata": "blQPAiu1B0CsCtCgs4QHQBijcj7fawdABTG2g0p2B0Bb3Rcq7JoHQFgVrhFgwQdAJmti+jDQB0B0y3U7wrsHQFkNaxsdjQdAl8MruqVcB0ADXM5X0UMHQPDpEZ08TgdARpZzQ95yB0BCzgkrUpkHQBEkvhMjqAdAX4TRVLSTB0BDxsY0D2UHQIJ8h9OXNAdA7hQqccMbB0Daom22LiYHQDFPz1zQSgdALYdlRERxB0D83BktFYAHQEo9LW6mawdALn8iTgE9B0A=",
          "dtype": "f8"
         },
         "z": {
          "bdata": "fUmoZaEuHkCO3sGeeCkeQFqyALKAJh5AVjlBDIYgHkDZvPaUGBQeQMvVhDqPAR5AALDtBdXsHUAH11SKHdsdQIYBR+DYzx1AlpZgGbDKHUBjap8suMcdQF7x34a9wR1A4nSVD1C1HUDTjSO1xqIdQAlojIAMjh1AEI/zBFV8HUCOueVaEHEdQJ9O/5Pnax1AbCI+p+9oHUBnqX4B9WIdQOssNIqHVh1A3EXCL/5DHUASICv7Qy8dQBlHkn+MHR1Al3GE1UcSHUA=",
          "dtype": "f8"
         }
        },
        {
         "line": {
          "width": 2
         },
         "mode": "lines",
         "opacity": 0.5,
         "type": "scatter3d",
         "x": {
          "bdata": "bs9XLUYZAUDwEF8YCjoBQIJiq4LIOQFAJgSQcBkYAUCqplXCKegAQGvRpaZ/xQBAG+ywC9vDAEC5tiPto+MAQHiAtWqtEQFA+cG8VXEyAUCLEwnALzIBQDC17a2AEAFAs1ez/5DgAEB0ggPk5r0AQCWdDklCvABAwmeBKgvcAECBMROoFAoBQANzGpPYKgFAlcRm/ZYqAUA6Zkvr5wgBQL0IET342ABAfjNhIU62AEAuTmyGqbQAQMwY32dy1ABAi+Jw5XsCAUA=",
          "dtype": "f8"
         },
         "y": {
          "bdata": "gSCMRxDOHkBf0HauPc8eQHqaVFaw1R5Au3CCVxvYHkAT/yIejs8eQLIxDhyFux5AFUoG2TaiHkBRVq488IweQHaq49qhgh5AVVrOQc+DHkBvJKzpQYoeQLD62eqsjB5ACYl6sR+EHkCou2WvFnAeQAvUXWzIVh5AR+AF0IFBHkBsNDtuMzceQEvkJdVgOB5AZa4DfdM+HkCmhDF+PkEeQP4S0kSxOB5AnUW9QqgkHkAAXrX/WQseQD1qXWMT9h1AYr6SAcXrHUA=",
          "dtype": "f8"
         },
         "z": {
          "bdata": "5vpHPcFFG0Ctouj15FobQHesUFzgdBtAgKWAVIuJG0BsqXGu2pEbQHjSfW4AjhtAgZnCgE6FG0BKcT8B7YEbQDE++x/nihtA9+Wb2AqgG0DB7wM/BrobQMvoMzexzhtAtuwkkQDXG0DCFTFRJtMbQMvcdWN0yhtAlLTy4xLHG0B7ga4CDdAbQEEpT7sw5RtACzO3ISz/G0AVLOcZ1xMcQAAw2HMmHBxADFnkM0wYHEAVIClGmg8cQN73pcY4DBxAxcRh5TIVHEA=",
          "dtype": "f8"
         }
        },
        {
         "line": {
          "width": 2
         },
         "mode": "lines",
         "opacity": 0.5,
         "type": "scatter3d",
         "x": {
          "bdata": "HtR+r+OPAkD8pLTiVsECQE/QJBqY9AJAlDcQSvgSA0BQnGtyAxIDQJ+/aS+g+QJAeIgt6G7fAkBgFXaoHtoCQNCkTnAj9AJArnWEo5YlA0ABofTa11gDQEYI4Ao4dwNAAm07M0N2A0BRkDnw310DQCtZ/aiuQwNAEuZFaV4+A0CDdR4xY1gDQGFGVGTWiQNAtHHEmxe9A0D52K/Ld9sDQLU9C/SC2gNABGEJsR/CA0DdKc1p7qcDQMW2FSqeogNANUbu8aK8A0A=",
          "dtype": "f8"
         },
         "y": {
          "bdata": "hTMkK3+SHED+h3y2G4ocQOxKB0TgjxxARACP3T+cHEBHXT31zqMcQDCXp/nznRxApGLf+/CJHECuOxryUm8cQA1tLmqFWRxAhsGG9SFRHEB0hBGD5lYcQMw5mRxGYxxAz5ZHNNVqHEC40LE4+mQcQCyc6Tr3UBxANnUkMVk2HECVpjipiyAcQA77kDQoGBxA/L0bwuwdHEBUc6NbTCocQFfQUXPbMRxAQAq8dwAsHEC01fN5/RccQL6uLnBf/RtAHeBC6JHnG0A=",
          "dtype": "f8"
         },
         "z": {
          "bdata": "UluZpLvN/D+jj6OdFLb8P0kK3Km4yvw/Bjp8qbMT/T+mt0iQaHr9P6te3IrQ1v0/W79Bcu0G/j/0aj9mswL+P6rIEHO/4P0/+/wabBjJ/T+hd1N4vN39P16n83e3Jv4//iTAXmyN/j8DzFNZ1On+P7MsuUDxGf8/TNi2NLcV/z8CNohBw/P+P1Nqkjoc3P4/+eTKRsDw/j+2FGtGuzn/P1aSNy1woP8/WznLJ9j8/z8FTZiHehYAQNIil4FdFABArdH/h2MDAEA=",
          "dtype": "f8"
         }
        },
        {
         "line": {
          "width": 2
         },
         "mode": "lines",
         "opacity": 0.5,
         "type": "scatter3d",
         "x": {
          "bdata": "tD/RkfzaFUAr1qgGz98VQBpSenL50hVAQXTYWRu8FUDyMZ3btKgVQB2sfSQ+pBVA0EBkdm+xFUBML75MqcgVQD6CsYhr3BVAtRiJ/T3hFUCklFppaNQVQMq2uFCKvRVAe3R90iOqFUCn7l0braUVQFqDRG3eshVA1nGeQxjKFUDHxJF/2t0VQD9bafSs4hVALtc6YNfVFUBU+ZhH+b4VQAW3XcmSqxVAMDE+EhynFUDkxSRkTbQVQGC0fjqHyxVAUQdydknfFUA=",
          "dtype": "f8"
         },
         "y": {
          "bdata": "CfMuy+Z2GEDOQ9lO0FwYQO2ot1tbRRhAcfYqisk5GEBV0pXSZTwYQDzshbYsRxhAyfFBEVJPGEDxDmlKlEsYQLqdmGmoORhAf+5C7ZEfGECeUyH6HAgYQCKhlCiL/BdABn3/cCf/F0Dtlu9U7gkYQHqcq68TEhhAornS6FUOGEBrSAIIavwXQDCZrItT4hdAT/6KmN7KF0DTS/7GTL8XQLcnaQ/pwRdAnkFZ86/MF0AqRxVO1dQXQFNkPIcX0RdAHPNrpiu/F0A=",
          "dtype": "f8"
         },
         "z": {
          "bdata": "8Npubn3WIUCnehD0stQhQM+oRlAL1CFAVLY8xunXIUBjwNAyC+EhQEVKd2oX7SFAtUWJywD4IUDJYdsSZP4hQFKBj2OE/yFACSEx6bn9IUAxT2dFEv0hQLZcXbvwACJAxWbxJxIKIkCn8JdfHhYiQBfsqcAHISJAKwj8B2snIkC0J7BYiygiQGvHUd7AJiJAk/WHOhkmIkAYA36w9ykiQCcNEh0ZMyJACZe4VCU/IkB5ksq1DkoiQI2uHP1xUCJAFs7QTZJRIkA=",
          "dtype": "f8"
         }
        },
        {
         "line": {
          "width": 2
         },
         "mode": "lines",
         "opacity": 0.5,
         "type": "scatter3d",
         "x": {
          "bdata": "ovf9EEZl7z+kbd6VWhPwPwFAvpWyVvA/6QtvO1Fs8D9btG2QpV7wP9yNH8zKTPA/0gZRlU9Y8D8+hrG4jZHwPx8pxCwW7vA/8pojus1O8T9PbQO6JZLxPzc5tF/Ep/E/quGytBia8T8qu2TwPYjxPyE0lrnCk/E/jLP23ADN8T9tVglRiSnyP0HIaN5AivI/nppI3pjN8j+FZvmDN+PyP/gO+NiL1fI/eOipFLHD8j9vYdvdNc/yP9rgOwF0CPM/vINOdfxk8z8=",
          "dtype": "f8"
         },
         "y": {
          "bdata": "cp5zBnirG0By+wzyVawbQDb9QYyhvRtAu39YmdXXG0C2vHYCNe4bQFsJ6iJB9htAPLHBlN/tG0Bb2LeTldwbQARFpjYgzxtABKI/Iv7PG0DHo3S8SeEbQEwmi8l9+xtASGOpMt0RHEDsrxxT6RkcQM1X9MSHERxA7H7qwz0AHECV69hmyPIbQJVIclKm8xtAWEqn7PEEHEDezL35JR8cQNkJ3GKFNRxAfVZPg5E9HEBe/ib1LzUcQH0lHfTlIxxAJpILl3AWHEA=",
          "dtype": "f8"
         },
         "z": {
          "bdata": "ZrkR48vHHkD5divRVrweQOq9QYPCsB5Ak2SoStmvHkAz89OjJb4eQAYAYj5J1x5Ae4PzFIzwHkA4pzTWI/8eQP7isAWG/h5AkaDK8xDzHkCB5+ClfOceQCuOR22T5h5Ayhxzxt/0HkCeKQFhAw4fQBOtkjdGJx9Az9DT+N01H0CVDFAoQDUfQCjKaRbLKR9AGRGAyDYeH0DCt+aPTR0fQGJGEumZKx9ANVOgg71EH0Cq1jFaAF4fQGb6chuYbB9ALTbvSvprH0A=",
          "dtype": "f8"
         }
        },
        {
         "line": {
          "width": 2
         },
         "mode": "lines",
         "opacity": 0.5,
         "type": "scatter3d",
         "x": {
          "bdata": "/Ti8E2cT8j8zxUtzRx3yP6KYjbTS6PE/OS44MNWF8T/45ReWXR/xP7cgUvyD4vA/PxTagP/j8D+fRfnKAxTxP9ZU4yqCR/E/DeFyimJR8T98tLTL7RzxPxJKX0fwufA/0QE/rXhT8D+RPHkTnxbwPxgwAZgaGPA/eGEg4h5I8D+wcApCnXvwP+b8maF9hfA/VdDb4ghR8D/Yywy9FtzvP1U7zIgnD+8/1LBAVXSV7j/kl1Bea5juP6P6jvJz+O4/EhljsnBf7z8=",
          "dtype": "f8"
         },
         "y": {
          "bdata": "6CMCETjqI0CfqVeXxt4jQPthvXVM1yNAw/bKECbVI0C/vUrxkNYjQI2Lp6Sz1yNAtib0/97UI0Bz5ZietswjQP1xy/f8wCNAtPcgfou1I0AQsIZcEa4jQNdElPfqqyNA0wsU2FWtI0Ch2XCLeK4jQMp0veajqyNAiDNihXujI0ARwJTewZcjQMhF6mRQjCNAJP5PQ9aEI0Dskl3er4IjQOdZ3b4ahCNAtic6cj2FI0DfwobNaIIjQJyBK2xAeiNAJg5exYZuI0A=",
          "dtype": "f8"
         },
         "z": {
          "bdata": "2c6RN89rFkAcIKukJF4WQCWfr6Q5TBZA1DcUZPdCFkB4YeWENEoWQL+HbakdYBZAQIAKO0d6FkAaX0cNyIsWQP+sF37JjBZAQv4w6x5/FkBLfTXrM20WQPoVmqrxYxZAnj9ryy5rFkDkZfPvF4EWQGVekIFBmxZAQD3NU8KsFkAli53Ew60WQGjctjEZoBZAcFu7MS6OFkAf9B/x64QWQMQd8REpjBZACkR5NhKiFkCLPBbIO7wWQGYbU5q8zRZAS2kjC77OFkA=",
          "dtype": "f8"
         }
        },
        {
         "line": {
          "width": 2
         },
         "mode": "lines",
         "opacity": 0.5,
         "type": "scatter3d",
         "x": {
          "bdata": "ZNjXZcSI/T+GvHYe5XT9P3sAGTn9KP0/Ec0ifuTU/D9W6wgCP638P2HZeQqnzPw/mmfnsBck/T8wbe0suYP9PxkhF2rntv0/OwW2Igij/T8wSVg9IFf9P8YVYoIHA/0/CzRIBmLb/D8WIrkOyvr8P06wJrU6Uv0/5bUsMdyx/T/OaVZuCuX9P/BN9SYr0f0/5ZGXQUOF/T97XqGGKjH9P8B8hwqFCf0/y2r4Eu0o/T8D+WW5XYD9P5r+azX/3/0/g7KVci0T/j8=",
          "dtype": "f8"
         },
         "y": {
          "bdata": "z6xj2zPRHEDz2ocLe80cQJmREX3+wxxAKoxTB2yzHEBm3v4QmJ4cQHPJ+jfVihxA/yuRHdZ8HECgSm/q7HUcQJUR5DdFcxxAuT8IaIxvHEBf9pHZD2YcQPDw02N9VRxALEN/balAHEA5LnuU5iwcQMWQEXrnHhxAZq/vRv4XHEBbdmSUVhUcQH+kiMSdERxAJVsSNiEIHEC2VVTAjvcbQPKn/8m64htA/5L78PfOG0CL9ZHW+MAbQCwUcKMPuhtAIdvk8Ge3G0A=",
          "dtype": "f8"
         },
         "z": {
          "bdata": "R4WOlcGp5z/p03YkFXroPzWzMfOx/Og/rhdR7f376D/IpPJGS4/oP0Z3FzkvDeg/Grlp68nY5z/AdVdytSfoP8YJw5mf4ug/aFirKPOy6T+0N2b3jzXqPy2chfHbNOo/RyknSynI6T/E+0s9DUbpP5g9nu+nEek/P/qLdpNg6T9EjvedfRvqP+fc3yzR6+o/Mrya+21u6z+sILr1uW3rP8atW08HAes/RICAQet+6j8XwtLzhUrqP75+wHpxmeo/wxIsoltU6z8=",
          "dtype": "f8"
         }
        },
        {
         "line": {
          "width": 2
         },
         "mode": "lines",
         "opacity": 0.5,
         "type": "scatter3d",
         "x": {
          "bdata": "XQOrU+CGEUBbjATM3o4RQNBBakjykxFAv9qQtESaEUCUgwcoRaURQEYCafCktRFAglS+tO/IEUBEw1KJ+9oRQCAil1ZZ6BFAHqvwzlfwEUCTYFZLa/URQIL5fLe9+xFAV6LzKr4GEkAJIVXzHRcSQEVzqrdoKhJAB+I+jHQ8EkDiQINZ0kkSQOHJ3NHQURJAVn9CTuRWEkBFGGm6Nl0SQBrB3y03aBJAzD9B9pZ4EkAIkpa64YsSQMkAK4/tnRJApV9vXEurEkA=",
          "dtype": "f8"
         },
         "y": {
          "bdata": "CNe04aIDI0Dn4XJqBAcjQAQxFUfVESNA9DuCeMceI0D7egiNTScjQA6wHUBxJyNA46BOnyUgI0Dl1bSpuBYjQNDWAdG3ESNAruG/WRkVI0DMMGI26h8jQLs7z2fcLCNAwnpVfGI1I0DWr2ovhjUjQKqgm446LiNArNUBmc0kI0CX1k7AzB8jQHbhDEkuIyNAkzCvJf8tI0CDOxxX8TojQIp6omt3QyNAnq+3HptDI0ByoOh9TzwjQHTVTojiMiNAX9abr+EtI0A=",
          "dtype": "f8"
         },
         "z": {
          "bdata": "+rpEq1V4I0BmdO0CBGwjQHxWxL2MZCNAs+0utM1lI0CHYv0hiW4jQMScFMsfeSNAWK79ENx+I0DKClMb4HsjQJ+JRK5pcSNAC0PtBRhlI0AhJcTAoF0jQFi8LrfhXiNALDH9JJ1nI0BqaxTOM3IjQP18/RPwdyNAb9lSHvR0I0BEWESxfWojQLAR7QgsXiNAxvPDw7RWI0D+ii669VcjQNL//CexYCNADzoU0UdrI0CiS/0WBHEjQBSoUiEIbiNA6iZEtJFjI0A=",
          "dtype": "f8"
         }
        },
        {
         "line": {
          "width": 2
         },
         "mode": "lines",
         "opacity": 0.5,
         "type": "scatter3d",
         "x": {
          "bdata": "SvL9k+RzDkCI+xs24oEOQGnHsrNHrQ5A+lCXWcrfDkCUhm6l9P4OQGy/HBqm+w5AojVSs+/aDkAo7jkkHLMOQKT6Lu+gng5A4gNNkZ6sDkDEz+MOBNgOQFRZyLSGCg9A7o6fALEpD0DHx011YiYPQPw9gw6sBQ9AgvZqf9jdDkD/AmBKXckOQD0Mfuxa1w5AHtgUasACD0CvYfkPQzUPQEmX0FttVA9AItB+0B5RD0BXRrRpaDAPQN3+m9qUCA9AWguRpRn0DkA=",
          "dtype": "f8"
         },
         "y": {
          "bdata": "o+vb0pryEUAgIQsmrdkRQJ8yaCcQyxFAiryOV+DNEUBeHzbqBN8RQB9VOy8A8xFA364Sxqr8EUAykCAu6PQRQJ2YrTPR3hFAGs7chuPFEUCZ3zmIRrcRQIRpYLgWuhFAWMwHSzvLEUAaAg2QNt8RQNlb5Cbh6BFALT3yjh7hEUCXRX+UB8sRQBR7rucZshFAk4wL6XyjEUB+FjIZTaYRQFJ52atxtxFAFK/e8GzLEUDTCLaHF9URQCfqw+9UzRFAkfJQ9T23EUA=",
          "dtype": "f8"
         },
         "z": {
          "bdata": "dEsIWi3kHkBIX/t+X90eQLJiH6Kw1x5AJZ5Ww0TPHkCMGYiG2sEeQJBdQmkdsB5AALLLTUGdHkBmzkE0Io0eQNiqvXgBgh5ArL6wnTN7HkAWwtTAhHUeQIn9C+IYbR5A8Hg9pa5fHkD0vPeH8U0eQGQRgWwVOx5Ayi33UvYqHkA8CnOX1R8eQBAeZrwHGR5AeiGK31gTHkDtXMEA7QoeQFTY8sOC/R1AWBytpsXrHUDIcDaL6dgdQC6NrHHKyB1AoGkotqm9HUA=",
          "dtype": "f8"
         }
        },
        {
         "line": {
          "width": 2
         },
         "mode": "lines",
         "opacity": 0.5,
         "type": "scatter3d",
         "x": {
          "bdata": "p+ofFvIP+D+uyOxxqLf3P9SoQpTcUfc/TlYpev4S9z+JEHdRsBj3PytcVJdqWPc/rqWoFqel9z/bIWzS9cv3P0mRyJy0rfc/T2+V+GpV9z91T+san+/2P/D80QDBsPY/K7cf2HK29j/MAv0dLfb2P09MUZ1pQ/c/fcgUWbhp9z/qN3Ejd0v3P/EVPn8t8/Y/FvaToWGN9j+Ro3qHg072P8xdyF41VPY/bqmlpO+T9j/w8vkjLOH2Px5vvd96B/c/i94Zqjnp9j8=",
          "dtype": "f8"
         },
         "y": {
          "bdata": "9KLLwwLeHkD+l25uq90eQNFcb15j1R5Ar0fE/KzDHkDKj+D4kKweQOtm1llBlx5ARG5udeKJHkCST7Li8YUeQKPTLvJmhx5ArsjRnA+HHkCAjdKMx34eQF94JysRbR5AecBDJ/VVHkCblzmIpUAeQPSe0aNGMx5AQYAVEVYvHkBSBJIgyzAeQF35NMtzMB5AML41uysoHkAOqYpZdRYeQCnxplVZ/x1ASsictgnqHUCjzzTSqtwdQPCweD+62B1AAjX1Ti/aHUA=",
          "dtype": "f8"
         },
         "z": {
          "bdata": "XEdR+O+zAEAcpUc4OtIAQHugaRvv0ABA1QZLJfa3AEDgCl/MFZ0AQAsVJAgylwBAloG9oOOwAEAmg5cSQ+IAQAXnPueJFQFAxUQ1J9QzAUAkQFcKiTIBQH2mOBSQGQFAiapMu6/+AECztBH3y/gAQD4hq499EgFAzyKFAd1DAUCthizWI3cBQG3kIhZulQFAzN9E+SKUAUAmRiYDKnsBQDFKOqpJYAFAXFT/5WVaAUDmwJh+F3QBQHfCcvB2pQFAViYaxb3YAUA=",
          "dtype": "f8"
         }
        },
        {
         "line": {
          "width": 2
         },
         "mode": "lines",
         "opacity": 0.5,
         "type": "scatter3d",
         "x": {
          "bdata": "VOQpzzWoGkB3oavroaoaQM7nD9utshpAO5nAUXC2GkB50m/mgq4aQK/WiMpXmhpAr1G/24yAGkCaYallC2saQLXplNE5YRpA2KYW7qVjGkAw7XrdsWsaQJ2eK1R0bxpA2tfa6IZnGkAQ3PPMW1MaQBBXKt6QORpA/GYUaA8kGkAX7//TPRoaQDmsgfCpHBpAkfLl37UkGkD+o5ZWeCgaQDvdReuKIBpAceFez18MGkByXJXglPIZQF1sf2oT3RlAePRq1kHTGUA=",
          "dtype": "f8"
         },
         "y": {
          "bdata": "F2af9OQJBkBU8H075DQGQNTlZIOcQgZAncT+0GEtBkBk658tAQQGQP22VhYV4QVAUhcF/m/bBUBfjgDgvfgFQG699LIxKgZAq0fT+TBVBkArPbpB6WIGQPQbVI+uTQZAukL1600kBkBTDqzUYQEGQKluWry8+wVAteVVngoZBkDFFEpxfkoGQAKfKLh9dQZAgpQPADaDBkBLc6lN+20GQBGaSqqaRAZAqmUBk64hBkAAxq96CRwGQAw9q1xXOQZAHGyfL8tqBkA=",
          "dtype": "f8"
         },
         "z": {
          "bdata": "xMB1vPFbCkAMdK/+aDwKQGihZgM5CwpAfqfRIqbaCUAS2pStmLwJQLAMy34fuAlAOsWDjU3FCUAKpYiB3tEJQF1YNQrqywlApQtvTGGsCUABOSZRMXsJQBc/kXCeSglAq3FU+5AsCUBJpIrMFygJQNNcQ9tFNQlAozxIz9ZBCUD27/RX4jsJQD2jLppZHAlAmtDlninrCECw1lC+lroIQEQJFEmJnAhA4jtKGhCYCEBs9AIpPqUIQDzUBx3PsQhAj4e0pdqrCEA=",
          "dtype": "f8"
         }
        },
        {
         "line": {
          "width": 2
         },
         "mode": "lines",
         "opacity": 0.5,
         "type": "scatter3d",
         "x": {
          "bdata": "Eu8Vq6UQA0DJWXWsAOICQCyLoKikygJAgGEB5uPOAkCfSRrE5OICQL3YPsqS8QJAMaGX1ffoAkCzxLqfwcQCQGnWJcnJkAJAIUGFyiRiAkCDcrDGyEoCQNdIEQQITwJA9zAq4ghjAkAVwE7otnECQImIp/MbaQJAC6zKveVEAkDBvTXn7RACQHkolehI4gFA21nA5OzKAUAvMCEiLM8BQE4YOgAt4wFAbadeBtvxAUDgb7cRQOkBQGKT2tsJxQFAGaVFBRKRAUA=",
          "dtype": "f8"
         },
         "y": {
          "bdata": "1H5pPmhzHkALnXYef34eQHhc1XHGih5AobS5GxuNHkDiUSnMLYAeQM0IR0SfZx5Agh4TSeBNHkB6m1n3Ez4eQFvTFJ+JPR5AkvEhf6BIHkD/sIDS51QeQCgJZXw8Vx5AaabULE9KHkBVXfKkwDEeQAlzvqkBGB5AAvAEWDUIHkDjJ8D/qgceQBlGzd/BEh5AhgUsMwkfHkCvXRDdXSEeQPD6f41wFB5A3LGdBeL7HUCQx2kKI+IdQIlEsLhW0h1AanxrYMzRHUA=",
          "dtype": "f8"
         },
         "z": {
          "bdata": "8yeem4qFDECErIUQb3cMQKjKTHb8TQxAkA9uY9EYDEAaeQwRau4LQAe0E3D03gtAX1U73tXqC0D0zwjFbwIMQOYlWetFDwxAd6pAYCoBDECcyAfGt9cLQIQNKbOMogtADnfHYCV4C0D6sc6/r2gLQFJT9i2RdAtA583DFCuMC0DaIxQ7AZkLQGuo+6/ligtAj8bCFXNhC0B3C+QCSCwLQAF1grDgAQtA7a+JD2vyCkBGUbF9TP4KQNrLfmTmFQtAzSHPirwiC0A=",
          "dtype": "f8"
         }
        },
        {
         "line": {
          "width": 2
         },
         "mode": "lines",
         "opacity": 0.5,
         "type": "scatter3d",
         "x": {
          "bdata": "khN10G2b9D+qKoK0iJz0P9+4BzF9Z/Q/W0pq1R0n9D9qZI7h3wz0PxhLC3ziM/Q/qboPfguR9D/1JjdYiPn0P60KncrjO/U/xSGqrv489T/7ry8r8wf1P3ZBks+Tx/Q/hVu221Wt9D80QjN2WNT0P8WxN3iBMfU/ER5fUv6Z9T/JAcXEWdz1P+EY0qh03fU/F6dXJWmo9T+SOLrJCWj1P6FS3tXLTfU/TzlbcM509T/gqF9y99H1PywVh0x0OvY/5Pjsvs989j8=",
          "dtype": "f8"
         },
         "y": {
          "bdata": "WDzE566WG0Bw4qqTIZQbQEJIeRTphxtAyFbjovRyG0Dn1CtBUVsbQEaAuFeeSBtA62tdmZY/G0DcrmbNSj8bQDOCkfGtQRtATCh4nSA/G0AdjkYe6DIbQKOcsKzzHRtAwxr5SlAGG0AhxoVhnfMaQMexKqOV6hpAuPQz10nqGkAPyF77rOwaQCduRacf6hpA+dMTKOfdGkB/4n228sgaQJ9gxlRPsRpA/QtTa5yeGkCi9/eslJUaQJM6AeFIlRpA6g0sBayXGkA=",
          "dtype": "f8"
         },
         "z": {
          "bdata": "thJzvjEUFEAj9+sVjPkTQOowTxfD5RNAXG+kIHThE0CIxoOoK+wTQHbCIOyo/BNACWnThUkGFEDxCpQXcAAUQB+UyiqQ6xNAi3hDgurQE0BTsqaDIb0TQMXw+4zSuBNA8UfbFIrDE0DeQ3hYB9QTQHHqKvKn3RNAWYzrg87XE0CIFSKX7sITQPT5mu5IqBNAuzP+73+UE0AtclP5MJATQFnJMoHomhNAR8XPxGWrE0Daa4JeBrUTQMINQ/AsrxNA8JZ5A02aE0A=",
          "dtype": "f8"
         }
        },
        {
         "line": {
          "width": 2
         },
         "mode": "lines",
         "opacity": 0.5,
         "type": "scatter3d",
         "x": {
          "bdata": "kbHyHZBPEEDqkbiBpFAQQIJVdOBTYBBAjAa/qZdzEED9ejJ6UH0QQCkrvf31dRBAFvhRhgBgEECR11ekdkYQQKXzNLt3NhBA/tP6How3EECWl7Z9O0cQQKBIAUd/WhBAEb10FzhkEEA9bf+a3VwQQCo6lCPoRhBApRmaQV4tEEC5NXdYXx0QQBIWPbxzHhBAqtn4GiMuEEC0ikPkZkEQQCX/trQfSxBAUa9BOMVDEEA/fNbAzy0QQLlb3N5FFBBAzXe59UYEEEA=",
          "dtype": "f8"
         },
         "y": {
          "bdata": "9k2AwDlnDkDS5hZvAG4OQPGmhHpCgw5AsdPqvO6nDkBQwdBs7NMOQKPjB1PZ+g5Ast5n3EoTD0Ahbc8uUhwPQLE6txMIHg9AjNNNws4kD0Csk7vNEDoPQGvAIRC9Xg9ACq4HwLqKD0Bd0D6mp7EPQGzLni8Zyg9A21kGgiDTD0BrJ+5m1tQPQEbAhBWd2w9AZoDyIN/wD0CTVqyxxQoQQGJNn4nEIBBAjN66/Do0EEAT3GrBc0AQQEujnmr3RBBAE4oSXdJFEEA=",
          "dtype": "f8"
         },
         "z": {
          "bdata": "x1QAgGZaIkBFCr0+Ik0iQAdkSIStQyJAzuWwKidCIkAuScitCEgiQMrjYvd0UCJAItouuhFVIkB1qB0cwFEiQDCVXaEGRyJAr0oaYMI5IkBwpKWlTTAiQDgmDkzHLiJAl4klz6g0IkAzJMAYFT0iQIwajNuxQSJA3+h6PWA+IkCa1brCpjMiQBiLd4FiJiJA2uQCx+0cIkChZmttZxsiQADKgvBIISJAnWQdOrUpIkD1Wun8US4iQEgp2F4AKyJAAxYY5EYgIkA=",
          "dtype": "f8"
         }
        },
        {
         "line": {
          "width": 2
         },
         "mode": "lines",
         "opacity": 0.5,
         "type": "scatter3d",
         "x": {
          "bdata": "qa5H+8JsI0CWnEFGKnQjQNcYjS7HgCNAcAOntlKNI0CEQr0OkJQjQO/LmQJelCNABMckWfaOI0DCU+EPoIkjQAWMofaXiSNA8XmbQf+QI0Ay9uYpnJ0jQMzgALInqiNA4B8XCmWxI0BKqfP9MrEjQGCkflTLqyNAHTE7C3WmI0BgafvxbKYjQExX9TzUrSNAjtNAJXG6I0Anvlqt/MYjQDv9cAU6ziNApoZN+QfOI0C7gdhPoMgjQHgOlQZKwyNAu0ZV7UHDI0A=",
          "dtype": "f8"
         },
         "y": {
          "bdata": "NiYJPLhx1D95q4pBVivVP2EjiGueotU/12+j9wVM1T8IBNDJmxTUPzzyO/cgbdI/yu0rAPwH0T/LFP6mt3DQPxD0vgdFutA/U3lADeNz0T878T03K+vRP7E9WcOSlNE/49GFlShd0D8rgOOFW2vNP0p3w5cRoco/S8Vn5YhyyT/Vg+mmowXKP1yO7LHfeMs/K37nBXBnzD8YFx4eP7rLP3o/d8JqS8k/4BtPHXX8xT8AEy8vKzLDPwBh03yiA8I/ih9VPr2Wwj8=",
          "dtype": "f8"
         },
         "z": {
          "bdata": "Hp4ppRb/GkBSBi9cCuwaQAtz7iQR5xpAzNvWTazuGkDt/4ix/vkaQCid/PL9/RpA3DW2IurzGkCJ0kbyQd0aQNazDYfiwhpAChwTPtavGkDDiNIG3aoaQITxui94shpAphVtk8q9GkDgsuDUycEaQJVLmgS2txpAQugq1A2hGkCPyfForoYaQMIx9x+icxpAfJ626KhuGkA9B58RRHYaQF4rUXWWgRpAmMjEtpWFGkBNYX7mgXsaQPr9DrbZZBpAR9/VSnpKGkA=",
          "dtype": "f8"
         }
        },
        {
         "line": {
          "width": 2
         },
         "mode": "lines",
         "opacity": 0.5,
         "type": "scatter3d",
         "x": {
          "bdata": "to8sEjbVI0AIHUxUKt0jQMfcz0rf4SNA+ID39/3eI0DuBOIhodQjQP6VgKNFxyNAoPS6cCm9I0DRblGHo7ojQDwJJSGZvyNAjpZEY43HI0BNVshZQswjQH767wZhySNAdH7aMAS/I0CED3myqLEjQCdus3+MpyNAV+hJlgalI0DDgh0w/KkjQBUQPXLwsSNA1M/AaKW2I0AFdOgVxLMjQPv30j9nqSNAC4lxwQucI0Ct56uO75EjQN5hQqVpjyNASfwVP1+UI0A=",
          "dtype": "f8"
         },
         "y": {
          "bdata": "i95u/PHgIEDU0uTitesgQBK+3mUO9SBAuJbWA+j6IEDoD9pyO/0gQJZpluUR/iBAT8zOu1MAIUCfQQl3FAYhQGUWOGFbDyFArgquRx8aIUDs9afKdyMhQJLOn2hRKSFAwkej16QrIUBwoV9KeywhQCgEmCC9LiFAeXnS2300IUA/TgHGxD0hQIdCd6yISCFAxS1xL+FRIUBrBmnNulchQJx/bDwOWiFAStkor+RaIUACPGGFJl0hQFOxm0DnYiFAGIbKKi5sIUA=",
          "dtype": "f8"
         },
         "z": {
          "bdata": "Pl9Qdw8GG0BOgSaINgYbQG3hPAToFhtAHwWbEUkuG0Be9Fg5lD4bQF/29JIqPhtAUrpQgTYtG0CxumTekhUbQITvGCEFBRtAlBHvMSwFG0CzcQWu3RUbQGaVY7s+LRtApIQh44k9G0Cmhr08ID0bQJlKGSssLBtA+EotiIgUG0DLf+HK+gMbQNuht9shBBtA+gHOV9MUG0CsJSxlNCwbQOsU6ox/PBtA7RaG5hU8G0Df2uHUISsbQD/b9TF+ExtAEhCqdPACG0A=",
          "dtype": "f8"
         }
        },
        {
         "line": {
          "width": 2
         },
         "mode": "lines",
         "opacity": 0.5,
         "type": "scatter3d",
         "x": {
          "bdata": "Fe9d5FXGIkDkK4teI88iQG/oEdrVzyJAQ6JQum7JIkBrr1cdGMEiQHSqbGEevSJAwSUopD/BIkDEoyuCeswiQHTOZt2k2SJAQwuUV3LiIkDOxxrTJOMiQKOBWbO93CJAyo5gFmfUIkDUiXVabdAiQCAFMZ2O1CJAI4M0e8nfIkDTrW/W8+wiQKLqnFDB9SJALacjzHP2IkACYWKsDPAiQCpuaQ+25yJAM2l+U7zjIkB/5DmW3eciQIJiPXQY8yJAMo14z0IAI0A=",
          "dtype": "f8"
         },
         "y": {
          "bdata": "fE/uSQsfF0Dj4eo1ihAXQNzaxPkAARdA4jVNv3H8FkCt4gOgcAgXQAcHYRXfIBdA0MTgslU6F0CMILJO0kgXQIIqVc/ARhdA6rxRuz84F0DitSt/tigXQOgQtEQnJBdAs71qJSYwF0AN4sealEgXQNafRzgLYhdAkvsY1IdwF0CIBbxUdm4XQPCXuED1XxdA6JCSBGxQF0Du6xrK3EsXQLmY0arbVxdAE70uIEpwF0Dceq69wIkXQJjWf1k9mBdAjuAi2iuWF0A=",
          "dtype": "f8"
         },
         "z": {
          "bdata": "L6/vm2A+EUACBcyCXTARQE23gNubGhFAwZ611IsDEUDZJxl8YfIQQIJLrIXc6hBAsxJnHRbrEEC7pKEUnuwQQB+VrV1A6BBA8uqJRD3aEEA9nT6de8QQQLGEc5ZrrRBAyQ3XPUGcEEByMWpHvJQQQKP4JN/1lBBAq4pf1n2WEEAPe2sfIJIQQOLQRwYdhBBALYP8XltuEEChajFYS1cQQLnzlP8gRhBAYhcoCZw+EECT3uKg1T4QQJtwHZhdQBBA/2Ap4f87EEA=",
          "dtype": "f8"
         }
        },
        {
         "line": {
          "width": 2
         },
         "mode": "lines",
         "opacity": 0.5,
         "type": "scatter3d",
         "x": {
          "bdata": "VqGWjfdT8z8laRMm57nzPxPxhceADvQ/+93GyOY19D8ThwwBti70P+AIFdTVEvQ/jconnksI9D9AJ2wI9Sr0P8PHqzs1fPQ/ko8o1CTi9D+AF5t1vjb1P2gE3HYkXvU/gK0hr/NW9T9NLyqCEzv1P/rwPEyJMPU/rU2BtjJT9T8w7sDpcqT1P/+1PYJiCvY/7T2wI/xe9j/VKvEkYob2P+3TNl0xf/Y/ulU/MFFj9j9nF1L6xlj2Pxp0lmRwe/Y/nRTWl7DM9j8=",
          "dtype": "f8"
         },
         "y": {
          "bdata": "66PNdtcoHEC6tML57iscQK2CARWQHRxAWvpkErUEHEBvu3mNfO4bQKL+OwZ65htAsYS05u3vG0AFYQjl3QMcQPLzqmUrFRxAwQSg6EIYHEC00t4D5AkcQGFKQgEJ8RtAdgtXfNDaG0CpThn1zdIbQLjUkdVB3BtADbHl0zHwG0D6Q4hUfwEcQMhUfdeWBBxAuyK88jf2G0Bpmh/wXN0bQH1bNGskxxtAsJ724yG/G0C/JG/ElcgbQBQBw8KF3BtAAZRlQ9PtG0A=",
          "dtype": "f8"
         },
         "z": {
          "bdata": "tb08jFRaIUDAp4aLIF4hQJiyCAoXYiFANaMiHmlhIUAZ5pcGAFohQNf3Gmu2TSFAx+hlUEJBIUDy8xigcjkhQNiscBteOCFA4pa6Gio8IUC6oTyZIEAhQFiSVq1yPyFAO9XLlQk4IUD55k76vyshQOrXmd9LHyFAFeNML3wXIUD6m6SqZxYhQASG7qkzGiFA3ZBwKCoeIUB6gYo8fB0hQF7E/yQTFiFAHNaCickJIUAMx81uVf0gQDfSgL6F9SBAHIvYOXH0IEA=",
          "dtype": "f8"
         }
        },
        {
         "line": {
          "width": 2
         },
         "mode": "lines",
         "opacity": 0.5,
         "type": "scatter3d",
         "x": {
          "bdata": "E15+ywdn8D8FQOU/7S3wPwuMtUV44O8/Tt4J9eK77z+nqVHynQ3wP+eT6fUtb/A/GdryilTV8D8qfUerFBDxP9yOeavdCPE/znDgH8PP8D/O9tUCEpLwP/AfgFrHf/A/cNpM0nOv8D+wxOTVAxHxP+IK7moqd/E/8q1Ci+qx8T+lv3SLs6rxP5eh2/+YcfE/lyfR4ucz8T+4UHs6nSHxPzgLSLJJUfE/efXftdmy8T+qO+lKABnyP7vePWvAU/I/bfBva4lM8j8=",
          "dtype": "f8"
         },
         "y": {
          "bdata": "zb8B/5k6I0BzLeCuXkUjQMLHMjXmSSNA2h0MXPJHI0D590P3EEMjQIU4hu2GQCNAaExUDTpEI0CDpJuMaE4jQJZ4hJeEWyNAPeZiR0lmI0CMgLXN0GojQKTWjvTcaCNAw7DGj/tjI0BP8QiGcWEjQDIF16UkZSNATV0eJVNvI0BgMQcwb3wjQAef5d8zhyNAVjk4ZruLI0BtjxGNx4kjQIxpSSjmhCNAGKqLHlyCI0D8vVk+D4YjQBcWob09kCNAKuqJyFmdI0A=",
          "dtype": "f8"
         },
         "z": {
          "bdata": "SlgSaNvsC0CPNShT2t4LQOL3rUoEtwtAvQi0F9iCC0B+uA+GDlcLQAzdEep2QwtAjBykQbRJC0CFDbbDR1wLQJdfcqR4ZgtA3DyIj3dYC0Av/w2HoTALQAoQFFR1/ApAy79vwqvQCkBZ5HEmFL0KQNkjBH5RwwpA0hQWAOXVCkDkZtLgFeAKQClE6MsU0gpAfAZuwz6qCkBWF3SQEnYKQBjHz/5ISgpApuvRYrE2CkAmK2S67jwKQB8cdjyCTwpAMG4yHbNZCkA=",
          "dtype": "f8"
         }
        },
        {
         "line": {
          "width": 2
         },
         "mode": "lines",
         "opacity": 0.5,
         "type": "scatter3d",
         "x": {
          "bdata": "rPzBMyolEUDtvSVZbigRQDBXQB88OxFA8EqdRZtSEUBHFJqK5mARQKcOxPjJXRFABTE3xiNLEUDn+Gcz7DMRQDHr+IHIJRFAcqxcpwwpEUC2RXdt2jsRQHU51JM5UxFAzALR2IRhEUAt/fpGaF4RQIofbhTCSxFAbOeegYo0EUC32S/QZiYRQPeak/WqKRFAOzSuu3g8EUD7Jwvi11MRQFHxBycjYhFAsusxlQZfEUAQDqViYEwRQPHV1c8oNRFAPMhmHgUnEUA=",
          "dtype": "f8"
         },
         "y": {
          "bdata": "U48IiVzuFECGqjKYlPEUQPmx+BkV+BRARf2XTQUFFUDBzdA/xxcVQEryUVFULBVAkio38Jg9FUABH0PdbUgVQEGOtQtxTRVAdKnfGqlQFUDnsKWcKVcVQDT8RNAZZBVAsMx9wtt2FUA48f7TaIsVQIEp5HKtnBVA8B3wX4KnFUAwjWKOhawVQGOojJ29rxVA1q9SHz62FUAi+/FSLsMVQJ7LKkXw1RVAJ/CrVn3qFUBvKJH1wfsVQN4cneKWBhZAHowPEZoLFkA=",
          "dtype": "f8"
         },
         "z": {
          "bdata": "7MkUfJx6AUD3a6FbXK8BQBR767Yu0wFAchsQ4qjWAUBJUSydUr0BQP0mv6yUmwFAno+UQMSKAUD/Zo8ETJoBQOeokjikxgFA8UofGGT7AUAPWmlzNh8CQG36jZ6wIgJARDCqWVoJAkD4BT1pnOcBQJluEv3L1gFA+kUNwVPmAUDihxD1qxICQOwpndRrRwJACjnnLz5rAkBo2QtbuG4CQD8PKBZiVQJA8+S6JaQzAkCUTZC50yICQPUki31bMgJA3GaOsbNeAkA=",
          "dtype": "f8"
         }
        },
        {
         "line": {
          "width": 2
         },
         "mode": "lines",
         "opacity": 0.5,
         "type": "scatter3d",
         "x": {
          "bdata": "ZywUyrpjGUCWNiQ9yVsZQKKGai7/XxlAhyUup99oGUA8joTzMWwZQDysi3b+YhlAXoRce6NNGUCmDbD4nTMZQB7NcKImHxlATdeAFTUXGUBZJ8cGaxsZQD7Gin9LJBlA9C7hy50nGUDzTOhOah4ZQBUluVMPCRlAXq4M0QnvGEDWbc16ktoYQAR43e2g0hhAEMgj39bWGED1ZudXt98YQKvPPaQJ4xhAq+1EJ9bZGEDMxRUse8QYQBVPaal1qhhAjQ4qU/6VGEA=",
          "dtype": "f8"
         },
         "y": {
          "bdata": "0I4Bs1FFFECIcpFowE8UQOkMVJpATRRAA4mlKYI7FEABLSQUIyEUQFgpmCLPCRRACG/ZtGn/E0D+0ovpQgQUQA8PEcO8ERRAyPKgeCscFEApjWOqqxkUQEIJtTntBxRAQa0zJI7tE0CYqacyOtYTQEfv6MTUyxNAPlOb+a3QE0BPjyDTJ94TQAhzsIiW6BNAaA1zuhbmE0CCicRJWNQTQIEtQzT5uRNA2Cm3QqWiE0CHb/jUP5gTQH3TqgkZnRNAjw8w45KqE0A=",
          "dtype": "f8"
         },
         "z": {
          "bdata": "9Tv+28zC/D+hQGd0cWX8P/R2b/cq/Ps/yxr4EEe0+z8FlDbzhKf7PxYrLk4Azfs/f5CGvmb++z9kiF6Yag78P+eqgKlM4/s/k6/pQfGF+z/n5fHEqhz7P76Jet7G1Po/+AK5wATI+j8ImrAbgO36P3H/CIzmHvs/V/fgZeou+z/aGQN3zAP7P4YebA9xpvo/2VR0kio9+j+w+PyrRvX5P+pxO46E6Pk/+wgz6f8N+j9jbotZZj/6P0lmYzNqT/o/zIiFREwk+j8=",
          "dtype": "f8"
         }
        },
        {
         "line": {
          "width": 2
         },
         "mode": "lines",
         "opacity": 0.5,
         "type": "scatter3d",
         "x": {
          "bdata": "D9tGDXgYIkCMhUXX2x8iQLehQ9IPLCJAjrT/b1Y2IkAYo8gjEzkiQDmYX+UTMyJArBv3dUQoIkBzqNBjYh8iQIZZnTsKHiJABAScBW4lIkAuIJoAojEiQAUzVp7oOyJAkCEfUqU+IkCwFrYTpjgiQCSaTaTWLSJA6iYnkvQkIkD+1/NpnCMiQHyC8jMAKyJApp7wLjQ3IkB9sazMekEiQAegdYA3RCJAKJUMQjg+IkCcGKTSaDMiQGKlfcCGKiJAdVZKmC4pIkA=",
          "dtype": "f8"
         },
         "y": {
          "bdata": "VvHtrcAhIkDsoQ18YCQiQLpui38fIiJAKLnZKqAZIkAYE0c6LQ0iQJjnWABiASJA4Z8MkXf6IUCJ2u95y/khQK8FtP4S/SFARrbTzLL/IUATg1HQcf0hQILNn3vy9CFAcicNi3/oIUDy+x5RtNwhQDu00uHJ1SFA4u61yh3VIUAJGnpPZdghQJ/KmR0F2yFAbZcXIcTYIUDc4WXMRNAhQMs709vRwyFASxDloQa4IUCUyJgyHLEhQDwDfBtwsCFAYy5AoLezIUA=",
          "dtype": "f8"
         },
         "z": {
          "bdata": "OXRIAuiuGEAFPtsUNpkYQIbH8mItjxhAK4UqwIORGECWArvHr5kYQLod0By9nRhAKHlgNiGWGEByoNBAJoIYQPYH6KBVaBhAwtF6s6NSGEBDW5IBm0gYQOgYyl7xShhAU5ZaZh1TGEB3sW+7KlcYQOUMANWOTxhALzRw35M7GECzm4c/wyEYQH9lGlIRDBhAAO8xoAgCGEClrGn9XgQYQBAq+gSLDBhANEUPWpgQGECioJ9z/AgYQOzHD34B9RdAcC8n3jDbF0A=",
          "dtype": "f8"
         }
        },
        {
         "line": {
          "width": 2
         },
         "mode": "lines",
         "opacity": 0.5,
         "type": "scatter3d",
         "x": {
          "bdata": "pxKgh1awH0BJFay/f7wfQIlQTUG4yR9ADLsEnL3XH0DHSwxg1eUfQDBJn1Q68x9A+g2d/4//H0DBUcJojAUgQGkJDp1HCyBAuQoUOVwRIEBaqOR5+BcgQJtdQCf7HiBA+SVECQcmIECtpI2DuSwgQBKHDFnkMiBA1lEAwqg4IEB+CUz2Yz4gQM8KUpJ4RCBAb6gi0xRLIECxXX6AF1IgQA4mgmIjWSBAwqTL3NVfIEAoh0qyAGYgQOtRPhvFayBAkwmKT4BxIEA=",
          "dtype": "f8"
         },
         "y": {
          "bdata": "D1AtGQ92EkCXFPj0D3ISQMWjqAkgXxJAFKvt7bBIEkDQdDacQDwSQAMqiCdyQRJAkRT0eZRVEkD+hsv8NW0SQP42n7XYehJAhvtpkdl2EkC0ihqm6WMSQAOSX4p6TRJAv1uoOApBEkDzEPrDO0YSQID7ZRZeWhJA7W09mf9xEkDtHRFSon8SQHXi2y2jexJAo3GMQrNoEkDyeNEmRFISQK5CGtXTRRJA4vdrYAVLEkBv4teyJ18SQNxUrzXJdhJA3ASD7muEEkA=",
          "dtype": "f8"
         },
         "z": {
          "bdata": "La1g+9NKIkBuaCiAEj8iQMjCv8BNOCJA/FOhLlo6IkCCUggC4kMiQG8/xm8tTyJAQo20IXxVIkA8pFim+VIiQOVNd8X7SCJAJgk/Sjo9IkCAY9aKdTYiQLT0t/iBOCJAOfMezAlCIkAm4Nw5VU0iQPoty+ujUyJA9ERvcCFRIkCd7o2PI0ciQN2pVRRiOyJAOATtVJ00IkBslc7CqTYiQPGTNZYxQCJA3oDzA31LIkCyzuG1y1EiQKzlhTpJTyJAVI+kWUtFIkA=",
          "dtype": "f8"
         }
        },
        {
         "line": {
          "width": 2
         },
         "mode": "lines",
         "opacity": 0.5,
         "type": "scatter3d",
         "x": {
          "bdata": "3mFT3OioGUCOaY2sv8IZQJVli1Qg1hlAzzxj3cbcGUBWtGvg49cZQIIhKxlqzxlAV5omembNGUD5N0j6HNgZQE81OQBd7hlA/zxz0DMIGkAGOXF4lBsaQEAQSQE7IhpAx4dRBFgdGkDz9BA93hQaQMhtDJ7aEhpAagsuHpEdGkC/CB8k0TMaQHAQWfSnTRpAdwxXnAhhGkCx4y4lr2caQDhbNyjMYhpAZMj2YFJaGkA5QfLBTlgaQNveE0IFYxpAMNwESEV5GkA=",
          "dtype": "f8"
         },
         "y": {
          "bdata": "4Wc0AZreFkCQys0tCdkWQOW1X5e4yBZAjKiGaeu5FkBtKZPfAbgWQEXCZ1LPxhZAeNJDiFzgFkBX24pVZvgWQP9V7H6MAxdArriFq/v9FkACpBcVq+0WQKqWPufd3hZAixdLXfTcFkBjsB/QwesWQJbA+wVPBRdAdclC01gdF0AcRKT8figXQMymPSnuIhdAIJLPkp0SF0DIhPZk0AMXQKgFA9vmARdAgZ7XTbQQF0CzrrODQSoXQJO3+lBLQhdAOjJcenFNF0A=",
          "dtype": "f8"
         },
         "z": {
          "bdata": "MyfxDRyVA0B8KZSCmZ0DQEOLIZxHjANAHfD0KrJhA0BqJJaYMS0DQFvrzrHtAwNAzlIdJnn0AkAutyUlSP4CQBpMYEUCEgNAZE4Dun8aA0ArsJDTLQkDQAUVZGKY3gJAUkkF0BeqAkBCED7p04ACQLV3jF1fcQJAFdyUXC57AkACcc986I4CQEtzcvFllwJAEtX/ChSGAkDsOdOZflsCQDludAf+JgJAKjWtILr9AUCdnPuURe4BQP0ABJQU+AFA6pU+tM4LAkA=",
          "dtype": "f8"
         }
        },
        {
         "line": {
          "width": 2
         },
         "mode": "lines",
         "opacity": 0.5,
         "type": "scatter3d",
         "x": {
          "bdata": "4qYNngly+j/1Qa4zt6n6Pxy1YuiZsfo/zmaSxFl4+j+gKKm2xhL6P/Kvbounr/k/MF8gQVN8+T/jz1bPIYr5P3YwpkdDxPk/ictG3fD7+T+wPvuR0wP6P2LwKm6Tyvk/NLJBYABl+T+GOQc14QH5P8TouOqMzvg/d1nveFvc+D8Kuj7xfBb5Px1V34YqTvk/RMiTOw1W+T/2ecMXzRz5P8g72gk6t/g/GsOf3hpU+D9YclGUxiD4PwvjhyKVLvg/nkPXmrZo+D8=",
          "dtype": "f8"
         },
         "y": {
          "bdata": "bHEur0XUBUBB9LEco/IFQIPVS2wi/QVAkkSZgB36BUCu2yUx2fcFQHAMY4EpBAZAxN6J71ckBkBLI/2YClIGQMU/Mab8fgZAmcK0E1qdBkDbo05j2acGQOsSnHfUpAZAB6ooKJCiBkDJ2mV44K4GQB2tjOYOzwZAo/H/j8H8BkAdDjSdsykHQPKQtwoRSAdANHJRWpBSB0BD4Z5ui08HQGB4Kx9HTQdAIalob5dZB0B1e4/dxXkHQPy/Aod4pwdAdtw2lGrUB0A=",
          "dtype": "f8"
         },
         "z": {
          "bdata": "lmh9qG4BG0C29gopiBIbQNfvFGm1LBtApw7JBUhDG0BVOFsUrksbQGNv9DijQxtAcDsRnoQyG0DO4YOmACUbQE19GD2pJRtAbAumvcI2G0CNBLD971AbQF0jZJqCZxtADE32qOhvG0AahI/N3WcbQCdQrDK/VhtAhPYeOztJG0ADkrPR40kbQCMgQVL9WhtARBlLkip1G0AUOP8uvYsbQMJhkT0jlBtA0ZgqYhiMG0DeZEfH+XobQDsLus91bRtAuqZOZh5uG0A=",
          "dtype": "f8"
         }
        },
        {
         "line": {
          "width": 2
         },
         "mode": "lines",
         "opacity": 0.5,
         "type": "scatter3d",
         "x": {
          "bdata": "B7mQvjMSHUCslwJlC/8cQHsp8V6F5xxAVJTdgiDTHEDmy6lXhsccQJ2Gnvc5xRxAKY4WREvHHECrvJBmO8YcQHUeK9hgvBxAGv2cfjipHEDpjot4spEcQML5d5xNfRxAVDFEcbNxHEAL7DgRZ28cQJfzsF14cRxAGSIrgGhwHEDjg8XxjWYcQIhiN5hlUxxAV/Qlkt87HEAwXxK2eiccQMKW3orgGxxAeVHTKpQZHEAFWUt3pRscQIeHxZmVGhxAUelfC7sQHEA=",
          "dtype": "f8"
         },
         "y": {
          "bdata": "lGTtQvnlFUDjGYN3pdUVQOz6wOctyxVAfxuQv7vPFUDUDOCUq+MVQCoYYStX/hVAyPc5hiYTFkDbl4F58BgWQC5nSG9YDxZAfRzeowT/FUCG/RsUjfQVQBke6+sa+RVAbQ87wQoNFkDEGrxXticWQGL6lLKFPBZAdZrcpU9CFkDHaaObtzgWQBcfOdBjKBZAIAB3QOwdFkCzIEYYeiIWQAcSlu1pNhZAXh0XhBVRFkD8/O/e5GUWQA+dN9KuaxZAYWz+xxZiFkA=",
          "dtype": "f8"
         },
         "z": {
          "bdata": "jPQy7UDWFkBy2uzJI80WQAEG0X941BZAY29POTTlFkCWLdEhyvIWQAzKCW6F8hZA2SAY4c7hFkDSOYxQsccWQPr9/JC5sBZA4OO2bZynFkBvD5sj8a4WQNF4Gd2svxZABDebxULNFkB609MR/swWQEcq4oRHvBZAQUNW9CmiFkBpB8c0MosWQE7tgBEVghZA3Rhlx2mJFkA/guOAJZoWQHNAZWm7pxZA6dydtXanFkC1M6wowJYWQK9MIJiifBZA1xCR2KplFkA=",
          "dtype": "f8"
         }
        },
        {
         "line": {
          "width": 2
         },
         "mode": "lines",
         "opacity": 0.5,
         "type": "scatter3d",
         "x": {
          "bdata": "U/auFnjDGkCHENaP0NsaQHAT3O8p6RpArpPKM9zkGkBUoV2UltIaQBeBP/82vhpAJHhCg9a0GkDd8VwjHb0aQC3e0qZb0xpAYfj5H7TrGkBK+/9/DfkaQIh77sO/9BpALomBJHriGkDxaGOPGs4aQP5fZhO6xBpAt9mAswDNGkAHxvY2P+MaQDvgHbCX+xpAJOMjEPEIG0BiYxJUowQbQAhxpbRd8hpAy1CHH/7dGkDYR4qjndQaQJDBpEPk3BpA4a0axyLzGkA=",
          "dtype": "f8"
         },
         "y": {
          "bdata": "UDKCyg0M4D92SJ+6EmXgP9DTimTTDOE/mavAeYjQ4T821p+JCm3iP9MxlYQotuI/Oxi8xYqw4j81spib+I7iP1v5y3aZlOI/gA/pZp7t4j/bmtQQX5XjP6NyCiYUWeQ/QJ3pNZb15D/e+N4wtD7lP0XfBXIWOeU/P3niR4QX5T9lwBUjJR3lP4rWMhMqduU/5WEeveod5j+tOVTSn+HmP0pkM+Ihfuc/6L8o3T/H5z9Qpk8eosHnP0pALPQPoOc/cIdfz7Cl5z8=",
          "dtype": "f8"
         },
         "z": {
          "bdata": "WHBZU6hgrr/U6pEugjKuv1gBRxZDlbG/LQorYzoUtL+K0B2cSwS0v4EadNs8U7C/jivREjIepL8mobhL/z+OvwD4qe26mS+/ABe3s9MYHT9B8YhQ3qWDv/ib1FvMzpO/brWfPxGPk78AdePzWCtzv6A1NQu5RZQ/EZ59xQ6xpj9mHH7ddCGuP+mhRQKbT64/EIpJBJdXqT9jeIFqqFmkP6frm/iFeaQ/v1fveaPbqz+SMAOP9TG0Pzay9K4Oebo/YvH0ukExvj8=",
          "dtype": "f8"
         }
        },
        {
         "line": {
          "width": 2
         },
         "mode": "lines",
         "opacity": 0.5,
         "type": "scatter3d",
         "x": {
          "bdata": "2NYFK6n5EEDoh2+NCP8QQENKPW6e8hBAjlCZWIrbEECvv4EEK8cQQD7EVltJwRBAhLfHMzHNEEDYZqoCw+MQQFetABCg9xBAaF5qcv/8EEDDIDhTlfAQQA4nlD2B2RBAL5Z86SHFEEC+mlFAQL8QQAOOwhgoyxBAWD2l57nhEEDXg/v0lvUQQOg0ZVf2+hBAQvcyOIzuEECO/Y4ieNcQQK5sd84YwxBAPnFMJTe9EECDZL39HskQQNgToMyw3xBAV1r22Y3zEEA=",
          "dtype": "f8"
         },
         "y": {
          "bdata": "X9Eq7LMJDEA9imY8e+sLQD4TrDmAzgtA2Gv8iNG0C0DRCO03j54LQEeV7/XXiQtAm1HoBuNzC0BVPtbFoVoLQLDmIyX0PQtAj59fdbsfC0CPKKVywAILQCqB9cER6QpAIx7mcM/SCkCZquguGL4KQO1m4T8jqApAp1PP/uGOCkAC/BxeNHIKQOC0WK77UwpA4T2eqwA3CkB7lu76UR0KQHQz36kPBwpA6r/hZ1jyCUA+fNp4Y9wJQPhoyDciwwlAUxEWl3SmCUA=",
          "dtype": "f8"
         },
         "z": {
          "bdata": "EmiHULKnIEAfR2D+abIgQLdDZW3NuyBA5zkLgv29IEBxdnHwUrcgQNy6eDJWqyBAvOFTs62gIEAED46OOJ0gQPL1BxCeoiBA/9TgvVWtIECW0eUsubYgQMbHi0HpuCBAUATyrz6yIEC7SPnxQaYgQJxv1HKZmyBA5JwOTiSYIEDSg4jPiZ0gQN9iYX1BqCBAdl9m7KSxIECmVQwB1bMgQDCScm8qrSBAm9Z5sS2hIEB7/VQyhZYgQMMqjw0QkyBAsREJj3WYIEA=",
          "dtype": "f8"
         }
        },
        {
         "line": {
          "width": 2
         },
         "mode": "lines",
         "opacity": 0.5,
         "type": "scatter3d",
         "x": {
          "bdata": "NwoJBDANA0AwX8U4/+gCQMIDrK8gtQJAEsWFVySMAkBWWSwCOoICQLJYbidemQJAdwiGCjDAAkB8m6q8H9wCQI5bAmz92AJAiLC+oMy0AkAaVaUX7oACQGoWf7/xVwJArqolagdOAkAKqmePK2UCQM5Zf3L9iwJA1OyjJO2nAkDmrPvTyqQCQOABuAiagAJAcaaef7tMAkDCZ3gnvyMCQAX8HtLUGQJAYvtg9/gwAkAmq3jaylcCQCw+nYy6cwJAPv70O5hwAkA=",
          "dtype": "f8"
         },
         "y": {
          "bdata": "86zI5clLIUC9BdsYmEUhQOzKrPlGQiFAJRCydUFAIUDvpEE6MD0hQITn1sdYNyFAs72sp6AuIUDXE0/snCQhQGwaZ+ikGyFANnN5G3MVIUBlOEv8IRIhQJ59UHgcECFAaBLgPAsNIUD8VHXKMwchQCsrS6p7/iBAUIHt7nf0IEDlhwXrf+sgQK7gFx5O5SBA3aXp/vzhIEAX6+56998gQOB/fj/m3CBAdcITzQ7XIECkmOmsVs4gQMnui/FSxCBAXfWj7Vq7IEA=",
          "dtype": "f8"
         },
         "z": {
          "bdata": "esandQKOIkCyOak3VYYiQMLgpQo6hiJA7ZM5PpmOIkDFc1bBY5siQFdBFM7zpSJAEtvWyfGoIkCyaAJldaMiQKXJpLCNmSJA3TymcuCRIkDt46JFxZEiQBiXNnkkmiJA73ZT/O6mIkCCRBEJf7EiQD3e0wR9tCJA3Wv/nwCvIkDQzKHrGKUiQAhAo61rnSJAGOefgFCdIkBDmjO0r6UiQBp6UDd6siJArUcORAq9IkBo4dA/CMAiQAhv/NqLuiJA+8+eJqSwIkA=",
          "dtype": "f8"
         }
        },
        {
         "line": {
          "width": 2
         },
         "mode": "lines",
         "opacity": 0.5,
         "type": "scatter3d",
         "x": {
          "bdata": "sHNExzsXAEA4L3vx50UAQH+s4at1dwBAa8j0M2eSAEBo8tZsfYoAQFpO/GDkZwBAjejxxGlCAEAa5DpbizMAQJbRtECIRwBAHo3rajR2AEBlClIlwqcAQFEmZa2zwgBAT1BH5sm6AEBArGzaMJgAQHNGYj62cgBAAEKr1NdjAEB8LyW61HcAQATrW+SApgBAS2jCng7YAEA4hNUmAPMAQDWut18W6wBAJwrdU33IAEBZpNK3AqMAQOafG04klABAY42VMyGoAEA=",
          "dtype": "f8"
         },
         "y": {
          "bdata": "EuJjZbVVD0A1Z+tbbWUPQEHVxk5Dcw9AQyWjG62FD0CjJ8IrcqAPQLVYt8F0wg9A4KBYW1nmD0CJg3wN1QIQQHVdq8tPDhBAByDvxisWEEAM11zAFh0QQA7/yqZLJhBAPYDaLq4zEEDHGNV5r0QQQNy8pcahVhBA9e91JkpmEEDhyaTkxHEQQHKM6N+geRBAeENW2YuAEEB6a8S/wIkQQKns00cjlxBAMoXOkiSoEEBIKZ/fFroQQGFcbz+/yRBATTae/TnVEEA=",
          "dtype": "f8"
         },
         "z": {
          "bdata": "z1UZNshUIkA26O/bh08iQJMHNVs8UyJAfcwH4NhdIkBuxaXnRGkiQFHNr2DubiJAPUhLAKNrIkCcHVmab2EiQPO+m7FsViJAWlFyVyxRIkC3cLfW4FQiQKE1ilt9XyJAky4oY+lqIkB1NjLcknAiQGGxzXtHbSJAwIbbFRRjIkAYKB4tEVgiQH669NLQUiJA29k5UoVWIkDFngzXIWEiQLeXqt6NbCJAmZ+0VzdyIkCFGlD3624iQOTvXZG4ZCJAPJGgqLVZIkA=",
          "dtype": "f8"
         }
        },
        {
         "line": {
          "width": 2
         },
         "mode": "lines",
         "opacity": 0.5,
         "type": "scatter3d",
         "x": {
          "bdata": "alTv9HImEUBChKhOSyQRQBR6xT0fKxFAlqjkYrgxEUACMrnOAi8RQKrvYlZeHxFAWOeoSL4GEUBVpuwEWe4QQGkKe3pC3xBAQDo01BrdEEASMFHD7uMQQJRecOiH6hBAAOhEVNLnEECope7bLdgQQFadNM6NvxBAU1x4iiinEEBnwAYAEpgQQD7wv1nqlRBAEObcSL6cEECTFPxtV6MQQP6d0NmhoBBAplt6Yf2QEEBUU8BTXXgQQFESBBD4XxBAZXaSheFQEEA=",
          "dtype": "f8"
         },
         "y": {
          "bdata": "5G0SLcV5DkBrVj7dWaoOQIAmHeUTxQ5AiIoCoHi8DkBUo48GwJcOQFaSeyqabg5Aypm09k5bDkBKDecPWWsOQAfMcX2Alw5AjrSdLRXIDkCjhHw1z+IOQKzoYfAz2g5AdwHvVnu1DkB58Np6VYwOQO33E0cKeQ5AbWtGYBSJDkAqKtHNO7UOQLES/X3Q5Q5AxuLbhYoAD0DPRsFA7/cOQJtfTqc20w5AnU46yxCqDkAQVnOXxZYOQJDJpbDPpg5ATogwHvfSDkA=",
          "dtype": "f8"
         },
         "z": {
          "bdata": "HJrPoh1UE0AxACYiKV8TQEfOLl1UdRNAXW9VLeqOE0D6N3gaNaITQEPsLU8vqRNAizgxyAmlE0DTsRaseZ0TQJQDAHM0nBNAqWlW8j+nE0C/N18ta70TQNXYhf0A1xNAcqGo6kvqE0C7VV4fRvETQAOiYZgg7RNASxtHfJDlE0AMbTBDS+QTQCHThsJW7xNAN6GP/YEFFEBNQrbNFx8UQOoK2bpiMhRAM7+O71w5FEB7C5JoNzUUQMOEd0ynLRRAhNZgE2IsFEA=",
          "dtype": "f8"
         }
        },
        {
         "line": {
          "width": 2
         },
         "mode": "lines",
         "opacity": 0.5,
         "type": "scatter3d",
         "x": {
          "bdata": "GBFl3nAu8T/DEThlnmzxP5iNTcPMu/E/BdlWGqoJ8j832B35qUTyP5VqH/hMZvI/yIHeH+928j9kyalO4ojyPztdt/WyrfI/5l2KfODr8j+72Z/aDjvzPyglqTHsiPM/WiRwEOzD8z+3tnEPj+XzP+vNMDcx9vM/hxX8ZSQI9D9dqQkN9Sz0Pwmq3JMia/Q/3iXy8VC69D9LcftILgj1P31wwicuQ/U/2gLEJtFk9T8OGoNOc3X1P6lhTn1mh/U/gPVbJDes9T8=",
          "dtype": "f8"
         },
         "y": {
          "bdata": "jEpsRpfaG0CIR60Z29obQJAUZpD7zBtAZdq6x6q7G0C0/t8Vn7MbQDxzcbEgvBtAuheLqcXSG0Bqwwjh2+wbQKEQtgGt/RtAnQ331PD9G0Cl2q9LEfAbQHqgBIPA3htAycQp0bTWG0BRObtsNt8bQM/d1GTb9RtAf4lSnPEPHEC21v+8wiAcQLLTQJAGIRxAuqD5BicTHECPZk4+1gEcQN6Kc4zK+RtAZv8EKEwCHEDkox4g8RgcQJRPnFcHMxxAy5xJeNhDHEA=",
          "dtype": "f8"
         },
         "z": {
          "bdata": "EuogiwrECEDdquXRoO8IQFe7qsyiBglAp+RD31L6CECrkeMNpNAIQF4qi9O9oAhAYXMy5WuFCECQowXfa40IQAhQ0rzKsghA0xCXA2HeCEBNIVz+YvUIQJxK9RAT6QhAofeUP2S/CEBUkDwFfo8IQFfZ4xYsdAhAhQm3ECx8CED+tYPuiqEIQMl2SDUhzQhAQ4cNMCPkCECSsKZC09cIQJddRnEkrghASfbtNj5+CEBNP5VI7GIIQHtvaELsaghA8xs1IEuQCEA=",
          "dtype": "f8"
         }
        },
        {
         "line": {
          "width": 2
         },
         "mode": "lines",
         "opacity": 0.5,
         "type": "scatter3d",
         "x": {
          "bdata": "NEI56AiPBEC+9IuWfnUEQInzxCWEfwRArdPavxSmBEDcovowc9EEQKsO4dgR5wRAOi7hnyDZBEBvbARcpK4EQJm7HUFafwRAI25w789lBEDtbKl+1W8EQBFNvxhmlgRAQRzficTBBEAQiMUxY9cEQJ+nxfhxyQRA1OXotPWeBED9NAKaq28EQIfnVEghVgRAUuaN1yZgBEB2xqNxt4YEQKaVw+IVsgRAdQGqirTHBEADIapRw7kEQDlfzQ1HjwRAYq7m8vxfBEA=",
          "dtype": "f8"
         },
         "y": {
          "bdata": "buC9CFxiHEB8OdLn3nMcQJMxl0R3hxxAw4zwXCiQHEBegOeEWIccQG2DFfCucBxAdeeS3e9XHEBj6HsPGEocQOVQxzHBTRxA9KnbEERfHEAKoqBt3HIcQDr9+YWNexxA1fDwrb1yHEDk8x4ZFFwcQOxXnAZVQxxA2liFOH01HEBdwdBaJjkcQGsa5TmpShxAgRKqlkFeHECxbQOv8mYcQExh+tYiXhxAXGQoQnlHHEBjyKUvui4cQFHJjmHiIBxA1DHag4skHEA=",
          "dtype": "f8"
         },
         "z": {
          "bdata": "Y7GMhm/4H0Bqm/SsuOgfQFnMmfgu1x9A7rcR7sXGH0C6Hpr5x7kfQNx4Wup+sB9AFYzdtQipH0Cq5I3XcaAfQAfCLeNvlB9ADayVCbmEH0D93DpVL3MfQJHIskrGYh9AXi87VshVH0CAiftGf0wfQLmcfhIJRR9ATvUuNHI8H0Cq0s4/cDAfQLG8Nma5IB9Aoe3bsS8PH0A12VOnxv4eQAFA3LLI8R5AI5qco3/oHkBdrR9vCeEeQPEF0JBy2B5ATuNvnHDMHkA=",
          "dtype": "f8"
         }
        },
        {
         "line": {
          "width": 2
         },
         "mode": "lines",
         "opacity": 0.5,
         "type": "scatter3d",
         "x": {
          "bdata": "IcjPq0SmFEAUJHQg/b8UQE0MpF9gzxRAFqrnKQjOFEChR6NwW78UQJ/nVCaQrhRAVvt6ERqoFEB+WY1xX7IUQOS3J1X5yRRA1xPMybHjFEAR/PsIFfMUQNmZP9O88RRAZDf7GRDjFEBi16zPRNIUQBnr0rrOyxRAQUnlGhTWFECnp3/+re0UQJoDJHNmBxVA1OtTsskWFUCciZd8cRUVQCcnU8PEBhVAJccEefn1FEDd2ipkg+8UQAQ5PcTI+RRAapfXp2IRFUA=",
          "dtype": "f8"
         },
         "y": {
          "bdata": "RrvvjuYiCkB1UzuZBRoKQPSn/uLSBwpAjTt9YO/oCUDqrAcga8EJQKIN0QlkmglACrIitK58CUBXF7kqqmsJQOGeQ19GYwlAEDePaWVaCUCPi1KzMkgJQCkf0TBPKQlAhpBb8MoBCUA98STaw9oIQKWVdoQOvQhA8voM+wmsCEB8gpcvpqMIQKsa4znFmghAKm+mg5KICEDEAiUBr2kIQCF0r8AqQghA2NR4qiMbCEBAecpUbv0HQI3eYMtp7AdAF2br/wXkB0A=",
          "dtype": "f8"
         },
         "z": {
          "bdata": "lN1LLfEGIkDb2k7K6gkiQKfTJ3HhEyJADbLhA8seIkARh7YXDyQiQDEmVAJkICJAzMkb47sVIkDNhwLYIAoiQDBPzksrBCJAd0zR6CQHIkBERaqPGxEiQKojZCIFHCJArfg4NkkhIkDOl9Ygnh0iQGg7ngH2EiJAavmE9loHIkDNwFBqZQEiQBS+UwdfBCJA4LYsrlUOIkBGleZAPxkiQEpqu1SDHiJAaglZP9gaIkAFrSAgMBAiQAZrBxWVBCJAaTLTiJ/+IUA=",
          "dtype": "f8"
         }
        },
        {
         "line": {
          "width": 2
         },
         "mode": "lines",
         "opacity": 0.5,
         "type": "scatter3d",
         "x": {
          "bdata": "vpnL+3xoBEBmzW1/8J0EQN6u6vgiyQRA5trD81jYBEDJL57YO8oEQNCJsZyirgRABzbqakqdBECtl8a37qcEQHjQoRrmzwRAIAREnlkFBUCZ5cAXjDAFQKERmhLCPwVAhGZ096QxBUCLwIe7CxYFQMFswImzBAVAaM6c1lcPBUAzB3g5TzcFQNs6Gr3CbAVAUxyXNvWXBUBcSHAxK6cFQD+dShYOmQVARvdd2nR9BUB8o5aoHGwFQCMFc/XAdgVA7j1OWLieBUA=",
          "dtype": "f8"
         },
         "y": {
          "bdata": "7B9ErtVX3D8WEqMMd2rcP4nxHVPe/ds/POwcpd3u2j+713XHaXnZP+4SqAZ7Fdg/2GC+XcYw1z+Bk1Cpee7WP2DViCSgEtc/isfngkEl1z/8pmLJqLjWP7GhYRuoqdU/Lo26PTQ01D9hyOx8RdDSP0wWA9SQ69E/9UiVH0Sp0T/Tis2aas3RP/18LPkL4NE/cFynP3Nz0T8kV6aRcmTQP0SF/mf93c0/qfti5h8Wyz+Al4+UtkzJP9H8sysdyMg/joAkImoQyT8=",
          "dtype": "f8"
         },
         "z": {
          "bdata": "ZRcOY6qF9T+Mis9EwIn1Pz3C/VibUPU/KTPv/3YD9T9jfAF+Rdf0P8IcthOs7fQ/mPj9dk1B9T8xm4JH7qj1P31l5kCc7/U/pNinIrLz9T9VENY2jbr1P0GBx91obfU/e8rZWzdB9T/aao7xnVf1P69G1lQ/q/U/SelaJeAS9j+Vs74ejln2P7wmgACkXfY/bF6uFH8k9j9Zz5+7Wtf1P5MYsjkpq/U/8rhmz4/B9T/HlK4yMRX2P2E3MwPSfPY/rQGX/H/D9j8=",
          "dtype": "f8"
         }
        },
        {
         "line": {
          "width": 2
         },
         "mode": "lines",
         "opacity": 0.5,
         "type": "scatter3d",
         "x": {
          "bdata": "/0I8zW0kGEC8+AuHLDwYQM5RA9JOTxhAiwZC0ONSGECBCeXUFkUYQLOrM+9BLhhAkKpaeAkcGEDATTpOXhkYQLmitR0VKBhAdViF19M/GECHsXwi9lIYQEVmuyCLVhhAO2leJb5IGEBsC60/6TEYQEkK1MiwHxhAeq2zngUdGEByAi9uvCsYQC+4/id7QxhAQBH2cp1WGED+xTRxMloYQPTI13VlTBhAJmsmkJA1GEACak0ZWCMYQDMNLe+sIBhAK2KovmMvGEA=",
          "dtype": "f8"
         },
         "y": {
          "bdata": "s8Od/yW5IUDC9QcQl7ohQKbc9sBVsyFAJ0lSi46nIUBAN1UwFJ4hQGwo4n9gnCFAxWTqLl+jIUCAG4bE464hQKNQen8buCFAs4Lkj4y5IUCXadNAS7IhQBjWLguEpiFAMMQxsAmdIUBdtb7/VZshQLXxxq5UoiFAcKhiRNmtIUCU3Vb/ELchQKQPwQ+CuCFAh/avwECxIUAJYwuLeaUhQCFRDjD/myFATUKbf0uaIUCmfqMuSqEhQGE1P8TOrCFAhWozfwa2IUA=",
          "dtype": "f8"
         },
         "z": {
          "bdata": "16lm417sFUC1fixoZPgVQCoaiXc5BBZAkXBhkm0QFkD/6IyMWB0WQGylGhrnKhZAQ5sRHaY4FkAn1owUBkYWQAXvtCyvUhZA48N6sbReFkBXX9fAiWoWQL61r9u9dhZALC7b1aiDFkCa6mhjN5EWQHHgX2b2nhZAVRvbXVasFkAyNAN2/7gWQBEJyfoExRZAhaQlCtrQFkDs+v0kDt0WQFpzKR/56RZAxy+3rIf3FkCeJa6vRgUXQINgKaemEhdAYHlRv08fF0A=",
          "dtype": "f8"
         }
        },
        {
         "line": {
          "width": 2
         },
         "mode": "lines",
         "opacity": 0.5,
         "type": "scatter3d",
         "x": {
          "bdata": "YPNEq/bbIUCr9EeyfNohQEm+h5gX0iFACtA2dpXIIUDznoZba8QhQDj4F/nsyCFAKolst1nUIUD40VF+4+AhQJ9dlj0V6CFA6l6ZRJvmIUCIKNkqNt4hQEk6iAi01CFAMgnY7YnQIUB2YmmLC9UhQGjzvUl44CFANzyjEALtIUDdx+fPM/QhQCnJ6ta58iFAxpIqvVTqIUCHpNma0uAhQHFzKYCo3CFAtcy6HSrhIUCnXQ/cluwhQHam9KIg+SFAHDI5YlIAIkA=",
          "dtype": "f8"
         },
         "y": {
          "bdata": "jCQgIMKbFUA3sgwhYYMVQArptNSHbhVALGbETnNjFUDs/lu3p2IVQKbequCiZhVAORU+VxZnFUB9BWoHxV0VQCLaDckqShVAzmf6yckxFUChnqJ98BwVQMIbsvfbERVAg7RJYBARFUA9lJiJCxUVQM/KKwB/FRVAE7tXsC0MFUC5j/txk/gUQGQd6HIy4BRAN1SQJlnLFEBZ0Z+gRMAUQBlqNwl5vxRA00mGMnTDFEBmgBmp58MUQKpwRVmWuhRAT0XpGvymFEA=",
          "dtype": "f8"
         },
         "z": {
          "bdata": "IyOtu0OcFkAc6K8cm5EWQDPygMnlkRZAcDJHMSOhFkCdpJodkboWQIfsSE910xZAUu8oNWbhFkD3uxNgZOAWQK1WcQYy1RZApRt0Z4nKFkC8JUUU1MoWQPplC3wR2hZAJ9heaH/zFkAQIA2aYwwXQNwi7X9UGhdAge/XqlIZF0A2ijVRIA4XQC9POLJ3AxdARlkJX8IDF0CDmc/G/xIXQLALI7NtLBdAmlPR5FFFF0BlVrHKQlMXQAojnPVAUhdAv735mw5HF0A=",
          "dtype": "f8"
         }
        },
        {
         "line": {
          "width": 2
         },
         "mode": "lines",
         "opacity": 0.5,
         "type": "scatter3d",
         "x": {
          "bdata": "YaeltkmiDUCXDr8w4HYNQETOup9rRA1ABEWsrWYdDUBvXLoOmQ0NQAFGMPIwEw1AHNfD4NMfDUAksWEwByENQILq4iwDCw1AuFH8ppnfDEBlEfgVJa0MQCWI6SMghgxAkJ/3hFJ2DEAiiW1o6nsMQD0aAVeNiAxARfSepsCJDECjLSCjvHMMQNmUOR1TSAxAhlQ1jN4VDEBGyyaa2e4LQLDiNPsL3wtAQ8yq3qPkC0BeXT7NRvELQGY33Bx68gtAxHBdGXbcC0A=",
          "dtype": "f8"
         },
         "y": {
          "bdata": "1FyC0gnf8z++cjl7rhn0P8vfeZvDDvQ/04nybq7F8z/AcN+SPmrzPzJfoxEEM/M/g/bdGFlB8z/YUOBs2I3zP0hubnCy7PM/MoQlGVcn9D8/8WU5bBz0P0eb3gxX0/M/NILLMOd38z+ncI+vrEDzP/cHyrYBT/M/TGLMCoGb8z+8f1oOW/rzP6eVEbf/NPQ/swJS1xQq9D+8rMqq/+DzP6iTt86PhfM/G4J7TVVO8z9rGbZUqlzzP8BzuKgpqfM/MZFGrAMI9D8=",
          "dtype": "f8"
         },
         "z": {
          "bdata": "4375gbIpEEBWpkg6KyQQQPc92l6jGxBA+jUTiyYaEED/dZYpoCUQQD8SZL5jPBBAUD7v5idWEED/CdMH4WgQQK2NbLajbhBAILW7bhxpEEDCTE2TlGAQQMVEhr8XXxBAyYQJXpFqEEAJIdfyVIEQQBpNYhsZmxBAyhhGPNKtEEB4nN/qlLMQQOrDLqMNrhBAjFvAx4WlEECPU/nzCKQQQJSTfJKCrxBA1C9KJ0bGEEDkW9VPCuAQQJQnuXDD8hBAQqtSH4b4EEA=",
          "dtype": "f8"
         }
        },
        {
         "line": {
          "width": 2
         },
         "mode": "lines",
         "opacity": 0.5,
         "type": "scatter3d",
         "x": {
          "bdata": "v0uHw6JiFkC6/Bgph3kWQJEXH6rikxZAdkvIpZmmFkBdHL6VCqsWQKUGNnHwohZAEYc5MV+XFkBw7pl2cpMWQMy4rcfLnRZAx2k/LbC0FkCehEWuC88WQIK47qnC4RZAaonkmTPmFkCyc1x1Gd4WQB70XzWI0hZAfVvAepvOFkDZJdTL9NgWQNTWZTHZ7xZAq/FrsjQKF0CPJRWu6xwXQHb2Cp5cIRdAv+CCeUIZF0ArYYY5sQ0XQIrI5n7ECRdA5pL6zx0UF0A=",
          "dtype": "f8"
         },
         "y": {
          "bdata": "RsfCPqZfIkCoHC/BnmMiQI12wVPkYyJArIuBYLtdIkDRqTPULFIiQHpz3O1qRSJAnzhf91s8IkCLQrSGuzkiQHJDF6+APCJA1JiDMXlAIkC58hXEvkAiQNgH1tCVOiJA/SWIRAcvIkCl7zBeRSIiQMu0s2c2GSJAt74I95UWIkCdv2sfWxkiQP8U2KFTHSJA5W5qNJkdIkAEhCpBcBciQCii3LThCyJA0WuFzh//IUD3MAjYEPYhQOM6XWdw8yFAyTvAjzX2IUA=",
          "dtype": "f8"
         },
         "z": {
          "bdata": "pTWUXOEICUDeK+kHHvIIQLp86jRs+whA+wFKNbkYCUB44dTQOzIJQA3u5UBjMglA/p9KL3kSCUCJHVFKkN4IQNlALMpxrghAEjeBda6XCEDuh4Ki/KAIQC8N4qJJvghArOxsPszXCEBB+X2u89cIQDKr4pwJuAhAvijptyCECEAOTMQ3AlQIQEZCGeM+PQhAIpMaEI1GCEBkGHoQ2mMIQOH3BKxcfQhAdQQWHIR9CEBmtnoKml0IQPIzgSWxKQhAQldcpZL5B0A=",
          "dtype": "f8"
         }
        },
        {
         "line": {
          "width": 2
         },
         "mode": "lines",
         "opacity": 0.5,
         "type": "scatter3d",
         "x": {
          "bdata": "iheQiXeRCkB4yXshiKMKQIeuiGJQpgpAiS46hl6OCkCcJa7K6F8KQN0F6tNVLApA/bIENAsICkApxXqxev4JQEZgLg5uCwpANBIapn4dCkBD9ybnRiAKQEZ32ApVCApAWG5MT9/ZCUCZTohYTKYJQLn7orgBgglA5g0ZNnF4CUACqcySZIUJQPBauCp1lwlA/z/Faz2aCUACwHaPS4IJQBS36tPVUwlAVZcm3UIgCUB1REE9+PsIQKJWt7pn8ghAvvFqF1v/CEA=",
          "dtype": "f8"
         },
         "y": {
          "bdata": "XqRD1jewE0Ay0z25spcTQGljl69thhNAv6dHjtyAE0C1s/4zmIQTQKJi4N7GiRNALLBidrWHE0CZSY4l8HkTQGQbsw3eYhNAOEqt8FhKE0Bv2gbnEzkTQMUet8WCMxNAuypuaz43E0Co2U8WbTwTQDMn0q1bOhNAn8D9XJYsE0BqkiJFhBUTQD7BHCj//BJAdlF2HrrrEkDLlSb9KOYSQMGh3aLk6RJArlC/TRPvEkA5nkHlAe0SQKU3bZQ83xJAcAmSfCrIEkA=",
          "dtype": "f8"
         },
         "z": {
          "bdata": "7Z2fUWNC3z8ClZKhTuXeP7S5sBHInt0/NuRAmSwq3D8ecZen113bPwDu/tqRrds/RT077r3m3D+6hgXq/k3eP8ltCV/5DN8/3mT8ruSv3j+QiRofXmndPxK0qqbC9Ns/+UABtW0o2z/bvWjoJ3jbPyANpftTsdw/lVZv95QY3j+kPXNsj9feP7k0Zrx6et4/a1mELPQz3T/ugxS0WL/bP9UQa8ID89o/t43S9b1C2z/73A4J6nvcP3Am2QQr490/gA3deSWi3j8=",
          "dtype": "f8"
         }
        },
        {
         "line": {
          "width": 2
         },
         "mode": "lines",
         "opacity": 0.5,
         "type": "scatter3d",
         "x": {
          "bdata": "6DqTDr1WI0A/DWqfXl0jQIjM391OZyNAYZg7gdttI0B4cxh8TmwjQK59mnmwYiNA8pp9ycNVI0Cmq3q0OkwjQBut9kfLSiNAcn/N2GxRI0C7PkMXXVsjQJQKn7rpYSNAq+V7tVxgI0Dh7/2yvlYjQCUN4QLSSSNA2R3e7UhAI0BOH1qB2T4jQKXxMBJ7RSNA7rCmUGtPI0DHfAL091UjQN5X3+5qVCNAFGJh7MxKI0BYf0Q84D0jQAyQQSdXNCNAgZG9uucyI0A=",
          "dtype": "f8"
         },
         "y": {
          "bdata": "kLfUaKeNAkBeswOGdmECQLUjgXqtUQJA5mi/NAphAkDbb661C4ACQN30sQwHlgJAWQVnjJqPAkD5QFtGCGoCQNW6njnRNAJApLbNVqAIAkD6JktL1/gBQCtsiQU0CAJAIHN4hjUnAkAj+HvdMD0CQJ4IMV3ENgJAPkQlFzIRAkAbvmgK+9sBQOm5lyfKrwFAPyoVHAGgAUBxb1PWXa8BQGZ2QldfzgFAaPtFrlrkAUDkC/st7t0BQIRH7+dbuAFAYMEy2ySDAUA=",
          "dtype": "f8"
         },
         "z": {
          "bdata": "1AZSTnOADEBUwgs7844MQMtLEGonrwxAfJ/1mj/bDEDSwe9pdAYNQJBux6WDJA1AV01Un94wDUDkYQCXVTENQM2nl/CvMg1ATWNR3S9BDUDE7FUMZGENQHVAOz18jQ1Ay2I1DLG4DUCJDw1IwNYNQFDumUEb4w1A3QJGOZLjDUDGSN2S7OQNQEYEl39s8w1AvY2brqATDkBu4YDfuD8OQMQDe67tag5AgrBS6vyIDkBJj9/jV5UOQNaji9vOlQ5Av+kiNSmXDkA=",
          "dtype": "f8"
         }
        },
        {
         "line": {
          "width": 2
         },
         "mode": "lines",
         "opacity": 0.5,
         "type": "scatter3d",
         "x": {
          "bdata": "o5RNplbLCED9N3m9X6wIQPhKAZQ0kghAl15wDluSCEDEddY/7rIIQAMdEMkK5whAoVTtklsWCUCci+O4WisJQAi/4iftHwlAYmIOP/YACUBedZYVy+YIQPyIBZDx5ghAKaBrwYQHCUBoR6VKoTsJQAZ/ghTyaglAAbZ4OvF/CUBt6Xepg3QJQMiMo8CMVQlAw58rl2E7CUBis5oRiDsJQI/KAEMbXAlAznE6zDeQCUBsqReWiL8JQGbgDbyH1AlA0xMNKxrJCUA=",
          "dtype": "f8"
         },
         "y": {
          "bdata": "8dETRB1tEkDrKn0wyH0SQGNjem8BlRJAa+ek412rEkCCv+PF87kSQDlao1tnvhJAcBXPnky8EkAZhc2sDrsSQLKgt0yXwRJArPkgOULSEkAlMh54e+kSQCy2SOzX/xJAQ46Hzm0OE0D6KEdk4RITQDHkcqfGEBNA2lNxtYgPE0B0b1tVERYTQG3IxEG8JhNA5gDCgPU9E0DthOz0UVQTQARdK9fnYhNAu/fqbFtnE0DzshawQGUTQJsiFb4CZBNANT7/XYtqE0A=",
          "dtype": "f8"
         },
         "z": {
          "bdata": "tKCfhkIE+j8eZUPrz8v5PxQ5bZe11fk/yjDgN5UQ+j+/kBrpX076P9C9qShRX/o/VduyIOot+j8b1XIkicv5P6Fmaxc9Zvk/DCsPfMot+T8C/zgosDf5P7f2q8iPcvk/rFbmeVqw+T+9g3W5S8H5P0KhfrHkj/k/CJs+tYMt+T+OLDeoN8j4P/nw2gzFj/g/78QEuaqZ+D+kvHdZitT4P5kcsgpVEvk/qklBSkYj+T8wZ0pC3/H4P/ZgCkZ+j/g/fPICOTIq+D8=",
          "dtype": "f8"
         }
        },
        {
         "line": {
          "width": 2
         },
         "mode": "lines",
         "opacity": 0.5,
         "type": "scatter3d",
         "x": {
          "bdata": "vNx48Sz5/z+VylWU8i4AQG9TdIiJUABAqeMVt+RXAEDPQzmE60oAQEiuufttOwBAHOy0mrU8AECSIi3/OFgAQBuJI8UQiABAUuW84Gy6AEAtbtvUA9wAQGb+fANf4wBAjF6g0GXWAEAFySBI6MYAQNkGHOcvyABAUD2US7PjAEDYo4oRixMBQA8AJC3nRQFA6ohCIX5nAUAjGeRP2W4BQEl5Bx3gYQFAwuOHlGJSAUCXIYMzqlMBQA1Y+5ctbwFAlb7xXQWfAUA=",
          "dtype": "f8"
         },
         "y": {
          "bdata": "ktaVT9UhF0BgQoGksRoXQBxZ9ZMIBhdAMM1L5zLwFkD1ord/OeYWQER8XKMy7hZApKp4LLEDF0Cte7JRXBoXQAXr1jErJRdA1FbChgceF0CQbTZ2XgkXQKThjMmI8xZAabf4YY/pFkC3kJ2FiPEWQBi/uQ4HBxdAIZDzM7IdF0B5/xcUgSgXQEdrA2ldIRdABIJ3WLQMF0AY9s2r3vYWQNzLOUTl7BZAK6XeZ970FkCL0/rwXAoXQJWkNBYIIRdA7RNZ9tYrF0A=",
          "dtype": "f8"
         },
         "z": {
          "bdata": "GphispEJIUDKNEDrYQwhQJzvJdj9CiFAo/L6+ncDIUARQFdlevcgQBm4riJN6yBA/xH+K1TjIECxI17/fOEgQPvqNosd5CBAq4cUxO3mIEB+QvqwieUgQIRFz9MD3iBA8pIrPgbSIED7CoP72MUgQOBk0gTgvSBAknYy2Ai8IEDcPQtkqb4gQIza6Jx5wSBAX5XOiRXAIEBlmKOsj7ggQNPl/xaSrCBA3F1X1GSgIEDCt6bda5ggQHPJBrGUliBAvZDfPDWZIEA=",
          "dtype": "f8"
         }
        },
        {
         "line": {
          "width": 2
         },
         "mode": "lines",
         "opacity": 0.5,
         "type": "scatter3d",
         "x": {
          "bdata": "eISPuOS2HUAvi4DfSqkdQL+MgVemqB1A/YhGX1y4HUDruS3HPdIdQGLJ7lkm6h1AAN6fmxn1HUDv94xNsu8dQC7dV58f4B1A5eNIxoXSHUB15Uk+4dEdQLLhDkaX4R1AoRL2rXj7HUAYIrdAYRMeQLU2aIJUHh5ApVBVNO0YHkDkNSCGWgkeQJo8Ea3A+x1AKj4SJRz7HUBoOtcs0goeQFdrvpSzJB5Aznp/J5w8HkBrjzBpj0ceQFupHRsoQh5Amo7obJUyHkA=",
          "dtype": "f8"
         },
         "y": {
          "bdata": "zeENDJqQB0CteH5D3GUHQFX110BVQwdAPF6QjaYvB0A9RJOHvygHQLZAyAsTJQdAZlcUyi8ZB0DXgQE5dP4GQC8vpPrw1gZADsYUMjOsBkC2Qm4vrIkGQJ6rJnz9dQZAn5EpdhZvBkAXjl76aWsGQMikqriGXwZAOc+XJ8tEBkCQfDrpRx0GQHATqyCK8gVAGJAEHgPQBUD/+LxqVLwFQADfv2RttQVAedv06MCxBUAp8kCn3aUFQJocLhYiiwVA8snQ155jBUA=",
          "dtype": "f8"
         },
         "z": {
          "bdata": "pu4I/8QcI0BMOQy9cBgjQLqb/R03DiNAhbajH48EI0Ae/jxxmgEjQJoMhfONByNAUAPf0mYTI0CnQYQRrh4jQDFTNgBCIyNA2J05vu0eI0BFACsftBQjQBAb0SAMCyNAqWJqchcII0AmcbL0Cg4jQNtnDNTjGSNAM6axEislI0C9t2MBvykjQGMCZ79qJSNA0GRYIDEbI0Ccf/4hiREjQDTHl3OUDiNAsdXf9YcUI0BmzDnVYCAjQL4K3xOoKyNASByRAjwwI0A=",
          "dtype": "f8"
         }
        },
        {
         "line": {
          "width": 2
         },
         "mode": "lines",
         "opacity": 0.5,
         "type": "scatter3d",
         "x": {
          "bdata": "xq06l3tKD0D6TLTVa3UPQD1i9bIXjw9AfaxlsnqGD0AGEvq1pV4PQON8KTjzLA9AsXGRG4UMD0CCMcrcXw4PQAvW3plyLw9AP3VY2GJaD0CCipm1DnQPQMLUCbVxaw9ASjqeuJxDD0Aopc066hEPQPaZNR588Q5Ax1lu31bzDkBQ/oKcaRQPQISd/NpZPw9Ax7I9uAVZD0AH/a23aFAPQI9iQruTKA9AbM1xPeH2DkA7wtkgc9YOQAyCEuJN2A5AlSYnn2D5DkA=",
          "dtype": "f8"
         },
         "y": {
          "bdata": "+GLuU9e99j+fnlb0xIf2P9o+k4VWbvY/KCS2LAll9j8ATqpL51X2P6ADbpJlLvY/rVRd6D/q9T+nYGYo+ZX1PxYonvCGR/U/vWMGkXQR9T/4A0MiBvj0P0bpZcm47vQ/HhNa6Jbf9D+/yB0vFbj0P8wZDYXvc/Q/xSUWxagf9D817U2NNtHzP9woti0km/M/F8nyvrWB8z9lrhVmaHjzPz3YCYVGafM/3o3Ny8RB8z/r3rwhn/3yP+TqxWFYqfI/VLL9KeZa8j8=",
          "dtype": "f8"
         },
         "z": {
          "bdata": "SKMftoAIGUCgI6nmCxEZQM0p8ZSpJxlAXW5WTvtBGUBPLl5Gd1MZQOQDY5jAVBlAplOpbPdHGUACZdI1ejcZQP76WMDSLxlAVnvi8F04GUCCgSqf+04ZQBPGj1hNaRlABYaXUMl6GUCaW5yiEnwZQFyr4nZJbxlAuLwLQMxeGUC0UpLKJFcZQAzTG/uvXxlAONljqU12GUDJHclin5AZQLvd0FobohlAULPVrGSjGUARAxyBm5YZQG4URUoehhlAaqrL1HZ+GUA=",
          "dtype": "f8"
         }
        },
        {
         "line": {
          "width": 2
         },
         "mode": "lines",
         "opacity": 0.5,
         "type": "scatter3d",
         "x": {
          "bdata": "TOY7TVETC0CNC4X9PDALQP5Li6muKgtAHk0sTtsJC0CVraJM8eQKQGUsDCOE1QpABZC4/ZDoCkD3Msrf4hYLQJB2BmhLSQtA0ptPGDdmC0BC3FXEqGALQGLd9mjVPwtA2j1tZ+saC0CpvNY9fgsLQEoggxiLHgtAO8OU+txMC0DUBtGCRX8LQBYsGjMxnAtAh2wg36KWC0CnbcGDz3ULQB7ON4LlUAtA7kyhWHhBC0COsE0zhVQLQH9TXxXXggtAGZebnT+1C0A=",
          "dtype": "f8"
         },
         "y": {
          "bdata": "4RT7slqaCUDGEGaEwZUJQJovaFYnlwlAFkg8STiqCUA0PM3mRtAJQGrj/dKF/wlAsWeXvsUoCkBQ8l6JWkAKQE2haanxRApAMp3UelhACkAHvNZMvkEKQIPUqj/PVApAoMg73d16CkDXb2zJHKoKQB30BbVc0wpAvH7Nf/HqCkC6LdifiO8KQJ4pQ3Hv6gpAc0hFQ1XsCkDvYBk2Zv8KQA1VqtN0JQtAQ/zav7NUC0CKgHSr830LQCkLPHaIlQtAJrpGlh+aC0A=",
          "dtype": "f8"
         },
         "z": {
          "bdata": "ZO3Dht6eFECf2CLXR7UUQP0nA7vlzxRAtnZfn8biFEDFyk1igeYUQFwFgaOM3BRAz9syUWPOFEDosmj+9scUQKqEDM2w0BRA5W9rHRrnFEBDv0sBuAEVQPwNqOWYFBVAC2KWqFMYFUCinMnpXg4VQBVze5c1ABVALkqxRMn5FEDwG1UTgwIVQCsHtGPsGBVAiFaUR4ozFUBBpfAra0YVQFH53u4lShVA5zMSMDFAFUBbCsTdBzIVQHTh+YqbKxVANrOdWVU0FUA=",
          "dtype": "f8"
         }
        },
        {
         "line": {
          "width": 2
         },
         "mode": "lines",
         "opacity": 0.5,
         "type": "scatter3d",
         "x": {
          "bdata": "DrzFNo4rIkDIklEnNh4iQEfV9JRqFCJACTlSmgISIkAGNExAgRYiQMMi+7FeHSJAvKWSpq8gIkByB3ADnRwiQO3RsL+jESJAp6g8sEsEIkAm698dgPohQOhOPSMY+CFA5Ek3yZb8IUCiOOY6dAMiQJq7fS/FBiJAUB1bjLICIkDL55tIufchQIW+Jzlh6iFABAHLppXgIUDGZCisLd4hQMJfIlKs4iFAgE7Rw4npIUB50Wi42uwhQC4zRhXI6CFAqv2G0c7dIUA=",
          "dtype": "f8"
         },
         "y": {
          "bdata": "5fshE2L6+T/uetZEUwL6P89BdKaoLvo/A8fNXRhU+j8nXzHeYkv6P9FcSqBQCPo/oxJ6Mtqg+T8jCu5uSUD5P7PuV+LdDfk/vW0MFM8V+T+eNKp1JEL5P9K5Ay2UZ/k/9VFnrd5e+T+gT4BvzBv5P3IFsAFWtPg/8vwjPsVT+D+C4Y2xWSH4P4tgQuNKKfg/bSfgRKBV+D+grDn8D3v4P8REnXxacvg/bkK2Pkgv+D9B+OXQ0cf3P8HvWQ1BZ/c/UNTDgNU09z8=",
          "dtype": "f8"
         },
         "z": {
          "bdata": "k8MfiYHLGEA37ReGMMwYQN6Rvpmu2hhAYPbtFEzzGEBGNg1GawwZQBwG7X8iHBlA7loeowoeGUDm78Ze0xUZQHmpf2QaDRlAHdN3YckNGUDEdx51RxwZQEbcTfDkNBlALBxtIQROGUAC7Exbu10ZQNRAfn6jXxlAzNUmOmxXGUBfj98/s04ZQAO51zxiTxlAql1+UOBdGUAswq3LfXYZQBICzfycjxlA6NGsNlSfGUC6Jt5ZPKEZQLK7hhUFmRlARXU/G0yQGUA=",
          "dtype": "f8"
         }
        },
        {
         "line": {
          "width": 2
         },
         "mode": "lines",
         "opacity": 0.5,
         "type": "scatter3d",
         "x": {
          "bdata": "Fwvw4sPRHUCS+9x70rsdQPMHip0wpB1A/gw3/ZKSHUDmWmAPKIsdQAJm4/gkjB1AN1WmWdKOHUDCS2l8e4sdQHH5r+zxfR1A6+mchQBoHUBM9kmnXlAdQFf79gbBPh1AP0kgGVY3HUBbVKMCUzgdQJBDZmMAOx1AGzophqk3HUDK52/2HyodQETYXI8uFB1ApeQJsYz8HECw6bYQ7+ocQJg34CKE4xxAtEJjDIHkHEDpMSZtLuccQHQo6Y/X4xxAI9YvAE7WHEA=",
          "dtype": "f8"
         },
         "y": {
          "bdata": "PXWbX4oiF0DaDWY2CCMXQMa+tbrCFhdA3nHdfVIIF0CDaukIlQMXQBzCyYO5DhdAZgElUaEmF0CFPqjfs0AXQBc2R6YTURdAtc4RfZFRF0Chf2EBTEUXQLkyicTbNhdAXSuVTx4yF0D3gnXKQj0XQEHC0JcqVRdAYP9TJj1vF0Dy9vLsnH8XQI+PvcMagBdAfEANSNVzF0CU8zQLZWUXQDjsQJanYBdA0UMhEcxrF0Acg3zes4MXQDrA/2zGnRdAzbeeMyauF0A=",
          "dtype": "f8"
         },
         "z": {
          "bdata": "OdYvLldjCEC0dC6ur0QIQMH7vaktPwhA2zqy309bCEDBQLUh4I0IQLPabqSEvghAEoyXqwPWCEBlhVt43ssIQOy3EDlLqwhAZlYPuaOMCEBz3Z60IYcIQI0ck+pDowhAcyKWLNTVCEBlvE+veAYJQMVteLb3HQlAGGc8g9ITCUCemfFDP/MIQBk48MOX1AhAJr9/vxXPCEA//nP1N+sIQCYEdzfIHQlAGJ4wumxOCUB3T1nB62UJQMpIHY7GWwlAUHvSTjM7CUA=",
          "dtype": "f8"
         }
        },
        {
         "line": {
          "width": 2
         },
         "mode": "lines",
         "opacity": 0.5,
         "type": "scatter3d",
         "x": {
          "bdata": "2/ThNsMzB0AAlHXaPhQHQHoXSKJG6QZAvBE2tRTOBkDfMEWmpdQGQKtPkCgv+wZAIoqchiwtB0DSTY2ZY08HQJ/sXM7XTwdAxIvwcVMwB0A+D8M5WwUHQIAJsUwp6gZAoyjAPbrwBkBvRwvAQxcHQOaBFx5BSQdAlUUIMXhrB0Bj5Ndl7GsHQIiDawloTAdAAgc+0W8hB0BEASzkPQYHQGcgO9XODAdAMz+GV1gzB0CqeZK1VWUHQFk9g8iMhwdAJ9xS/QCIB0A=",
          "dtype": "f8"
         },
         "y": {
          "bdata": "k5DknOgNE0DDzExxxhITQFegJtUpIRNABhQvYP42E0As7tqm000TQLDgmtmiXhNAzzvpfOxlE0DT9gj5xGUTQF9LhbmcZBNAj4ftjXppE0AjW8fx3XcTQNLOz3yyjRNA+ah7w4ekE0B8mzv2VrUTQJv2iZmgvBNAn7GpFXm8E0ArBibWULsTQFtCjqouwBNA7xVoDpLOE0CeiXCZZuQTQMVjHOA7+xNASFbcEgsMFEBnsSq2VBMUQGtsSjItExRA+MDG8gQSFEA=",
          "dtype": "f8"
         },
         "z": {
          "bdata": "6gV6fuQWAECD/abREEEAQP5+OoHtTgBARZNpUxFAAEAVkshD5iQAQBjxYQwMFQBAOcaUeIEhAECOCCzCr0oAQFpgk+0sgABA9FfAQFmqAEBv2VPwNbgAQLbtgsJZqQBAhezhsi6OAECIS3t7VH4AQKkgrufJigBA/mJFMfizAEDLuqxcdekAQGSy2a+hEwFA3zNtX34hAUAmSJwxohIBQPZG+yF39wBA+aWU6pznAEAae8dWEvQAQG+9XqBAHQFAOxXGy71SAUA=",
          "dtype": "f8"
         }
        },
        {
         "line": {
          "width": 2
         },
         "mode": "lines",
         "opacity": 0.5,
         "type": "scatter3d",
         "x": {
          "bdata": "6DczNU0A8j9eXeJjGt7xP/FXIQCMAPI/GU/OK7JL8j9ww7jPxIvyPwFdlNh4k/I/dSHgc4hW8j9U6b1/4/DxPwM0XhNSlvE/eVkNQh908T8MVEzekJbxPzRL+Qm34fE/i7/jrckh8j8cWb+2fSnyP5AdC1KN7PE/b+XoXeiG8T8fMInxVizxP5RVOCAkCvE/J1B3vJUs8T9PRyTou3fxP6a7DozOt/E/N1XqlIK/8T+sGTYwkoLxP4rhEzztHPE/Oiy0z1vC8D8=",
          "dtype": "f8"
         },
         "y": {
          "bdata": "WE0HmcO1IEBZ+DlxxbogQH7w0tAvvSBAiUykcTa5IEAMLgdAy64gQIgr1JmmoSBA3ts6bBmXIEBQKGn975IgQEnvBWE4lSBASZo4OTqaIEBvktGYpJwgQHnuojmrmCBA/c8FCECOIEB4zdJhG4EgQM99OTSOdiBAQcpnxWRyIEA6kQQprXQgQDo8NwGveSBAYDTQYBl8IEBqkKEBIHggQO1xBNC0bSBAaW/RKZBgIEDAHzj8AlYgQDJsZo3ZUSBAKjMD8SFUIEA=",
          "dtype": "f8"
         },
         "z": {
          "bdata": "/1dMFUbF2j8pg+mhV1DZP290RFc2wtc/oxQJ5tes1j+IHQl/dFvWP2j1Tc92ptY/LgfV9qsK1z8GavJEHvbWPyxk1IiVHdY/WI9xFaeo1D+cgMzKhRrTP9EgkVknBdI/tSmR8sOz0T+VAdZCxv7RP1wTXWr7YtI/M3Z6uG1O0j9acFz85HXRP4Sb+Yj2ANA/lBmpfKrlzD/8WTKa7brKP8VrMswmGMo/hBu8bCuuyj8SP8q7lXbLP8IEBVh6Tcs/DvnI32icyT8=",
          "dtype": "f8"
         }
        },
        {
         "line": {
          "width": 2
         },
         "mode": "lines",
         "opacity": 0.5,
         "type": "scatter3d",
         "x": {
          "bdata": "xZgIgDME8z/Mr4e/5VPzP/cVZ/TRiPM/Ah7WHeme8z+FnXreK6TzP1O7w6d2sPM//omse4fX8z/ItgVbbR30PxxsKaMndPQ/I4Oo4tnD9D9O6YcXxvj0P1nx9kDdDvU/23CbASAU9T+qjuTKaiD1P1RdzZ57R/U/HoomfmGN9T9yP0rGG+T1P3lWyQXOM/Y/pLyoOrpo9j+wxBdk0X72PzJEvCQUhPY/AGIF7l6Q9j+rMO7Bb7f2P3VdR6FV/fY/yRJr6Q9U9z8=",
          "dtype": "f8"
         },
         "y": {
          "bdata": "hoHID2h48j9wO9I/GbTyP4YHY9zSxfI/ErX/DoqW8j+d0qnnSDXyPz56YgxfzvE/sg+UxGyR8T+xw7nmfJXxP7AH0mKFy/E/msHbkjYH8j+wjWwv8BjyPzw7CWKn6fE/x1izOmaI8T9nAGxffCHxP9yVnReK5PA/20nDOZro8D/ajdu1oh7xP8RH5eVTWvE/2hN2gg1s8T9lwRK1xDzxP/HevI2D2/A/kYZ1spl08D8GHKdqpzfwPwXQzIy3O/A/AxTlCMBx8D8=",
          "dtype": "f8"
         },
         "z": {
          "bdata": "HWH/DvYvIkD5zhx1CSsiQCwKJhWdHyJAR4ixAO0TIkCVI3nyXA4iQLP3Mh66ESJAfP4AEJcbIkBcwky2tyUiQAlpXFa4KSJA5dZ5vMskIkAYEoNcXxkiQDOQDkivDSJAgSvWOR8IIkCg/49lfAsiQGgGXldZFSJASMqp/XkfIkD1cLmdeiMiQNLe1gOOHiJABBrgoyETIkAfmGuPcQciQG0zM4HhASJAjAftrD4FIkBUDrueGw8iQDTSBkU8GSJA4XgW5TwdIkA=",
          "dtype": "f8"
         }
        },
        {
         "line": {
          "width": 2
         },
         "mode": "lines",
         "opacity": 0.5,
         "type": "scatter3d",
         "x": {
          "bdata": "kR/neUPpFUCXr5drON0VQHNYDY5b3BVAmDLCnv3qFUCxBACVWwQWQPuR1rloHRZAbgborUcrFkCZSbqzpykWQNCUA9RLHRZA1SS0xUARFkCxzSnoYxAWQNan3vgFHxZA73kc72M4FkA5B/MTcVEWQK17BAhQXxZA177WDbBdFkAOCiAuVFEWQBSa0B9JRRZA8EJGQmxEFkAVHftSDlMWQC7vOElsbBZAeHwPbnmFFkDr8CBiWJMWQBY082e4kRZATH88iFyFFkA=",
          "dtype": "f8"
         },
         "y": {
          "bdata": "XB4pLimZGEBo2ttW34UYQATD/BUzaxhAXA8khHxVGEA4Hnb2K04YQGfmMYpCVhhABYJ/h7tlGEDoucbVPnAYQEcv4x9cbBhAU+uVSBJZGEDw07YHZj4YQEgg3nWvKBhAIy8w6F4hGEBS9+t7dSkYQPCSOXnuOBhA08qAx3FDGEAyQJ0Rjz8YQD/8TzpFLBhA2+Rw+ZgRGEAzMZhn4vsXQA9A6tmR9BdAPQimbaj8F0Dco/NqIQwYQL7bOrmkFhhAHVFXA8ISGEA=",
          "dtype": "f8"
         },
         "z": {
          "bdata": "kZxlSXPXF0AN4Wm/UskXQP+9eGs1xxdA4vhKXMjMF0AKxmykN9EXQORL+i9azBdASTl9hXm7F0C8yDyW6KIXQOvFrE97ixdAZwqxxVp9F0BZ579xPXsXQDwikmLQgBdAZO+zqj+FF0A+dUE2YoAXQKNixIuBbxdAFvKDnPBWF0BF7/NVgz8XQMEz+MtiMRdAsxAHeEUvF0CWS9lo2DQXQL4Y+7BHORdAmJ6IPGo0F0D9iwuSiSMXQHAby6L4ChdAnxg7XIvzFkA=",
          "dtype": "f8"
         }
        },
        {
         "line": {
          "width": 2
         },
         "mode": "lines",
         "opacity": 0.5,
         "type": "scatter3d",
         "x": {
          "bdata": "gbDkSNcSI0A8WmMiaA8jQPZ1+qDZFCNAgAYixZcgI0Dkp6zkXSwjQN7vb6jiMSNA2cUax4YuI0ADJzVA3iQjQFV37L0tGyNADyFrl74XI0DKPAIWMB0jQFTNKTruKCNAt260WbQ0I0CytncdOTojQKyMIjzdNiNA1+08tTQtI0AoPvQyhCMjQOPncgwVICNAnQMKi4YlI0AolDGvRDEjQIs1vM4KPSNAhX1/ko9CI0CAUyqxMz8jQKq0RCqLNSNA/AT8p9orI0A=",
          "dtype": "f8"
         },
         "y": {
          "bdata": "XW30P41YEECRdap/CEgQQPQGiVyVNhBARq0rb58wEECGHGtk1zsQQOVVa7DdUxBAFgZDX9JsEEBYoVbYSXoQQKxzzW6TdhBA4HuDrg5mEEBDDWKLm1QQQJWzBJ6lThBA1SJEk91ZEEA0XETf43EQQGUMHI7YihBAp6cvB1CYEED7eaadmZQQQC+CXN0UhBBAkhM7uqFyEEDkud3Mq2wQQCQpHcLjdxBAg2IdDuqPEEC0EvW83qgQQPatCDZWthBASoB/zJ+yEEA=",
          "dtype": "f8"
         },
         "z": {
          "bdata": "j2NCW47R+T9xjNYP5YH5P/LeXcJZPfk/xJctH9IP+T+RJ6yQuPf4P3fhSdXp5vg/vnH0G/3K+D+0m1a4DJj4P6/uCUCuT/g/kRee9AQA+D8SaiWnebv3P+Qi9QPyjfc/sbJzddh19z+XbBG6CWX3P978uwAdSfc/1CYenSwW9z/PedEkzs32P7CiZdkkfvY/MvXsi5k59j8ErrzoEQz2P9E9O1r48/U/t/fYninj9T/+h4PlPMf1P/Sx5YFMlPU/7wSZCe5L9T8=",
          "dtype": "f8"
         }
        },
        {
         "line": {
          "width": 2
         },
         "mode": "lines",
         "opacity": 0.5,
         "type": "scatter3d",
         "x": {
          "bdata": "e/zZpJR9EkCEWVXR0Y4SQI81wdQ3jxJATN1vuZd/EkARZBOBJWoSQPc5whB+XBJA2pCAya1fEkAMHPyg43ISQDXIgpXrixJAPSX+wSidEkBJAWrFjp0SQAWpGKrujRJAyy+8cXx4EkCwBWsB1WoSQJNcKboEbhJAxeekkTqBEkDukyuGQpoSQPfwprJ/qxJAAs0StuWrEkC/dMGaRZwSQIT7ZGLThhJAatET8it5EkBNKNKqW3wSQH+zTYKRjxJAqF/UdpmoEkA=",
          "dtype": "f8"
         },
         "y": {
          "bdata": "7LpxENnZIUDHMx50sdIhQJKgXdUAySFAa2IHPWjDIUCoBbjIIsYhQI5mWjGL0CFAhNNpnHzdIUBs6w4BVuYhQO4hrUHc5iFAyZpZpbTfIUCUB5kGBNYhQG3JQm5r0CFAqmzz+SXTIUCQzZVijt0hQIY6pc1/6iFAblJKMlnzIUDxiOhy3/MhQMsBlda37CFAlm7UNwfjIUBvMH6fbt0hQK3TLisp4CFAkzTRk5HqIUCIoeD+gvchQHC5hWNcACJA8+8jpOIAIkA=",
          "dtype": "f8"
         },
         "z": {
          "bdata": "GUfStzCKG0AGVlCCiXsbQE135LcSaRtAgccXUnBWG0D/Z87VX0cbQJ9JcWyHPRtA5Rj+l343G0A9ueteoTEbQEsJVjwyKBtAOBjUBosZG0B/OWg8FAcbQLOJm9Zx9BpAMSpSWmHlGkDRC/XwiNsaQBfbgRyA1RpAcHtv46LPGkB+y9nAM8YaQGraV4uMtxpAsfvrwBWlGkDlSx9bc5IaQGTs1d5igxpABM54dYp5GkBJnQWhgXMaQKI982ekbRpAsI1dRTVkGkA=",
          "dtype": "f8"
         }
        },
        {
         "line": {
          "width": 2
         },
         "mode": "lines",
         "opacity": 0.5,
         "type": "scatter3d",
         "x": {
          "bdata": "cJNbW36GCEBMbq6xLFYIQEp6YfYHKwhAjV8zeYwcCEAxkzt7bDEIQBPBEf+jWwhA1b2HlK6ACEBR4d7rD4kIQGy2/8MVbghASZFSGsQ9CEBHnQVfnxIIQImC1+EjBAhALbbf4wMZCEAQ5LVnO0MIQNHgK/1FaAhATgSDVKdwCEBp2aMsrVUIQEa09oJbJQhAQ8Cpxzb6B0CGpXtKu+sHQCrZg0ybAAhADAda0NIqCEDOA9Bl3U8IQEsnJ70+WAhAZvxHlUQ9CEA=",
          "dtype": "f8"
         },
         "y": {
          "bdata": "0AI9cx3X4D+qA49wWZLgP30A0psW1OA/fdxe5yxj4T840GIKJdnhPwmUIG8+3uE/4lvtpdZc4T+NRHC8FY7gP/0q+PblsN8/sSyc8V0n3z9WJiJI2KrfPyzvnW+CZOA/5uKhknra4D+4pl/3k9/gP5FuLC4sXuA/eK5eidYe3z9aUHYHkbPdPw5SGgIJKt0/s0ugWIOt3T+0A7rvr8vePynrwTWgt98/zHI9/9LB3z9/AtdsA7/eP9XT3JmBId0/t3X0Fzy22z8=",
          "dtype": "f8"
         },
         "z": {
          "bdata": "UrlXp8exI0BwudaWn7UjQGAipuJmvCNAKXUUB67FI0DUk0Gwjs8jQERrdZzI1yNA4tlYLBPdI0CnXp3j3d8jQIkXIxYP4iNApheiBeflI0CWgHFRruwjQF/T33X19SNACvIMH9b/I0B6yUALEAgkQBg4JJtaDSRA3bxoUiUQJEC/de6EVhIkQN11bXQuFiRAzN48wPUcJECVMavkPCYkQEBQ2I0dMCRAsCcMelc4JEBOlu8Joj0kQBMbNMFsQCRA9dO5851CJEA=",
          "dtype": "f8"
         }
        },
        {
         "line": {
          "width": 2
         },
         "mode": "lines",
         "opacity": 0.5,
         "type": "scatter3d",
         "x": {
          "bdata": "9fiFqFIbIEDUueYREBwgQEwiz9J6JCBAySGGKCAvIEDjXzITPzUgQJBz5ii9MiBAo98S540oIECxtHAQJBwgQCJL2aRAFCBAAgw6Dv4UIEB5dCLPaB0gQPdz2SQOKCBAEbKFDy0uIEC9xTklqysgQNExZuN7ISBA3gbEDBIVIEBQnSyhLg0gQC9ejQrsDSBAp8Z1y1YWIEAlxiwh/CAgQD8E2QsbJyBA6xeNIZkkIED+g7nfaRogQAxZFwkADiBAfe9/nRwGIEA=",
          "dtype": "f8"
         },
         "y": {
          "bdata": "bwIOWuvVIkCTEUFgLMoiQGUGZW76wiJA6F2RGn3EIkCJCHR8ws0iQGabFuJM2SJAlkjIP0rgIkAVk3H/kt4iQHaKZAkZ1SJAmpmXD1rJIkBrjrsdKMIiQO7l58mqwyJAj5DKK/DMIkBtI22RetgiQJ3QHu933yJAHBvIrsDdIkB8Eru4RtQiQKAh7r6HyCJAchYSzVXBIkD1bT552MIiQJYYIdsdzCJAc6vDQKjXIkCjWHWepd4iQCKjHl7u3CJAg5oRaHTTIkA=",
          "dtype": "f8"
         },
         "z": {
          "bdata": "OyWi7dKlG0Bf49c9k7IbQPGBqm6dwRtA7l3g+Y7RG0D8FDzTfeAbQOIAtXgX7RtAWgyRPWf3G0Bm2gmozwAcQGLNXMQ6CxxAhouSFPsXHEAXKmVFBSccQBUGm9D2NhxAI732qeVFHEAJqW9Pf1IcQIG0SxTPXBxAjYLEfjdmHECIdRebonAcQKwzTetifRxAPtIfHG2MHEA8rlWnXpwcQEplsYBNqxxAL1EqJue3HECnXAbrNsIcQLMqf1WfyxxArx3ScQrWHEA=",
          "dtype": "f8"
         }
        },
        {
         "line": {
          "width": 2
         },
         "mode": "lines",
         "opacity": 0.5,
         "type": "scatter3d",
         "x": {
          "bdata": "oWvtRwwnFkAByYbz2CEWQEAooM1cKRZAu0X32c00FkDWJ7lHFTkWQHVlFWJOLxZAN6HxTdAYFkC7HpAHZf4VQKDXw18j6xVAADVdC/DlFUA+lHblc+0VQLqxzfHk+BVA1ZOPXyz9FUB00et5ZfMVQDYNyGXn3BVAuopmH3zCFUCfQ5p3Oq8VQP+gMyMHqhVAPQBN/YqxFUC4HaQJ/LwVQNT/ZXdDwRVAcz3CkXy3FUA1eZ59/qAVQLn2PDeThhVAna9wj1FzFUA=",
          "dtype": "f8"
         },
         "y": {
          "bdata": "INeGrMjyxT/MuefNx6jHP9YlRTfC1Mc/inLPEND3xT/GjNP5L8TCP9ZDCHi6ab8/ZFtwbB5fvD+fsX6AW2a9P2S2zDp6jcA/EJktXHlDwj8aBYvFc2/CP89RFZ+BksA/FdgyEMO9uj9dApSUHZ+0P+wZ/IiBlLE/JXAKnb6bsj9PKyWSV1C2P6jw5tRVvLk/vMihp0oUuj8lYrZaZlq2PzotfVlM5q8/yIE/YgGpoz/QYR+WkiebP7S6WOaGRJ8/rtNhXXULpz8=",
          "dtype": "f8"
         },
         "z": {
          "bdata": "8wJb17KAAUBY91hwha0BQBemCu/V4AFA2Z8R7PgGAkD2r5Mn+xMCQAsTVpqhCgJAxbtkJ8r6AUB8GR42IPgBQNdgXAaXDgJAPFVan2k7AkD7Awweum4CQL39EhvdlAJA2w2VVt+hAkDvcFfJhZgCQKkZZlauiAJAYHcfZQSGAkC7vl01e5wCQCCzW85NyQJA32ENTZ78AkChWxRKwSIDQL9rloXDLwNA1M5Y+GkmA0CNd2eFkhYDQETVIJToEwNAoBxfZF8qA0A=",
          "dtype": "f8"
         }
        },
        {
         "line": {
          "width": 2
         },
         "mode": "lines",
         "opacity": 0.5,
         "type": "scatter3d",
         "x": {
          "bdata": "TXgIXLJWEECKWw1NX2EQQAuojd5qXRBAoCsRrf5JEEDVFT7oUy8QQJr8ViLiGRBAG3r0uxETEECIwI4YuRsQQFSgfwifKxBAkYOE+Us2EEAS0ASLVzIQQKdTiFnrHhBA3D21lEAEEEBCSZydnd0PQERE19D8zw9AHtELikvhD0BbyPa0iwAQQJir+6U4CxBAGfh7N0QHEEBb9/4LsOcPQMfLWIJasg9AUJmK9naHD0BSlMUp1nkPQCwh+uIkiw9AxODbwvCqD0A=",
          "dtype": "f8"
         },
         "y": {
          "bdata": "cgLyrrYMFEA/85udZfoTQMztTqc67xNA55SzBfXqE0BtQRfXSekTQPi7K9Rn5BNAwyw3tl/YE0AA8ZBDcsUTQNGv613qrxNAnqCVTJmdE0Asm0hWbpITQEZCrbQojhNAze4Qhn2ME0BYaSWDm4cTQCLaMGWTexNAYJ6K8qVoE0AxXeUMHlMTQP5Nj/vMQBNAi0hCBaI1E0Cm76ZjXDETQCycCjWxLxNAtxYfMs8qE0CChyoUxx4TQL9LhKHZCxNAkQrfu1H2EkA=",
          "dtype": "f8"
         },
         "z": {
          "bdata": "VajqEIUvEECdr7qBLB8QQJjYs+wqBxBAX1erM37qD0AQbDObLucPQO1snpHaAhBAHQJ628YZEEAy7SxjnSoQQAahPeQvKxBATqgNVdcaEEBK0QbA1QIQQMFIUdrT4Q9Acl3ZQYTeD0A8y+LJCv0PQM76zK5xFRBA5OV/NkgmEEC3mZC32iYQQP+gYCiCFhBA9ZOzJgH9D0AkOveAKdkPQNVOf+jZ1Q9AnryIcGD0D0CA8x+CHBEQQJXe0gnzIRBAaZLjioUiEEA=",
          "dtype": "f8"
         }
        },
        {
         "line": {
          "width": 2
         },
         "mode": "lines",
         "opacity": 0.5,
         "type": "scatter3d",
         "x": {
          "bdata": "TvpKJA5iIEBKzkT3gmUgQB65TXG2YCBA6+EKOKRXIECpKuSdyFAgQJqL8AlUUSBAtdXtziBaIEDV4TZHM2cgQAXOYyAPciBAAaJd84N1IEDUjGZtt3AgQKK1IzSlZyBAX/78mclgIEBRXwkGVWEgQGypBsshaiBAjLVPQzR3IEC8oXwcEIIgQLh1du+EhSBAi2B/abiAIEBZiTwwpncgQBbSFZbKcCBACDMiAlZxIEAifR/HInogQEKJaD81hyBAc3WVGBGSIEA=",
          "dtype": "f8"
         },
         "y": {
          "bdata": "3+DabAlXHED+daaCPj0cQLjqa2fNJRxA0DWAvdYbHEAbk0PulSIcQHiFYnp8MxxAPJiHNwlCHECg1F2DG0McQNH+hPR3MxxA8ZNQCq0ZHECqCBbvOwIcQMJTKkVF+BtADbHtdQT/G0BrowwC6w8cQC62Mb93HhxAk/IHC4ofHEDEHC985g8cQOOx+pEb9htAnSbAdqreG0C1cdTMs9QbQADPl/1y2xtAXcG2iVnsG0Ag1NtG5vobQIUQspL4+xtAtjrZA1XsG0A=",
          "dtype": "f8"
         },
         "z": {
          "bdata": "XFgODRs+F0CJ3ZuXAUAXQO7Sb+mqSBdAfWY2L6VZF0CvTAB5n28XQA93BAZbhBdAODHCy1OSF0A2TY2d+5cXQJEWVWujmBdAv5vi9YmaF0AjkbZHM6MXQLIkfY0ttBdA5QpH1yfKF0BENUtk494XQG3vCCrc7BdAawvU+4PyF0DG1JvJK/MXQPRZKVQS9RdAWE/9pbv9F0Dn4sPrtQ4YQBrJjTWwJBhAefORwms5GECirU+IZEcYQKHJGloMTRhA+5LiJ7RNGEA=",
          "dtype": "f8"
         }
        },
        {
         "line": {
          "width": 2
         },
         "mode": "lines",
         "opacity": 0.5,
         "type": "scatter3d",
         "x": {
          "bdata": "kMeRRJgWIUCFLr7LdiMhQHGoOm11LyFAHAb2zf40IUCQAOEGRjIhQGg6fqJUKiFASGHLI0MjIUBqpNnlpiIhQMJKuM9MKiFAt7HkVis3IUCjK2H4KUMhQE6JHFmzSCFAw4MHkvpFIUCavaQtCT4hQHvk8a73NiFAnScAcVs2IUD1zd5aAT4hQOo0C+LfSiFA1q6Hg95WIUCADEPkZ1whQPUGLh2vWSFAzUDLuL1RIUCtZxg6rEohQM+qJvwPSiFAJ1EF5rVRIUA=",
          "dtype": "f8"
         },
         "y": {
          "bdata": "f5MfUVTwGkAhrdcPYusaQAmY7sU99xpAXGXqLZ0PG0BbsflT4SgbQGU6xEXlNhtAKfIvQBs0G0CCx7aIzSQbQC8eKhObFBtA0Tfi0agPG0C5IvmHhBsbQAzw9O/jMxtACzwEFihNG0AVxc4HLFsbQNl8OgJiWBtAMlLBShRJG0DfqDTV4TgbQIHC7JPvMxtAaa0DSss/G0C8ev+xKlgbQLvGDthucRtAxU/ZyXJ/G0CJB0XEqHwbQOLcywxbbRtAjzM/lyhdG0A=",
          "dtype": "f8"
         },
         "z": {
          "bdata": "1vbKJFIB+z97BTeZg+v6P+TxJOl87vo/SgB8UfDu+j9XYttrCtP6PwHs6QyTkfo/55d20lM3+j/QIZp/mt/5PxJYtXo6pPk/t2Yh72uO+T8fUw8/ZZH5P4ZhZqfYkfk/ksPFwfJ1+T88TdRiezT5PyP5YCg82vg/DIOE1YKC+D9OuZ/QIkf4P/LHC0VUMfg/W7T5lE00+D/BwlD9wDT4P84ksBfbGPg/eK6+uGPX9z9fWkt+JH33P0fkbitrJfc/iRqKJgvq9j8=",
          "dtype": "f8"
         }
        },
        {
         "line": {
          "width": 2
         },
         "mode": "lines",
         "opacity": 0.5,
         "type": "scatter3d",
         "x": {
          "bdata": "t649+rgUGEDs+tYF/wkYQHSvwWhP9xdAHrLbP/3gF0Agw/LBfM0XQNfjjGebwRdAOpzVta+9F0B8Bu+PZr0XQGZiC79LuhdAm66kypGvF0AjY48t4pwXQM1lqQSQhhdAz3bAhg9zF0CGl1osLmcXQOlPo3pCYxdAKrq8VPliF0AVFtmD3l8XQElico8kVRdA0hZd8nRCF0B8GXfJIiwXQH0qjkuiGBdANEso8cAMF0CYA3E/1QgXQNltihmMCBdAxMmmSHEFF0A=",
          "dtype": "f8"
         },
         "y": {
          "bdata": "CKnJnfEEHkBI9TwHsPAdQA6rQ8qm3R1AT0gYsgvYHUDJWVqFNuQdQAqaq8IV/B1Ax3BpprwSHkAIYFll9RseQBDb2zhoEx5AUCdPoib/HUAV3VVlHewdQFZ6Kk2C5h1A0ItsIK3yHUASzL1djAoeQM+ie0EzIR5AEJJrAGwqHkAYDe7T3iEeQFhZYT2dDR5AHQ9oAJT6HUBerDzo+PQdQNi9frsjAR5AGv7P+AIZHkDW1I3cqS8eQBfEfZviOB5AHz8Ab1UwHkA=",
          "dtype": "f8"
         },
         "z": {
          "bdata": "tYXHVrRdGEBnVeat308YQGk3pdwiUhhAvx2yrs9fGEC4jAd7iG0YQNwccJTobxhAr5o41jBiGEAvFLN0D0kYQAsF5RjiLxhAvdQDcA0iGEC/tsKeUCQYQBWdz3D9MRhADgwlPbY/GEAxnI1WFkIYQAUaVpheNBhAhZPQNj0bGEBhhALbDwIYQBNUITI79BdAFTbgYH72F0BrHO0yKwQYQGSLQv/jERhAhxurGEQUGEBbmXNajAYYQNoS7vhq7RdAtwMgnT3UF0A=",
          "dtype": "f8"
         }
        },
        {
         "line": {
          "width": 2
         },
         "mode": "lines",
         "opacity": 0.5,
         "type": "scatter3d",
         "x": {
          "bdata": "eHd8oye45D8ufIIRMPvjP5oIU6dZMeM/ZEEvrVS/4j8pOBgZYNbiP2+BM5JwV+M/AEOE41/l4z8zWMnEfRvkP2uvAUCLyOM/IbQHrpML4z+NQNhDvUHiP1d5tEm4z+E/HHCdtcPm4T9iubgu1GfiP/N6CYDD9eI/JpBOYeEr4z9e54bc7tjiPxTsjEr3G+I/gHhd4CBS4T9KsTnmG+DgPw6oIlIn9+A/VfE9yzd44T/lso4cJwbiPxnI0/1EPOI/UR8MeVLp4T8=",
          "dtype": "f8"
         },
         "y": {
          "bdata": "DDwpw5uwsj+80IOWbteyP81IW2D64bQ/0aRl9sQ4uT9jilcivuu+P0g7iexvH8I/rz+oTCTXwz8c0q1GuWjEP8Ofv/U2TMQ/G+psX6BfxD8kplhE5mTFPyXUXY9LkMc/7sZWJchpyj8GPbQAWRPNP2xB02ANy84/2tPYWqJczz+AoeoJIEDPP9nrl3OJU88/8NNBrGcs0D/xasRRGkLRP1bkwJzYrtI/Yp9vCqED1D+UIX86e9/UP8zqgbdFKNU/n9EKjwQa1T8=",
          "dtype": "f8"
         },
         "z": {
          "bdata": "1d/c/WQ/9T/7qxCJDw31P8aMrdq7G/U/bQEsvwNW9T+IAayK9Yz1P8IG6+KTk/U/V/fAdDBZ9T8QVLVzMfP0P1QlqIuIkPQ/e/HbFjNe9D9F0nho32z0P+xG90wnp/Q/CEd3GBne9D9BTLZwt+T0P9c8jAJUqvQ/kJmAAVVE9D/UanMZrOHzP/o2p6RWr/M/xRdE9gK+8z9sjMLaSvjzP4iMQqY8L/Q/wZGB/to19D9WgleQd/vzPw/fS494lfM/U7A+p88y8z8=",
          "dtype": "f8"
         }
        },
        {
         "line": {
          "width": 2
         },
         "mode": "lines",
         "opacity": 0.5,
         "type": "scatter3d",
         "x": {
          "bdata": "kGq+2bfgFEC2TiQq7+MUQJsP+z5+9hRAgRGrGEQNFUAcQ/3JpxoVQC4gfIyPFhVAgiCKih8DFUDV377DeOsUQHNvUSU03RRAmVO3dWvgFEB/FI6K+vIUQGQWPmTACRVA/0eQFSQXFUASJQ/YCxMVQGUlHdab/xRAueRRD/XnFEBXdORwsNkUQH1YSsHn3BRAYhkh1nbvFEBIG9GvPAYVQOJMI2GgExVA9SmiI4gPFUBJKrAhGPwUQJzp5Fpx5BRAOnl3vCzWFEA=",
          "dtype": "f8"
         },
         "y": {
          "bdata": "sh9rh1GfIkDkz0ZMTJwiQCaWyJignCJAdPQXYuOiIkCpBfUaMK4iQMxCpZWuuiJA4GmviNPDIkDo+Ov+CcciQAnVmoU2xSJAO4V2SjHCIkB9S/iWhcIiQMupR2DIyCJAALskGRXUIkAj+NSTk+AiQDcf34a46SJAP64b/e7sIkBgisqDG+siQJI6pkgW6CJA1AAolWroIkAiX3dere4iQFdwVBf6+SJAeq0EkngGI0CO1A6FnQ8jQJZjS/vTEiNAtj/6gQARI0A=",
          "dtype": "f8"
         },
         "z": {
          "bdata": "tTz87LNhIEBLTh6vpG4gQGIwbcNIeCBAskYI9X57IEAGAD4y6nggQFXmNhuSdCBAJPwCsoZzIEC63YIr6XggQEscaJkWhCBA4S2KWweRIED4D9lvq5ogQEcmdKHhnSBAnN+p3kybIEDrxaLH9JYgQLrbbl7plSBAUL3u10ubIEDh+9NFeaYgQHcN9gdqsyBAju9EHA69IEDdBeBNRMAgQDK/FYuvvSBAgaUOdFe5IEBQu9oKTLggQOacWoSuvSBAd9s/8tvIIEA=",
          "dtype": "f8"
         }
        },
        {
         "line": {
          "width": 2
         },
         "mode": "lines",
         "opacity": 0.5,
         "type": "scatter3d",
         "x": {
          "bdata": "g+Z9XptyI0C0MsBzVGkjQGv8xF9YYCNAKC6PEsNdI0Bt9AmD8GMjQAo1tuMacCNAIPifbfp7I0AxU8Qwc4EjQLkZODYpfiNA6mV6S+J0I0ChL3835msjQF5hSepQaSNAoyfEWn5vI0BAaHC7qHsjQFcrWkWIhyNAaIZ+CAGNI0DwTPINt4kjQCCZNCNwgCNA2GI5D3R3I0CUlAPC3nQjQNpafjIMeyNAd5sqkzaHI0CNXhQdFpMjQJ65OOCOmCNAJoCs5USVI0A=",
          "dtype": "f8"
         },
         "y": {
          "bdata": "hITbDfYOC0DqQjYsAvMKQGgIFkkQzApAgDrePBCjCkCuDq0XJoIKQMHsTmS5bgpAvcNrskpmCkAfLqAp6l8KQGv2zblzUQpA0rQo2H81CkBPegj1jQ4KQGis0OiN5QlAlYCfw6PECUCoXkEQN7EJQKU1Xl7IqAlABqCS1WeiCUBTaMBl8ZMJQLkmG4T9dwlAN+z6oAtRCUBPHsOUCygJQHzykW8hBwlAkNAzvLTzCECMp1AKRusIQO4RhYHl5AhAOtqyEW/WCEA=",
          "dtype": "f8"
         },
         "z": {
          "bdata": "Uj/L4sCMBEAq/vTfI3IEQH8LNCPHeQRAeMzpqZ+aBEAxj3813rwEQGLGW87hxwRAFa8iIaWwBEAk5HIwM4AEQHIX4zpbTgRAStYMOL4zBECf40t7YTsEQJikAQI6XARAUWeXjXh+BECCnnMmfIkEQDWHOnk/cgRARLyKiM1BBECT7/qS9Q8EQGquJJBY9QNAv7tj0/v8A0C4fBla1B0EQHI/r+USQARAonaLfhZLBEBVX1LR2TMEQGSUouBnAwRAs8cS64/RA0A=",
          "dtype": "f8"
         }
        },
        {
         "line": {
          "width": 2
         },
         "mode": "lines",
         "opacity": 0.5,
         "type": "scatter3d",
         "x": {
          "bdata": "NQKz35LoGEC3itdmnN4YQAlfXvOV4xhAYoA4hanwGEC8+2wtQvoYQNTedd/U9hhAHHYcjHfkGEBcwG8zAMoYQJuwaMQDsxhAHTmNSw2pGEBvDRTYBq4YQMcu7mkauxhAIqoiErPEGEA6jSvERcEYQIEk0nDorhhAwm4lGHGUGEABXx6pdH0YQIPnQjB+cxhA1LvJvHd4GEAt3aNOi4UYQIhY2PYjjxhAoDvhqLaLGEDn0odVWXkYQCgd2/zhXhhAZw3UjeVHGEA=",
          "dtype": "f8"
         },
         "y": {
          "bdata": "JK5G1qH3EUB7WYz6NP0RQKFTbtTl+BFAHKpAtu3nEUDl6Fp28M4RQF5scJ1EtxFACKHpDnupEUBceXJ4WqgRQGNpswM/rxFAuhT5J9K0EUDgDtsBg7ARQFtlreOKnxFAI6THo42GEUCcJ93K4W4RQEZcVjwYYRFAmzTfpfdfEUCiJCAx3GYRQPnPZVVvbBFAHspHLyBoEUCaIBoRKFcRQGJfNNEqPhFA2+JJ+H4mEUCFF8NptRgRQNrvS9OUFxFA4d+MXnkeEUA=",
          "dtype": "f8"
         },
         "z": {
          "bdata": "Kto5MKBRFkB+qGBhaTkWQCsSWH12HxZAvvc21WgPFkDHqvHKFQ8WQBBMtQMcGxZA/1GoUd4oFkAI3LNjuywWQJyY49fdIBZA8GYKCacIFkCd0AEltO4VQDC24Hym3hVAOWmbclPeFUCCCl+rWeoVQHEQUvkb+BVAeppdC/n7FUAOV41/G/AVQGIltLDk1xVAD4+rzPG9FUCidIok5K0VQKsnRRqRrRVA9MgIU5e5FUDjzvugWccVQOxYB7M2yxVAgBU3J1m/FUA=",
          "dtype": "f8"
         }
        },
        {
         "line": {
          "width": 2
         },
         "mode": "lines",
         "opacity": 0.5,
         "type": "scatter3d",
         "x": {
          "bdata": "9bB466dtBEAgTN9z0YQEQA5rMWEeeQRAam90x2tPBEAyE9VKKR4EQBhjk5M0AARAOy9mdxwFBEDxFUjiAygEQDldDDB7UgRAZfhyuKRpBEBSF8Wl8V0EQK4bCAw/NARAdr9oj/wCBEBcDyfYB+UDQIDb+bvv6QNANcLbJtcMBEB+CaB0TjcEQKmkBv13TgRAl8NY6sRCBEDyx5tQEhkEQLtr/NPP5wNAobu6HNvJA0DEh40Aw84DQHlub2uq8QNAwrUzuSEcBEA=",
          "dtype": "f8"
         },
         "y": {
          "bdata": "eleU5zq5EUDmUHbxwbwRQNAtfvqixBFA8057bgTHEUA3RiJERb0RQBlW3hbfpxFAfYJ06h6OEUCoahVT3nkRQLF8DFq+cRFAHHbuY0V1EUAGU/ZsJn0RQCl08+CHfxFAbmuatsh1EUBQe1aJYmARQLSn7FyiRhFA3o+NxWEyEUDnoYTMQSoRQFObZtbILRFAPXhu36k1EUBgmWtTCzgRQKWQEilMLhFAh6DO++UYEUDqzGTPJf8QQBW1BTjl6hBAHsf8PsXiEEA=",
          "dtype": "f8"
         },
         "z": {
          "bdata": "dVVCU6a/IkBdZZuHlssiQLgCF6AK2CJAQ7auVlrgIkAvxLWNSuIiQIdSJt1b3yJAa1N0SOnbIkAgPqYVm9wiQHTOaGKs4yJAW97BlpzvIkC2ez2vEPwiQEIv1WVgBCNALT3cnFAGI0CGy0zsYQMjQGrMmlfv/yJAHrfMJKEAI0ByR49xsgcjQFlX6KWiEyNAtfRjvhYgI0BAqPt0ZigjQCu2AqxWKiNAhERz+2cnI0BoRcFm9SMjQBww8zOnJCNAcMC1gLgrI0A=",
          "dtype": "f8"
         }
        },
        {
         "line": {
          "width": 2
         },
         "mode": "lines",
         "opacity": 0.5,
         "type": "scatter3d",
         "x": {
          "bdata": "we48865bFUDi/9jn9FwVQMo58sg9TRVAPzvamrU1FUAr8WaTHCQVQBxoiQK5IhVARbYuhVIyFUDhPAUXvUkVQAUPN4I4WxVAJSDTdn5cFUANWuxXx0wVQINb1Ck/NRVAbxFhIqYjFUBgiIORQiIVQInWKBTcMRVAJF3/pUZJFUBJLzERwloVQGlAzQUIXBVAUXrm5lBMFUDGe864yDQVQLMxW7EvIxVAo6h9IMwhFUDM9iKjZTEVQGh9+TTQSBVAjE8roEtaFUA=",
          "dtype": "f8"
         },
         "y": {
          "bdata": "LDIQ2uylIUA4ZoYARbIhQDK0h7uouyFA6OZssfy8IUAK4j123rUhQA6iJjPeqiFAJUiEW9KiIUCACf5I1qIhQG4CjGdMqyFAezYCjqS3IUB1hANJCMEhQCq36D5cwiFATLK5Az67IUBQcqLAPbAhQGcYAOkxqCFAwtl51jWoIUCx0gf1q7AhQL4GfhsEvSFAt1R/1mfGIUBth2TMu8chQI+CNZGdwCFAk0IeTp21IUCq6Ht2ka0hQAWq9WOVrSFA9KKDggu2IUA=",
          "dtype": "f8"
         },
         "z": {
          "bdata": "SpB2bEIRE0CPeVTl/AYTQH7BG3or/BJAfHrRka/vEkCFwURoZOESQEhml5c00hJAYawAq5DDEkBrgXs7l7YSQGnIOA1tqxJArrEWhiehEkCd+d0aVpYSQJuykzLaiRJApPkGCY97EkBnnlk4X2wSQH/kwku7XRJAibk93MFQEkCHAPutl0USQMzp2CZSOxJAuzGgu4AwEkC56lXTBCQSQMMxyam5FRJAhdYb2YkGEkCeHIXs5fcRQKjx/3zs6hFApji9TsLfEUA=",
          "dtype": "f8"
         }
        },
        {
         "line": {
          "width": 2
         },
         "mode": "lines",
         "opacity": 0.5,
         "type": "scatter3d",
         "x": {
          "bdata": "QUvsNjUSFkAkodEC/yIWQKR6q/CuKRZAE/54aosoFkD2T75ycCYWQJev8/7KKhZAnYs0aT85FkC0vYFHh08WQFYhV5fGZhZAOnc8Y5B3FkC6UBZRQH4WQCjU48ocfRZACyYp0wF7FkCthV5fXH8WQLJhn8nQjRZAyZPspxikFkBs98H3V7sWQE9Np8MhzBZAzyaBsdHSFkA+qk4rrtEWQCH8kzOTzxZAwlvJv+3TFkDINwoqYuIWQN9pVwiq+BZAgc0sWOkPF0A=",
          "dtype": "f8"
         },
         "y": {
          "bdata": "mrpJmOCH8D/3ZBjt+5TwP1k7zv2BZ/A/PnyQwjYJ8D96LnPl7UDvP8gEZ1p+s+4/DYOMVzmb7j9MLJnsluTuP1Yh2KrdQu8/EXZ1VBRd7z/VIuF1IALvP56kZf+JRe4/ndq3Xwp07T/qsKvUmubsPy8v0dFVzuw/btjdZrMX7T94zRwl+nXtPzMius4wkO0/984l8Dw17T/AUKp5pnjsP7+G/Nkmp+s/DF3wTrcZ6z9R2xVMcgHrP5GEIuHPSus/mnlhnxap6z8=",
          "dtype": "f8"
         },
         "z": {
          "bdata": "tnXKdMXOGkAmqKxIXeMaQPwOvfGo+hpAGECAmEsHG0DnzUoDJwIbQNCmkwWH7hpAUkuuMjPYGkCOJRZiiMwaQBejds2k0hpAh9VYoTznGkBdPGlKiP4aQHltLPEqCxtASPv2WwYGG0Ax1D9eZvIaQLN4WosS3BpA71LCumfQGkB40CImhNYaQOgCBfob6xpAvmkVo2cCG0DamthJCg8bQKkoo7TlCRtAkgHstkX2GkAUpgbk8d8aQFCAbhNH1BpA2f3OfmPaGkA=",
          "dtype": "f8"
         }
        },
        {
         "line": {
          "width": 2
         },
         "mode": "lines",
         "opacity": 0.5,
         "type": "scatter3d",
         "x": {
          "bdata": "CuJ/AcGy7T/ZPjskcbrtP9hPqCsj7u0/zQAXHG0D7j9QnUnKtMHtP5j0bQBYI+0/rpfgUflY7D/QmlG6Aq3rP2Oy/mQOWOs/MQ+6h75f6z8xICePcJPrPyXRlX+6qOs/qW3ILQJn6z/xxOxjpcjqPwdoX7VG/uk/KWvQHVBS6T+8gn3IW/3oP4nfOOsLBek/ifCl8r046T9+oRTjB07pPwE+R5FPDOk/SZVrx/Jt6D9gON4YlKPnP4E7T4Gd9+Y/FFP8K6mi5j8=",
          "dtype": "f8"
         },
         "y": {
          "bdata": "eG+VuWraBUDVnKY5qgsGQNIvIMnhPQZAfZvBV0RdBkDw7VjpDGEGQCCstqqhUAZArwSsXD4/BkCQhHkPsEAGQKgdUb+7XQZABUtiP/uOBkAB3tvOMsEGQKxJfV2V4AZAIJwU713kBkBQWnKw8tMGQN+yZ2KPwgZAwDI1FQHEBkDYywzFDOEGQDT5HUVMEgdAMYyX1INEB0Dc9zhj5mMHQFBK0PSuZwdAfwgutkNXB0AOYSNo4EUHQO/g8BpSRwdAB3rIyl1kB0A=",
          "dtype": "f8"
         },
         "z": {
          "bdata": "jEM2CVvwGEB1yVmM0PoYQNu/54Ql9BhAbYemJJ/eGEDQrFCQNsUYQHgwslArtRhAo0Opm0C2GECihW8/McYYQM9pShcE2hhAuO9tmnnkGEAe5vuSzt0YQLCtujJIyBhAE9Nknt+uGEC7VsZe1J4YQOZpvanpnxhA5auDTdqvGEASkF4lrcMYQPsVgqgizhhAYQwQoXfHGEDz085A8bEYQFb5eKyImBhA/nzabH2IGEApkNG3kokYQCjSl1uDmRhAVbZyM1atGEA=",
          "dtype": "f8"
         }
        },
        {
         "line": {
          "width": 2
         },
         "mode": "lines",
         "opacity": 0.5,
         "type": "scatter3d",
         "x": {
          "bdata": "xB3P1Dp1HEAogRp5gYocQGV5HqGplBxAxtalEweNHEBjsq6tWXccQK42DBybXxxAICaxBvtSHEBusNKmJVgcQH+8ch9baxxA4x++w6GAHEAhGMLryYocQIJ1SV4ngxxAH1FS+HltHEBq1a9mu1UcQNvEVFEbSRxAKU928UVOHEA7WxZqe2EcQJ++YQ7CdhxA3LZlNuqAHEA9FO2oR3kcQNvv9UKaYxxAJXRTsdtLHECXY/ibOz8cQOXtGTxmRBxA9vm5tJtXHEA=",
          "dtype": "f8"
         },
         "y": {
          "bdata": "s6ysIPiQ/z9m8aBmW1D/P0R5nlWz9/4/bg9r7fOg/j8I6sjt8mT+Pzi8+I3bTP4/PUsfhc9M/j/1y3bT2kr+Pz8IPbknLv4/80wx/4rt/T/Q1C7u4pT9P/tq+4UjPv0/lEVZhiIC/T/EF4kmC+r8P8qmrx3/6fw/gicHbAro/D/MY81RV8v8P3+owZe6ivw/XTC/hhIy/D+IxoseU9v7PyGh6R5Sn/s/UXMZvzqH+z9WAkC2Lof7Pw+DlwQ6hfs/Wb9d6oZo+z8=",
          "dtype": "f8"
         },
         "z": {
          "bdata": "ntaR1oGnIEBvdsuLoaYgQNuFgMgorCBAT/IABwSzIECMlLWVWLUgQDKnOYHyryBAP0pC5SSkIEBCkH9HA5cgQHygiFlojiBATkDCDoiNIEC5T3dLD5MgQC6894nqmSBAa16sGD+cIEARcTAE2ZYgQB0UOWgLiyBAIFp2yul9IEBban/cTnUgQCwKuZFudCBAlxluzvV5IEAMhu4M0YAgQEkoo5slgyBA7zonh799IED73S/r8XEgQP4jbU3QZCBAOTR2XzVcIEA=",
          "dtype": "f8"
         }
        },
        {
         "line": {
          "width": 2
         },
         "mode": "lines",
         "opacity": 0.5,
         "type": "scatter3d",
         "x": {
          "bdata": "ekh1ZHNpIkCM5mt0ynEiQKOwU1I7fCJArz0yABiGIkC9fndOCY0iQJszsNptkCJAdLz3mLiRIkBXgkiHl5MiQDmUMtVhmCJASjIp5bigIkBi/BDDKasiQG6J73AGtSJAe8o0v/e7IkBaf21LXL8iQDIItQmnwCJAFs4F+IXCIkD43+9FUMciQAl+5lWnzyJAIEjOMxjaIkAt1azh9OMiQDoW8i/m6iJAGcsqvEruIkDxU3J6le8iQNQZw2h08SJAtyuttj72IkA=",
          "dtype": "f8"
         },
         "y": {
          "bdata": "DUHlbs0iI0AH1pMpxyYjQLawb65iIiNAXL5jN1oZI0CBrAPmHxIjQK+3ryMXEiNAKH0ul2waI0CqD5UGZicjQK7BT1CRMiNAqFb+Cos2I0BXMdqPJjIjQP0+zhgeKSNAIi1ux+MhI0BQOBoF2yEjQMn9mHgwKiNATJD/5yk3I0BPQroxVUIjQEnXaOxORiNA+LFEcepBI0Cevzj64TgjQMOt2KinMSNA8biE5p4xI0BqfgNa9DkjQO0QasntRiNA8MIkExlSI0A=",
          "dtype": "f8"
         },
         "z": {
          "bdata": "Z9TKHujvE0ALj2PuRgMUQJEaN0GKERRAap5x420QFEBYgIUar/4TQC1X/7HJ5BNAIF0+xv/PE0C/ahaLlcoTQEoaFbvN1RNA7tStiizpE0B0YIHdb/cTQE3ku39T9hNAO8bPtpTkE0APnUlOr8oTQAKjiGLltRNAorBgJ3uwE0AtYF9Xs7sTQNEa+CYSzxNAVqbLeVXdE0AvKgYcOdwTQB0MGlN6yhNA8uKT6pSwE0Dl6NL+ypsTQIX2qsNglhNAEKap85ihE0A=",
          "dtype": "f8"
         }
        },
        {
         "line": {
          "width": 2
         },
         "mode": "lines",
         "opacity": 0.5,
         "type": "scatter3d",
         "x": {
          "bdata": "k6rk2mAlCkAkZN3sMDgKQNfSJAvgUwpAn5oXurx2CkBn6V0S4ZoKQB/XFDynuQpAtA99WY7PCkA17znmR94KQLVHo8m56wpARgGc24n+CkD6b+P5OBoLQMI31qgVPQtAioYcATphC0BBdNMqAIALQNasO0jnlQtAV4z41KCkC0DX5GG4ErILQGmeWsrixAtAHA2i6JHgC0Dk1JSXbgMMQKwj2++SJwxAYxGSGVlGDED5Sfo2QFwMQHkpt8P5agxA+oEgp2t4DEA=",
          "dtype": "f8"
         },
         "y": {
          "bdata": "EQbSpScfA0CtYS/8IB4DQDM6cfBKPANAMZTgkutkA0Aiyk7RJ30DQMKD3cm+cwNAeMCHJCVLA0C3ewTRFBgDQAFbguFo9QJAnbbfN2L0AkAkjyEsjBIDQCHpkM4sOwNAEx//DGlTA0Cy2I0FAEoDQGgVOGBmIQNAp9C0DFbuAkDyrzIdqssCQI4LkHOjygJAFOTRZ83oAkASPkEKbhEDQAN0r0iqKQNAoy0+QUEgA0BZauibp/cCQJglZUiXxAJA4gTjWOuhAkA=",
          "dtype": "f8"
         },
         "z": {
          "bdata": "4jDPOF7FBUDvWyoHfPcFQH8sc3L8GQZArOWZ3c4aBkDfwTRSnfsFQHy0W+/S0AVAlQGV76W1BUASZvDvJrwFQImn1+ar4gVAltIytckUBkAmo3sgSjcGQFNcooscOAZAhjg9AOsYBkAjK2SdIO4FQDx4nZ3z0gVAuNz4nXTZBUAvHuCU+f8FQD1JO2MXMgZAzRmEzpdUBkD60qo5alUGQC2vRa44NgZAyaFsS24LBkDj7qVLQfAFQF9TAUzC9gVA1pToQkcdBkA=",
          "dtype": "f8"
         }
        },
        {
         "line": {
          "width": 2
         },
         "mode": "lines",
         "opacity": 0.5,
         "type": "scatter3d",
         "x": {
          "bdata": "OBH62D634z/XlIcNVA3kP0XwTNi1kuQ/UDHBwOzh5D84cLRWPLXkP8pRqOl8D+Q/jVtk5nA64z+zf3HFj5viP/2l//aVeOI/nCmNK6vO4j8KhVL2DFTjPxXGxt5Do+M//QS6dJN24z+P5q0H1NDiP1LwaQTI++E/eBR34+Zc4T/COgUV7TnhP2G+kkkCkOE/zxlYFGQV4j/aWsz8mmTiP8KZv5LqN+I/VHuzJSuS4T8XhW8iH73gPz2pfAE+HuA/Dp8VZoj23z8=",
          "dtype": "f8"
         },
         "y": {
          "bdata": "aB9DkYmfHUD2G2ODIbYdQO/AVYLJyR1AwN/w0ovVHUDP4QIAE9kdQPnNr+nb2B1AuRGKxpTbHUCh27tRM+YdQEvCdgAN+R1A2r6W8qQPHkDTY4nxTCMeQKSCJEIPLx5As4Q2b5YyHkDdcONYXzIeQJ20vTUYNR5AhX7vwLY/HkAvZapvkFIeQL5hymEoaR5Atwa9YNB8HkCIJVixkogeQJcnat4ZjB5AwRMXyOKLHkCBV/Gkm44eQGkhIzA6mR5AEwje3hOsHkA=",
          "dtype": "f8"
         },
         "z": {
          "bdata": "nSBmimnrEkBcJDWe6/QSQLyl7Bew7RJAft3kcsXXEkC8uBo11L0SQDUYMprgrBJADfpgmaqsEkCDJU+3I7sSQH2t/22jzRJAPbHOgSXXEkCdMob76c8SQF9qflb/uRJAnUW0GA6gEkAVpct9Go8SQO2G+nzkjhJAY7Loml2dEkBeOplR3a8SQB0+aGVfuRJAfb8f3yOyEkA/9xc6OZwSQH3STfxHghJA9jFlYVRxEkDOE5RgHnESQEQ/gn6XfxJAPscyNReSEkA=",
          "dtype": "f8"
         }
        },
        {
         "line": {
          "width": 2
         },
         "mode": "lines",
         "opacity": 0.5,
         "type": "scatter3d",
         "x": {
          "bdata": "YXpQX8JWIEBMe0bRrE0gQAsnMssmQiBAoJlTxr03IEA++jpIWDEgQOz/PO2CLyBAxlpJCh4wIEDK7h8mnC8gQMSUMLsWKyBAsJUmLQEiIEBvQRInexYgQAO0MyISDCBAohQbpKwFIEBPGh1J1wMgQCl1KWZyBCBALgkAgvADIEBQXiEu1v4fQCZgDRKr7B9ApbfkBZ/VH0DNnCf8zMAfQAte9v8BtB9AZmn6SVewH0AZHxOEjbEfQCNHwLuJsB9AF5Ph5X6nH0A=",
          "dtype": "f8"
         },
         "y": {
          "bdata": "+X/GY6q/wz9OgVVTGh7CP9yV6XUApMI/XKFmWF6+xD+7mXsBR+3GP0Bx2PLEpMc/jjUwscw0xj/oAp+vXDDDP2TjdedhF8A/dMkJrqPrvD+O8jHzb/e9P8cEFtwVFsE/Jv0qhf5Ewz+s1Id2fPzDP/mY3zSEjMI/qcycZigQvz+gjUrWMt64P0qQaLUSm7U/ZLmQ+t6mtj9k0Iq/mtu6PyLBtBFsOb8/Fzg3+jNUwD/M+B1xd8i9P4CT+22Xv7c/dlSp3aGNsT8=",
          "dtype": "f8"
         },
         "z": {
          "bdata": "RNedrOWP7j984RiHjQXvP4tEejI9be8/hbyxNQNw7z+UxC0ZC/LuP0t2ZtHqIu4/Ks+4uMJh7T8eEzVIhAXtP/7GbPcDKu0/NdHn0auf7T9FNEl9WwfuPz+sgIAhCu4/TrT8YymM7T8EZjUcCb3sP+O+hwPh++s/2AIEk6Kf6z+3tjtCIsTrP+/AthzKOew//iMYyHmh7D/4m0/LP6TsPweky65HJuw/vlUEZydX6z+drlZO/5XqP5Ly0t3AOeo/caYKjUBe6j8=",
          "dtype": "f8"
         }
        },
        {
         "line": {
          "width": 2
         },
         "mode": "lines",
         "opacity": 0.5,
         "type": "scatter3d",
         "x": {
          "bdata": "AO0Scy8kH0BTHhmnmR0fQCBhxRF3JB9ArymK/3wwH0DEpxozWzYfQM7xVHlcLh9AXyrpiOoYH0At3WQVUP4eQHXaFFzd6R5AyAsbkEfjHkCVTsf6JOoeQCMXjOgq9h5AOZUcHAn8HkBD31ZiCvQeQNMX63GY3h5Aospm/v3DHkDpxxZFi68eQD35HHn1qB5ACTzJ49KvHkCYBI7R2LseQK6CHgW3wR5At8xYS7i5HkBIBe1aRqQeQBe4aOeriR5AXrUYLjl1HkA=",
          "dtype": "f8"
         },
         "y": {
          "bdata": "srXo2YsWEUDYYtv+ewQRQDeLk8oM7BBAxKyBtrrVEEADziNAxcgQQNcLP/3vxhBAcs6UE3rLEEDfl7QJ580QQJthIGL3xhBAwA4Th+e0EEAgN8tSeJwQQKxYuT4mhhBA63lbyDB5EEC/t3aFW3cQQFp6zJvlexBAyEPskVJ+EECDDVjqYncQQKm6Sg9TZRBACOMC2+NMEECVBPHGkTYQQNQlk1CcKRBAqGOuDccnEEBDJgQkUSwQQLDvIxq+LhBAbLmPcs4nEEA=",
          "dtype": "f8"
         },
         "z": {
          "bdata": "5pr9CctcF0AAM2vgKUoXQPHUNUCmQRdAcjIR0z5KF0BtQylm7GAXQNkG8ANoehdAbcBZGMaJF0BxvrL5B4gXQPsIz9o0eBdAFaE8sZNlF0AGQwcREF0XQIeg4qOoZRdAgrH6NlZ8F0DudMHU0ZUXQIIuK+kvpRdAhiyEynGjF0AQd6CrnpMXQCoPDoL9gBdAG7HY4Xl4F0CcDrR0EoEXQJcfzAfAlxdAA+OSpTuxF0CXnPy5mcAXQJuaVZvbvhdAJeVxfAivF0A=",
          "dtype": "f8"
         }
        },
        {
         "line": {
          "width": 2
         },
         "mode": "lines",
         "opacity": 0.5,
         "type": "scatter3d",
         "x": {
          "bdata": "mrxJ8XJJIUDE2wdo90QhQOpA/6uRQiFAw71EOyBAIUDMfllviDshQG205AXyMyFAEqQ2z0UqIUAEfDpNpSAhQMYPbyYrGSFA8C4tna8UIUAWlCThSRIhQO8QanDYDyFA+NF+pEALIUCZBwo7qgMhQD73WwT++SBAMM9fgl3wIEDyYpRb4+ggQByCUtJn5CBAQudJFgLiIEAbZI+lkN8gQCQlpNn42iBAxVovcGLTIEBqSoE5tskgQFwihbcVwCBAHra5kJu4IEA=",
          "dtype": "f8"
         },
         "y": {
          "bdata": "hRq5JZvhHkCXJNlBmcgeQC6rxGqvth5AlzLsrFu1HkCdkCvGZMQeQE5BVLD72R5AenWxjXroHkDTqNJRY+YeQI8F3D7v0x5AoQ/8Wu26HkA4lueDA6keQKIdD8avpx5AqHtO37i2HkBYLHfJT8weQIRg1KbO2h5A3ZP1arfYHkCa8P5XQ8YeQKv6HnRBrR5AQoEKnVebHkCsCDLfA5oeQLJmcfgMqR5AYxea4qO+HkCOS/e/Is0eQOd+GIQLyx5ApNshcZe4HkA=",
          "dtype": "f8"
         },
         "z": {
          "bdata": "VdZUtp72EEDAS4t47PkQQBkR7io7DRFAYZCstYQnEUDWQ0pLrDsRQEA/NccsQBFAu+rzUqw0EUBI3FYGMSIRQKiZ2q7XFRFAFA8RcSUZEUBt1HMjdCwRQLVTMq69RhFAKgfQQ+VaEUCTAru/ZV8RQA+ueUvlUxFAnJ/c/mlBEUD8XGCnEDURQGjSlmleOBFAwZf5G61LEUAJF7im9mURQH3KVTweehFA58VAuJ5+EUBjcf9DHnMRQO9iYveiYBFAUCDmn0lUEUA=",
          "dtype": "f8"
         }
        },
        {
         "line": {
          "width": 2
         },
         "mode": "lines",
         "opacity": 0.5,
         "type": "scatter3d",
         "x": {
          "bdata": "l8Nnhz4RyT8c9qYG1kPHP5i4Mp4MYMc/0KrtIECSyT+3G2vWAM7MPxndd49Qa88/QwccmIAP0D83EMnltLzOPziTl2jbUMw/vsXW53KDyj84iGJ/qZ/KP3B6HQLd0cw/rHXN284G0D9d1lO4dlXRPxTvswhPr9E/7G984yj+0D/ZYsdJeJDPP1+VBskPw80/2VeSYEbfzT8IpabxvAjQP3xdZUydptE/Lr7rKEX10j/k1kt5HU/TP71XFFT3ndI/PZl7lQpo0T8=",
          "dtype": "f8"
         },
         "y": {
          "bdata": "zOpicG4iFEBaf2igPxYUQKR9Rb/+ABRAYNShCyzwE0BZN1lhr+4TQAHcn8p0/hNA7xYPRUwXFEBr+f6RtSsUQKrPk9XIMBRAOWSZBZokFECCYnYkWQ8UQD650nCG/hNANxyKxgn9E0DgwNAvzwwUQM77P6qmJRRASt4v9w86FECItMQ6Iz8UQBdJymr0MhRAYUenibMdFEAcngPW4AwUQBUBuytkCxRAvqUBlSkbFECs4HAPATQUQCjDYFxqSBRAZ5n1n31NFEA=",
          "dtype": "f8"
         },
         "z": {
          "bdata": "LABwRi4xE0ANNabOMh4TQHSGrvLxDRNAqLeMAsQCE0CplFBqCPwSQBP3jsKD9hJA+Tz7fkTuEkAQo5FP8uASQFxdQsgtzxJAPZJ4UDK8EkCk44B08asSQNgUX4TDoBJA2fEi7AeaEkBDVGFEg5QSQCiazQBEjBJAQABk0fF+EkCLuhRKLW0SQG3vStIxWhJA00BT9vBJEkAIcjEGwz4SQAhP9W0HOBJAc7EzxoIyEkBY95+CQyoSQHBdNlPxHBJAuxfnyywLEkA=",
          "dtype": "f8"
         }
        },
        {
         "line": {
          "width": 2
         },
         "mode": "lines",
         "opacity": 0.5,
         "type": "scatter3d",
         "x": {
          "bdata": "tfsp0HXY/T/E9ss8lLH9PyzLEJnPwP0/aI6LUjcM/j/PTekrm3b+P4RP6F+k0P4/4HdEpJD0/j9osWqLUNz+P8furVIUpf4/1ulPvzJ+/j8+vpQbbo3+P3qBD9XV2P4/4EBtrjlD/z+VQmziQp3/P/JqyCYvwf8/eqTuDe+o/z/Z4THVsnH/P+jc00HRSv8/ULEYngxa/z+MdJNXdKX/P/mZeBjsBwBA1Bp4svA0AEACL6bU5kYAQMZLOcjGOgBAderaqygfAEA=",
          "dtype": "f8"
         },
         "y": {
          "bdata": "GiLjyDvI8z9Kf4n9X2zzP+r2QQRwJ/M/RHOEaWkI8z+nYrdzFAjzP1Ate4I+DfM/it0sv3z78j8JiVSd0cPyP4DBi9Z0bfI/sB4yC5kR8j9QluoRqczxP6sSLXeirfE/DQJggU2t8T+2zCOQd7LxP/B81cy1oPE/byj9qgpp8T/mYDTkrRLxPxa+2hjStvA/tjWTH+Jx8D8RstWE21LwP3ShCI+GUvA/HGzMnbBX8D9WHH7a7kXwP9XHpbhDDvA/mAC6481v7z8=",
          "dtype": "f8"
         },
         "z": {
          "bdata": "hKJ3wnrIDEBSdoWxAbUMQHTaBjDAjAxAnWG9fgtqDEDZkV2T+GMMQIT1GbXWgAxA3MhiR32yDEAseXYJl94MQGqAoAUP7gxAOVSu9JXaDEBauC9zVLIMQIM/5sGfjwxAv2+G1oyJDEBq00L4aqYMQMKmi4oR2AxAElefTCsEDUBQXslIoxMNQB8y1zcqAA1AQJZYtujXDEBpHQ8FNLUMQKVNrxkhrwxAULFrO//LDECohLTNpf0MQPk0yI+/KQ1ANjzyizc5DUA=",
          "dtype": "f8"
         }
        },
        {
         "line": {
          "width": 2
         },
         "mode": "lines",
         "opacity": 0.5,
         "type": "scatter3d",
         "x": {
          "bdata": "EC6Ci7/2AECmaYCdn/4AQPN0+2/BJAFA2EECpoJSAUCDqsbJyWwBQHc2WyvmYwFAtfJyzMA8AUBc7f4J/A0BQDtMzVmx8gBA0ofLa5H6AEAfk0Y+syABQARgTXR0TgFAr8gRmLtoAUCjVKb5118BQOEQvpqyOAFAhwtK2O0JAUBnahgoo+4AQP6lFjqD9gBAS7GRDKUcAUAvfphCZkoBQNrmXGatZAFAz3Lxx8lbAUANLwlppDQBQLMplabfBQFAk4hj9pTqAEA=",
          "dtype": "f8"
         },
         "y": {
          "bdata": "SObluPqAGkDv9YZtP5kaQLLn3p7ZqxpAdFf6AtqzGkDIoTQFh7IaQOTq74+drhpA5VH0nV6wGkDmOjV5ubwaQFdJV7Zn0hpA/lj4aqzqGkDASlCcRv0aQIO6awBHBRtA1gSmAvQDG0DzTWGNCgAbQPS0ZZvLARtA9Z2mdiYOG0BlrMiz1CMbQAy8aWgZPBtAz63BmbNOG0CRHd39s1YbQORnFwBhVRtAAbHSindRG0ACGNeYOFMbQAMBGHSTXxtAcw86sUF1G0A=",
          "dtype": "f8"
         },
         "z": {
          "bdata": "3cScFzR81T8NcOlnriXWP8gpCv9NUNY/yexFrGWa1T+0WhMzzyXUPwJ9sAEXhNI/xZB5iTlh0T9Dmyf74x7RP9b6Q5M8m9E/BqaQ47ZE0j/CX7F6Vm/SP8Mi7SduudE/rZC6rtdE0D/3Za/6PkbNP32NQQqEAMs/eKKd7dh7yj+fYdYdinTLP/63b75+x8w/dSux7L0czT94sShH7bDLP02Nw1TAx8g/6tH98U+ExT9w+Y8BlT7DP2oO7OTpucI/kM0kFZuywz8=",
          "dtype": "f8"
         }
        },
        {
         "line": {
          "width": 2
         },
         "mode": "lines",
         "opacity": 0.5,
         "type": "scatter3d",
         "x": {
          "bdata": "cYTVKK8NFUDSgU+yKyYVQIsPlmbhNBVA6aIDNBsyFUBlSx71YSAVQBXQpFkACxVAb8Rek2X/FEAks/GzRgUVQLqM1+AaGhVAG4pRapcyFUDUF5geTUEVQDKrBeyGPhVArlMgrc0sFUBe2KYRbBcVQLjMYEvRCxVAbbvza7IRFUADldmYhiYVQGSSUyIDPxVAHSCa1rhNFUB7swek8koVQPdbImU5ORVAp+CoydcjFUAB1WIDPRgVQLbD9SMeHhVATJ3bUPIyFUA=",
          "dtype": "f8"
         },
         "y": {
          "bdata": "JyVGwjKOBUD8q4L4w3kFQG8yh0eSYAVAN3AcEolCBUBmEbXSaSIFQBvG9tguBAVAMXtwxrbqBEDzeFk4FtYEQE4TP7SLwwRAI5p76hyvBECWIIA565UEQF5eFQTidwRAjf+txMJXBEBCtO/KhzkEQFhpabgPIARAGmdSKm8LBEB1ATim5PgDQEqIdNx15ANAvQ55K0TLA0CFTA72Oq0DQLPtprYbjQNAaKLovOBuA0B/V2KqaFUDQEFVSxzIQANAnO8wmD0uA0A=",
          "dtype": "f8"
         },
         "z": {
          "bdata": "jOZnkNzGEEC9NRG3bMoQQNgSkizo3BBAFUVhzuTyEECptrHs6v4QQGdxIOZY+RBAO563kNvkEEDtdQAP3cwQQEgOyBDVvhBAeV1xN2XCEECUOvKs4NQQQNFswU7d6hBAZN4RbeP2EEAimYBmUfEQQPbFFxHU3BBAqJ1gj9XEEEADNiiRzbYQQDSF0bdduhBAT2JSLdnMEECMlCHP1eIQQCAGcu3b7hBA3sDg5knpEECy7XeRzNQQQGTFwA/OvBBAv12IEcauEEA=",
          "dtype": "f8"
         }
        },
        {
         "line": {
          "width": 2
         },
         "mode": "lines",
         "opacity": 0.5,
         "type": "scatter3d",
         "x": {
          "bdata": "PzBUlIeG2j8HGNAZwgrZP+Z/YWdOFtg/9QUfTCo12D8gDCGaDVLZPxdUtp7hwto/+Bs222Os2z+qxYmAloLbP0DvmLzBWto/CNcUQvze2D/nPqaPiOrXP/XEY3RkCdg/IMtlwkcm2T8YE/vGG5faP/naegOegNs/q4TOqNBW2z9Art3k+y7aPwiWWWo2s9g/6P3qt8K+1z/2g6icnt3XPyCKquqB+tg/GNI/71Vr2j/5mb8r2FTbP6xDE9EKK9s/QW0iDTYD2j8=",
          "dtype": "f8"
         },
         "y": {
          "bdata": "XP0kHTs8EUCNavOKsUYRQL4WDF17SxFAvS7+x8BOEUBuR8SFjVURQPipvyjcYhFAgs1wZ9d1EUA+hUgNV4oRQEg8TGBPmxFAeakazsWlEUCqVTOgj6oRQKltJQvVrRFAWobryKG0EUDk6OZr8MERQG4MmKrr1BFAKsRvUGvpEUA0e3OjY/oRQGXoQRHaBBJAlpRa46MJEkCVrExO6QwSQEbFEgy2ExJA0CcOrwQhEkBaS7/t/zMSQBYDl5N/SBJAILqa5ndZEkA=",
          "dtype": "f8"
         },
         "z": {
          "bdata": "ICZ7Z7sJFkDknbUEHQMWQFgJZJ2o7RVAS65VrSjTFUDqNoZAXMAVQK15SIB/vRVAv8iWxHjJFUBU3qGRfdoVQDwQbtvO4xVAAIioeDDdFUB081YRvMcVQGeYSCE8rRVABiF5tG+aFUDJYzv0kpcVQNyyiTiMoxVAcMiUBZG0FUBY+mBP4r0VQBxym+xDtxVAkd1Jhc+hFUCDgjuVT4cVQCILbCiDdBVA5U0uaKZxFUD4nHysn30VQIyyh3mkjhVAdORTw/WXFUA=",
          "dtype": "f8"
         }
        },
        {
         "line": {
          "width": 2
         },
         "mode": "lines",
         "opacity": 0.5,
         "type": "scatter3d",
         "x": {
          "bdata": "rTVSY79VD0AUaR5hJ4QPQGprZo+Xsw9AT4ju46PKD0AKN5vkKb4PQIVywWzWlw9AEN9rxHpwD0AMMdb1gmEPQDHxG3sRdg9AmCToeHmkD0DuJjCn6dMPQNNDuPv16g9Aj/Jk/HveD0AJLouEKLgPQJSaNdzMkA9AkOyfDdWBD0C2rOWSY5YPQBzgsZDLxA9AcuL5vjv0D0Cr/8AJpAUQQBOuLhTO/g9AjelUnHrYD0AYVv/zHrEPQBSoaSUnog9AOmivqrW2D0A=",
          "dtype": "f8"
         },
         "y": {
          "bdata": "zGPyNjDT6D8za4lfYmnoPw6LynBodOg/X7dWXf/K6D+7dGsjoBfpP3S2MZmZCuk/ud9NJr+I6D+J/B7YU7vnP06IZ7De9+Y/tY/+2BCO5j+Rrz/qFpnmP+Hby9at7+Y/PZngnE485z/32qYSSC/nPzsEw59treY/DCGUUQLg5T/QrNwpjRzlPze0c1K/suQ/E9S0Y8W95D9jAEFQXBTlP7+9VRb9YOU/ef8bjPZT5T++KDgZHNLkP45FCcuwBOQ/UtFRoztB4z8=",
          "dtype": "f8"
         },
         "z": {
          "bdata": "aC4liR6vIkCtQybwM64iQG9v0AAJqCJAx91ayTudIkArHF9AIZEiQNp7V53RhyJADMWmUMKDIkCoyxVMVYQiQDgCC5k1hiJAfRcMAEuFIkBAQ7YQIH8iQJixQNlSdCJA++9EUDhoIkCqTz2t6F4iQNyYjGDZWiJAeJ/7W2xbIkAJ1vCoTF0iQE7r8Q9iXCJAEBecIDdWIkBohSbpaUsiQMzDKmBPPyJAeyMjvf81IkCtbHJw8DEiQElz4WuDMiJA2qnWuGM0IkA=",
          "dtype": "f8"
         }
        },
        {
         "line": {
          "width": 2
         },
         "mode": "lines",
         "opacity": 0.5,
         "type": "scatter3d",
         "x": {
          "bdata": "ySIGEAN38z+L8QfMfhLzP6v3dQPHyvI/0uXhWUS08j+1ctw5jMbyP/MhMvVO4fI/1JkbNUXf8j+tKQdWBqzyP8saZO38T/I/jellqXjr8T+s79PgwKPxP9TdPzc+jfE/t2o6F4af8T/1GZDSSLrxP9aReRI/uPE/ryFlMwCF8T/MEsLK9ijxP47hw4ZyxPA/rucxvrp88D/V1Z0UOGbwP7himPR/ePA/9hHur0KT8D/XidfvOJHwP7AZwxD6XfA/zgogqPAB8D8=",
          "dtype": "f8"
         },
         "y": {
          "bdata": "2eev+vwDGUA2lZ778wkZQLNs5Eq8HRlAt2Xj/TAzGUATDyA4Mj0ZQJUug1RVNRlA9iOPIqcfGUDQ9+GMTAgZQFIb929l/BhAr8jlcFwCGUAsoCvAJBYZQDCZKnOZKxlAjUJnrZo1GUAOYsrJvS0ZQHBX1pcPGBlASispArUAGUDMTj7lzfQYQCn8LObE+hhAptNyNY0OGUCqzHHoASQZQAZ2riIDLhlAiJURPyYmGUDqih0NeBAZQMRecHcd+RhARoKFWjbtGEA=",
          "dtype": "f8"
         },
         "z": {
          "bdata": "FWML2zN9AUA9YbjWSYsBQGfiN8tdhwFA/97dC2RpAUCSjHHxkzgBQFVrmbMtBwFAFMfufMnnAEBmpx36cuIAQLzWXtLy7wBA49QLzgj+AEANVovCHPoAQKZSMQMj3ABAOQDF6FKrAED73uyq7HkAQLs6QnSIWgBADBtx8TFVAEBiSrLJsWIAQIpIX8XHcABAtMneudtsAEBMxoT64U4AQN9zGOARHgBAQ6WARFfZ/z/DXCvXjpr/P2UdidHhj/8/EnwLguGq/z8=",
          "dtype": "f8"
         }
        },
        {
         "line": {
          "width": 2
         },
         "mode": "lines",
         "opacity": 0.5,
         "type": "scatter3d",
         "x": {
          "bdata": "uwcgZWv+9j+bteiGjAf3P+WvyVmi/PY/D5F4Eh7L9j8+QtuyDXf2P+2QD/27GPY/NJMrlnXO9T+arnlJyar1P/v5ExWpqfU/3KfcNsqy9T8lor0J4Kf1P1CDbMJbdvU/fzTPYksi9T8ugwOt+cP0P3WFH0azefQ/2qBt+QZW9D887AfF5lT0Pxya0OYHXvQ/ZpSxuR1T9D+RdWBymSH0P78mwxKJzfM/bnX3XDdv8z+1dxP28CTzPxuTYalEAfM/fN77dCQA8z8=",
          "dtype": "f8"
         },
         "y": {
          "bdata": "EZ8iZ4kTEUBVrsKT9v8QQDtuJXpu5RBALV07LsjQEECVeamvaMsQQNYfABnC1RBAdRWUyBDnEEAI3HSqffIQQCV1/b6j7hBAaYSd6xDbEEBPRADSiMAQQEEzFobiqxBAqU+EB4OmEEDq9dpw3LAQQInrbiArwhBAHLJPApjNEEA5S9gWvskQQH1aeEMrthBAYxrbKaObEEBVCfHd/IYQQL0lX1+dgRBA/su1yPaLEECdwUl4RZ0QQDCIKlqyqBBATSGzbtikEEA=",
          "dtype": "f8"
         },
         "z": {
          "bdata": "W/RUgZwwIkCYTunUqzkiQEIbrw7SOiJA8mB50Pc0IkDdCxe9Hy0iQMfPhx53KSJARSHHmbctIkC8+QGN+DgiQPhsaVU3RiJANsf9qEZPIkDfk8PibFAiQJDZjaSSSiJAe4QrkbpCIkBkSJzyET8iQOOZ221SQyJAWnIWYZNOIkCW5X0p0lsiQNQ/En3hZCJAfQzYtgdmIkAuUqJ4LWAiQBj9P2VVWCJAAsGwxqxUIkCAEvBB7VgiQPfqKjUuZCJANF6S/WxxIkA=",
          "dtype": "f8"
         }
        },
        {
         "line": {
          "width": 2
         },
         "mode": "lines",
         "opacity": 0.5,
         "type": "scatter3d",
         "x": {
          "bdata": "XsupH3oT6T+PwBn/CjLpP/WjuPc0r+k/S8UTkN1u6j9iiWyv9i3rP6FVX0jGqes/qjMjyPzG6z/E0yqotKHrPxzRNAH8fOs/Tcak4Iyb6z+0qUPZthjsPwnLnnFf2Ow/IY/3kHiX7T9fW+opSBPuP2g5rql+MO4/gtm1iTYL7j/b1r/ifebtPwzML8IOBe4/cq/OujiC7j/I0ClT4UHvP3BKQTl9APA/j7C6BWU+8D+Tn5xFAE3wP6FvoDVcOvA/TW4l4v8n8D8=",
          "dtype": "f8"
         },
         "y": {
          "bdata": "4Lg2l0scIUBNwrlumBYhQMzvVcOUFyFAceOfTj4cIUCjdohwax8hQLp7CWDRHCFAwFxx0ocTIUCfdysOkQYhQPLyRrMW+yBAX/zJimP1IEDeKWbfX/YgQIMdsGoJ+yBAtbCYjDb+IEDMtRl8nPsgQNKWge5S8iBAsrE7KlzlIEAELVfP4dkgQHE22qYu1CBA8GN2+yrVIECVV8CG1NkgQMfqqKgB3SBA3u8pmGfaIEDk0JEKHtEgQMTrS0YnxCBAFmdn66y4IEA=",
          "dtype": "f8"
         },
         "z": {
          "bdata": "C07zMFsJI0CaVi6XZf0iQGNdq46U8iJA2AiyxtjuIkAQltjA/PMiQNgJ0TqY/iJAZ3+HIw8II0BKULTLcAojQGo/wbHyAyNA+Uf8F/33IkDCTnkPLO0iQDf6f0dw6SJAb4emQZTuIkA3+567L/kiQMZwVaSmAiNAqUGCTAgFI0DJMI8yiv4iQFg5ypiU8iJAIUBHkMPnIkCW603IB+QiQM54dMIr6SJAluxsPMfzIkAlYiMlPv0iQAgzUM2f/yJAKCJdsyH5IkA=",
          "dtype": "f8"
         }
        },
        {
         "line": {
          "width": 2
         },
         "mode": "lines",
         "opacity": 0.5,
         "type": "scatter3d",
         "x": {
          "bdata": "itfOt9b9BkBXQsbij/QGQCo/mPr9DAdAFw3ZsN41B0CzNh0xTVQHQI6OMCuDUwdAZFRpOAQxB0AfSTOnEv4GQCzi+UuT1QZA+EzxdkzMBkDLScOOuuQGQLgXBEWbDQdAVEFIxQksB0AwmVu/PysHQAVflMzACAdAwFNeO8/VBkDN7CTgT60GQJlXHAsJpAZAbFTuIne8BkBaIi/ZV+UGQPVLc1nGAwdA0aOGU/wCB0Cmab9gfeAGQGFeic+LrQZAbvdPdAyFBkA=",
          "dtype": "f8"
         },
         "y": {
          "bdata": "vRL5ytJ9BkC+iJxof50GQDlgBw6ksAZABvhTfamlBkBiOx2YnXwGQN9I1z0rRwZA4fTJ20AeBkCR4NqvdRMGQLIgb9i7JgZAs5YSdmhGBkAubn0bjVkGQPsFyoqSTgZAV0mTpYYlBkDUVk1LFPAFQNYCQOkpxwVAhu5QvV68BUCnLuXlpM8FQKikiINR7wVAI3zzKHYCBkDwE0CYe/cFQExXCbNvzgVAyWTDWP2YBUDMELb2EnAFQHv8xspHZQVAnDxb8414BUA=",
          "dtype": "f8"
         },
         "z": {
          "bdata": "XG7gIdeiH0B+511h67cfQAzhEq27zR9AVPZ1oyDeH0CEHFWRH+YfQIw1Vjmp5x9AKM4f1XboH0ALSzvGr+4fQAW32r9O/R9AFBisfzEJIEDblIalGRQgQH8fuCBMHCBAl7Knl0sgIEAbP6hrECEgQGkLjTl3ISBA2skaspMkIEDYf+ou4ysgQGk8qU5tNiBAMLmDdFVBIEDUQ7Xvh0kgQOzWpGaHTSBAcGOlOkxOIEC+L4oIs04gQC/uF4HPUSBALaTn/R5ZIEA=",
          "dtype": "f8"
         }
        },
        {
         "line": {
          "width": 2
         },
         "mode": "lines",
         "opacity": 0.5,
         "type": "scatter3d",
         "x": {
          "bdata": "2vbvdpFRIkAqETNvqEgiQAmG4cKzQyJAnCGe59lGIkAuIcrsgVEiQGkdmBKtXiJAFb/63ONnIkANOk/W/2giQAZRNO+ZYiJAVmt357BZIkA14CU7vFQiQMh74l/iVyJAWnsOZYpiIkCVd9yKtW8iQEEZP1XseCJAOZSTTgh6IkAyq3hnonMiQILFu1+5aiJAYTpqs8RlIkD01SbY6mgiQIbVUt2ScyJAwdEgA76AIkBtc4PN9IkiQGXu18YQiyJAXgW936qEIkA=",
          "dtype": "f8"
         },
         "y": {
          "bdata": "uAjcn1GQBEDJj85FUrAEQI7yeAhUuwRA+qzOvhG3BECtENuHN7IEQKNT0oHKuwRA5LoRX1zaBEB/yqVIMggFQNMwgx+gNgVA5Ld1xaBWBUCpGiCIomEFQBXVdT5gXQVAyDiCB4ZYBUC9e3kBGWIFQP/iuN6qgAVAmvJMyICuBUDtWCqf7twFQP/fHEXv/AVAxELHB/EHBkAw/Ry+rgMGQONgKYfU/gVA2KMggWcIBkAaC2Be+SYGQLQa9EfPVAZACIHRHj2DBkA=",
          "dtype": "f8"
         },
         "z": {
          "bdata": "LiNbwqQNB0AcvvBZkCUHQF5frhQRVgdASJAPKe6JB0CkgE/S9qkHQE4yHv6XqgdApN3EBqSSB0BS+ce1U3cHQI5V7M/XbwdAfPCBZ8OHB0C+kT8iRLgHQKjCoDYh7AdABLPg3ykMCECuZK8LywwIQAQQVhTX9AdAsitZw4bZB0Duh33dCtIHQNwiE3X26QdAHsTQL3caCEAI9TFEVE4IQGTlce1cbghADpdAGf5uCEBkQuchClcIQBJe6tC5OwhATroO6z00CEA=",
          "dtype": "f8"
         }
        },
        {
         "line": {
          "width": 2
         },
         "mode": "lines",
         "opacity": 0.5,
         "type": "scatter3d",
         "x": {
          "bdata": "0uUgO+7dGEDSpCQA+9QYQMXWSQw4xRhAy2CS4fCwGEDc5W5NFp0YQGxaSIFZjhhACVwAbmyGGECUBZWRA4MYQBO0lR4ufxhAE3OZ4zp2GEAGpb7vd2YYQAwvB8UwUhhAHbTjMFY+GECtKL1kmS8YQEoqdVGsJxhA1NMJdUMkGEBUggoCbiAYQFNBDsd6FxhAR3Mz07cHGEBN/XuocPMXQF2CWBSW3xdA7vYxSNnQF0CL+Ok07MgXQBWifliDxRdAlVB/5a3BF0A=",
          "dtype": "f8"
         },
         "y": {
          "bdata": "4UlhJEtQF0DLi/TEiDgXQP9HcttXJBdAiroMcCAfF0CX91DvhCsXQPQRoRjXQRdACLIGzJdUF0DEm08BX1gXQP+67kuKShdA6vyB7McyF0Aeuf8Clx4XQKkrmpdfGRdAtWjeFsQlF0ASgy5AFjwXQCYjlPPWThdA4wzdKJ5SF0AeLHxzyUQXQAhuDxQHLRdAPCqNKtYYF0DHnCe/nhMXQNTZaz4DIBdAMfS7Z1U2F0BFlCEbFkkXQAJ+alDdTBdAPZ0Jmwg/F0A=",
          "dtype": "f8"
         },
         "z": {
          "bdata": "KnUjyTPMAUAokXXQObsBQLtaaPfJygFAy9F8hybsAUBtzc60JAYCQHrVZLjqAwJA8y9anCbhAUDu3C0XlqwBQFcFxPRjfwFAVSEW/GluAUDo6ggj+n0BQPhhHbNWnwFAml1v4FS5AUCnZQXkGrcBQCDA+sdWlAFAG23OQsZfAUCElWQglDIBQIOxtieaIQFAFXupTioxAUAl8r3ehlIBQMftDwyFbAFA1PWlD0tqAUBNUJvzhkcBQEn9bm72EgFAsiUFTMTlAEA=",
          "dtype": "f8"
         }
        },
        {
         "line": {
          "width": 2
         },
         "mode": "lines",
         "opacity": 0.5,
         "type": "scatter3d",
         "x": {
          "bdata": "iRkMmayuIED0Dwej2LAgQIvZin5muSBA5v+f6lHCIEA/KzjXX8UgQEJh58LEvyBAGMQN3cezIEAqyqJmbacgQD7LtG/woCBAqsGveRyjIEBBizNVqqsgQJuxSMGVtCBA9dzgraO3IED3EpCZCLIgQM11trMLpiBA4HtLPbGZIED0fF1GNJMgQF9zWFBglSBA9jzcK+6dIEBRY/GX2aYgQKqOiYTnqSBArcQ4cEykIECDJ1+KT5ggQJUt9BP1iyBAqS4GHXiFIEA=",
          "dtype": "f8"
         },
         "y": {
          "bdata": "TjtYrBkfI0Cy4xCzsBUjQKJqZT2ZEiNAIX+zxlcYI0CeZ2y+QyQjQHAHdzIWMCNAtcjlIpc1I0Br/FoUQjIjQCRcZZe/KCNAiAQenlYfI0B3i3IoPxwjQPefwLH9ISNAdIh5qektI0BFKIQdvDkjQIvp8g09PyNAQR1o/+c7I0D5fHKCZTIjQF0lK4n8KCNATax/E+UlI0DMwM2coysjQEmphpSPNyNAG0mRCGJDI0BgCgD54kgjQBY+deqNRSNAz51/bQs8I0A=",
          "dtype": "f8"
         },
         "z": {
          "bdata": "+QSM+kaoBEA4R4GBWc0EQOSVPDeh9ARAGDXvdUYVBUDRp9qHVCoFQAULvtigNQVAzGHb+rc+BUALaAGUcU4FQMSa7lnCaQVAA93j4NSOBUCvK5+WHLYFQOPKUdXB1gVAnD0958/rBUDQoCA4HPcFQJf3PVozAAZA1v1j8+wPBkCPMFG5PSsGQM5yRkBQUAZAesEB9pd3BkCuYLQ0PZgGQGjTn0ZLrQZAmzaDl5e4BkBijaC5rsEGQKGTxlJo0QZAWsazGLnsBkA=",
          "dtype": "f8"
         }
        },
        {
         "line": {
          "width": 2
         },
         "mode": "lines",
         "opacity": 0.5,
         "type": "scatter3d",
         "x": {
          "bdata": "TEP2thWcGkDSDMXZJ7IaQMYXn9HJzBpAD5C94WfgGkB5CK5RiuUaQLFyd0k13RpAe5s1bFDQGkDwVq92b8oaQEMSVyEK0xpAytslRBzpGkC+5v87vgMbQAZfHkxcFxtAcdcOvH4cG0CoQdizKRQbQHJqltZEBxtA6CUQ4WMBG0A74beL/gkbQMGqhq4QIBtAtbVgprI6G0D+LX+2UE4bQGimbyZzUxtAoBA5Hh5LG0BqOfdAOT4bQN/0cEtYOBtAMrAY9vJAG0A=",
          "dtype": "f8"
         },
         "y": {
          "bdata": "JplJ9aR8xz8O2ZSy2vHHP0jio6D7Esg/QEHO4GAMxz/MrIscoLfEPyWz11cMssE/WuC/xBoBvj/trpk1lO26P1dkTa9Zdro/KOTjKcVguz+b9gEGB6O7P4y0VobRlbk/pIvR/U/stD+mMNPoUMKtP8ok9BJV/KI/4oNP6Y+qmT+KWR7Qpc2XP8xYeLpTd5s/mqLwKluAnD9gmkMshUuUPwBs76LwV1o/hNZwGx+Hlr8ad5djiwmmv/zZ44GYMKy/JG98jg0frb8=",
          "dtype": "f8"
         },
         "z": {
          "bdata": "5HBPM7XbG0DV/22naOobQCRFxtXm5xtAAAmVoqPXG0AS5A+5IcUbQEjvB200vRtAH0TGZnzGG0BqGg7Chd0bQIDZqdPN9htAcGjIR4EFHEC/rSB2/wIcQJtx70K88htArUxqWTrgG0DjV2INTdgbQLusIAeV4RtABoNoYp74G0AbQgR05hEcQAvRIuiZIBxAWxZ7FhgeHEA22knj1A0cQEi1xPlS+xtAfsC8rWXzG0BWFXunrfwbQKHrwgK3ExxAtqpeFP8sHEA=",
          "dtype": "f8"
         }
        },
        {
         "line": {
          "width": 2
         },
         "mode": "lines",
         "opacity": 0.5,
         "type": "scatter3d",
         "x": {
          "bdata": "2Wb5JyNR+D9efZJbb4n4Pw5PalO13/g/E3FXH/U6+T8P6i6eRH/5PyiG2Jgpnvk/FmdDzxSf+T+w95gxBpv5P1ExBOHnrfk/1kedFDTm+T+GGXUMejz6P4o7Yti5l/o/h7Q5Vwnc+j+gUONR7vr6P44xTojZ+/o/KMKj6sr3+j/J+w6arAr7P04SqM34Qvs//uN/xT6Z+z8CBm2RfvT7P/9+RBDOOPw/GBvuCrNX/D8G/FhBnlj8P6CMrqOPVPw/QcYZU3Fn/D8=",
          "dtype": "f8"
         },
         "y": {
          "bdata": "jKxoBrJ5IkBuNMc8TG8iQFDZmaHwZyJAdI1L0ptoIkCOGEnAlnEiQBp+XfZLfiJApsb9/faHIkDx/745m4kiQEViNLjvgiJAJ+qS7ol4IkAJj2VTLnEiQC1DF4TZcSJAR84UctR6IkDTMymoiYciQF98ya80kSJAqbWK69iSIkD9FwBqLYwiQOCfXqDHgSJAwkQxBWx6IkDm+OI1F3siQACE4CMShCJAjOn0WceQIkAYMpVhcpoiQGJrVp0WnCJAts3LG2uVIkA=",
          "dtype": "f8"
         },
         "z": {
          "bdata": "mpSiSdF5IEAjHvFiLXUgQAv8rLUheCBA3xPdsBp/IEBc7pswKoQgQIuLasyAgiBAWtTLLj95IEA+47jo+GsgQHkvFx6cYCBAArllN/hbIEDqliGK7F4gQL6uUYXlZSBAO4kQBfVqIEBqJt+gS2kgQDpvQAMKYCBAHn4tvcNSIEBZyovyZkcgQOFT2gvDQiBAyjGWXrdFIECdScZZsEwgQBokhdm/USBAScFTdRZQIEAZCrXX1EYgQP0YopGOOSBAOGUAxzEuIEA=",
          "dtype": "f8"
         }
        },
        {
         "line": {
          "width": 2
         },
         "mode": "lines",
         "opacity": 0.5,
         "type": "scatter3d",
         "x": {
          "bdata": "sZ2VjtjiBUCE3j0MRbsFQEXW4EfJrgVAvNjQYA7GBUCYqKrWy/QFQKf59Ir5IAZAyJNEgQ8yBkAzI0eaZB8GQDjlX1ZB9QVADCYI1K3NBUDMHasPMsEFQEMgmyh32AVAIPB0njQHBkAuQb9SYjMGQFDbDkl4RAZAumoRYs0xBkDALCoeqgcGQJNt0psW4AVAVGV115rTBUDLZ2Xw3+oFQKc3P2adGQZAtoiJGstFBkDXItkQ4VYGQEKy2yk2RAZASHT05RIaBkA=",
          "dtype": "f8"
         },
         "y": {
          "bdata": "il87QdpxF0DY8cmafW8XQLWy0XyMdhdA09smlsZ9F0DDIuJE0nsXQAM6rb62bBdAsyL/ry9UF0AjowNqfTsXQMAFoo75KxdADpgw6JwpF0DrWDjKqzAXQAmCjePlNxdA+chIkvE1F0A54BMM1iYXQOnIZf1ODhdAWElqt5z1FkD2qwjcGOYWQEQ+lzW84xZAIf+eF8vqFkA/KPQwBfIWQC9vr98Q8BZAb4Z6WfXgFkAfb8xKbsgWQI7v0AS8rxZALFJvKTigFkA=",
          "dtype": "f8"
         },
         "z": {
          "bdata": "X0lshKhFI0BPzwh/mE4jQKUV6NwfWyNAltwdBaBmI0DxbAGOFG0jQP4jUattbSNApBpeZS9qI0CvkBRV+GcjQFE9HeTMaiNAQsO53rxzI0CXCZk8RIAjQInQzmTEiyNA5GCy7TiSI0DwFwILkpIjQJcOD8VTjyNAooTFtByNI0BDMc5D8Y8jQDS3aj7hmCNAiv1JnGilI0B7xH/E6LAjQNZUY01dtyNA4guzara3I0CJAsAkeLQjQJR4dhRBsiNANiV/oxW1I0A=",
          "dtype": "f8"
         }
        },
        {
         "line": {
          "width": 2
         },
         "mode": "lines",
         "opacity": 0.5,
         "type": "scatter3d",
         "x": {
          "bdata": "3BSrjoxTDUBXY7Ac0WsNQP4s8tX0lw1AkZFMEIrJDUC8/9rV8u4NQPVqo8Sy/Q1AAlsviJP4DUAjsKLKAu4NQK374YGe7w1AKErnD+MHDkDPEynJBjQOQGJ4gwOcZQ5AjeYRyQSLDkDGUdq3xJkOQNNBZnullA5A9JbZvRSKDkB+4hh1sIsOQPkwHgP1ow5AoPpfvBjQDkAzX7r2rQEPQF7NSLwWJw9AlzgRq9Y1D0CkKJ1utzAPQMV9ELEmJg9AT8lPaMInD0A=",
          "dtype": "f8"
         },
         "y": {
          "bdata": "yFBeCU3KHUBqRPchdMUdQEgIOo4JzB1AvVhrllfVHUAcnmJyENcdQDSbz3ZXyx1AEMiSJzC0HUBVaGc8UJodQK8Tdn0FiB1AUQcPliyDHUAvy1ECwokdQKQbgwoQkx1AA2F65siUHUAbXufqD4kdQPeKqpvocR1APCt/sAhYHUCW1o3xvUUdQDjKJgrlQB1AFo5pdnpHHUCL3pp+yFAdQOojklqBUh1AAiH/XshGHUDeTcIPoS8dQCPuliTBFR1AfZmlZXYDHUA=",
          "dtype": "f8"
         },
         "z": {
          "bdata": "YvuPeTld6z9OBUlJJRjsPzwpdR9Shew/gJoJMd1l7D8tFOoLRc3rP24ExDD+Fes/rdoqT3as6j+WYykykM/qPxbk20vNa+s/Ae6UG7km7D/wEcHx5ZPsPzSDVQNxdOw/4fw13tjb6z8i7Q8DkiTrP2DDdiEKu+o/SUx1BCTe6j/JzCceYXrrP7XW4O1MNew/o/oMxHmi7D/na6HVBIPsP5TlgbBs6us/1dVb1SUz6z8UrMLzncnqP/w0wda37Oo/fLVz8PSI6z8=",
          "dtype": "f8"
         }
        },
        {
         "line": {
          "width": 2
         },
         "mode": "lines",
         "opacity": 0.5,
         "type": "scatter3d",
         "x": {
          "bdata": "uzfyIOCjAECej/PMcXoAQOS5uM9wSgBAFb3wVb8jAECYK3JRyxAAQPLtx3RyEABA6N1ZQawWAED09HiKlhMAQFpBnbyG+f8/IPGfFKqm/z+uRSoaqEb/Pw5MmiZF+f4/FimdHV3T/j/JrUhkq9L+P7SNbP0e3/4/zbuqj/PY/j8/E1Y3Tav+PwXDWI9wWP4/khfjlG74/T/zHVOhC6v9P/r6VZgjhf0/rn8B33GE/T+ZXyV45ZD9P7KNYwq6iv0/JOUOshNd/T8=",
          "dtype": "f8"
         },
         "y": {
          "bdata": "N4ByUF1BHUD7Dndlnk4dQDFCImsvSh1AapgbrrI3HUCb3fz/BSMdQOCH/DNPGR1Aso1Vd0ghHUCCcGB9TzcdQFlkg3SGTx1AHfOHicdcHUBTJjOPWFgdQI18LNLbRR1AvsENJC8xHUADbA1YeCcdQNVxZptxLx1ApFRxoXhFHUB7SJSYr10dQD/XmK3wah1AdgpEs4FmHUCvYD32BFQdQOClHkhYPx1AJVAefKE1HUD3VXe/mj0dQMY4gsWhUx1AniylvNhrHUA=",
          "dtype": "f8"
         },
         "z": {
          "bdata": "fBQEYZXWFUC2a87sAcwVQMxxyvwCwRVAx+IA7z7AFUDIQjMGXs4VQIrj2QBQ5xVAb9VOd60AFkBvXIkL0A8WQGr0x3oPEBZAo0uSBnwFFkC6UY4WffoVQLTCxAi5+RVAtSL3H9gHFkB3w50ayiAWQFy1EpEnOhZAXTxNJUpJFkBY1IuUiUkWQJErViD2PhZApzFSMPczFkCioogiMzMWQKMCuzlSQRZAZaNhNERaFkBKldaqoXMWQEscET/EghZARbRPrgODFkA=",
          "dtype": "f8"
         }
        },
        {
         "line": {
          "width": 2
         },
         "mode": "lines",
         "opacity": 0.5,
         "type": "scatter3d",
         "x": {
          "bdata": "aGozhVf/B0CZFO3ay9MHQHqiqKyBoAdA3erXf8N/B0CqU7CI/oAHQJC+TEa5nwdAx0XnhzLGB0B8Eg7IH9oHQMa+i9ITzAdA+GhFKIigB0DY9gD6PW0HQDs/MM1/TAdACagI1rpNB0DvEqWTdWwHQCaaP9XukgdA2mZmFdymB0AlE+Qf0JgHQFa9nXVEbQdAN0tZR/o5B0Cak4gaPBkHQGf8YCN3GgdATWf94DE5B0CE7pciq18HQDm7vmKYcwdAg2c8bYxlB0A=",
          "dtype": "f8"
         },
         "y": {
          "bdata": "wRJO4NnoIEDXd5mjbu4gQE2ddbUG8SBAp8t2hJfyIECGTS+2sPUgQBSjhhX8+yBAQDhNJkQFIUCKxO55kw8hQE/92GpaGCFAZWIkLu8dIUDbhwBAhyAhQDW2AQ8YIiFAFDi6QDElIUCijRGgfCshQM8i2LDENCFAGK95BBQ/IUDd52P12kchQPNMr7hvTSFAanKLygdQIUDDoIyZmFEhQKIiRcuxVCFAMHicKv1aIUBdDWM7RWQhQKaZBI+UbiFAa9Luf1t3IUA=",
          "dtype": "f8"
         },
         "z": {
          "bdata": "LS06MHMdHkAShq03lhIeQN99TzdAGB5AxGmV9jItHkCw2/ozPEceQFiic7IuWR5AF8q9OJpaHkC+/WP/vEweQF+r6kfJOR5ARAReT+wuHkAR/P9OljQeQPbnRQ6JSR5A4lmrS5JjHkCKICTKhHUeQElIblDwdh5A8HsUFxNpHkCRKZtfH1YeQHaCDmdCSx5AQ3qwZuxQHkAoZvYl32UeQBTYW2Pofx5AvJ7U4dqRHkB7xh5oRpMeQCL6xC5phR5Aw6dLd3VyHkA=",
          "dtype": "f8"
         }
        },
        {
         "line": {
          "width": 2
         },
         "mode": "lines",
         "opacity": 0.5,
         "type": "scatter3d",
         "x": {
          "bdata": "+64B7LDYIkCh5U8nhuMiQBacGdqi7SJAbVey33b0IkAumGWIXvciQFYdFnwC+CJAsCJL+F75IkAnI7EhBP4iQDSe/KeVBiNA29RK42oRI0BPixSWhxsjQKZGrZtbIiNAZ4dgREMlI0CPDBE45yUjQOkRRrRDJyNAYBKs3egrI0BtjfdjejQjQBTERZ9PPyNAiHoPUmxJI0DgNahXQFAjQKB2WwAoUyNAyPsL9MtTI0AiAUFwKFUjQJkBp5nNWSNAp3zyH19iI0A=",
          "dtype": "f8"
         },
         "y": {
          "bdata": "has80dvDzD92ORQQ5pbOPw4fUoguGNA/HCdsmh0b0D/c5xrU5jrOP6KQEQdm/co/ssJPeHj5xz9L6enFI4nGP16GdZgBGsc/ThRN1wvtyD/0GN3XgobKPxIpEfxgjMo/tsJTmwyRyD96a0rOi1PFP4ydiD+eT8I/JcQijUnfwD83Ya5fJ3DBPyjvhZ4xQ8M/zvMVn6jcxD/rA0rDhuLEP4+djGIy58I/qIwGK2NTvz/O8IINiEu5P/w9t6jearY/IHjOTZqMtz8=",
          "dtype": "f8"
         },
         "z": {
          "bdata": "Hl/gEmAPsz+WAwh06pixPwwUxfiqmLQ/2nROzjtauj/c7RVewou/P39cNkLil8A/Ihguh5Bdvj/vJiM5jMm4P4Yd2jCSxbM//sEBkhxPsj900r4W3U61P0AzSOxtELs/ItYHPvogwD+0OzNR+/LAP4zWJ6XCE78/WuUcV75/uT/w29NOxHu0P2eA+69OBbM/3ZC4NA8Ftj+o8UEKoMa7P1e1BE0TfMA/6BowYBROwT/4lCHD9Mm/P8SjFnXwNbo/WZrNbPYxtT8=",
          "dtype": "f8"
         }
        },
        {
         "line": {
          "width": 2
         },
         "mode": "lines",
         "opacity": 0.5,
         "type": "scatter3d",
         "x": {
          "bdata": "+oFtJyQ9C0D2NB8yGUwLQIk0O8f9UAtA4n2tpk8+C0BQunOdWxQLQFPyeIgQ4QpAwd0T6dW3CkBof1j/LaYKQPktSf7LqwpA9eD6CMG6CkCI4Baepb8KQOEpiX33rApAT2ZPdAODCkBTnlRfuE8KQMCJ7799JgpAZys01tUUCkD52STVcxoKQPWM1t9oKQpAh4zydE0uCkDg1WRUnxsKQE4SK0ur8QlAUkowNmC+CUC/NcuWJZUJQGbXD619gwlA+IUArBuJCUA=",
          "dtype": "f8"
         },
         "y": {
          "bdata": "r5LTrWRUIEBLbH197UggQNpZphnfOyBAlqG8nIgyIEA8Ua+ECzAgQP71IjKGMyBAzYYXE5g4IEBvvR4N8jkgQCiMSaJyNCBAw2XzcfsoIEBTUxwO7RsgQA+bMpGWEiBAtEoleRkQIEB375gmlBMgQEWAjQemGCBA57aUAQAaIECghb+WgBQgQDtfaWYJCSBAlpkkBfb3H0APKVELSeUfQFmINttO4B9A39EdNkTnH0B88wb4Z/EfQL9gFewb9B9AMf5qFh3pH0A=",
          "dtype": "f8"
         },
         "z": {
          "bdata": "zxy5wh3XIUB+P2MkT9EhQMUs4zn+0yFAnwGMhF7cIUBCR+XoTeQhQD5vC27s5SFAosxbPw3fIUBzQoPbfNIhQHxH+l1dxiFALGqkv47AIUBzVyTVPcMhQE0szR+eyyFA73EmhI3TIUDrmUwJLNUhQE/3nNpMziFAIW3EdrzBIUApcjv5nLUhQNmU5VrOryFAIIJlcH2yIUD6Vg673bohQJ2cZx/NwiFAmMSNpGvEIUD9Id51jL0hQM6XBRL8sCFA15x8lNykIUA=",
          "dtype": "f8"
         }
        },
        {
         "line": {
          "width": 2
         },
         "mode": "lines",
         "opacity": 0.5,
         "type": "scatter3d",
         "x": {
          "bdata": "CUO/6UwRA0DJ+c2M/eACQExPf08nyQJAd4oqpjrQAkDDIXtajOoCQAvLwGkrAQNAkNVjWVH/AkBu+gy1jd4CQCvDELOLqgJA63kfVjx6AkBuz9AYZmICQJgKfG95aQJA5KHMI8uDAkAtSxIzapoCQLJVtSKQmAJAkHpefsx3AkBMQ2J8ykMCQA36cB97EwJAkE8i4qT7AUC6is04uAICQAYiHu0JHQJATstj/KgzAkDU1QbszjECQLL6r0cLEQJAbsOzRQndAUA=",
          "dtype": "f8"
         },
         "y": {
          "bdata": "P3i6vlXNGEA7/gLKO9MYQP9I3Fh85BhAWzxz9cX8GECsFI4hqBMZQMtQ9eyEIRlAIMjLNAckGUDfluRugB8ZQKeAeRlhHBlAowbCJEciGUBoUZuzhzMZQMNEMlDRSxlAFR1NfLNiGUAzWbRHkHAZQIjQio8ScxlAR5+jyYtuGUAQiTh0bGsZQAsPgX9ScRlA0FlaDpOCGUArTfGq3JoZQH0lDNe+sRlAm2Fzopu/GUDx2EnqHcIZQK+nYiSXvRlAeJH3zne6GUA=",
          "dtype": "f8"
         },
         "z": {
          "bdata": "Gbgsw1hvAkCoB1LmgVsCQFiQOPk4OgJA6osxKNgkAkBnwPsUwC0CQH6v7e2TVQJAdWUe19mKAkCJqDykN7QCQLGyibNMvwJAQAKv1nWrAkDwipXpLIoCQIKGjhjMdAJA/7pYBbR9AkAWqkreh6UCQAxge8fN2gJAIKOZlCsEA0BJreajQA8DQNj8C8dp+wJAh4Xy2SDaAkAZgesIwMQCQJe1tfWnzQJArqSnznv1AkCkWti3wSoDQLid9oQfVANA4KdDlDRfA0A=",
          "dtype": "f8"
         }
        },
        {
         "line": {
          "width": 2
         },
         "mode": "lines",
         "opacity": 0.5,
         "type": "scatter3d",
         "x": {
          "bdata": "NTcw01RXA0BX5B6YYSoDQMU/YkYqFwNApH6b1tYnA0BcBFYeiVEDQFk0UJG6egNACrb1GjCKA0BIVKXCwXUDQK6r07JNSANA0FjCd1obA0A9tAUmIwgDQB3zPrbPGANA1Xj5/YFCA0DSqPNws2sDQIMqmfooewNAwchIorpmA0AnIHeSRjkDQEnNZVdTDANAtiipBRz5AkCWZ+KVyAkDQE7tnN16MwNASx2XUKxcA0D7njzaIWwDQDo97IGzVwNAoJQacj8qA0A=",
          "dtype": "f8"
         },
         "y": {
          "bdata": "6tu25ttEFEAffnIKtUgUQOCTL1qWVxRAVfc3JLFlFEAIA4ABq2cUQKvwoV1EWRRAwWrCjdU/FEAjl5dDLScUQEcbLealGhRAfL3oCX8eFEA906VZYC0UQLM2riN7OxRAZkL2AHU9FEAIMBhdDi8UQB+qOI2fFRRAgdYNQ/f8E0ClWqPlb/ATQNr8XglJ9BNAmxIcWSoDFEAQdiQjRREUQMOBbAA/ExRAZm+OXNgEFEB86a6MaesTQN4VhELB0hNAA5oZ5TnGE0A=",
          "dtype": "f8"
         },
         "z": {
          "bdata": "u3g0ok3ZEEACUfM2VOcQQI6xSOZm+xBAmaBcq5IQEUA9PHjZPyERQN1F28N4KhFAOMenk6UtEUAUurVNuS8RQFgAvJ5LNhFAnth6M1JEEUArOdDiZFgRQDYo5KeQbRFA2sP/1T1+EUB6zWLAdocRQNVOL5CjihFAsUE9SreMEUD1h0ObSZMRQDtgAjBQoRFAyMBX32K1EUDTr2ukjsoRQHdLh9I72xFAF1XqvHTkEUBy1raMoecRQE7JxEa16RFAkQ/Ll0fwEUA=",
          "dtype": "f8"
         }
        },
        {
         "line": {
          "width": 2
         },
         "mode": "lines",
         "opacity": 0.5,
         "type": "scatter3d",
         "x": {
          "bdata": "BdF1VjA7CkBsib09oyUKQHUA28lVLwpA7lA08u5XCkDrvo/A+4wKQM8ctPa9tApAEbwCiEC9CkDjgRV93KYKQDIqJswEhApAmeJts3duCkCiWYs/KngKQBuq5GfDoApAGBhANtDVCkD8dWRskv0KQD4Vs/0UBgtAENvF8rDvCkBfg9ZB2cwKQMY7HilMtwpAz7I7tf7ACkBIA5Xdl+kKQEVx8KukHgtAKc8U4mZGC0BrbmNz6U4LQD00dmiFOAtAjNyGt60VC0A=",
          "dtype": "f8"
         },
         "y": {
          "bdata": "JPg11o93IkDQn4pAm3siQEuuq3t7eyJAoToZT2B6IkCOn13HDHwiQIaf8hGjgiJAsDi7i2SNIkD+UzdtIZkiQLWW3KkWoiJAYj4xFCKmIkDdTFJPAqYiQDPZvyLnpCJAID4Em5OmIkAYPpnlKa0iQEHXYV/rtyJAkPLdQKjDIkBHNYN9ncwiQPPc1+eo0CJAbuv4IonQIkDEd2b2bc8iQLLcqm4a0SJAqtw/ubDXIkDTdQgzcuIiQCKRhBQv7iJA2dMpUST3IkA=",
          "dtype": "f8"
         },
         "z": {
          "bdata": "tObnlXa2IEA57niJB8IgQJit6FQxzyBAI0RIR9nXIED3KTmYiNggQC9oCd9z0iBAje76TcbKIEDAnfyVmscgQKn9bH9nzCBALgX+cvjXIECOxG0+IuUgQBhbzTDK7SBA7EC+gXnuIEAlf47IZOggQIIFgDe34CBAtbSBf4vdIECfFPJoWOIgQCMcg1zp7SBAg9vyJxP7IEAOclIauwMhQOFXQ2tqBCFAGpYTslX+IEB4HAUhqPYgQKrLBml88yBAlCt3Ukn4IEA=",
          "dtype": "f8"
         }
        },
        {
         "line": {
          "width": 2
         },
         "mode": "lines",
         "opacity": 0.5,
         "type": "scatter3d",
         "x": {
          "bdata": "i8p5tFGiGEATGyETZbsYQMiQh34KzhhAXZsQbmTQGEBVnWHyIMIYQM3bdbSprBhAF/XKaaCdGECBef2a4p4YQIgGaDfCsBhAEFcPltXJGEDFzHUBe9wYQFnX/vDU3hhAUtlPdZHQGEDJF2Q3GrsYQBQxuewQrBhAfrXrHVOtGECEQla6Mr8YQAyT/RhG2BhAwQhkhOvqGEBWE+1zRe0YQE4VPvgB3xhAxlNSuorJGEAQbadvgboYQHrx2aDDuxhAgX5EPaPNGEA=",
          "dtype": "f8"
         },
         "y": {
          "bdata": "w3PJS8imIUCZvmLFP6YhQMNEFvJenSFAFhGStLWQIUCsgE04C4chQCuLK4FlhSFAVlrvFhiMIUBZ4+oWk5YhQBjJplUPniFA7xNAz4adIUAYmvP7pZQhQGtmb778hyFAAdYqQlJ+IUCA4AiLrHwhQKyvzCBfgyFArjjIINqNIUBuHoRfVpUhQERpHdnNlCFAbu/QBe2LIUDBu0zIQ38hQFcrCEyZdSFA1TXmlPNzIUABBaoqpnohQASOpSohhSFAw3NhaZ2MIUA=",
          "dtype": "f8"
         },
         "z": {
          "bdata": "aj4rGpO1EUDLgBT9QqwRQLiGkEDvpBFAB4cvspKcEUD9gDtAw5ARQHb6MQgcgRFAYrCVb3hvEUDsa9ao3V4RQM8tqsW1URFAMHCTqGVIEUAddg/sEUERQGx2rl21OBFAYnC66+UsEUDb6bCzPh0RQMefFBubCxFAUVtVVAD7EEA0HSlx2O0QQJVfElSI5BBAgmWOlzTdEEDRZS0J2NQQQMdfOZcIyRBAQNkvX2G5EEAsj5PGvacQQLdK1P8ilxBAmQyoHPuJEEA=",
          "dtype": "f8"
         }
        },
        {
         "line": {
          "width": 2
         },
         "mode": "lines",
         "opacity": 0.5,
         "type": "scatter3d",
         "x": {
          "bdata": "ico8U4XbIUDpO5/onc8hQJMRvrGYwiFAMR+fmHu6IUBDAGy2bLohQGob4B/awCFASNKXVWXIIUAyUY1tCMshQKj8lk6dxSFACW7547W5IUCzQxitsKwhQFBR+ZOTpCFAYjLGsYSkIUCJTTob8qohQGcE8lB9siFAUoPnaCC1IUDILvFJta8hQCigU9/NoyFA0nVyqMiWIUBwg1OPq44hQIJkIK2cjiFAqX+UFgqVIUCHNkxMlZwhQHG1QWQ4nyFA52BLRc2ZIUA=",
          "dtype": "f8"
         },
         "y": {
          "bdata": "iF+owppdA0DPDFQ/NXEDQMr1UMl8bANAlfzaTqlcA0BWY9ckdFUDQC74WjKKZQNAUVGNMvONA0CljDI3d8EDQANoZetc7ANASRURaPf/A0BF/g3yPvsDQA8FmHdr6wNA0GuUTTbkA0CoABhbTPQDQMtZSlu1HARAH5XvXzlQBEB9cCIUH3sEQMQdzpC5jgRAvwbLGgGKBECKDVWgLXoEQEt0UXb4cgRAIwnVgw6DBEBFYgeEd6sEQJqdrIj73gRA93jfPOEJBUA=",
          "dtype": "f8"
         },
         "z": {
          "bdata": "QsLodRDrGUDoiMxXu+MZQE2qjTR56RlAezqjbj39GUBOhq04xBcaQFoQ4AfULRpApz813NA2GkArADZTxzEaQAoFQjr7JRpAsMslHKYeGkAV7eb4YyQaQEN9/DIoOBpAFskG/a5SGkAiUznMvmgaQG+CjqC7cRpA80KPF7JsGkDSR5v+5WAaQHgOf+CQWRpA3S9AvU5fGkALwFX3EnMaQN4LYMGZjRpA6pWSkKmjGkA3xedkpqwaQLuF6NucpxpAmor0wtCbGkA=",
          "dtype": "f8"
         }
        },
        {
         "line": {
          "width": 2
         },
         "mode": "lines",
         "opacity": 0.5,
         "type": "scatter3d",
         "x": {
          "bdata": "q8tq9XbmFEAyfaMcCvAUQP5dsa086BRAeLp+uWzVFEATQQpea8QUQFfrtr36wBRAVmaOs+rOFECpZaYu3ecUQNk6ABEB/xRAYew4OJQIFUAtzUbJxgAVQKYpFNX27RRAQbCfefXcFECGWkzZhNkUQIXVI8905xRA19Q7SmcAFUAIqpUsixcVQI9bzlMeIRVAXDzc5FAZFUDVmKnwgAYVQHAfNZV/9RRAtMnh9A7yFEC0RLnq/v8UQAZE0WXxGBVANhkrSBUwFUA=",
          "dtype": "f8"
         },
         "y": {
          "bdata": "9WilQp6/FUC3aYoWJtQVQK9EJPt96xVAshIFVk7+FUAY5pnK5gcWQDVG/WH9CBZAHMyr6EMHFkD4XhP5EQoWQHHsxu8XFhZAM+2rw58qFkAryEWo90EWQC+WJgPIVBZAlGm7d2BeFkCyyR4Pd18WQJlPzZW9XRZAdOI0potgFkDub+ickWwWQK9wzXAZgRZAqEtnVXGYFkCrGUiwQasWQBHt3CTatBZALk1AvPC1FkAV0+5CN7QWQPFlVlMFtxZAavMJSgvDFkA=",
          "dtype": "f8"
         },
         "z": {
          "bdata": "uJwoDLP1uz83t6ydxWS4P1OBPF/kwrU/SAt8UaiAtj+RPKQQwRS7PyX5+0I328A/NPyf5Ye0wz9WH+zvBd7EP87uw5NZHMQ/DfyF3OJTwj8b4U098gLBPxWmbTbUYcE/ub4BluCrwz+XmatQt/zGP6WcT/MH1sk/x7+b/YX/yj8/j3Oh2T3KP36cNepidcg/jIH9SnIkxz+GRh1EVIPHPypfsaNgzck/CDpbXjcezT8VPf8AiPfPPxywpQWDkNA/2JeR16wv0D8=",
          "dtype": "f8"
         }
        },
        {
         "line": {
          "width": 2
         },
         "mode": "lines",
         "opacity": 0.5,
         "type": "scatter3d",
         "x": {
          "bdata": "peLOwaA1AUCWdiFGISYBQPevUe9ZEgFAFoHyizgPAUClTcRS6icBQBZGRtNPVwFAGpnqLv2KAUBeVB6XBK4BQDMUIdU4tQFAJKhzWbmlAUCF4aMC8pEBQKOyRJ/QjgFAMn8WZoKnAUCkd5jm59YBQKfKPEKVCgJA7IVwqpwtAkDARXPo0DQCQLLZxWxRJQJAEhP2FYoRAkAx5JayaA4CQMCwaHkaJwJAMqnq+X9WAkA1/I5VLYoCQHq3wr00rQJATnfF+2i0AkA=",
          "dtype": "f8"
         },
         "y": {
          "bdata": "ulzSRZWnCEAPk3pzbp8IQPYkeeABeQhAyRrIj6pDCEAXwth7gBcIQMhrXHg7BwhA57mJNTwVCEAapGawJzIIQNHcge7lRQhAJhMqHL89CEANpSiJUhcIQN+adzj74QdALkKIJNG1B0De6wshjKUHQP05Od6MswdAMCQWWXjQB0DoXDGXNuQHQD2T2cQP3AdAIyXYMaO1B0D2GifhS4AHQETCN80hVAdA9Wu7ydxDB0AUuuiG3VEHQEekxQHJbgdA/tzgP4eCB0A=",
          "dtype": "f8"
         },
         "z": {
          "bdata": "ddPAfVV0H0BpEbfToY0fQDvymY9vnR9AmIV3wiKfH0AqlAZ+YpYfQA+7bhT1jB9AFj/qRAaNH0CTEGv+MZsfQNpmOi/Rsx9Az6QwhR3NH0CghRNB69wfQP0Y8XOe3h9AjyeAL97VH0B0TujFcMwfQHzSY/aBzB9A+KPkr63aH0BA+rPgTPMfQBocVZtMBiBAg4xGeTMOIEAxVrUSDQ8gQHrdfPCsCiBA7fCwO/YFIEDwsu7T/gUgQK8br7AUDSBA08YWSWQZIEA=",
          "dtype": "f8"
         }
        },
        {
         "line": {
          "width": 2
         },
         "mode": "lines",
         "opacity": 0.5,
         "type": "scatter3d",
         "x": {
          "bdata": "VwsSA7XgH0AWUiE8nOUfQMT0fOLQ+R9AmG++WSQJIEAkp9cdvRAgQEC2PG2lDyBAZJf7BecGIEBSqdASDvgfQDGfd2KU6x9A8OWGm3vwH0BPRPEgWAIgQIU5cQmUDiBAEXGKzSwWIEAtgO8cFRUgQFFhrrVWDCBAlh4buXYBIEALM93Bc/YfQMp57Ppa+x9APA6k0McHIEByAyS5AxQgQP46PX2cGyBAGkqizIQaIEA+K2FlxhEgQIPozWjmBiBAc2OhkKkAIEA=",
          "dtype": "f8"
         },
         "y": {
          "bdata": "/OJnyr+1BkBaxbKeX6YGQP280JneoQZAI+Wa1Wy1BkDPMzZqIuAGQHny9UaHEwdA3Zvi/Aw8B0C9FCNyg0wHQBhnko7SRQdAdUndYnI2B0AYQftd8TEHQD5pxZl/RQdA67dgLjVwB0CUdiALmqMHQPgfDcEfzAdA2ZhNNpbcB0Az67xS5dUHQJDNByeFxgdAM8UlIgTCB0BZ7e9dktUHQAY8i/JHAAhAsPpKz6wzCEATpDeFMlwIQPQcePqobAhATm/nFvhlCEA=",
          "dtype": "f8"
         },
         "z": {
          "bdata": "XW1eWvFN6T997n/VlYToP+I9W9xB+ec/zt3ZAGzT5z8SL0/cFv/nPwcyu8OGOOg/uGZtH+8z6D/iSnxd2cnnP7R9lORCDuc/1P61X+dE5j85TpFmk7nlPyXuD4u9k+U/aT+FZmi/5T9eQvFN2PjlPw93o6lA9OU/OVuy5yqK5T8LjspulM7kPysP7Ok4BeQ/kF7H8OR54z98/kUVD1TjP8BPu/C5f+M/tVIn2Cm54z9mh9kzkrTjP5Br6HF8SuM/Yp4A+eWO4j8=",
          "dtype": "f8"
         }
        }
       ],
       "layout": {
        "height": 800,
        "scene": {
         "xaxis": {
          "title": {
           "text": "X"
          }
         },
         "yaxis": {
          "title": {
           "text": "Y"
          }
         },
         "zaxis": {
          "title": {
           "text": "Z"
          }
         }
        },
        "template": {
         "data": {
          "bar": [
           {
            "error_x": {
             "color": "#2a3f5f"
            },
            "error_y": {
             "color": "#2a3f5f"
            },
            "marker": {
             "line": {
              "color": "#E5ECF6",
              "width": 0.5
             },
             "pattern": {
              "fillmode": "overlay",
              "size": 10,
              "solidity": 0.2
             }
            },
            "type": "bar"
           }
          ],
          "barpolar": [
           {
            "marker": {
             "line": {
              "color": "#E5ECF6",
              "width": 0.5
             },
             "pattern": {
              "fillmode": "overlay",
              "size": 10,
              "solidity": 0.2
             }
            },
            "type": "barpolar"
           }
          ],
          "carpet": [
           {
            "aaxis": {
             "endlinecolor": "#2a3f5f",
             "gridcolor": "white",
             "linecolor": "white",
             "minorgridcolor": "white",
             "startlinecolor": "#2a3f5f"
            },
            "baxis": {
             "endlinecolor": "#2a3f5f",
             "gridcolor": "white",
             "linecolor": "white",
             "minorgridcolor": "white",
             "startlinecolor": "#2a3f5f"
            },
            "type": "carpet"
           }
          ],
          "choropleth": [
           {
            "colorbar": {
             "outlinewidth": 0,
             "ticks": ""
            },
            "type": "choropleth"
           }
          ],
          "contour": [
           {
            "colorbar": {
             "outlinewidth": 0,
             "ticks": ""
            },
            "colorscale": [
             [
              0,
              "#0d0887"
             ],
             [
              0.1111111111111111,
              "#46039f"
             ],
             [
              0.2222222222222222,
              "#7201a8"
             ],
             [
              0.3333333333333333,
              "#9c179e"
             ],
             [
              0.4444444444444444,
              "#bd3786"
             ],
             [
              0.5555555555555556,
              "#d8576b"
             ],
             [
              0.6666666666666666,
              "#ed7953"
             ],
             [
              0.7777777777777778,
              "#fb9f3a"
             ],
             [
              0.8888888888888888,
              "#fdca26"
             ],
             [
              1,
              "#f0f921"
             ]
            ],
            "type": "contour"
           }
          ],
          "contourcarpet": [
           {
            "colorbar": {
             "outlinewidth": 0,
             "ticks": ""
            },
            "type": "contourcarpet"
           }
          ],
          "heatmap": [
           {
            "colorbar": {
             "outlinewidth": 0,
             "ticks": ""
            },
            "colorscale": [
             [
              0,
              "#0d0887"
             ],
             [
              0.1111111111111111,
              "#46039f"
             ],
             [
              0.2222222222222222,
              "#7201a8"
             ],
             [
              0.3333333333333333,
              "#9c179e"
             ],
             [
              0.4444444444444444,
              "#bd3786"
             ],
             [
              0.5555555555555556,
              "#d8576b"
             ],
             [
              0.6666666666666666,
              "#ed7953"
             ],
             [
              0.7777777777777778,
              "#fb9f3a"
             ],
             [
              0.8888888888888888,
              "#fdca26"
             ],
             [
              1,
              "#f0f921"
             ]
            ],
            "type": "heatmap"
           }
          ],
          "histogram": [
           {
            "marker": {
             "pattern": {
              "fillmode": "overlay",
              "size": 10,
              "solidity": 0.2
             }
            },
            "type": "histogram"
           }
          ],
          "histogram2d": [
           {
            "colorbar": {
             "outlinewidth": 0,
             "ticks": ""
            },
            "colorscale": [
             [
              0,
              "#0d0887"
             ],
             [
              0.1111111111111111,
              "#46039f"
             ],
             [
              0.2222222222222222,
              "#7201a8"
             ],
             [
              0.3333333333333333,
              "#9c179e"
             ],
             [
              0.4444444444444444,
              "#bd3786"
             ],
             [
              0.5555555555555556,
              "#d8576b"
             ],
             [
              0.6666666666666666,
              "#ed7953"
             ],
             [
              0.7777777777777778,
              "#fb9f3a"
             ],
             [
              0.8888888888888888,
              "#fdca26"
             ],
             [
              1,
              "#f0f921"
             ]
            ],
            "type": "histogram2d"
           }
          ],
          "histogram2dcontour": [
           {
            "colorbar": {
             "outlinewidth": 0,
             "ticks": ""
            },
            "colorscale": [
             [
              0,
              "#0d0887"
             ],
             [
              0.1111111111111111,
              "#46039f"
             ],
             [
              0.2222222222222222,
              "#7201a8"
             ],
             [
              0.3333333333333333,
              "#9c179e"
             ],
             [
              0.4444444444444444,
              "#bd3786"
             ],
             [
              0.5555555555555556,
              "#d8576b"
             ],
             [
              0.6666666666666666,
              "#ed7953"
             ],
             [
              0.7777777777777778,
              "#fb9f3a"
             ],
             [
              0.8888888888888888,
              "#fdca26"
             ],
             [
              1,
              "#f0f921"
             ]
            ],
            "type": "histogram2dcontour"
           }
          ],
          "mesh3d": [
           {
            "colorbar": {
             "outlinewidth": 0,
             "ticks": ""
            },
            "type": "mesh3d"
           }
          ],
          "parcoords": [
           {
            "line": {
             "colorbar": {
              "outlinewidth": 0,
              "ticks": ""
             }
            },
            "type": "parcoords"
           }
          ],
          "pie": [
           {
            "automargin": true,
            "type": "pie"
           }
          ],
          "scatter": [
           {
            "fillpattern": {
             "fillmode": "overlay",
             "size": 10,
             "solidity": 0.2
            },
            "type": "scatter"
           }
          ],
          "scatter3d": [
           {
            "line": {
             "colorbar": {
              "outlinewidth": 0,
              "ticks": ""
             }
            },
            "marker": {
             "colorbar": {
              "outlinewidth": 0,
              "ticks": ""
             }
            },
            "type": "scatter3d"
           }
          ],
          "scattercarpet": [
           {
            "marker": {
             "colorbar": {
              "outlinewidth": 0,
              "ticks": ""
             }
            },
            "type": "scattercarpet"
           }
          ],
          "scattergeo": [
           {
            "marker": {
             "colorbar": {
              "outlinewidth": 0,
              "ticks": ""
             }
            },
            "type": "scattergeo"
           }
          ],
          "scattergl": [
           {
            "marker": {
             "colorbar": {
              "outlinewidth": 0,
              "ticks": ""
             }
            },
            "type": "scattergl"
           }
          ],
          "scattermap": [
           {
            "marker": {
             "colorbar": {
              "outlinewidth": 0,
              "ticks": ""
             }
            },
            "type": "scattermap"
           }
          ],
          "scattermapbox": [
           {
            "marker": {
             "colorbar": {
              "outlinewidth": 0,
              "ticks": ""
             }
            },
            "type": "scattermapbox"
           }
          ],
          "scatterpolar": [
           {
            "marker": {
             "colorbar": {
              "outlinewidth": 0,
              "ticks": ""
             }
            },
            "type": "scatterpolar"
           }
          ],
          "scatterpolargl": [
           {
            "marker": {
             "colorbar": {
              "outlinewidth": 0,
              "ticks": ""
             }
            },
            "type": "scatterpolargl"
           }
          ],
          "scatterternary": [
           {
            "marker": {
             "colorbar": {
              "outlinewidth": 0,
              "ticks": ""
             }
            },
            "type": "scatterternary"
           }
          ],
          "surface": [
           {
            "colorbar": {
             "outlinewidth": 0,
             "ticks": ""
            },
            "colorscale": [
             [
              0,
              "#0d0887"
             ],
             [
              0.1111111111111111,
              "#46039f"
             ],
             [
              0.2222222222222222,
              "#7201a8"
             ],
             [
              0.3333333333333333,
              "#9c179e"
             ],
             [
              0.4444444444444444,
              "#bd3786"
             ],
             [
              0.5555555555555556,
              "#d8576b"
             ],
             [
              0.6666666666666666,
              "#ed7953"
             ],
             [
              0.7777777777777778,
              "#fb9f3a"
             ],
             [
              0.8888888888888888,
              "#fdca26"
             ],
             [
              1,
              "#f0f921"
             ]
            ],
            "type": "surface"
           }
          ],
          "table": [
           {
            "cells": {
             "fill": {
              "color": "#EBF0F8"
             },
             "line": {
              "color": "white"
             }
            },
            "header": {
             "fill": {
              "color": "#C8D4E3"
             },
             "line": {
              "color": "white"
             }
            },
            "type": "table"
           }
          ]
         },
         "layout": {
          "annotationdefaults": {
           "arrowcolor": "#2a3f5f",
           "arrowhead": 0,
           "arrowwidth": 1
          },
          "autotypenumbers": "strict",
          "coloraxis": {
           "colorbar": {
            "outlinewidth": 0,
            "ticks": ""
           }
          },
          "colorscale": {
           "diverging": [
            [
             0,
             "#8e0152"
            ],
            [
             0.1,
             "#c51b7d"
            ],
            [
             0.2,
             "#de77ae"
            ],
            [
             0.3,
             "#f1b6da"
            ],
            [
             0.4,
             "#fde0ef"
            ],
            [
             0.5,
             "#f7f7f7"
            ],
            [
             0.6,
             "#e6f5d0"
            ],
            [
             0.7,
             "#b8e186"
            ],
            [
             0.8,
             "#7fbc41"
            ],
            [
             0.9,
             "#4d9221"
            ],
            [
             1,
             "#276419"
            ]
           ],
           "sequential": [
            [
             0,
             "#0d0887"
            ],
            [
             0.1111111111111111,
             "#46039f"
            ],
            [
             0.2222222222222222,
             "#7201a8"
            ],
            [
             0.3333333333333333,
             "#9c179e"
            ],
            [
             0.4444444444444444,
             "#bd3786"
            ],
            [
             0.5555555555555556,
             "#d8576b"
            ],
            [
             0.6666666666666666,
             "#ed7953"
            ],
            [
             0.7777777777777778,
             "#fb9f3a"
            ],
            [
             0.8888888888888888,
             "#fdca26"
            ],
            [
             1,
             "#f0f921"
            ]
           ],
           "sequentialminus": [
            [
             0,
             "#0d0887"
            ],
            [
             0.1111111111111111,
             "#46039f"
            ],
            [
             0.2222222222222222,
             "#7201a8"
            ],
            [
             0.3333333333333333,
             "#9c179e"
            ],
            [
             0.4444444444444444,
             "#bd3786"
            ],
            [
             0.5555555555555556,
             "#d8576b"
            ],
            [
             0.6666666666666666,
             "#ed7953"
            ],
            [
             0.7777777777777778,
             "#fb9f3a"
            ],
            [
             0.8888888888888888,
             "#fdca26"
            ],
            [
             1,
             "#f0f921"
            ]
           ]
          },
          "colorway": [
           "#636efa",
           "#EF553B",
           "#00cc96",
           "#ab63fa",
           "#FFA15A",
           "#19d3f3",
           "#FF6692",
           "#B6E880",
           "#FF97FF",
           "#FECB52"
          ],
          "font": {
           "color": "#2a3f5f"
          },
          "geo": {
           "bgcolor": "white",
           "lakecolor": "white",
           "landcolor": "#E5ECF6",
           "showlakes": true,
           "showland": true,
           "subunitcolor": "white"
          },
          "hoverlabel": {
           "align": "left"
          },
          "hovermode": "closest",
          "mapbox": {
           "style": "light"
          },
          "paper_bgcolor": "white",
          "plot_bgcolor": "#E5ECF6",
          "polar": {
           "angularaxis": {
            "gridcolor": "white",
            "linecolor": "white",
            "ticks": ""
           },
           "bgcolor": "#E5ECF6",
           "radialaxis": {
            "gridcolor": "white",
            "linecolor": "white",
            "ticks": ""
           }
          },
          "scene": {
           "xaxis": {
            "backgroundcolor": "#E5ECF6",
            "gridcolor": "white",
            "gridwidth": 2,
            "linecolor": "white",
            "showbackground": true,
            "ticks": "",
            "zerolinecolor": "white"
           },
           "yaxis": {
            "backgroundcolor": "#E5ECF6",
            "gridcolor": "white",
            "gridwidth": 2,
            "linecolor": "white",
            "showbackground": true,
            "ticks": "",
            "zerolinecolor": "white"
           },
           "zaxis": {
            "backgroundcolor": "#E5ECF6",
            "gridcolor": "white",
            "gridwidth": 2,
            "linecolor": "white",
            "showbackground": true,
            "ticks": "",
            "zerolinecolor": "white"
           }
          },
          "shapedefaults": {
           "line": {
            "color": "#2a3f5f"
           }
          },
          "ternary": {
           "aaxis": {
            "gridcolor": "white",
            "linecolor": "white",
            "ticks": ""
           },
           "baxis": {
            "gridcolor": "white",
            "linecolor": "white",
            "ticks": ""
           },
           "bgcolor": "#E5ECF6",
           "caxis": {
            "gridcolor": "white",
            "linecolor": "white",
            "ticks": ""
           }
          },
          "title": {
           "x": 0.05
          },
          "xaxis": {
           "automargin": true,
           "gridcolor": "white",
           "linecolor": "white",
           "ticks": "",
           "title": {
            "standoff": 15
           },
           "zerolinecolor": "white",
           "zerolinewidth": 2
          },
          "yaxis": {
           "automargin": true,
           "gridcolor": "white",
           "linecolor": "white",
           "ticks": "",
           "title": {
            "standoff": 15
           },
           "zerolinecolor": "white",
           "zerolinewidth": 2
          }
         }
        },
        "title": {
         "text": "3D Helices from BOSS Data"
        },
        "width": 800
       }
      }
     },
     "metadata": {},
     "output_type": "display_data"
    }
   ],
   "source": [
    "# Plot the helices in 3D to visualise the helix field\n",
    "plot_helices_3d(helices_even)"
   ]
  },
  {
   "cell_type": "markdown",
   "id": "f4519fc6",
   "metadata": {},
   "source": [
    "##### Creating Images\n",
    "\n",
    "Now that we have loaded the galaxy data, we need to construct the images to use for the CNN"
   ]
  },
  {
   "cell_type": "code",
   "execution_count": 20,
   "id": "3df2a7db",
   "metadata": {},
   "outputs": [],
   "source": [
    "from ml_pv.datagen.image_gen.sampler import random_sampling_images\n",
    "from ml_pv.datagen.image_gen.rendering import display_sample_dist\n",
    "\n",
    "out_dir_boss = 'all_images/ipynb_demo_boss'\n",
    "out_dir_helix = 'all_images/ipynb_demo_helices'\n",
    "\n",
    "def run_image_generation(\n",
    "    ra=boss_coords.ra.deg,\n",
    "    dec=boss_coords.dec.deg,\n",
    "    z=boss_z,\n",
    "    w=boss_w,\n",
    "    out_dir=out_dir_boss,\n",
    "    num_train_samples = 96,\n",
    "    num_test_samples = 24,\n",
    "    square_size=0.5,\n",
    "    img_size=64,\n",
    "    bw_mode=False, \n",
    "    prefix='boss',\n",
    "):\n",
    "    \"\"\"\n",
    "    Generate images from the BOSS data using random sampling.\n",
    "    \n",
    "    :param coords: Coordinates of galaxies.\n",
    "    :param z: Redshift values.\n",
    "    :param w: Weights for the galaxies.\n",
    "    :param cfg: Configuration object containing image generation parameters.\n",
    "    :param out_dir: Output directory for the generated images.\n",
    "    \"\"\"\n",
    "    # Generate the testing images first\n",
    "    testing, _, avg_n_test = random_sampling_images(\n",
    "        ra=ra,\n",
    "        dec=dec,\n",
    "        redshift=z,\n",
    "        weights=w,\n",
    "        num_samples=num_test_samples,\n",
    "        square_size=square_size,\n",
    "        img_size=img_size,\n",
    "        bw_mode=bw_mode,\n",
    "        output_dir=f\"{out_dir}/test/test\",\n",
    "        prefix=f\"{prefix}_test_\",\n",
    "    )\n",
    "\n",
    "    print(\n",
    "        f\"Finished: generated {num_test_samples} testing images in {out_dir},\\n avg {avg_n_test} points/image\"\n",
    "    )\n",
    "\n",
    "    # Now generate the training images, ensuring they do not overlap with testing images\n",
    "    training, _, avg_n_train = random_sampling_images(\n",
    "        ra=ra,\n",
    "        dec=dec,\n",
    "        redshift=z,\n",
    "        weights=w,\n",
    "        num_samples=num_train_samples,\n",
    "        square_size=square_size,\n",
    "        img_size=img_size,\n",
    "        bw_mode=bw_mode,\n",
    "        output_dir=f\"{out_dir}/train/train\",\n",
    "        prefix=f\"{prefix}_train_\",\n",
    "        preexisting_squares=testing, # Stop training samples from overlapping with testing samples\n",
    "    )\n",
    "    print(\n",
    "        f\"Finished: generated {num_train_samples} training images in {out_dir},\\n avg {avg_n_train} points/image\"\n",
    "    )\n",
    "\n",
    "    # Create a visualization of the sample distribution\n",
    "    viz_out = f'plots/sample_dist_{prefix}_ipynb.png'\n",
    "    display_sample_dist(\n",
    "        ra=ra,\n",
    "        dec=ra,\n",
    "        train_squares=training,\n",
    "        test_squares=testing,\n",
    "        output_path=viz_out,\n",
    "    )\n",
    "    print(f\"Saved sample‐distribution plot to {viz_out}\")\n"
   ]
  },
  {
   "cell_type": "code",
   "execution_count": 21,
   "id": "679858e0",
   "metadata": {},
   "outputs": [
    {
     "name": "stderr",
     "output_type": "stream",
     "text": [
      "Generating images:   0%|          | 0/24 [00:00<?, ?it/s]"
     ]
    },
    {
     "name": "stderr",
     "output_type": "stream",
     "text": [
      "Generating images: 100%|██████████| 24/24 [00:00<00:00, 36.77it/s]\n"
     ]
    },
    {
     "name": "stdout",
     "output_type": "stream",
     "text": [
      "Finished: generated 24 testing images in all_images/ipynb_demo_boss,\n",
      " avg 18.916666666666668 points/image\n"
     ]
    },
    {
     "name": "stderr",
     "output_type": "stream",
     "text": [
      "Generating images: 100%|██████████| 96/96 [00:02<00:00, 37.21it/s]\n"
     ]
    },
    {
     "name": "stdout",
     "output_type": "stream",
     "text": [
      "Finished: generated 96 training images in all_images/ipynb_demo_boss,\n",
      " avg 18.541666666666668 points/image\n",
      "Saved sample‐distribution plot to plots/sample_dist_boss_ipynb.png\n"
     ]
    },
    {
     "name": "stderr",
     "output_type": "stream",
     "text": [
      "Generating images: 100%|██████████| 24/24 [00:00<00:00, 73.11it/s]\n"
     ]
    },
    {
     "name": "stdout",
     "output_type": "stream",
     "text": [
      "Finished: generated 24 testing images in all_images/ipynb_demo_helices,\n",
      " avg 34.458333333333336 points/image\n"
     ]
    },
    {
     "name": "stderr",
     "output_type": "stream",
     "text": [
      "Generating images: 100%|██████████| 96/96 [00:01<00:00, 61.55it/s]\n"
     ]
    },
    {
     "name": "stdout",
     "output_type": "stream",
     "text": [
      "Finished: generated 96 training images in all_images/ipynb_demo_helices,\n",
      " avg 38.885416666666664 points/image\n",
      "Saved sample‐distribution plot to plots/sample_dist_helix_ipynb.png\n"
     ]
    }
   ],
   "source": [
    "run_image_generation(boss_coords.ra.deg, boss_coords.dec.deg, boss_z, boss_w, out_dir_boss, prefix='boss')\n",
    "\n",
    "helices_odd = helices_odd.reshape(-1, 3)\n",
    "run_image_generation(ra=helices_odd[:,0], dec=helices_odd[:,1], z=helices_odd[:,2],\n",
    "                    out_dir=out_dir_helix, square_size=0.5, prefix='helix')"
   ]
  },
  {
   "cell_type": "code",
   "execution_count": 24,
   "id": "53ef9fe0",
   "metadata": {},
   "outputs": [
    {
     "name": "stdout",
     "output_type": "stream",
     "text": [
      "Displaying random images from the BOSS dataset:\n"
     ]
    },
    {
     "data": {
      "text/html": [
       "<div style='display: flex; gap: 10px;'><img src='data:image/png;base64,iVBORw0KGgoAAAANSUhEUgAAAEAAAABACAYAAACqaXHeAAAAOnRFWHRTb2Z0d2FyZQBNYXRwbG90bGliIHZlcnNpb24zLjEwLjEsIGh0dHBzOi8vbWF0cGxvdGxpYi5vcmcvc2/+5QAAAAlwSFlzAAAAJwAAACcBKgmRTwAAAPdJREFUeJzt2DEKwkAYBeE/XkNrCzsrBdFCELyLpTfwSN5PtAlip8aET8gbWEgg7A7DhiypqrqPbRxq87xu2ovRMtECmgTQApoE0AKaBNACmgR4vbmNsEdOglpA0yHAuX8LSF4BLTAkl1q8fSY7QAtoEkALaD4OcKpl74uvatf7nF3gPym7jmvNfp4jX4FpHbUDJTtAC2gSQAtoEuCTh+a1H9qDwg803451bXubK59BLaBJAC2gSQAtoEkALaBJAC2gSQC5+D+cwWmARi7ekldAC2gSQAtoEkALaBJAC2gSQAtoEkALaBJAC2gSQAtoEkALaBJAC2ge4HjNauQ5T3MAAAAASUVORK5CYII=' width='384' height='384' style='image-rendering: pixelated; image-rendering: crisp-edges; border:1px solid #ccc;'/><img src='data:image/png;base64,iVBORw0KGgoAAAANSUhEUgAAAEAAAABACAYAAACqaXHeAAAAOnRFWHRTb2Z0d2FyZQBNYXRwbG90bGliIHZlcnNpb24zLjEwLjEsIGh0dHBzOi8vbWF0cGxvdGxpYi5vcmcvc2/+5QAAAAlwSFlzAAAAJwAAACcBKgmRTwAAATlJREFUeJztmLGKwkAURa9b2AnLVouWyjYWgo1YCSL4ARai9VaWlmLjP9j6AZaL/l9sRNEYxDiZw5J74EGS4uVwycwjI0lJ7PrSOvo7s6pyvigtH7QAjQOgBWgcAC1AkxnAVL2YHhgeg7QAjQOgBWgcAC1A81IANe2K8sjFr37e7uExGKLJX4gmIPihRIhqauYDkTx4CoRpsw/TBgJfv0VVVwPvAc+4LIGGFqQHhr8AWoAGC+BTK+rVKfDdOkZVdfQUeIT3AFqAxgHQAjQOgBagcQC0AI0DoAVoHAAtEJuxhjf3/hmiBWgcAC1A4wBogTy0NQnaDz+vK6IStVLPtjr4TPCef7kEQuIAJGmpb9oDw3sALUAwV+d6s1EdH1lkeQnQAjHpa5R65i+AFqBxALQAjQOgBWhKH8AJGF6W6LH14TYAAAAASUVORK5CYII=' width='384' height='384' style='image-rendering: pixelated; image-rendering: crisp-edges; border:1px solid #ccc;'/><img src='data:image/png;base64,iVBORw0KGgoAAAANSUhEUgAAAEAAAABACAYAAACqaXHeAAAAOnRFWHRTb2Z0d2FyZQBNYXRwbG90bGliIHZlcnNpb24zLjEwLjEsIGh0dHBzOi8vbWF0cGxvdGxpYi5vcmcvc2/+5QAAAAlwSFlzAAAAJwAAACcBKgmRTwAAAPlJREFUeJzt1zEKwjAcRvF/PUUnV3FyUdQD6AU8k4fxlLq4OlST/hS/B4VCIX08kqapqrr3usY6dhu71TU8b/6WhRbQJIAW0LwdYFWHlh6Url/ZzZfvBNkFtEBrxolLMzNAC2gSQAtoEkALaBJAC2gSQAtomgb4xV/KpgGGloPNxFsBjrVv7cHIYUgLaBJAC2gS4Fpr7UDJLtBj0FstewzbhcwALaBJAC2gSQAtoEkALaBJAC2gSYBXD061ndODkbOAFtBMDnCuXQ8PRpaAFtAkgBbQJIAW0CSAFtAkgBbQJIAW0MwQ4NL/FR+Qw5AW0CSAFtAkgBbQPACklY5/RZjXVAAAAABJRU5ErkJggg==' width='384' height='384' style='image-rendering: pixelated; image-rendering: crisp-edges; border:1px solid #ccc;'/><img src='data:image/png;base64,iVBORw0KGgoAAAANSUhEUgAAAEAAAABACAYAAACqaXHeAAAAOnRFWHRTb2Z0d2FyZQBNYXRwbG90bGliIHZlcnNpb24zLjEwLjEsIGh0dHBzOi8vbWF0cGxvdGxpYi5vcmcvc2/+5QAAAAlwSFlzAAAAJwAAACcBKgmRTwAAAR5JREFUeJztmTEOAUEYRr9V0Ypq3UCrEgdQSTTiAkqVTusiLrFncAGV01DQyW7szL/7iv1eMolEZublhWGQpFffY6Oq9z3rRvF9MFhGtACNA7Sfcou3APEZQAvQOAAtQOMAtACNA9ACNA5AC9A4AC1A4wC0AI0D0AI0DkAL0DhAl4tvte5y+RD8myAtQIMGKHUgt/9w1wz/f44cPgNoARoHoAVoHIAWoHEAWoDGAWgBGgdImVRpHu2B4bsAtfFEF2rrH0KulVct8KttyvBbgBagcYCIRZ46RiyTxE6r7DX+OiwemuIHVt0Y6+xDMBWfAbQAjQPQAjQO0PTkED4eGgMULRcrtc9QYfD3gJzJJy2jPDD8CqAFaByAFqAZfIA32ToTExSwa7YAAAAASUVORK5CYII=' width='384' height='384' style='image-rendering: pixelated; image-rendering: crisp-edges; border:1px solid #ccc;'/><img src='data:image/png;base64,iVBORw0KGgoAAAANSUhEUgAAAEAAAABACAYAAACqaXHeAAAAOnRFWHRTb2Z0d2FyZQBNYXRwbG90bGliIHZlcnNpb24zLjEwLjEsIGh0dHBzOi8vbWF0cGxvdGxpYi5vcmcvc2/+5QAAAAlwSFlzAAAAJwAAACcBKgmRTwAAAYBJREFUeJztmjtOw0AURa8jWugQooJAhKAikklEGUA0dFkESHyUFmr2wwZgK+wFKlAix4ExM3OEfY/0ijgez83V+4ylSNJHW6JU2WTd4oUjjfEfkjOKLxe6So/aeEMTausFnAG0ABrcgHVdoPu7BGgBTXnVVpTnOANoATR/NmBH4xg6UJYeEfsdORK7B9ACaGxA3RdnmuXUgYI3olVxpWM3wZS4B9ACaFYaMNQwkwwWvNH9Ju517SaYgkoJ7Lbg5SYEZwAtgMYG0AJobMD8h22dUjpQsh5oprrDD1Xz4THYbNljXBUgzoBcG71pM9dWQTgDll08121uHSi1I6KvET6mUkclAwY60UQ3kqS1DlSHewAtgKZiQE8PhA6Sl++GsN/sr6b/OtwDaAE0NoAWQGMDaAEpONAo6H58FIXGTIceg7FoZQmEEGxAoacUOjBcArQAms4YcFkzGl0CITe30akgA4pUKkAa9YA9lbF1RKGn9+A17gG0gJ941iDp8zufAZ8m+GE6hWSW7wAAAABJRU5ErkJggg==' width='384' height='384' style='image-rendering: pixelated; image-rendering: crisp-edges; border:1px solid #ccc;'/></div>"
      ],
      "text/plain": [
       "<IPython.core.display.HTML object>"
      ]
     },
     "metadata": {},
     "output_type": "display_data"
    },
    {
     "name": "stdout",
     "output_type": "stream",
     "text": [
      "Displaying random images from the Helix dataset:\n"
     ]
    },
    {
     "data": {
      "text/html": [
       "<div style='display: flex; gap: 10px;'><img src='data:image/png;base64,iVBORw0KGgoAAAANSUhEUgAAAEAAAABACAYAAACqaXHeAAAAOnRFWHRTb2Z0d2FyZQBNYXRwbG90bGliIHZlcnNpb24zLjEwLjEsIGh0dHBzOi8vbWF0cGxvdGxpYi5vcmcvc2/+5QAAAAlwSFlzAAAAJwAAACcBKgmRTwAAATpJREFUeJztlj1KA1EABicKVpa2VjYWEkFsbMQTKARPIDapks5GrOxSqtiIt7DJKXIBzxIbWVJofve9QfmmWvbthmH4FtIBprTOJ3DQ/s8WYGudly7pNde3nDfXN9/3uzxtqFWPDkUW8HdYaQGHPJTy0MgCVn1hh7cSHhpZgC1gs3aA7X8ynHwCm7y8z31bHhpZwLzDAafN9cvMf/t3zgAYcldIqx5ZwE83L7iu7aGRBfx2cMRzTQ+NLMAWsFkY4JhxDQ+NfALLPDTko7SHRhYAMGKvuTGZOXxlF4A+JzWdqpIFPHJlO6hkAbaATQLYAjYJYAvYJIAtYJMAtoBNAtgCNglgC9gkgC1gkwC2gE0C2AI2CWAL2CSALWCTALaATQLYAjYJYAvYJIAtYJMAtoBNAtgCNglgC9h8ASKcHfwLExTdAAAAAElFTkSuQmCC' width='384' height='384' style='image-rendering: pixelated; image-rendering: crisp-edges; border:1px solid #ccc;'/><img src='data:image/png;base64,iVBORw0KGgoAAAANSUhEUgAAAEAAAABACAYAAACqaXHeAAAAOnRFWHRTb2Z0d2FyZQBNYXRwbG90bGliIHZlcnNpb24zLjEwLjEsIGh0dHBzOi8vbWF0cGxvdGxpYi5vcmcvc2/+5QAAAAlwSFlzAAAAJwAAACcBKgmRTwAAAVJJREFUeJztljFLw2AYBs9M1Yq4KeKgzg4FqdBBaVF06Cg4O/qL/DuOBVcnd8HdyalxEQeN/QTTnoXn4IXy8ZJeLqEUOKuBmbPLoLizrFN1mFLimQkbHBf3huwVd/4b1Rv3xaU+I155mLlzww5DxsVrlb9t8Sz8tTulo7/6n7PPXXHpiF7dZezLzmFWPj78mSFdXjjgicc2LrdQaqDe5rax0CoXrRYfsak/9S/z/XCdy8blHoeN5+dc2TfRboDfTP+H/wYnrDWeX7Nl32jjtPYb0MSUARWTeV2+FeYaYBmobAGbBLAFbBLAFrBJAFvAJgFsAZsEsAVsEsAWsEkAW8AmAWwBmwSwBWwSwBawSQBbwCYBbAGbBLAFbBLAFrBJAFvAJgFsAZsEsAVsEsAWsEkAW8AmAWwBmwSwBWwSwBawSQBbwCYBbAGbBLAFbBLAFrB5B21AldZKoPfZAAAAAElFTkSuQmCC' width='384' height='384' style='image-rendering: pixelated; image-rendering: crisp-edges; border:1px solid #ccc;'/><img src='data:image/png;base64,iVBORw0KGgoAAAANSUhEUgAAAEAAAABACAYAAACqaXHeAAAAOnRFWHRTb2Z0d2FyZQBNYXRwbG90bGliIHZlcnNpb24zLjEwLjEsIGh0dHBzOi8vbWF0cGxvdGxpYi5vcmcvc2/+5QAAAAlwSFlzAAAAJwAAACcBKgmRTwAAAdZJREFUeJztmLFOwzAURU8S0hYY+RGQ2BmRUCvUUgRCRUV0QEgMTPAD7Mz8CDsSIxIMrMz8ACuEpa1amqRtmuai+F3pSa7t2PddPz/b5ZwgAty1L8LhjyaenlDB5vULzsJPanghKJKHDIkCbPMNQB2vMDIK2BZIa2ykN5cCFgFxlV1HEiBYBIxHQNOhlR/AIgDg1IFsn4YIiK4dfAeQ9BZ4w2PTkZ0RG/ujzrcLo6KBJcFZOzZK+iiyCJil022JL0gWAWmNJyVe+QEsAuIqew6s/CiG18LOjNfhGvvyK2yONl5xkNPAG3yoHcsmwKh9Tvl4lfZEXYXDqMqu2ql8BBi1aEr7OmdqRzKZnQLzfnCX8CYIOVqYjAIWAfN0virpX2e5JJOQljyhZbTpnR5YyWWyNZ7VzmYTYB6r0puo89mLwv97e0xu7OIvNHiNC7VzUy32FHjFZ4ufv9WlRGxaz8v5gMtcxlkm7B6gJqDGUgUIOF7m8LlAvgU8boB3Ih5lHERH0JP8CASiQnJAQGtYrnDfL+3gUy9i+lTIt4AaolOgo5k2BhYBagJqCATQHXdxsC2gJqCGCaAmoIYJoCaghgmgJqCGCaAmoIYJoCaghgmgJqCG8wL8ApnaLsvAtrf5AAAAAElFTkSuQmCC' width='384' height='384' style='image-rendering: pixelated; image-rendering: crisp-edges; border:1px solid #ccc;'/><img src='data:image/png;base64,iVBORw0KGgoAAAANSUhEUgAAAEAAAABACAYAAACqaXHeAAAAOnRFWHRTb2Z0d2FyZQBNYXRwbG90bGliIHZlcnNpb24zLjEwLjEsIGh0dHBzOi8vbWF0cGxvdGxpYi5vcmcvc2/+5QAAAAlwSFlzAAAAJwAAACcBKgmRTwAAAVZJREFUeJztlb1OAkEYRa8kFiZKRYI2aEVlp+EnIdTExFjwAPY8A7yAPAylra1vwTPYWS0VRCjGAWfmBLwn+ZLdzGS/M3dnZyWp+llNDTfXDT1Xu+MnWKq6+ghOutQbLZmtztYp/FdqdS1pB5Tal+4ip85zemD4E/jrA/p6TOGB8utJea7PrfuO2vjpnbDiJj7oPjg+1oxeSL4A6hrRktkq6gy40XfMtKMlWZo9TfE3um/5N1iiyUSNEm0OJtl2ammwuR7rAt/ekZX2gU+6Co6/6JZecJ4AKi3ohRxUPgRLN3xVr3TLIN4BtABN8QD6apVuGcSfQMlm77ou2S4K7wBagMYB0AI0DoAWoHEAtACNA6AFaBwALUDjAGgBGgdAC9A4AFqAxgHQAjQOgBagcQC0AI0DoAVoHAAtQOMAaAEaB0AL0DgAWoDGAdACNA6AFqBxALQAzQoxl1RTyIV0EgAAAABJRU5ErkJggg==' width='384' height='384' style='image-rendering: pixelated; image-rendering: crisp-edges; border:1px solid #ccc;'/><img src='data:image/png;base64,iVBORw0KGgoAAAANSUhEUgAAAEAAAABACAYAAACqaXHeAAAAOnRFWHRTb2Z0d2FyZQBNYXRwbG90bGliIHZlcnNpb24zLjEwLjEsIGh0dHBzOi8vbWF0cGxvdGxpYi5vcmcvc2/+5QAAAAlwSFlzAAAAJwAAACcBKgmRTwAAAbxJREFUeJztmLFKw1AUhr9GMMbGSlNKQQdXX6E6SK1UCiI4OFmqg6Bu4guUDoKDk6/hIzi59oncrouEhtjSNml+Ss8HB25vc8OXn9xzIVRpOmBtq/Q3WFs8tYAaL+JY7SDFtgBARFPtISXVGUNOHeAqnLkGN/JOveRKTkRjx+IR32q54gJoMFSLSMqaoFpAjQdQ4VLtIcO2wLwL2tQTv9/ZB+CVg3yMBMQd8ZDRTJ3znqoD3Ak1B7g+e/JunqEm/1nmzQHOp+0CWmrRYgOo8xSPQ87VksUF4HM78eJHIrVs7mWngFpATSIAn+upF3epLFVGgW2BRRbdUUvNdfHpEWYWUpDqjCGDfzumx0Nq7ordeNxiW97VF6hZLurF44CveDxYzQeeL4BNOmMP/6KWVb0ByXomUEvnVnYKqAXULBTABzt5e8iwLaAWUJMpgA5+as6xwYhyltsWSi5b4AII2OKTn+xGBWM9IMviYV4WQuwNUAuosQCyLJ7+AW01sB6Qx036lPK4jQR7A9QCaiwAtYAaC0AtoMYCUAuosQDUAmosALWAGgtALaDGAlALqLEA1AJqLAC1gBoLQC2g5hejfSG0c2fxKwAAAABJRU5ErkJggg==' width='384' height='384' style='image-rendering: pixelated; image-rendering: crisp-edges; border:1px solid #ccc;'/></div>"
      ],
      "text/plain": [
       "<IPython.core.display.HTML object>"
      ]
     },
     "metadata": {},
     "output_type": "display_data"
    }
   ],
   "source": [
    "import os\n",
    "import random\n",
    "import base64\n",
    "from IPython.display import display, HTML\n",
    "\n",
    "boss_img_path = 'all_images/ipynb_demo_boss/train/train'\n",
    "helix_img_path = 'all_images/ipynb_demo_helices/train/train'\n",
    "\n",
    "def display_random_images_row(image_dir, num_images=5, scale=6):\n",
    "    image_files = [f for f in os.listdir(image_dir) if f.endswith('.png')]\n",
    "    selected_files = random.sample(image_files, min(num_images, len(image_files)))\n",
    "    images = [os.path.join(image_dir, f) for f in selected_files]\n",
    "    html = \"<div style='display: flex; gap: 10px;'>\"\n",
    "    for img_path in images:\n",
    "        with open(img_path, \"rb\") as f:\n",
    "            data = base64.b64encode(f.read()).decode()\n",
    "        html += (\n",
    "            f\"<img src='data:image/png;base64,{data}' width='{64*scale}' height='{64*scale}' \"\n",
    "            \"style='image-rendering: pixelated; image-rendering: crisp-edges; border:1px solid #ccc;'/>\"\n",
    "        )\n",
    "    html += \"</div>\"\n",
    "    display(HTML(html))\n",
    "\n",
    "print(\"Displaying random images from the BOSS dataset:\")\n",
    "display_random_images_row(boss_img_path, num_images=5, scale=6)\n",
    "print(\"Displaying random images from the Helix dataset:\")\n",
    "display_random_images_row(helix_img_path, num_images=5, scale=6)"
   ]
  },
  {
   "cell_type": "markdown",
   "id": "88ad7901",
   "metadata": {},
   "source": [
    "##### Training the model\n",
    "\n",
    "Now we have created sets of images, we can train the model to detect parity violation."
   ]
  },
  {
   "cell_type": "markdown",
   "id": "81bd10f2",
   "metadata": {},
   "source": []
  }
 ],
 "metadata": {
  "kernelspec": {
   "display_name": "parity_env",
   "language": "python",
   "name": "python3"
  },
  "language_info": {
   "codemirror_mode": {
    "name": "ipython",
    "version": 3
   },
   "file_extension": ".py",
   "mimetype": "text/x-python",
   "name": "python",
   "nbconvert_exporter": "python",
   "pygments_lexer": "ipython3",
   "version": "3.13.3"
  }
 },
 "nbformat": 4,
 "nbformat_minor": 5
}
