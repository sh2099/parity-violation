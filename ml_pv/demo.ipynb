{
 "cells": [
  {
   "cell_type": "markdown",
   "id": "fdf4ff69",
   "metadata": {},
   "source": [
    "### Unsupervised Searches For Parity Violation\n",
    "\n",
    "This Notebook, acts as to demonstrate the the code base used for our paper to detect parity violation\n",
    "The Notebook is split into the following sections:\n",
    "- Data loading\n",
    "- Creating Images\n",
    "- Unsupervised model"
   ]
  },
  {
   "cell_type": "markdown",
   "id": "053859d2",
   "metadata": {},
   "source": [
    "##### Data Loading\n",
    "We begin by loading the boss data, and then we generate some random data that we know to be parity violating."
   ]
  },
  {
   "cell_type": "markdown",
   "metadata": {},
   "source": []
  },
  {
   "cell_type": "code",
   "execution_count": 4,
   "id": "8a8dfb05",
   "metadata": {},
   "outputs": [
    {
     "name": "stderr",
     "output_type": "stream",
     "text": [
      "Sample size 618806 exceeds total entries 618806. Using all entries.\n"
     ]
    }
   ],
   "source": [
    "from ml_pv.datagen.load_boss import prepare_boss_data\n",
    "\n",
    "# Load the BOSS data for the CMASS North sample\n",
    "boss_coords, boss_z, boss_w = prepare_boss_data(\n",
    "        fits_file='data/galaxy_DR12v5_CMASS_North.fits',\n",
    "        sample_size=700000,\n",
    "        random_seed=42,\n",
    "        z_min=0.43,\n",
    "        z_max=0.7,\n",
    "    )"
   ]
  },
  {
   "cell_type": "code",
   "execution_count": 5,
   "id": "fc511057",
   "metadata": {},
   "outputs": [
    {
     "name": "stdout",
     "output_type": "stream",
     "text": [
      "Coordinates shape: (568776,)\n"
     ]
    }
   ],
   "source": [
    "print(f\"Coordinates shape: {boss_coords.shape}\")"
   ]
  },
  {
   "cell_type": "markdown",
   "id": "f4519fc6",
   "metadata": {},
   "source": [
    "##### Creating Images\n",
    "\n",
    "Now that we have loaded the galaxy data, we need to construct the images to use for the CNN"
   ]
  },
  {
   "cell_type": "code",
   "execution_count": 10,
   "id": "3df2a7db",
   "metadata": {},
   "outputs": [],
   "source": [
    "from ml_pv.datagen.image_gen.sampler import random_sampling_images\n",
    "from ml_pv.datagen.image_gen.rendering import display_sample_dist\n",
    "\n",
    "out_dir_boss = 'all_images/ipynb_demo_boss'\n",
    "\n",
    "\n",
    "def run_image_generation(\n",
    "    coords=boss_coords,\n",
    "    z=boss_z,\n",
    "    w=boss_w,\n",
    "    out_dir=out_dir_boss,\n",
    "    num_train_samples = 96,\n",
    "    num_test_samples = 24,\n",
    "    square_size=0.5,\n",
    "    img_size=64,\n",
    "    bw_mode=False, \n",
    "    prefix='boss',\n",
    "):\n",
    "    \"\"\"\n",
    "    Generate images from the BOSS data using random sampling.\n",
    "    \n",
    "    :param coords: Coordinates of galaxies.\n",
    "    :param z: Redshift values.\n",
    "    :param w: Weights for the galaxies.\n",
    "    :param cfg: Configuration object containing image generation parameters.\n",
    "    :param out_dir: Output directory for the generated images.\n",
    "    \"\"\"\n",
    "    # Create output directories if they do not exist\n",
    "    testing, _, avg_n_test = random_sampling_images(\n",
    "        ra=coords.ra.deg,\n",
    "        dec=coords.dec.deg,\n",
    "        redshift=z,\n",
    "        weights=w,\n",
    "        num_samples=num_test_samples,\n",
    "        square_size=square_size,\n",
    "        img_size=img_size,\n",
    "        bw_mode=bw_mode,\n",
    "        output_dir=f\"{out_dir}/test/test\",\n",
    "        prefix=f\"{prefix}_test_\",\n",
    "    )\n",
    "\n",
    "    print(\n",
    "        f\"Finished: generated {num_test_samples} testing images in {out_dir},\\n avg {avg_n_test} points/image\"\n",
    "    )\n",
    "\n",
    "    training, _, avg_n_train = random_sampling_images(\n",
    "        ra=coords.ra.deg,\n",
    "        dec=coords.dec.deg,\n",
    "        redshift=z,\n",
    "        weights=w,\n",
    "        num_samples=num_train_samples,\n",
    "        square_size=square_size,\n",
    "        img_size=img_size,\n",
    "        bw_mode=bw_mode,\n",
    "        output_dir=f\"{out_dir}/train/train\",\n",
    "        prefix=f\"{prefix}_train_\",\n",
    "        preexisting_squares=testing, # Stop training samples from overlapping with testing samples\n",
    "    )\n",
    "    print(\n",
    "        f\"Finished: generated {num_train_samples} training images in {out_dir},\\n avg {avg_n_train} points/image\"\n",
    "    )\n",
    "\n",
    "    viz_out = f'plots/sample_dist_{prefix}_ipynb.png'\n",
    "    display_sample_dist(\n",
    "        ra=coords.ra.deg,\n",
    "        dec=coords.dec.deg,\n",
    "        train_squares=training,\n",
    "        test_squares=testing,\n",
    "        output_path=viz_out,\n",
    "    )\n",
    "    print(f\"Saved sample‐distribution plot to {viz_out}\")\n"
   ]
  },
  {
   "cell_type": "code",
   "execution_count": 11,
   "id": "679858e0",
   "metadata": {},
   "outputs": [
    {
     "name": "stderr",
     "output_type": "stream",
     "text": [
      "Generating images: 100%|██████████| 24/24 [00:01<00:00, 23.68it/s]\n"
     ]
    },
    {
     "name": "stdout",
     "output_type": "stream",
     "text": [
      "Finished: generated 24 testing images in all_images/ipynb_demo_boss,\n",
      " avg 19.333333333333332 points/image\n"
     ]
    },
    {
     "name": "stderr",
     "output_type": "stream",
     "text": [
      "Generating images: 100%|██████████| 96/96 [00:04<00:00, 22.56it/s]\n"
     ]
    },
    {
     "name": "stdout",
     "output_type": "stream",
     "text": [
      "Finished: generated 96 training images in all_images/ipynb_demo_boss,\n",
      " avg 20.135416666666668 points/image\n",
      "Saved sample‐distribution plot to plots/sample_dist_boss_ipynb.png\n"
     ]
    }
   ],
   "source": [
    "run_image_generation(boss_coords, boss_z, boss_w, out_dir_boss, prefix='boss')"
   ]
  },
  {
   "cell_type": "code",
   "execution_count": 21,
   "id": "53ef9fe0",
   "metadata": {},
   "outputs": [
    {
     "data": {
      "text/html": [
       "<div style='display: flex; gap: 10px;'><img src='data:image/png;base64,iVBORw0KGgoAAAANSUhEUgAAAEAAAABACAYAAACqaXHeAAAAOnRFWHRTb2Z0d2FyZQBNYXRwbG90bGliIHZlcnNpb24zLjEwLjEsIGh0dHBzOi8vbWF0cGxvdGxpYi5vcmcvc2/+5QAAAAlwSFlzAAAAJwAAACcBKgmRTwAAAU1JREFUeJztmDtuAkEQBR+IHAICOzEjS8QESAQ2n9DEyCdAPoXvwQm4FRdxCBGShRaZXXqmvOKV1NFCd/GYnR2QpON/qIG21OzqCyvN8FBKVOecwqPSpQVoHMC1CxPNSnqg4BvRrfWktTfBaLwH0AJ1+VEvtJ9vAVqAxgHQAk0YaxnaD3++31PP+vA54B5aeQtU8alp4/cekxZhS/JVb/htUbNwgau1U8o+w3sALfCboTbFZ3oFDPRFO6B4BdACNA6AFqBxANENR3qPbpkd/Mh7a+31Uua3QNIS/7ClyucAWqCKvrbFZnkF0AI0DiBn83Tx9/VI85zjGuE9gBZoQuQ31soAOoG9WhlAJA6AFrgkaVF0np8CtACNA6AFaBwALUDjAP5+ySG/BYjPAbRAXb41Du3nFUAL0DgAWoDGAdACNA6AFqBxALQAzcMHcAJilBcn604sxAAAAABJRU5ErkJggg==' width='384' height='384' style='image-rendering: pixelated; image-rendering: crisp-edges; border:1px solid #ccc;'/><img src='data:image/png;base64,iVBORw0KGgoAAAANSUhEUgAAAEAAAABACAYAAACqaXHeAAAAOnRFWHRTb2Z0d2FyZQBNYXRwbG90bGliIHZlcnNpb24zLjEwLjEsIGh0dHBzOi8vbWF0cGxvdGxpYi5vcmcvc2/+5QAAAAlwSFlzAAAAJwAAACcBKgmRTwAAATRJREFUeJztmLEKwjAURa9unf0AN6mD6OCg/oPo4OJX6J+Ig6PfWgd1sCBtQvREew88qNCQ46V5aSNJVUwNtIoal1v1HhedpU8L0EQHMNIxoQaHlwAtQJNFAIU26PzBW0ehHb59pSr3AFqAxgHQAjStApho+mkPDDdBWoDGAdACNA6AFqBxALQAjQOgBWgcAC1A4wAKbWkHnGTna1cN8TO+0PLnMC1A4wBoARoHQAs8WWj28vug8Vfm9S5AC9A4gDY3LWvr859wD6AFaBwALUDjAGgBGgdAC9CgAYwzeMHyixAtQOMAmm85f94CJuE5+wk/5w8tN8GYQaXmEWOmMVNJki7aR49twk8ALUCTRQBHlej8eCd+V2tNvAvUqXRvXKnIYgmEkPLPSz8YQGocAC1A0/kAbovCU88qaGRDAAAAAElFTkSuQmCC' width='384' height='384' style='image-rendering: pixelated; image-rendering: crisp-edges; border:1px solid #ccc;'/><img src='data:image/png;base64,iVBORw0KGgoAAAANSUhEUgAAAEAAAABACAYAAACqaXHeAAAAOnRFWHRTb2Z0d2FyZQBNYXRwbG90bGliIHZlcnNpb24zLjEwLjEsIGh0dHBzOi8vbWF0cGxvdGxpYi5vcmcvc2/+5QAAAAlwSFlzAAAAJwAAACcBKgmRTwAAATFJREFUeJztmbEOwVAYRr/yBGISq7CLpCQG2hhMYvAcJrunEJPEk7JYG0rvPRffSW7Soe3/9bS3t/krSbcURkc7pvZSC/ziyZE9Nv6WFh2gipnKaLWwx2+ts6cATbJTIBYWQAegsQA6AI0F0AFokhBw0gCr7Q8hOkAVse5KsgKySHWSFRALC6AD0HyVgKuGQc4brNkwVYk3PJ4NfwfQAWgsgA5AYwF0gCbIP/iH4FWADkBjAXQAGgugA9AEEzDXKtSpG8XLIB2AxgLoADQW0Nem1gE9bQNF4ajVQ+vqErCHWBB9QaIZeXx535NGboqGxC9BOgCNBdABaH5SwERFrf2JtbfRcdDYy+C7JDkF2tpHrYc8tnkiv849BegANBZAB6CxADoAjQXQAWgsgA5A8/cC7sRmEv22tWp0AAAAAElFTkSuQmCC' width='384' height='384' style='image-rendering: pixelated; image-rendering: crisp-edges; border:1px solid #ccc;'/><img src='data:image/png;base64,iVBORw0KGgoAAAANSUhEUgAAAEAAAABACAYAAACqaXHeAAAAOnRFWHRTb2Z0d2FyZQBNYXRwbG90bGliIHZlcnNpb24zLjEwLjEsIGh0dHBzOi8vbWF0cGxvdGxpYi5vcmcvc2/+5QAAAAlwSFlzAAAAJwAAACcBKgmRTwAAAVlJREFUeJztm71qAkEYRa++gJWgD+BPs0K0sEnqWBgQsTBJEfERBCsL2zxlXiVpIohZ/9adOWv2HhhYVt05XGe+2WVUkr6pVtcL1veuVX4PSkuVFqDJHMCnWpk+96yHrF0GwVOAFqC5KoCGJinnpnm5YOBLUag20NDL4DlcA2gBGgdAC1zLm3q5XxOv1oetqZEfhmJxd1MgbwoTADUMCxNAZe/4XUnUfl0Dysy/DWCtjiRpo/bJ93kK0AI0DoAWoPkTQKInwgPDRZAWoLmbAObqB7mup0DsDkfannz9NdA3fQyPAFqAxgHQAjQOgBaguTmARYCNitjgGyGhWk0rb4ycwzWAFqBxALQAjQOgBWgcAC0Qi6bGqed9I0QL0KQG0NVjbA8MTwFagObiAGYF+6dHbnwowZ/byeYaQAvQOABagMYB0AKStIz409hDvAqE7+IrfBc3UPoR8AM0Kls1/0hIUQAAAABJRU5ErkJggg==' width='384' height='384' style='image-rendering: pixelated; image-rendering: crisp-edges; border:1px solid #ccc;'/><img src='data:image/png;base64,iVBORw0KGgoAAAANSUhEUgAAAEAAAABACAYAAACqaXHeAAAAOnRFWHRTb2Z0d2FyZQBNYXRwbG90bGliIHZlcnNpb24zLjEwLjEsIGh0dHBzOi8vbWF0cGxvdGxpYi5vcmcvc2/+5QAAAAlwSFlzAAAAJwAAACcBKgmRTwAAAV9JREFUeJztmjtOw1AQRa8dgbAoEAUNPwmKSDQ0hCYFS0hDzQJYCBIdu6KChr2giMrUQVYc2+M5BO6RXDi2Z06u3pu4SCGpVjL7utanPrLbNlKunj6kNP355V9SujZTCFgBv4my/Za/jQOgBWgcAC1A4wBoARoHQAvQpAZwoGlmu43wq/C6i3MdZ3lgeAVEFKk1jyiDEBJAodeV84WOIsqm4C0wtMCVziM8MFJWQKWZlnobu00vvAV2dUc7oHgF0AI0DmDdxSftZHlgeAbQAjSlJE20oD1Q6rbjUI+t92zr4RmQ2azSTWa7jegcQKXb3s2Weu/97Fh0DuBLJ2N4YHgG0AI04QHsaRZdclS8BWgBGgdAC9A4gKhCz5pElUrFvwK0AI0DoAVoHAAtQOMA+j54qovBzQvdD64x3MHvAf8bB3CmS9oBxTOAFqBxAE0fTrf8v39d8AygBWgcAC1A8w1FeWDLg5Ua4AAAAABJRU5ErkJggg==' width='384' height='384' style='image-rendering: pixelated; image-rendering: crisp-edges; border:1px solid #ccc;'/></div>"
      ],
      "text/plain": [
       "<IPython.core.display.HTML object>"
      ]
     },
     "metadata": {},
     "output_type": "display_data"
    }
   ],
   "source": [
    "import os\n",
    "import random\n",
    "import base64\n",
    "from IPython.display import display, HTML\n",
    "\n",
    "boss_img_path = 'all_images/ipynb_demo_boss/train/train'\n",
    "\n",
    "def display_random_images_row(image_dir, num_images=5, scale=6):\n",
    "    image_files = [f for f in os.listdir(image_dir) if f.endswith('.png')]\n",
    "    selected_files = random.sample(image_files, min(num_images, len(image_files)))\n",
    "    images = [os.path.join(image_dir, f) for f in selected_files]\n",
    "    html = \"<div style='display: flex; gap: 10px;'>\"\n",
    "    for img_path in images:\n",
    "        with open(img_path, \"rb\") as f:\n",
    "            data = base64.b64encode(f.read()).decode()\n",
    "        html += (\n",
    "            f\"<img src='data:image/png;base64,{data}' width='{64*scale}' height='{64*scale}' \"\n",
    "            \"style='image-rendering: pixelated; image-rendering: crisp-edges; border:1px solid #ccc;'/>\"\n",
    "        )\n",
    "    html += \"</div>\"\n",
    "    display(HTML(html))\n",
    "\n",
    "display_random_images_row(boss_img_path, num_images=5, scale=6)"
   ]
  }
 ],
 "metadata": {
  "kernelspec": {
   "display_name": "parity_env",
   "language": "python",
   "name": "python3"
  },
  "language_info": {
   "codemirror_mode": {
    "name": "ipython",
    "version": 3
   },
   "file_extension": ".py",
   "mimetype": "text/x-python",
   "name": "python",
   "nbconvert_exporter": "python",
   "pygments_lexer": "ipython3",
   "version": "3.13.3"
  }
 },
 "nbformat": 4,
 "nbformat_minor": 5
}
