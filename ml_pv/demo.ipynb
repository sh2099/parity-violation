{
 "cells": [
  {
   "cell_type": "markdown",
   "id": "fdf4ff69",
   "metadata": {},
   "source": [
    "### Unsupervised Searches For Parity Violation\n",
    "\n",
    "This Notebook, acts as to demonstrate the the code base used for our paper to detect parity violation\n",
    "The Notebook is split into the following sections:\n",
    "- Data loading\n",
    "- Data preparation\n",
    "- Unsupervised model"
   ]
  },
  {
   "cell_type": "markdown",
   "id": "053859d2",
   "metadata": {},
   "source": [
    "##### Data Loading\n",
    "We begin by loading the boss data, and then we generate some random data that we know to be parity violating."
   ]
  },
  {
   "cell_type": "markdown",
   "id": "92970cb1",
   "metadata": {},
   "source": []
  }
 ],
 "metadata": {
  "language_info": {
   "name": "python"
  }
 },
 "nbformat": 4,
 "nbformat_minor": 5
}
